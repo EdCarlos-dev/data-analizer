{
 "cells": [
  {
   "attachments": {},
   "cell_type": "markdown",
   "metadata": {},
   "source": []
  },
  {
   "cell_type": "code",
   "execution_count": 1,
   "metadata": {},
   "outputs": [],
   "source": [
    "import os\n",
    "import traceback\n",
    "from datetime import datetime\n",
    "\n",
    "import pandas as pd\n",
    "import numpy as np\n",
    "from natsort import index_natsorted   \n",
    "\n",
    "import plotly.express as px\n",
    "from plotly.subplots import make_subplots\n",
    "import plotly.graph_objects as go\n",
    "\n",
    "from fpdf import FPDF\n"
   ]
  },
  {
   "attachments": {},
   "cell_type": "markdown",
   "metadata": {},
   "source": [
    "## Analise em cima dos resultados finais   "
   ]
  },
  {
   "cell_type": "code",
   "execution_count": 35,
   "metadata": {},
   "outputs": [],
   "source": [
    "final_sheets_predicts_path = f'..{os.sep}data{os.sep}output{os.sep}final_prediction_sheets{os.sep}'\n",
    "dire = os.listdir(final_sheets_predicts_path)\n",
    "\n",
    "final_df = pd.DataFrame()\n",
    "for file in dire:\n",
    "    final_df_path = f'{final_sheets_predicts_path}{file}'\n",
    "    tmp_df = pd.read_csv(final_df_path) \n",
    "    final_df = pd.concat([final_df, tmp_df], axis=0, ignore_index=True)"
   ]
  },
  {
   "cell_type": "code",
   "execution_count": 36,
   "metadata": {},
   "outputs": [
    {
     "data": {
      "text/html": [
       "<div>\n",
       "<style scoped>\n",
       "    .dataframe tbody tr th:only-of-type {\n",
       "        vertical-align: middle;\n",
       "    }\n",
       "\n",
       "    .dataframe tbody tr th {\n",
       "        vertical-align: top;\n",
       "    }\n",
       "\n",
       "    .dataframe thead th {\n",
       "        text-align: right;\n",
       "    }\n",
       "</style>\n",
       "<table border=\"1\" class=\"dataframe\">\n",
       "  <thead>\n",
       "    <tr style=\"text-align: right;\">\n",
       "      <th></th>\n",
       "      <th>Process Date</th>\n",
       "      <th>Unet</th>\n",
       "      <th>Voted</th>\n",
       "      <th>Model</th>\n",
       "      <th>Jaccard</th>\n",
       "      <th>Recall</th>\n",
       "      <th>Precision</th>\n",
       "      <th>F1</th>\n",
       "      <th>unet_Jaccard</th>\n",
       "      <th>unet_Recall</th>\n",
       "      <th>unet_Precision</th>\n",
       "      <th>unet_F1</th>\n",
       "    </tr>\n",
       "  </thead>\n",
       "  <tbody>\n",
       "    <tr>\n",
       "      <th>0</th>\n",
       "      <td>2021.07.27-20.24.13</td>\n",
       "      <td>True</td>\n",
       "      <td>False</td>\n",
       "      <td>unet</td>\n",
       "      <td>0.965636</td>\n",
       "      <td>0.992933</td>\n",
       "      <td>0.972318</td>\n",
       "      <td>0.982517</td>\n",
       "      <td>NaN</td>\n",
       "      <td>NaN</td>\n",
       "      <td>NaN</td>\n",
       "      <td>NaN</td>\n",
       "    </tr>\n",
       "    <tr>\n",
       "      <th>1</th>\n",
       "      <td>2022.04.09-22.15.32</td>\n",
       "      <td>True</td>\n",
       "      <td>False</td>\n",
       "      <td>unet</td>\n",
       "      <td>0.630597</td>\n",
       "      <td>0.713080</td>\n",
       "      <td>0.845000</td>\n",
       "      <td>0.773455</td>\n",
       "      <td>NaN</td>\n",
       "      <td>NaN</td>\n",
       "      <td>NaN</td>\n",
       "      <td>NaN</td>\n",
       "    </tr>\n",
       "    <tr>\n",
       "      <th>2</th>\n",
       "      <td>2023.03.26-07.00.18</td>\n",
       "      <td>True</td>\n",
       "      <td>False</td>\n",
       "      <td>unet</td>\n",
       "      <td>0.558360</td>\n",
       "      <td>0.563694</td>\n",
       "      <td>0.983333</td>\n",
       "      <td>0.716599</td>\n",
       "      <td>NaN</td>\n",
       "      <td>NaN</td>\n",
       "      <td>NaN</td>\n",
       "      <td>NaN</td>\n",
       "    </tr>\n",
       "    <tr>\n",
       "      <th>3</th>\n",
       "      <td>2023.03.26-07.02.39</td>\n",
       "      <td>True</td>\n",
       "      <td>False</td>\n",
       "      <td>unet</td>\n",
       "      <td>0.929648</td>\n",
       "      <td>0.948718</td>\n",
       "      <td>0.978836</td>\n",
       "      <td>0.963542</td>\n",
       "      <td>NaN</td>\n",
       "      <td>NaN</td>\n",
       "      <td>NaN</td>\n",
       "      <td>NaN</td>\n",
       "    </tr>\n",
       "    <tr>\n",
       "      <th>4</th>\n",
       "      <td>2023.03.26-11.25.23</td>\n",
       "      <td>False</td>\n",
       "      <td>True</td>\n",
       "      <td>logisticRegression_proba</td>\n",
       "      <td>0.477778</td>\n",
       "      <td>0.618705</td>\n",
       "      <td>0.677165</td>\n",
       "      <td>0.646617</td>\n",
       "      <td>0.670968</td>\n",
       "      <td>0.748201</td>\n",
       "      <td>0.866667</td>\n",
       "      <td>0.803089</td>\n",
       "    </tr>\n",
       "    <tr>\n",
       "      <th>5</th>\n",
       "      <td>2023.03.26-11.25.23</td>\n",
       "      <td>True</td>\n",
       "      <td>False</td>\n",
       "      <td>unet</td>\n",
       "      <td>0.670968</td>\n",
       "      <td>0.748201</td>\n",
       "      <td>0.866667</td>\n",
       "      <td>0.803089</td>\n",
       "      <td>NaN</td>\n",
       "      <td>NaN</td>\n",
       "      <td>NaN</td>\n",
       "      <td>NaN</td>\n",
       "    </tr>\n",
       "    <tr>\n",
       "      <th>6</th>\n",
       "      <td>2023.03.26-11.28.40</td>\n",
       "      <td>True</td>\n",
       "      <td>False</td>\n",
       "      <td>unet</td>\n",
       "      <td>0.676580</td>\n",
       "      <td>0.689394</td>\n",
       "      <td>0.973262</td>\n",
       "      <td>0.807095</td>\n",
       "      <td>NaN</td>\n",
       "      <td>NaN</td>\n",
       "      <td>NaN</td>\n",
       "      <td>NaN</td>\n",
       "    </tr>\n",
       "    <tr>\n",
       "      <th>7</th>\n",
       "      <td>2023.03.26-15.52.33</td>\n",
       "      <td>True</td>\n",
       "      <td>False</td>\n",
       "      <td>unet</td>\n",
       "      <td>0.807339</td>\n",
       "      <td>0.977778</td>\n",
       "      <td>0.822430</td>\n",
       "      <td>0.893401</td>\n",
       "      <td>NaN</td>\n",
       "      <td>NaN</td>\n",
       "      <td>NaN</td>\n",
       "      <td>NaN</td>\n",
       "    </tr>\n",
       "    <tr>\n",
       "      <th>8</th>\n",
       "      <td>2023.03.26-15.53.37</td>\n",
       "      <td>True</td>\n",
       "      <td>False</td>\n",
       "      <td>unet</td>\n",
       "      <td>0.893617</td>\n",
       "      <td>0.992126</td>\n",
       "      <td>0.900000</td>\n",
       "      <td>0.943820</td>\n",
       "      <td>NaN</td>\n",
       "      <td>NaN</td>\n",
       "      <td>NaN</td>\n",
       "      <td>NaN</td>\n",
       "    </tr>\n",
       "    <tr>\n",
       "      <th>9</th>\n",
       "      <td>2023.03.26-18.43.02</td>\n",
       "      <td>True</td>\n",
       "      <td>False</td>\n",
       "      <td>unet</td>\n",
       "      <td>0.911565</td>\n",
       "      <td>0.985294</td>\n",
       "      <td>0.924138</td>\n",
       "      <td>0.953737</td>\n",
       "      <td>NaN</td>\n",
       "      <td>NaN</td>\n",
       "      <td>NaN</td>\n",
       "      <td>NaN</td>\n",
       "    </tr>\n",
       "    <tr>\n",
       "      <th>10</th>\n",
       "      <td>2023.03.26-18.45.32</td>\n",
       "      <td>True</td>\n",
       "      <td>False</td>\n",
       "      <td>unet</td>\n",
       "      <td>0.881481</td>\n",
       "      <td>0.975410</td>\n",
       "      <td>0.901515</td>\n",
       "      <td>0.937008</td>\n",
       "      <td>NaN</td>\n",
       "      <td>NaN</td>\n",
       "      <td>NaN</td>\n",
       "      <td>NaN</td>\n",
       "    </tr>\n",
       "    <tr>\n",
       "      <th>11</th>\n",
       "      <td>2023.03.26-18.56.14</td>\n",
       "      <td>True</td>\n",
       "      <td>False</td>\n",
       "      <td>unet</td>\n",
       "      <td>0.781553</td>\n",
       "      <td>1.000000</td>\n",
       "      <td>0.781553</td>\n",
       "      <td>0.877384</td>\n",
       "      <td>NaN</td>\n",
       "      <td>NaN</td>\n",
       "      <td>NaN</td>\n",
       "      <td>NaN</td>\n",
       "    </tr>\n",
       "    <tr>\n",
       "      <th>12</th>\n",
       "      <td>2023.03.26-18.59.12</td>\n",
       "      <td>True</td>\n",
       "      <td>False</td>\n",
       "      <td>unet</td>\n",
       "      <td>0.835443</td>\n",
       "      <td>0.985075</td>\n",
       "      <td>0.846154</td>\n",
       "      <td>0.910345</td>\n",
       "      <td>NaN</td>\n",
       "      <td>NaN</td>\n",
       "      <td>NaN</td>\n",
       "      <td>NaN</td>\n",
       "    </tr>\n",
       "    <tr>\n",
       "      <th>13</th>\n",
       "      <td>2023.03.26-19.01.32</td>\n",
       "      <td>True</td>\n",
       "      <td>False</td>\n",
       "      <td>unet</td>\n",
       "      <td>0.690476</td>\n",
       "      <td>0.729560</td>\n",
       "      <td>0.928000</td>\n",
       "      <td>0.816901</td>\n",
       "      <td>NaN</td>\n",
       "      <td>NaN</td>\n",
       "      <td>NaN</td>\n",
       "      <td>NaN</td>\n",
       "    </tr>\n",
       "    <tr>\n",
       "      <th>14</th>\n",
       "      <td>2023.03.26-22.54.06</td>\n",
       "      <td>True</td>\n",
       "      <td>False</td>\n",
       "      <td>unet</td>\n",
       "      <td>0.914062</td>\n",
       "      <td>0.991525</td>\n",
       "      <td>0.921260</td>\n",
       "      <td>0.955102</td>\n",
       "      <td>NaN</td>\n",
       "      <td>NaN</td>\n",
       "      <td>NaN</td>\n",
       "      <td>NaN</td>\n",
       "    </tr>\n",
       "    <tr>\n",
       "      <th>15</th>\n",
       "      <td>2023.03.26-22.54.41</td>\n",
       "      <td>True</td>\n",
       "      <td>False</td>\n",
       "      <td>unet</td>\n",
       "      <td>0.831818</td>\n",
       "      <td>0.859155</td>\n",
       "      <td>0.963158</td>\n",
       "      <td>0.908189</td>\n",
       "      <td>NaN</td>\n",
       "      <td>NaN</td>\n",
       "      <td>NaN</td>\n",
       "      <td>NaN</td>\n",
       "    </tr>\n",
       "    <tr>\n",
       "      <th>16</th>\n",
       "      <td>2023.03.26-22.56.46</td>\n",
       "      <td>True</td>\n",
       "      <td>False</td>\n",
       "      <td>unet</td>\n",
       "      <td>0.893939</td>\n",
       "      <td>0.929134</td>\n",
       "      <td>0.959350</td>\n",
       "      <td>0.944000</td>\n",
       "      <td>NaN</td>\n",
       "      <td>NaN</td>\n",
       "      <td>NaN</td>\n",
       "      <td>NaN</td>\n",
       "    </tr>\n",
       "    <tr>\n",
       "      <th>17</th>\n",
       "      <td>2023.03.26-22.57.27</td>\n",
       "      <td>True</td>\n",
       "      <td>False</td>\n",
       "      <td>unet</td>\n",
       "      <td>0.882629</td>\n",
       "      <td>0.890995</td>\n",
       "      <td>0.989474</td>\n",
       "      <td>0.937656</td>\n",
       "      <td>NaN</td>\n",
       "      <td>NaN</td>\n",
       "      <td>NaN</td>\n",
       "      <td>NaN</td>\n",
       "    </tr>\n",
       "    <tr>\n",
       "      <th>18</th>\n",
       "      <td>2023.03.28-22.27.27</td>\n",
       "      <td>True</td>\n",
       "      <td>False</td>\n",
       "      <td>unet</td>\n",
       "      <td>0.760736</td>\n",
       "      <td>0.946565</td>\n",
       "      <td>0.794872</td>\n",
       "      <td>0.864111</td>\n",
       "      <td>NaN</td>\n",
       "      <td>NaN</td>\n",
       "      <td>NaN</td>\n",
       "      <td>NaN</td>\n",
       "    </tr>\n",
       "    <tr>\n",
       "      <th>19</th>\n",
       "      <td>2023.03.28-22.29.11</td>\n",
       "      <td>True</td>\n",
       "      <td>False</td>\n",
       "      <td>unet</td>\n",
       "      <td>0.954802</td>\n",
       "      <td>0.988304</td>\n",
       "      <td>0.965714</td>\n",
       "      <td>0.976879</td>\n",
       "      <td>NaN</td>\n",
       "      <td>NaN</td>\n",
       "      <td>NaN</td>\n",
       "      <td>NaN</td>\n",
       "    </tr>\n",
       "    <tr>\n",
       "      <th>20</th>\n",
       "      <td>2023.03.28-22.40.02</td>\n",
       "      <td>True</td>\n",
       "      <td>False</td>\n",
       "      <td>unet</td>\n",
       "      <td>0.900990</td>\n",
       "      <td>0.947917</td>\n",
       "      <td>0.947917</td>\n",
       "      <td>0.947917</td>\n",
       "      <td>NaN</td>\n",
       "      <td>NaN</td>\n",
       "      <td>NaN</td>\n",
       "      <td>NaN</td>\n",
       "    </tr>\n",
       "    <tr>\n",
       "      <th>21</th>\n",
       "      <td>2023.03.28-22.40.42</td>\n",
       "      <td>True</td>\n",
       "      <td>False</td>\n",
       "      <td>unet</td>\n",
       "      <td>0.871508</td>\n",
       "      <td>1.000000</td>\n",
       "      <td>0.871508</td>\n",
       "      <td>0.931343</td>\n",
       "      <td>NaN</td>\n",
       "      <td>NaN</td>\n",
       "      <td>NaN</td>\n",
       "      <td>NaN</td>\n",
       "    </tr>\n",
       "    <tr>\n",
       "      <th>22</th>\n",
       "      <td>2023.03.28-22.41.32</td>\n",
       "      <td>True</td>\n",
       "      <td>False</td>\n",
       "      <td>unet</td>\n",
       "      <td>0.783333</td>\n",
       "      <td>0.989474</td>\n",
       "      <td>0.789916</td>\n",
       "      <td>0.878505</td>\n",
       "      <td>NaN</td>\n",
       "      <td>NaN</td>\n",
       "      <td>NaN</td>\n",
       "      <td>NaN</td>\n",
       "    </tr>\n",
       "    <tr>\n",
       "      <th>23</th>\n",
       "      <td>2023.03.29-21.52.58</td>\n",
       "      <td>True</td>\n",
       "      <td>False</td>\n",
       "      <td>unet</td>\n",
       "      <td>0.865079</td>\n",
       "      <td>0.923729</td>\n",
       "      <td>0.931624</td>\n",
       "      <td>0.927660</td>\n",
       "      <td>NaN</td>\n",
       "      <td>NaN</td>\n",
       "      <td>NaN</td>\n",
       "      <td>NaN</td>\n",
       "    </tr>\n",
       "    <tr>\n",
       "      <th>24</th>\n",
       "      <td>2023.03.29-21.54.34</td>\n",
       "      <td>False</td>\n",
       "      <td>True</td>\n",
       "      <td>logisticRegression_proba</td>\n",
       "      <td>0.206897</td>\n",
       "      <td>0.346154</td>\n",
       "      <td>0.339623</td>\n",
       "      <td>0.342857</td>\n",
       "      <td>0.000000</td>\n",
       "      <td>0.000000</td>\n",
       "      <td>0.000000</td>\n",
       "      <td>0.000000</td>\n",
       "    </tr>\n",
       "    <tr>\n",
       "      <th>25</th>\n",
       "      <td>2023.03.29-21.54.34</td>\n",
       "      <td>True</td>\n",
       "      <td>False</td>\n",
       "      <td>unet</td>\n",
       "      <td>0.000000</td>\n",
       "      <td>0.000000</td>\n",
       "      <td>0.000000</td>\n",
       "      <td>0.000000</td>\n",
       "      <td>NaN</td>\n",
       "      <td>NaN</td>\n",
       "      <td>NaN</td>\n",
       "      <td>NaN</td>\n",
       "    </tr>\n",
       "    <tr>\n",
       "      <th>26</th>\n",
       "      <td>2023.03.29-21.57.23</td>\n",
       "      <td>True</td>\n",
       "      <td>False</td>\n",
       "      <td>unet</td>\n",
       "      <td>0.796053</td>\n",
       "      <td>0.883212</td>\n",
       "      <td>0.889706</td>\n",
       "      <td>0.886447</td>\n",
       "      <td>NaN</td>\n",
       "      <td>NaN</td>\n",
       "      <td>NaN</td>\n",
       "      <td>NaN</td>\n",
       "    </tr>\n",
       "    <tr>\n",
       "      <th>27</th>\n",
       "      <td>2023.03.29-22.03.33</td>\n",
       "      <td>True</td>\n",
       "      <td>False</td>\n",
       "      <td>unet</td>\n",
       "      <td>0.921659</td>\n",
       "      <td>0.943396</td>\n",
       "      <td>0.975610</td>\n",
       "      <td>0.959233</td>\n",
       "      <td>NaN</td>\n",
       "      <td>NaN</td>\n",
       "      <td>NaN</td>\n",
       "      <td>NaN</td>\n",
       "    </tr>\n",
       "    <tr>\n",
       "      <th>28</th>\n",
       "      <td>2023.03.29-22.07.18</td>\n",
       "      <td>True</td>\n",
       "      <td>False</td>\n",
       "      <td>unet</td>\n",
       "      <td>0.323077</td>\n",
       "      <td>0.323077</td>\n",
       "      <td>1.000000</td>\n",
       "      <td>0.488372</td>\n",
       "      <td>NaN</td>\n",
       "      <td>NaN</td>\n",
       "      <td>NaN</td>\n",
       "      <td>NaN</td>\n",
       "    </tr>\n",
       "    <tr>\n",
       "      <th>29</th>\n",
       "      <td>2023.03.30-12.27.27</td>\n",
       "      <td>True</td>\n",
       "      <td>False</td>\n",
       "      <td>unet</td>\n",
       "      <td>0.944882</td>\n",
       "      <td>0.967742</td>\n",
       "      <td>0.975610</td>\n",
       "      <td>0.971660</td>\n",
       "      <td>NaN</td>\n",
       "      <td>NaN</td>\n",
       "      <td>NaN</td>\n",
       "      <td>NaN</td>\n",
       "    </tr>\n",
       "    <tr>\n",
       "      <th>30</th>\n",
       "      <td>2023.03.30-12.28.32</td>\n",
       "      <td>True</td>\n",
       "      <td>False</td>\n",
       "      <td>unet</td>\n",
       "      <td>0.801325</td>\n",
       "      <td>0.937984</td>\n",
       "      <td>0.846154</td>\n",
       "      <td>0.889706</td>\n",
       "      <td>NaN</td>\n",
       "      <td>NaN</td>\n",
       "      <td>NaN</td>\n",
       "      <td>NaN</td>\n",
       "    </tr>\n",
       "    <tr>\n",
       "      <th>31</th>\n",
       "      <td>2023.03.30-12.29.32</td>\n",
       "      <td>True</td>\n",
       "      <td>False</td>\n",
       "      <td>unet</td>\n",
       "      <td>0.780142</td>\n",
       "      <td>0.956522</td>\n",
       "      <td>0.808824</td>\n",
       "      <td>0.876494</td>\n",
       "      <td>NaN</td>\n",
       "      <td>NaN</td>\n",
       "      <td>NaN</td>\n",
       "      <td>NaN</td>\n",
       "    </tr>\n",
       "    <tr>\n",
       "      <th>32</th>\n",
       "      <td>2023.03.30-12.31.57</td>\n",
       "      <td>True</td>\n",
       "      <td>False</td>\n",
       "      <td>unet</td>\n",
       "      <td>0.816514</td>\n",
       "      <td>0.816514</td>\n",
       "      <td>1.000000</td>\n",
       "      <td>0.898990</td>\n",
       "      <td>NaN</td>\n",
       "      <td>NaN</td>\n",
       "      <td>NaN</td>\n",
       "      <td>NaN</td>\n",
       "    </tr>\n",
       "    <tr>\n",
       "      <th>33</th>\n",
       "      <td>2023.03.30-12.33.04</td>\n",
       "      <td>True</td>\n",
       "      <td>False</td>\n",
       "      <td>unet</td>\n",
       "      <td>0.844262</td>\n",
       "      <td>0.944954</td>\n",
       "      <td>0.887931</td>\n",
       "      <td>0.915556</td>\n",
       "      <td>NaN</td>\n",
       "      <td>NaN</td>\n",
       "      <td>NaN</td>\n",
       "      <td>NaN</td>\n",
       "    </tr>\n",
       "    <tr>\n",
       "      <th>34</th>\n",
       "      <td>2023.03.30-12.33.45</td>\n",
       "      <td>True</td>\n",
       "      <td>False</td>\n",
       "      <td>unet</td>\n",
       "      <td>0.810811</td>\n",
       "      <td>0.975610</td>\n",
       "      <td>0.827586</td>\n",
       "      <td>0.895522</td>\n",
       "      <td>NaN</td>\n",
       "      <td>NaN</td>\n",
       "      <td>NaN</td>\n",
       "      <td>NaN</td>\n",
       "    </tr>\n",
       "    <tr>\n",
       "      <th>35</th>\n",
       "      <td>2023.03.30-16.13.37</td>\n",
       "      <td>True</td>\n",
       "      <td>False</td>\n",
       "      <td>unet</td>\n",
       "      <td>0.846535</td>\n",
       "      <td>0.939560</td>\n",
       "      <td>0.895288</td>\n",
       "      <td>0.916890</td>\n",
       "      <td>NaN</td>\n",
       "      <td>NaN</td>\n",
       "      <td>NaN</td>\n",
       "      <td>NaN</td>\n",
       "    </tr>\n",
       "    <tr>\n",
       "      <th>36</th>\n",
       "      <td>2023.03.30-17.34.33</td>\n",
       "      <td>True</td>\n",
       "      <td>False</td>\n",
       "      <td>unet</td>\n",
       "      <td>0.855491</td>\n",
       "      <td>0.993289</td>\n",
       "      <td>0.860465</td>\n",
       "      <td>0.922118</td>\n",
       "      <td>NaN</td>\n",
       "      <td>NaN</td>\n",
       "      <td>NaN</td>\n",
       "      <td>NaN</td>\n",
       "    </tr>\n",
       "    <tr>\n",
       "      <th>37</th>\n",
       "      <td>2023.03.30-19.58.05</td>\n",
       "      <td>True</td>\n",
       "      <td>False</td>\n",
       "      <td>unet</td>\n",
       "      <td>0.880000</td>\n",
       "      <td>0.950617</td>\n",
       "      <td>0.922156</td>\n",
       "      <td>0.936170</td>\n",
       "      <td>NaN</td>\n",
       "      <td>NaN</td>\n",
       "      <td>NaN</td>\n",
       "      <td>NaN</td>\n",
       "    </tr>\n",
       "    <tr>\n",
       "      <th>38</th>\n",
       "      <td>2023.03.30-19.58.41</td>\n",
       "      <td>True</td>\n",
       "      <td>False</td>\n",
       "      <td>unet</td>\n",
       "      <td>0.668449</td>\n",
       "      <td>0.683060</td>\n",
       "      <td>0.968992</td>\n",
       "      <td>0.801282</td>\n",
       "      <td>NaN</td>\n",
       "      <td>NaN</td>\n",
       "      <td>NaN</td>\n",
       "      <td>NaN</td>\n",
       "    </tr>\n",
       "    <tr>\n",
       "      <th>39</th>\n",
       "      <td>2023.03.30-20.03.56</td>\n",
       "      <td>True</td>\n",
       "      <td>False</td>\n",
       "      <td>unet</td>\n",
       "      <td>0.748466</td>\n",
       "      <td>0.953125</td>\n",
       "      <td>0.777070</td>\n",
       "      <td>0.856140</td>\n",
       "      <td>NaN</td>\n",
       "      <td>NaN</td>\n",
       "      <td>NaN</td>\n",
       "      <td>NaN</td>\n",
       "    </tr>\n",
       "    <tr>\n",
       "      <th>40</th>\n",
       "      <td>2023.03.30-20.04.42</td>\n",
       "      <td>True</td>\n",
       "      <td>False</td>\n",
       "      <td>unet</td>\n",
       "      <td>0.839695</td>\n",
       "      <td>0.982143</td>\n",
       "      <td>0.852713</td>\n",
       "      <td>0.912863</td>\n",
       "      <td>NaN</td>\n",
       "      <td>NaN</td>\n",
       "      <td>NaN</td>\n",
       "      <td>NaN</td>\n",
       "    </tr>\n",
       "    <tr>\n",
       "      <th>41</th>\n",
       "      <td>2023.06.02-19.19.46</td>\n",
       "      <td>True</td>\n",
       "      <td>False</td>\n",
       "      <td>unet</td>\n",
       "      <td>0.767296</td>\n",
       "      <td>0.924242</td>\n",
       "      <td>0.818792</td>\n",
       "      <td>0.868327</td>\n",
       "      <td>NaN</td>\n",
       "      <td>NaN</td>\n",
       "      <td>NaN</td>\n",
       "      <td>NaN</td>\n",
       "    </tr>\n",
       "    <tr>\n",
       "      <th>42</th>\n",
       "      <td>2023.06.02-19.22.04</td>\n",
       "      <td>True</td>\n",
       "      <td>False</td>\n",
       "      <td>unet</td>\n",
       "      <td>0.880952</td>\n",
       "      <td>1.000000</td>\n",
       "      <td>0.880952</td>\n",
       "      <td>0.936709</td>\n",
       "      <td>NaN</td>\n",
       "      <td>NaN</td>\n",
       "      <td>NaN</td>\n",
       "      <td>NaN</td>\n",
       "    </tr>\n",
       "    <tr>\n",
       "      <th>43</th>\n",
       "      <td>2023.06.02-19.22.49</td>\n",
       "      <td>True</td>\n",
       "      <td>False</td>\n",
       "      <td>unet</td>\n",
       "      <td>0.776119</td>\n",
       "      <td>1.000000</td>\n",
       "      <td>0.776119</td>\n",
       "      <td>0.873950</td>\n",
       "      <td>NaN</td>\n",
       "      <td>NaN</td>\n",
       "      <td>NaN</td>\n",
       "      <td>NaN</td>\n",
       "    </tr>\n",
       "    <tr>\n",
       "      <th>44</th>\n",
       "      <td>2023.06.02-19.23.39</td>\n",
       "      <td>True</td>\n",
       "      <td>False</td>\n",
       "      <td>unet</td>\n",
       "      <td>0.696970</td>\n",
       "      <td>0.991379</td>\n",
       "      <td>0.701220</td>\n",
       "      <td>0.821429</td>\n",
       "      <td>NaN</td>\n",
       "      <td>NaN</td>\n",
       "      <td>NaN</td>\n",
       "      <td>NaN</td>\n",
       "    </tr>\n",
       "    <tr>\n",
       "      <th>45</th>\n",
       "      <td>2023.06.02-19.28.13</td>\n",
       "      <td>True</td>\n",
       "      <td>False</td>\n",
       "      <td>unet</td>\n",
       "      <td>0.852459</td>\n",
       "      <td>1.000000</td>\n",
       "      <td>0.852459</td>\n",
       "      <td>0.920354</td>\n",
       "      <td>NaN</td>\n",
       "      <td>NaN</td>\n",
       "      <td>NaN</td>\n",
       "      <td>NaN</td>\n",
       "    </tr>\n",
       "    <tr>\n",
       "      <th>46</th>\n",
       "      <td>2023.06.02-19.29.01</td>\n",
       "      <td>True</td>\n",
       "      <td>False</td>\n",
       "      <td>unet</td>\n",
       "      <td>0.619289</td>\n",
       "      <td>1.000000</td>\n",
       "      <td>0.619289</td>\n",
       "      <td>0.764890</td>\n",
       "      <td>NaN</td>\n",
       "      <td>NaN</td>\n",
       "      <td>NaN</td>\n",
       "      <td>NaN</td>\n",
       "    </tr>\n",
       "    <tr>\n",
       "      <th>47</th>\n",
       "      <td>2023.06.02-19.38.05</td>\n",
       "      <td>True</td>\n",
       "      <td>False</td>\n",
       "      <td>unet</td>\n",
       "      <td>0.810606</td>\n",
       "      <td>1.000000</td>\n",
       "      <td>0.810606</td>\n",
       "      <td>0.895397</td>\n",
       "      <td>NaN</td>\n",
       "      <td>NaN</td>\n",
       "      <td>NaN</td>\n",
       "      <td>NaN</td>\n",
       "    </tr>\n",
       "    <tr>\n",
       "      <th>48</th>\n",
       "      <td>2023.06.02-20.22.44</td>\n",
       "      <td>True</td>\n",
       "      <td>False</td>\n",
       "      <td>unet</td>\n",
       "      <td>0.853846</td>\n",
       "      <td>0.895161</td>\n",
       "      <td>0.948718</td>\n",
       "      <td>0.921162</td>\n",
       "      <td>NaN</td>\n",
       "      <td>NaN</td>\n",
       "      <td>NaN</td>\n",
       "      <td>NaN</td>\n",
       "    </tr>\n",
       "    <tr>\n",
       "      <th>49</th>\n",
       "      <td>2023.06.02-20.23.50</td>\n",
       "      <td>True</td>\n",
       "      <td>False</td>\n",
       "      <td>unet</td>\n",
       "      <td>0.866142</td>\n",
       "      <td>0.887097</td>\n",
       "      <td>0.973451</td>\n",
       "      <td>0.928270</td>\n",
       "      <td>NaN</td>\n",
       "      <td>NaN</td>\n",
       "      <td>NaN</td>\n",
       "      <td>NaN</td>\n",
       "    </tr>\n",
       "    <tr>\n",
       "      <th>50</th>\n",
       "      <td>2023.06.02-20.26.43</td>\n",
       "      <td>True</td>\n",
       "      <td>False</td>\n",
       "      <td>unet</td>\n",
       "      <td>0.831858</td>\n",
       "      <td>1.000000</td>\n",
       "      <td>0.831858</td>\n",
       "      <td>0.908213</td>\n",
       "      <td>NaN</td>\n",
       "      <td>NaN</td>\n",
       "      <td>NaN</td>\n",
       "      <td>NaN</td>\n",
       "    </tr>\n",
       "    <tr>\n",
       "      <th>51</th>\n",
       "      <td>2023.06.02-20.30.15</td>\n",
       "      <td>True</td>\n",
       "      <td>False</td>\n",
       "      <td>unet</td>\n",
       "      <td>0.492537</td>\n",
       "      <td>0.564103</td>\n",
       "      <td>0.795181</td>\n",
       "      <td>0.660000</td>\n",
       "      <td>NaN</td>\n",
       "      <td>NaN</td>\n",
       "      <td>NaN</td>\n",
       "      <td>NaN</td>\n",
       "    </tr>\n",
       "    <tr>\n",
       "      <th>52</th>\n",
       "      <td>2023.06.02-20.31.45</td>\n",
       "      <td>True</td>\n",
       "      <td>False</td>\n",
       "      <td>unet</td>\n",
       "      <td>0.872000</td>\n",
       "      <td>0.947826</td>\n",
       "      <td>0.915966</td>\n",
       "      <td>0.931624</td>\n",
       "      <td>NaN</td>\n",
       "      <td>NaN</td>\n",
       "      <td>NaN</td>\n",
       "      <td>NaN</td>\n",
       "    </tr>\n",
       "    <tr>\n",
       "      <th>53</th>\n",
       "      <td>2023.06.02-20.32.27</td>\n",
       "      <td>True</td>\n",
       "      <td>False</td>\n",
       "      <td>unet</td>\n",
       "      <td>0.762238</td>\n",
       "      <td>1.000000</td>\n",
       "      <td>0.762238</td>\n",
       "      <td>0.865079</td>\n",
       "      <td>NaN</td>\n",
       "      <td>NaN</td>\n",
       "      <td>NaN</td>\n",
       "      <td>NaN</td>\n",
       "    </tr>\n",
       "  </tbody>\n",
       "</table>\n",
       "</div>"
      ],
      "text/plain": [
       "           Process Date   Unet  Voted                     Model   Jaccard  \\\n",
       "0   2021.07.27-20.24.13   True  False                      unet  0.965636   \n",
       "1   2022.04.09-22.15.32   True  False                      unet  0.630597   \n",
       "2   2023.03.26-07.00.18   True  False                      unet  0.558360   \n",
       "3   2023.03.26-07.02.39   True  False                      unet  0.929648   \n",
       "4   2023.03.26-11.25.23  False   True  logisticRegression_proba  0.477778   \n",
       "5   2023.03.26-11.25.23   True  False                      unet  0.670968   \n",
       "6   2023.03.26-11.28.40   True  False                      unet  0.676580   \n",
       "7   2023.03.26-15.52.33   True  False                      unet  0.807339   \n",
       "8   2023.03.26-15.53.37   True  False                      unet  0.893617   \n",
       "9   2023.03.26-18.43.02   True  False                      unet  0.911565   \n",
       "10  2023.03.26-18.45.32   True  False                      unet  0.881481   \n",
       "11  2023.03.26-18.56.14   True  False                      unet  0.781553   \n",
       "12  2023.03.26-18.59.12   True  False                      unet  0.835443   \n",
       "13  2023.03.26-19.01.32   True  False                      unet  0.690476   \n",
       "14  2023.03.26-22.54.06   True  False                      unet  0.914062   \n",
       "15  2023.03.26-22.54.41   True  False                      unet  0.831818   \n",
       "16  2023.03.26-22.56.46   True  False                      unet  0.893939   \n",
       "17  2023.03.26-22.57.27   True  False                      unet  0.882629   \n",
       "18  2023.03.28-22.27.27   True  False                      unet  0.760736   \n",
       "19  2023.03.28-22.29.11   True  False                      unet  0.954802   \n",
       "20  2023.03.28-22.40.02   True  False                      unet  0.900990   \n",
       "21  2023.03.28-22.40.42   True  False                      unet  0.871508   \n",
       "22  2023.03.28-22.41.32   True  False                      unet  0.783333   \n",
       "23  2023.03.29-21.52.58   True  False                      unet  0.865079   \n",
       "24  2023.03.29-21.54.34  False   True  logisticRegression_proba  0.206897   \n",
       "25  2023.03.29-21.54.34   True  False                      unet  0.000000   \n",
       "26  2023.03.29-21.57.23   True  False                      unet  0.796053   \n",
       "27  2023.03.29-22.03.33   True  False                      unet  0.921659   \n",
       "28  2023.03.29-22.07.18   True  False                      unet  0.323077   \n",
       "29  2023.03.30-12.27.27   True  False                      unet  0.944882   \n",
       "30  2023.03.30-12.28.32   True  False                      unet  0.801325   \n",
       "31  2023.03.30-12.29.32   True  False                      unet  0.780142   \n",
       "32  2023.03.30-12.31.57   True  False                      unet  0.816514   \n",
       "33  2023.03.30-12.33.04   True  False                      unet  0.844262   \n",
       "34  2023.03.30-12.33.45   True  False                      unet  0.810811   \n",
       "35  2023.03.30-16.13.37   True  False                      unet  0.846535   \n",
       "36  2023.03.30-17.34.33   True  False                      unet  0.855491   \n",
       "37  2023.03.30-19.58.05   True  False                      unet  0.880000   \n",
       "38  2023.03.30-19.58.41   True  False                      unet  0.668449   \n",
       "39  2023.03.30-20.03.56   True  False                      unet  0.748466   \n",
       "40  2023.03.30-20.04.42   True  False                      unet  0.839695   \n",
       "41  2023.06.02-19.19.46   True  False                      unet  0.767296   \n",
       "42  2023.06.02-19.22.04   True  False                      unet  0.880952   \n",
       "43  2023.06.02-19.22.49   True  False                      unet  0.776119   \n",
       "44  2023.06.02-19.23.39   True  False                      unet  0.696970   \n",
       "45  2023.06.02-19.28.13   True  False                      unet  0.852459   \n",
       "46  2023.06.02-19.29.01   True  False                      unet  0.619289   \n",
       "47  2023.06.02-19.38.05   True  False                      unet  0.810606   \n",
       "48  2023.06.02-20.22.44   True  False                      unet  0.853846   \n",
       "49  2023.06.02-20.23.50   True  False                      unet  0.866142   \n",
       "50  2023.06.02-20.26.43   True  False                      unet  0.831858   \n",
       "51  2023.06.02-20.30.15   True  False                      unet  0.492537   \n",
       "52  2023.06.02-20.31.45   True  False                      unet  0.872000   \n",
       "53  2023.06.02-20.32.27   True  False                      unet  0.762238   \n",
       "\n",
       "      Recall  Precision        F1  unet_Jaccard  unet_Recall  unet_Precision  \\\n",
       "0   0.992933   0.972318  0.982517           NaN          NaN             NaN   \n",
       "1   0.713080   0.845000  0.773455           NaN          NaN             NaN   \n",
       "2   0.563694   0.983333  0.716599           NaN          NaN             NaN   \n",
       "3   0.948718   0.978836  0.963542           NaN          NaN             NaN   \n",
       "4   0.618705   0.677165  0.646617      0.670968     0.748201        0.866667   \n",
       "5   0.748201   0.866667  0.803089           NaN          NaN             NaN   \n",
       "6   0.689394   0.973262  0.807095           NaN          NaN             NaN   \n",
       "7   0.977778   0.822430  0.893401           NaN          NaN             NaN   \n",
       "8   0.992126   0.900000  0.943820           NaN          NaN             NaN   \n",
       "9   0.985294   0.924138  0.953737           NaN          NaN             NaN   \n",
       "10  0.975410   0.901515  0.937008           NaN          NaN             NaN   \n",
       "11  1.000000   0.781553  0.877384           NaN          NaN             NaN   \n",
       "12  0.985075   0.846154  0.910345           NaN          NaN             NaN   \n",
       "13  0.729560   0.928000  0.816901           NaN          NaN             NaN   \n",
       "14  0.991525   0.921260  0.955102           NaN          NaN             NaN   \n",
       "15  0.859155   0.963158  0.908189           NaN          NaN             NaN   \n",
       "16  0.929134   0.959350  0.944000           NaN          NaN             NaN   \n",
       "17  0.890995   0.989474  0.937656           NaN          NaN             NaN   \n",
       "18  0.946565   0.794872  0.864111           NaN          NaN             NaN   \n",
       "19  0.988304   0.965714  0.976879           NaN          NaN             NaN   \n",
       "20  0.947917   0.947917  0.947917           NaN          NaN             NaN   \n",
       "21  1.000000   0.871508  0.931343           NaN          NaN             NaN   \n",
       "22  0.989474   0.789916  0.878505           NaN          NaN             NaN   \n",
       "23  0.923729   0.931624  0.927660           NaN          NaN             NaN   \n",
       "24  0.346154   0.339623  0.342857      0.000000     0.000000        0.000000   \n",
       "25  0.000000   0.000000  0.000000           NaN          NaN             NaN   \n",
       "26  0.883212   0.889706  0.886447           NaN          NaN             NaN   \n",
       "27  0.943396   0.975610  0.959233           NaN          NaN             NaN   \n",
       "28  0.323077   1.000000  0.488372           NaN          NaN             NaN   \n",
       "29  0.967742   0.975610  0.971660           NaN          NaN             NaN   \n",
       "30  0.937984   0.846154  0.889706           NaN          NaN             NaN   \n",
       "31  0.956522   0.808824  0.876494           NaN          NaN             NaN   \n",
       "32  0.816514   1.000000  0.898990           NaN          NaN             NaN   \n",
       "33  0.944954   0.887931  0.915556           NaN          NaN             NaN   \n",
       "34  0.975610   0.827586  0.895522           NaN          NaN             NaN   \n",
       "35  0.939560   0.895288  0.916890           NaN          NaN             NaN   \n",
       "36  0.993289   0.860465  0.922118           NaN          NaN             NaN   \n",
       "37  0.950617   0.922156  0.936170           NaN          NaN             NaN   \n",
       "38  0.683060   0.968992  0.801282           NaN          NaN             NaN   \n",
       "39  0.953125   0.777070  0.856140           NaN          NaN             NaN   \n",
       "40  0.982143   0.852713  0.912863           NaN          NaN             NaN   \n",
       "41  0.924242   0.818792  0.868327           NaN          NaN             NaN   \n",
       "42  1.000000   0.880952  0.936709           NaN          NaN             NaN   \n",
       "43  1.000000   0.776119  0.873950           NaN          NaN             NaN   \n",
       "44  0.991379   0.701220  0.821429           NaN          NaN             NaN   \n",
       "45  1.000000   0.852459  0.920354           NaN          NaN             NaN   \n",
       "46  1.000000   0.619289  0.764890           NaN          NaN             NaN   \n",
       "47  1.000000   0.810606  0.895397           NaN          NaN             NaN   \n",
       "48  0.895161   0.948718  0.921162           NaN          NaN             NaN   \n",
       "49  0.887097   0.973451  0.928270           NaN          NaN             NaN   \n",
       "50  1.000000   0.831858  0.908213           NaN          NaN             NaN   \n",
       "51  0.564103   0.795181  0.660000           NaN          NaN             NaN   \n",
       "52  0.947826   0.915966  0.931624           NaN          NaN             NaN   \n",
       "53  1.000000   0.762238  0.865079           NaN          NaN             NaN   \n",
       "\n",
       "     unet_F1  \n",
       "0        NaN  \n",
       "1        NaN  \n",
       "2        NaN  \n",
       "3        NaN  \n",
       "4   0.803089  \n",
       "5        NaN  \n",
       "6        NaN  \n",
       "7        NaN  \n",
       "8        NaN  \n",
       "9        NaN  \n",
       "10       NaN  \n",
       "11       NaN  \n",
       "12       NaN  \n",
       "13       NaN  \n",
       "14       NaN  \n",
       "15       NaN  \n",
       "16       NaN  \n",
       "17       NaN  \n",
       "18       NaN  \n",
       "19       NaN  \n",
       "20       NaN  \n",
       "21       NaN  \n",
       "22       NaN  \n",
       "23       NaN  \n",
       "24  0.000000  \n",
       "25       NaN  \n",
       "26       NaN  \n",
       "27       NaN  \n",
       "28       NaN  \n",
       "29       NaN  \n",
       "30       NaN  \n",
       "31       NaN  \n",
       "32       NaN  \n",
       "33       NaN  \n",
       "34       NaN  \n",
       "35       NaN  \n",
       "36       NaN  \n",
       "37       NaN  \n",
       "38       NaN  \n",
       "39       NaN  \n",
       "40       NaN  \n",
       "41       NaN  \n",
       "42       NaN  \n",
       "43       NaN  \n",
       "44       NaN  \n",
       "45       NaN  \n",
       "46       NaN  \n",
       "47       NaN  \n",
       "48       NaN  \n",
       "49       NaN  \n",
       "50       NaN  \n",
       "51       NaN  \n",
       "52       NaN  \n",
       "53       NaN  "
      ]
     },
     "execution_count": 36,
     "metadata": {},
     "output_type": "execute_result"
    }
   ],
   "source": [
    "final_df"
   ]
  },
  {
   "cell_type": "code",
   "execution_count": 37,
   "metadata": {},
   "outputs": [],
   "source": [
    "# tes = final_df.drop_duplicates(subset=['Process Date'], keep='first').reset_index(drop=True)\n",
    "# tes.to_csv('C:\\\\Users\\\\arthu\\\\Desktop\\\\comparação modelos por quantidade\\\\226 imagens\\\\results.tsv', sep='\\t')\n",
    "\n",
    "unet_df = final_df.query(\"Model == 'unet'\")\n",
    "unet_df = unet_df.drop(['Unet', 'Voted', 'unet_Jaccard', 'unet_Recall', 'unet_Precision', 'unet_F1'], axis=1)\n",
    "unet_df = unet_df[[ 'Precision', 'Recall','F1', 'Jaccard']] "
   ]
  },
  {
   "cell_type": "code",
   "execution_count": 38,
   "metadata": {},
   "outputs": [
    {
     "data": {
      "application/vnd.plotly.v1+json": {
       "config": {
        "plotlyServerURL": "https://plot.ly"
       },
       "data": [
        {
         "alignmentgroup": "True",
         "hovertemplate": "color=Precision<br>Metrics=%{x}<br>Scores=%{y}<extra></extra>",
         "legendgroup": "Precision",
         "marker": {
          "color": "#636efa",
          "pattern": {
           "shape": ""
          }
         },
         "name": "Precision",
         "offsetgroup": "Precision",
         "orientation": "v",
         "showlegend": true,
         "textposition": "auto",
         "type": "bar",
         "x": [
          "Precision"
         ],
         "xaxis": "x",
         "y": [
          0.8660183288934331
         ],
         "yaxis": "y"
        },
        {
         "alignmentgroup": "True",
         "hovertemplate": "color=Recall<br>Metrics=%{x}<br>Scores=%{y}<extra></extra>",
         "legendgroup": "Recall",
         "marker": {
          "color": "#EF553B",
          "pattern": {
           "shape": ""
          }
         },
         "name": "Recall",
         "offsetgroup": "Recall",
         "orientation": "v",
         "showlegend": true,
         "textposition": "auto",
         "type": "bar",
         "x": [
          "Recall"
         ],
         "xaxis": "x",
         "y": [
          0.8890129559229886
         ],
         "yaxis": "y"
        },
        {
         "alignmentgroup": "True",
         "hovertemplate": "color=F1<br>Metrics=%{x}<br>Scores=%{y}<extra></extra>",
         "legendgroup": "F1",
         "marker": {
          "color": "#00cc96",
          "pattern": {
           "shape": ""
          }
         },
         "name": "F1",
         "offsetgroup": "F1",
         "orientation": "v",
         "showlegend": true,
         "textposition": "auto",
         "type": "bar",
         "x": [
          "F1"
         ],
         "xaxis": "x",
         "y": [
          0.8667904261639701
         ],
         "yaxis": "y"
        },
        {
         "alignmentgroup": "True",
         "hovertemplate": "color=Jaccard<br>Metrics=%{x}<br>Scores=%{y}<extra></extra>",
         "legendgroup": "Jaccard",
         "marker": {
          "color": "#ab63fa",
          "pattern": {
           "shape": ""
          }
         },
         "name": "Jaccard",
         "offsetgroup": "Jaccard",
         "orientation": "v",
         "showlegend": true,
         "textposition": "auto",
         "type": "bar",
         "x": [
          "Jaccard"
         ],
         "xaxis": "x",
         "y": [
          0.7856122098170896
         ],
         "yaxis": "y"
        }
       ],
       "layout": {
        "barmode": "relative",
        "legend": {
         "title": {
          "text": "color"
         },
         "tracegroupgap": 0
        },
        "margin": {
         "t": 60
        },
        "template": {
         "data": {
          "bar": [
           {
            "error_x": {
             "color": "#2a3f5f"
            },
            "error_y": {
             "color": "#2a3f5f"
            },
            "marker": {
             "line": {
              "color": "#E5ECF6",
              "width": 0.5
             },
             "pattern": {
              "fillmode": "overlay",
              "size": 10,
              "solidity": 0.2
             }
            },
            "type": "bar"
           }
          ],
          "barpolar": [
           {
            "marker": {
             "line": {
              "color": "#E5ECF6",
              "width": 0.5
             },
             "pattern": {
              "fillmode": "overlay",
              "size": 10,
              "solidity": 0.2
             }
            },
            "type": "barpolar"
           }
          ],
          "carpet": [
           {
            "aaxis": {
             "endlinecolor": "#2a3f5f",
             "gridcolor": "white",
             "linecolor": "white",
             "minorgridcolor": "white",
             "startlinecolor": "#2a3f5f"
            },
            "baxis": {
             "endlinecolor": "#2a3f5f",
             "gridcolor": "white",
             "linecolor": "white",
             "minorgridcolor": "white",
             "startlinecolor": "#2a3f5f"
            },
            "type": "carpet"
           }
          ],
          "choropleth": [
           {
            "colorbar": {
             "outlinewidth": 0,
             "ticks": ""
            },
            "type": "choropleth"
           }
          ],
          "contour": [
           {
            "colorbar": {
             "outlinewidth": 0,
             "ticks": ""
            },
            "colorscale": [
             [
              0,
              "#0d0887"
             ],
             [
              0.1111111111111111,
              "#46039f"
             ],
             [
              0.2222222222222222,
              "#7201a8"
             ],
             [
              0.3333333333333333,
              "#9c179e"
             ],
             [
              0.4444444444444444,
              "#bd3786"
             ],
             [
              0.5555555555555556,
              "#d8576b"
             ],
             [
              0.6666666666666666,
              "#ed7953"
             ],
             [
              0.7777777777777778,
              "#fb9f3a"
             ],
             [
              0.8888888888888888,
              "#fdca26"
             ],
             [
              1,
              "#f0f921"
             ]
            ],
            "type": "contour"
           }
          ],
          "contourcarpet": [
           {
            "colorbar": {
             "outlinewidth": 0,
             "ticks": ""
            },
            "type": "contourcarpet"
           }
          ],
          "heatmap": [
           {
            "colorbar": {
             "outlinewidth": 0,
             "ticks": ""
            },
            "colorscale": [
             [
              0,
              "#0d0887"
             ],
             [
              0.1111111111111111,
              "#46039f"
             ],
             [
              0.2222222222222222,
              "#7201a8"
             ],
             [
              0.3333333333333333,
              "#9c179e"
             ],
             [
              0.4444444444444444,
              "#bd3786"
             ],
             [
              0.5555555555555556,
              "#d8576b"
             ],
             [
              0.6666666666666666,
              "#ed7953"
             ],
             [
              0.7777777777777778,
              "#fb9f3a"
             ],
             [
              0.8888888888888888,
              "#fdca26"
             ],
             [
              1,
              "#f0f921"
             ]
            ],
            "type": "heatmap"
           }
          ],
          "heatmapgl": [
           {
            "colorbar": {
             "outlinewidth": 0,
             "ticks": ""
            },
            "colorscale": [
             [
              0,
              "#0d0887"
             ],
             [
              0.1111111111111111,
              "#46039f"
             ],
             [
              0.2222222222222222,
              "#7201a8"
             ],
             [
              0.3333333333333333,
              "#9c179e"
             ],
             [
              0.4444444444444444,
              "#bd3786"
             ],
             [
              0.5555555555555556,
              "#d8576b"
             ],
             [
              0.6666666666666666,
              "#ed7953"
             ],
             [
              0.7777777777777778,
              "#fb9f3a"
             ],
             [
              0.8888888888888888,
              "#fdca26"
             ],
             [
              1,
              "#f0f921"
             ]
            ],
            "type": "heatmapgl"
           }
          ],
          "histogram": [
           {
            "marker": {
             "pattern": {
              "fillmode": "overlay",
              "size": 10,
              "solidity": 0.2
             }
            },
            "type": "histogram"
           }
          ],
          "histogram2d": [
           {
            "colorbar": {
             "outlinewidth": 0,
             "ticks": ""
            },
            "colorscale": [
             [
              0,
              "#0d0887"
             ],
             [
              0.1111111111111111,
              "#46039f"
             ],
             [
              0.2222222222222222,
              "#7201a8"
             ],
             [
              0.3333333333333333,
              "#9c179e"
             ],
             [
              0.4444444444444444,
              "#bd3786"
             ],
             [
              0.5555555555555556,
              "#d8576b"
             ],
             [
              0.6666666666666666,
              "#ed7953"
             ],
             [
              0.7777777777777778,
              "#fb9f3a"
             ],
             [
              0.8888888888888888,
              "#fdca26"
             ],
             [
              1,
              "#f0f921"
             ]
            ],
            "type": "histogram2d"
           }
          ],
          "histogram2dcontour": [
           {
            "colorbar": {
             "outlinewidth": 0,
             "ticks": ""
            },
            "colorscale": [
             [
              0,
              "#0d0887"
             ],
             [
              0.1111111111111111,
              "#46039f"
             ],
             [
              0.2222222222222222,
              "#7201a8"
             ],
             [
              0.3333333333333333,
              "#9c179e"
             ],
             [
              0.4444444444444444,
              "#bd3786"
             ],
             [
              0.5555555555555556,
              "#d8576b"
             ],
             [
              0.6666666666666666,
              "#ed7953"
             ],
             [
              0.7777777777777778,
              "#fb9f3a"
             ],
             [
              0.8888888888888888,
              "#fdca26"
             ],
             [
              1,
              "#f0f921"
             ]
            ],
            "type": "histogram2dcontour"
           }
          ],
          "mesh3d": [
           {
            "colorbar": {
             "outlinewidth": 0,
             "ticks": ""
            },
            "type": "mesh3d"
           }
          ],
          "parcoords": [
           {
            "line": {
             "colorbar": {
              "outlinewidth": 0,
              "ticks": ""
             }
            },
            "type": "parcoords"
           }
          ],
          "pie": [
           {
            "automargin": true,
            "type": "pie"
           }
          ],
          "scatter": [
           {
            "marker": {
             "colorbar": {
              "outlinewidth": 0,
              "ticks": ""
             }
            },
            "type": "scatter"
           }
          ],
          "scatter3d": [
           {
            "line": {
             "colorbar": {
              "outlinewidth": 0,
              "ticks": ""
             }
            },
            "marker": {
             "colorbar": {
              "outlinewidth": 0,
              "ticks": ""
             }
            },
            "type": "scatter3d"
           }
          ],
          "scattercarpet": [
           {
            "marker": {
             "colorbar": {
              "outlinewidth": 0,
              "ticks": ""
             }
            },
            "type": "scattercarpet"
           }
          ],
          "scattergeo": [
           {
            "marker": {
             "colorbar": {
              "outlinewidth": 0,
              "ticks": ""
             }
            },
            "type": "scattergeo"
           }
          ],
          "scattergl": [
           {
            "marker": {
             "colorbar": {
              "outlinewidth": 0,
              "ticks": ""
             }
            },
            "type": "scattergl"
           }
          ],
          "scattermapbox": [
           {
            "marker": {
             "colorbar": {
              "outlinewidth": 0,
              "ticks": ""
             }
            },
            "type": "scattermapbox"
           }
          ],
          "scatterpolar": [
           {
            "marker": {
             "colorbar": {
              "outlinewidth": 0,
              "ticks": ""
             }
            },
            "type": "scatterpolar"
           }
          ],
          "scatterpolargl": [
           {
            "marker": {
             "colorbar": {
              "outlinewidth": 0,
              "ticks": ""
             }
            },
            "type": "scatterpolargl"
           }
          ],
          "scatterternary": [
           {
            "marker": {
             "colorbar": {
              "outlinewidth": 0,
              "ticks": ""
             }
            },
            "type": "scatterternary"
           }
          ],
          "surface": [
           {
            "colorbar": {
             "outlinewidth": 0,
             "ticks": ""
            },
            "colorscale": [
             [
              0,
              "#0d0887"
             ],
             [
              0.1111111111111111,
              "#46039f"
             ],
             [
              0.2222222222222222,
              "#7201a8"
             ],
             [
              0.3333333333333333,
              "#9c179e"
             ],
             [
              0.4444444444444444,
              "#bd3786"
             ],
             [
              0.5555555555555556,
              "#d8576b"
             ],
             [
              0.6666666666666666,
              "#ed7953"
             ],
             [
              0.7777777777777778,
              "#fb9f3a"
             ],
             [
              0.8888888888888888,
              "#fdca26"
             ],
             [
              1,
              "#f0f921"
             ]
            ],
            "type": "surface"
           }
          ],
          "table": [
           {
            "cells": {
             "fill": {
              "color": "#EBF0F8"
             },
             "line": {
              "color": "white"
             }
            },
            "header": {
             "fill": {
              "color": "#C8D4E3"
             },
             "line": {
              "color": "white"
             }
            },
            "type": "table"
           }
          ]
         },
         "layout": {
          "annotationdefaults": {
           "arrowcolor": "#2a3f5f",
           "arrowhead": 0,
           "arrowwidth": 1
          },
          "autotypenumbers": "strict",
          "coloraxis": {
           "colorbar": {
            "outlinewidth": 0,
            "ticks": ""
           }
          },
          "colorscale": {
           "diverging": [
            [
             0,
             "#8e0152"
            ],
            [
             0.1,
             "#c51b7d"
            ],
            [
             0.2,
             "#de77ae"
            ],
            [
             0.3,
             "#f1b6da"
            ],
            [
             0.4,
             "#fde0ef"
            ],
            [
             0.5,
             "#f7f7f7"
            ],
            [
             0.6,
             "#e6f5d0"
            ],
            [
             0.7,
             "#b8e186"
            ],
            [
             0.8,
             "#7fbc41"
            ],
            [
             0.9,
             "#4d9221"
            ],
            [
             1,
             "#276419"
            ]
           ],
           "sequential": [
            [
             0,
             "#0d0887"
            ],
            [
             0.1111111111111111,
             "#46039f"
            ],
            [
             0.2222222222222222,
             "#7201a8"
            ],
            [
             0.3333333333333333,
             "#9c179e"
            ],
            [
             0.4444444444444444,
             "#bd3786"
            ],
            [
             0.5555555555555556,
             "#d8576b"
            ],
            [
             0.6666666666666666,
             "#ed7953"
            ],
            [
             0.7777777777777778,
             "#fb9f3a"
            ],
            [
             0.8888888888888888,
             "#fdca26"
            ],
            [
             1,
             "#f0f921"
            ]
           ],
           "sequentialminus": [
            [
             0,
             "#0d0887"
            ],
            [
             0.1111111111111111,
             "#46039f"
            ],
            [
             0.2222222222222222,
             "#7201a8"
            ],
            [
             0.3333333333333333,
             "#9c179e"
            ],
            [
             0.4444444444444444,
             "#bd3786"
            ],
            [
             0.5555555555555556,
             "#d8576b"
            ],
            [
             0.6666666666666666,
             "#ed7953"
            ],
            [
             0.7777777777777778,
             "#fb9f3a"
            ],
            [
             0.8888888888888888,
             "#fdca26"
            ],
            [
             1,
             "#f0f921"
            ]
           ]
          },
          "colorway": [
           "#636efa",
           "#EF553B",
           "#00cc96",
           "#ab63fa",
           "#FFA15A",
           "#19d3f3",
           "#FF6692",
           "#B6E880",
           "#FF97FF",
           "#FECB52"
          ],
          "font": {
           "color": "#2a3f5f"
          },
          "geo": {
           "bgcolor": "white",
           "lakecolor": "white",
           "landcolor": "#E5ECF6",
           "showlakes": true,
           "showland": true,
           "subunitcolor": "white"
          },
          "hoverlabel": {
           "align": "left"
          },
          "hovermode": "closest",
          "mapbox": {
           "style": "light"
          },
          "paper_bgcolor": "white",
          "plot_bgcolor": "#E5ECF6",
          "polar": {
           "angularaxis": {
            "gridcolor": "white",
            "linecolor": "white",
            "ticks": ""
           },
           "bgcolor": "#E5ECF6",
           "radialaxis": {
            "gridcolor": "white",
            "linecolor": "white",
            "ticks": ""
           }
          },
          "scene": {
           "xaxis": {
            "backgroundcolor": "#E5ECF6",
            "gridcolor": "white",
            "gridwidth": 2,
            "linecolor": "white",
            "showbackground": true,
            "ticks": "",
            "zerolinecolor": "white"
           },
           "yaxis": {
            "backgroundcolor": "#E5ECF6",
            "gridcolor": "white",
            "gridwidth": 2,
            "linecolor": "white",
            "showbackground": true,
            "ticks": "",
            "zerolinecolor": "white"
           },
           "zaxis": {
            "backgroundcolor": "#E5ECF6",
            "gridcolor": "white",
            "gridwidth": 2,
            "linecolor": "white",
            "showbackground": true,
            "ticks": "",
            "zerolinecolor": "white"
           }
          },
          "shapedefaults": {
           "line": {
            "color": "#2a3f5f"
           }
          },
          "ternary": {
           "aaxis": {
            "gridcolor": "white",
            "linecolor": "white",
            "ticks": ""
           },
           "baxis": {
            "gridcolor": "white",
            "linecolor": "white",
            "ticks": ""
           },
           "bgcolor": "#E5ECF6",
           "caxis": {
            "gridcolor": "white",
            "linecolor": "white",
            "ticks": ""
           }
          },
          "title": {
           "x": 0.05
          },
          "xaxis": {
           "automargin": true,
           "gridcolor": "white",
           "linecolor": "white",
           "ticks": "",
           "title": {
            "standoff": 15
           },
           "zerolinecolor": "white",
           "zerolinewidth": 2
          },
          "yaxis": {
           "automargin": true,
           "gridcolor": "white",
           "linecolor": "white",
           "ticks": "",
           "title": {
            "standoff": 15
           },
           "zerolinecolor": "white",
           "zerolinewidth": 2
          }
         }
        },
        "title": {
         "text": "Metrics mean"
        },
        "xaxis": {
         "anchor": "y",
         "domain": [
          0,
          1
         ],
         "title": {
          "text": "Metrics"
         }
        },
        "yaxis": {
         "anchor": "x",
         "domain": [
          0,
          1
         ],
         "range": [
          0,
          1
         ],
         "title": {
          "text": "Scores"
         }
        }
       }
      }
     },
     "metadata": {},
     "output_type": "display_data"
    }
   ],
   "source": [
    "fig = px.bar(unet_df.mean(),labels={\n",
    "                     \"index\": \"Metrics\",\n",
    "                     \"value\": \"Scores\",\n",
    "                 }, color=[ 'Precision', 'Recall','F1', 'Jaccard'])\n",
    "fig.update_layout({\n",
    "\n",
    "'title': 'Metrics mean',\n",
    "},)\n",
    "fig.update_yaxes(range = [0,1])\n",
    "fig.show()"
   ]
  },
  {
   "cell_type": "code",
   "execution_count": 5,
   "metadata": {},
   "outputs": [
    {
     "data": {
      "text/html": [
       "<div>\n",
       "<style scoped>\n",
       "    .dataframe tbody tr th:only-of-type {\n",
       "        vertical-align: middle;\n",
       "    }\n",
       "\n",
       "    .dataframe tbody tr th {\n",
       "        vertical-align: top;\n",
       "    }\n",
       "\n",
       "    .dataframe thead th {\n",
       "        text-align: right;\n",
       "    }\n",
       "</style>\n",
       "<table border=\"1\" class=\"dataframe\">\n",
       "  <thead>\n",
       "    <tr style=\"text-align: right;\">\n",
       "      <th></th>\n",
       "      <th>Process Date</th>\n",
       "      <th>Unet</th>\n",
       "      <th>Voted</th>\n",
       "      <th>Model</th>\n",
       "      <th>Jaccard</th>\n",
       "      <th>Recall</th>\n",
       "      <th>Precision</th>\n",
       "      <th>F1</th>\n",
       "      <th>unet_Jaccard</th>\n",
       "      <th>unet_Recall</th>\n",
       "      <th>unet_Precision</th>\n",
       "      <th>unet_F1</th>\n",
       "    </tr>\n",
       "  </thead>\n",
       "  <tbody>\n",
       "    <tr>\n",
       "      <th>0</th>\n",
       "      <td>2021.07.27-20.24.13</td>\n",
       "      <td>True</td>\n",
       "      <td>False</td>\n",
       "      <td>unet</td>\n",
       "      <td>0.458042</td>\n",
       "      <td>0.462898</td>\n",
       "      <td>0.977612</td>\n",
       "      <td>0.628297</td>\n",
       "      <td>NaN</td>\n",
       "      <td>NaN</td>\n",
       "      <td>NaN</td>\n",
       "      <td>NaN</td>\n",
       "    </tr>\n",
       "    <tr>\n",
       "      <th>1</th>\n",
       "      <td>2022.04.09-22.15.32</td>\n",
       "      <td>False</td>\n",
       "      <td>True</td>\n",
       "      <td>logisticRegression_proba</td>\n",
       "      <td>0.304918</td>\n",
       "      <td>0.392405</td>\n",
       "      <td>0.577640</td>\n",
       "      <td>0.467337</td>\n",
       "      <td>0.050802</td>\n",
       "      <td>0.080169</td>\n",
       "      <td>0.121795</td>\n",
       "      <td>0.096692</td>\n",
       "    </tr>\n",
       "    <tr>\n",
       "      <th>2</th>\n",
       "      <td>2023.03.26-07.00.18</td>\n",
       "      <td>False</td>\n",
       "      <td>True</td>\n",
       "      <td>logisticRegression</td>\n",
       "      <td>0.536082</td>\n",
       "      <td>0.662420</td>\n",
       "      <td>0.737589</td>\n",
       "      <td>0.697987</td>\n",
       "      <td>0.000000</td>\n",
       "      <td>0.000000</td>\n",
       "      <td>0.000000</td>\n",
       "      <td>0.000000</td>\n",
       "    </tr>\n",
       "    <tr>\n",
       "      <th>3</th>\n",
       "      <td>2023.03.26-07.02.39</td>\n",
       "      <td>True</td>\n",
       "      <td>False</td>\n",
       "      <td>unet</td>\n",
       "      <td>0.392857</td>\n",
       "      <td>0.394872</td>\n",
       "      <td>0.987179</td>\n",
       "      <td>0.564103</td>\n",
       "      <td>NaN</td>\n",
       "      <td>NaN</td>\n",
       "      <td>NaN</td>\n",
       "      <td>NaN</td>\n",
       "    </tr>\n",
       "    <tr>\n",
       "      <th>4</th>\n",
       "      <td>2023.03.26-11.25.23</td>\n",
       "      <td>False</td>\n",
       "      <td>True</td>\n",
       "      <td>logisticRegression_proba</td>\n",
       "      <td>0.477778</td>\n",
       "      <td>0.618705</td>\n",
       "      <td>0.677165</td>\n",
       "      <td>0.646617</td>\n",
       "      <td>0.000000</td>\n",
       "      <td>0.000000</td>\n",
       "      <td>0.000000</td>\n",
       "      <td>0.000000</td>\n",
       "    </tr>\n",
       "    <tr>\n",
       "      <th>5</th>\n",
       "      <td>2023.03.26-11.28.40</td>\n",
       "      <td>False</td>\n",
       "      <td>True</td>\n",
       "      <td>logisticRegression_proba</td>\n",
       "      <td>0.517606</td>\n",
       "      <td>0.556818</td>\n",
       "      <td>0.880240</td>\n",
       "      <td>0.682135</td>\n",
       "      <td>0.000000</td>\n",
       "      <td>0.000000</td>\n",
       "      <td>0.000000</td>\n",
       "      <td>0.000000</td>\n",
       "    </tr>\n",
       "    <tr>\n",
       "      <th>6</th>\n",
       "      <td>2023.03.26-15.52.33</td>\n",
       "      <td>True</td>\n",
       "      <td>False</td>\n",
       "      <td>unet</td>\n",
       "      <td>0.155556</td>\n",
       "      <td>0.155556</td>\n",
       "      <td>1.000000</td>\n",
       "      <td>0.269231</td>\n",
       "      <td>NaN</td>\n",
       "      <td>NaN</td>\n",
       "      <td>NaN</td>\n",
       "      <td>NaN</td>\n",
       "    </tr>\n",
       "    <tr>\n",
       "      <th>7</th>\n",
       "      <td>2023.03.26-15.53.37</td>\n",
       "      <td>False</td>\n",
       "      <td>True</td>\n",
       "      <td>logisticRegression_proba</td>\n",
       "      <td>0.753623</td>\n",
       "      <td>0.818898</td>\n",
       "      <td>0.904348</td>\n",
       "      <td>0.859504</td>\n",
       "      <td>0.217949</td>\n",
       "      <td>0.267717</td>\n",
       "      <td>0.539683</td>\n",
       "      <td>0.357895</td>\n",
       "    </tr>\n",
       "    <tr>\n",
       "      <th>8</th>\n",
       "      <td>2023.03.26-18.43.02</td>\n",
       "      <td>True</td>\n",
       "      <td>False</td>\n",
       "      <td>unet</td>\n",
       "      <td>0.308824</td>\n",
       "      <td>0.308824</td>\n",
       "      <td>1.000000</td>\n",
       "      <td>0.471910</td>\n",
       "      <td>NaN</td>\n",
       "      <td>NaN</td>\n",
       "      <td>NaN</td>\n",
       "      <td>NaN</td>\n",
       "    </tr>\n",
       "    <tr>\n",
       "      <th>9</th>\n",
       "      <td>2023.03.26-18.45.32</td>\n",
       "      <td>True</td>\n",
       "      <td>False</td>\n",
       "      <td>unet</td>\n",
       "      <td>0.000000</td>\n",
       "      <td>0.000000</td>\n",
       "      <td>0.000000</td>\n",
       "      <td>0.000000</td>\n",
       "      <td>NaN</td>\n",
       "      <td>NaN</td>\n",
       "      <td>NaN</td>\n",
       "      <td>NaN</td>\n",
       "    </tr>\n",
       "    <tr>\n",
       "      <th>10</th>\n",
       "      <td>2023.03.26-18.56.14</td>\n",
       "      <td>True</td>\n",
       "      <td>False</td>\n",
       "      <td>unet</td>\n",
       "      <td>0.169697</td>\n",
       "      <td>0.173913</td>\n",
       "      <td>0.875000</td>\n",
       "      <td>0.290155</td>\n",
       "      <td>NaN</td>\n",
       "      <td>NaN</td>\n",
       "      <td>NaN</td>\n",
       "      <td>NaN</td>\n",
       "    </tr>\n",
       "    <tr>\n",
       "      <th>11</th>\n",
       "      <td>2023.03.26-18.59.12</td>\n",
       "      <td>True</td>\n",
       "      <td>False</td>\n",
       "      <td>unet</td>\n",
       "      <td>0.276119</td>\n",
       "      <td>0.276119</td>\n",
       "      <td>1.000000</td>\n",
       "      <td>0.432749</td>\n",
       "      <td>NaN</td>\n",
       "      <td>NaN</td>\n",
       "      <td>NaN</td>\n",
       "      <td>NaN</td>\n",
       "    </tr>\n",
       "    <tr>\n",
       "      <th>12</th>\n",
       "      <td>2023.03.26-19.01.32</td>\n",
       "      <td>True</td>\n",
       "      <td>False</td>\n",
       "      <td>unet</td>\n",
       "      <td>0.270440</td>\n",
       "      <td>0.270440</td>\n",
       "      <td>1.000000</td>\n",
       "      <td>0.425743</td>\n",
       "      <td>NaN</td>\n",
       "      <td>NaN</td>\n",
       "      <td>NaN</td>\n",
       "      <td>NaN</td>\n",
       "    </tr>\n",
       "    <tr>\n",
       "      <th>13</th>\n",
       "      <td>2023.03.26-22.54.06</td>\n",
       "      <td>False</td>\n",
       "      <td>True</td>\n",
       "      <td>logisticRegression_proba</td>\n",
       "      <td>0.263736</td>\n",
       "      <td>0.406780</td>\n",
       "      <td>0.428571</td>\n",
       "      <td>0.417391</td>\n",
       "      <td>0.059322</td>\n",
       "      <td>0.059322</td>\n",
       "      <td>1.000000</td>\n",
       "      <td>0.112000</td>\n",
       "    </tr>\n",
       "    <tr>\n",
       "      <th>14</th>\n",
       "      <td>2023.03.26-22.54.41</td>\n",
       "      <td>False</td>\n",
       "      <td>True</td>\n",
       "      <td>logisticRegression_proba</td>\n",
       "      <td>0.492958</td>\n",
       "      <td>0.492958</td>\n",
       "      <td>1.000000</td>\n",
       "      <td>0.660377</td>\n",
       "      <td>0.000000</td>\n",
       "      <td>0.000000</td>\n",
       "      <td>0.000000</td>\n",
       "      <td>0.000000</td>\n",
       "    </tr>\n",
       "    <tr>\n",
       "      <th>15</th>\n",
       "      <td>2023.03.26-22.56.46</td>\n",
       "      <td>True</td>\n",
       "      <td>False</td>\n",
       "      <td>unet</td>\n",
       "      <td>0.464567</td>\n",
       "      <td>0.464567</td>\n",
       "      <td>1.000000</td>\n",
       "      <td>0.634409</td>\n",
       "      <td>NaN</td>\n",
       "      <td>NaN</td>\n",
       "      <td>NaN</td>\n",
       "      <td>NaN</td>\n",
       "    </tr>\n",
       "    <tr>\n",
       "      <th>16</th>\n",
       "      <td>2023.03.26-22.57.27</td>\n",
       "      <td>False</td>\n",
       "      <td>True</td>\n",
       "      <td>logisticRegression_proba</td>\n",
       "      <td>0.413502</td>\n",
       "      <td>0.464455</td>\n",
       "      <td>0.790323</td>\n",
       "      <td>0.585075</td>\n",
       "      <td>0.103774</td>\n",
       "      <td>0.104265</td>\n",
       "      <td>0.956522</td>\n",
       "      <td>0.188034</td>\n",
       "    </tr>\n",
       "    <tr>\n",
       "      <th>17</th>\n",
       "      <td>2023.03.28-22.27.27</td>\n",
       "      <td>True</td>\n",
       "      <td>False</td>\n",
       "      <td>unet</td>\n",
       "      <td>0.274809</td>\n",
       "      <td>0.274809</td>\n",
       "      <td>1.000000</td>\n",
       "      <td>0.431138</td>\n",
       "      <td>NaN</td>\n",
       "      <td>NaN</td>\n",
       "      <td>NaN</td>\n",
       "      <td>NaN</td>\n",
       "    </tr>\n",
       "    <tr>\n",
       "      <th>18</th>\n",
       "      <td>2023.03.28-22.29.11</td>\n",
       "      <td>False</td>\n",
       "      <td>True</td>\n",
       "      <td>logisticRegression_proba</td>\n",
       "      <td>0.384615</td>\n",
       "      <td>0.467836</td>\n",
       "      <td>0.683761</td>\n",
       "      <td>0.555556</td>\n",
       "      <td>0.169591</td>\n",
       "      <td>0.169591</td>\n",
       "      <td>1.000000</td>\n",
       "      <td>0.290000</td>\n",
       "    </tr>\n",
       "    <tr>\n",
       "      <th>19</th>\n",
       "      <td>2023.03.28-22.40.02</td>\n",
       "      <td>True</td>\n",
       "      <td>False</td>\n",
       "      <td>unet</td>\n",
       "      <td>0.000000</td>\n",
       "      <td>0.000000</td>\n",
       "      <td>0.000000</td>\n",
       "      <td>0.000000</td>\n",
       "      <td>NaN</td>\n",
       "      <td>NaN</td>\n",
       "      <td>NaN</td>\n",
       "      <td>NaN</td>\n",
       "    </tr>\n",
       "    <tr>\n",
       "      <th>20</th>\n",
       "      <td>2023.03.28-22.40.42</td>\n",
       "      <td>True</td>\n",
       "      <td>False</td>\n",
       "      <td>unet</td>\n",
       "      <td>0.205128</td>\n",
       "      <td>0.205128</td>\n",
       "      <td>1.000000</td>\n",
       "      <td>0.340426</td>\n",
       "      <td>NaN</td>\n",
       "      <td>NaN</td>\n",
       "      <td>NaN</td>\n",
       "      <td>NaN</td>\n",
       "    </tr>\n",
       "    <tr>\n",
       "      <th>21</th>\n",
       "      <td>2023.03.28-22.41.32</td>\n",
       "      <td>True</td>\n",
       "      <td>False</td>\n",
       "      <td>unet</td>\n",
       "      <td>0.000000</td>\n",
       "      <td>0.000000</td>\n",
       "      <td>0.000000</td>\n",
       "      <td>0.000000</td>\n",
       "      <td>NaN</td>\n",
       "      <td>NaN</td>\n",
       "      <td>NaN</td>\n",
       "      <td>NaN</td>\n",
       "    </tr>\n",
       "    <tr>\n",
       "      <th>22</th>\n",
       "      <td>2023.03.29-21.52.58</td>\n",
       "      <td>True</td>\n",
       "      <td>False</td>\n",
       "      <td>unet</td>\n",
       "      <td>0.101695</td>\n",
       "      <td>0.101695</td>\n",
       "      <td>1.000000</td>\n",
       "      <td>0.184615</td>\n",
       "      <td>NaN</td>\n",
       "      <td>NaN</td>\n",
       "      <td>NaN</td>\n",
       "      <td>NaN</td>\n",
       "    </tr>\n",
       "    <tr>\n",
       "      <th>23</th>\n",
       "      <td>2023.03.29-21.54.34</td>\n",
       "      <td>False</td>\n",
       "      <td>True</td>\n",
       "      <td>logisticRegression_proba</td>\n",
       "      <td>0.206897</td>\n",
       "      <td>0.346154</td>\n",
       "      <td>0.339623</td>\n",
       "      <td>0.342857</td>\n",
       "      <td>0.000000</td>\n",
       "      <td>0.000000</td>\n",
       "      <td>0.000000</td>\n",
       "      <td>0.000000</td>\n",
       "    </tr>\n",
       "    <tr>\n",
       "      <th>24</th>\n",
       "      <td>2023.03.29-21.57.23</td>\n",
       "      <td>False</td>\n",
       "      <td>True</td>\n",
       "      <td>logisticRegression_proba</td>\n",
       "      <td>0.400000</td>\n",
       "      <td>0.510949</td>\n",
       "      <td>0.648148</td>\n",
       "      <td>0.571429</td>\n",
       "      <td>0.109489</td>\n",
       "      <td>0.109489</td>\n",
       "      <td>1.000000</td>\n",
       "      <td>0.197368</td>\n",
       "    </tr>\n",
       "    <tr>\n",
       "      <th>25</th>\n",
       "      <td>2023.03.29-22.03.33</td>\n",
       "      <td>False</td>\n",
       "      <td>True</td>\n",
       "      <td>logisticRegression_proba</td>\n",
       "      <td>0.087948</td>\n",
       "      <td>0.127358</td>\n",
       "      <td>0.221311</td>\n",
       "      <td>0.161677</td>\n",
       "      <td>0.136150</td>\n",
       "      <td>0.136792</td>\n",
       "      <td>0.966667</td>\n",
       "      <td>0.239669</td>\n",
       "    </tr>\n",
       "    <tr>\n",
       "      <th>26</th>\n",
       "      <td>2023.03.29-22.07.18</td>\n",
       "      <td>True</td>\n",
       "      <td>False</td>\n",
       "      <td>unet</td>\n",
       "      <td>0.146154</td>\n",
       "      <td>0.146154</td>\n",
       "      <td>1.000000</td>\n",
       "      <td>0.255034</td>\n",
       "      <td>NaN</td>\n",
       "      <td>NaN</td>\n",
       "      <td>NaN</td>\n",
       "      <td>NaN</td>\n",
       "    </tr>\n",
       "    <tr>\n",
       "      <th>27</th>\n",
       "      <td>2023.03.30-12.27.27</td>\n",
       "      <td>False</td>\n",
       "      <td>True</td>\n",
       "      <td>logisticRegression_proba</td>\n",
       "      <td>0.500000</td>\n",
       "      <td>0.620968</td>\n",
       "      <td>0.719626</td>\n",
       "      <td>0.666667</td>\n",
       "      <td>0.000000</td>\n",
       "      <td>0.000000</td>\n",
       "      <td>0.000000</td>\n",
       "      <td>0.000000</td>\n",
       "    </tr>\n",
       "    <tr>\n",
       "      <th>28</th>\n",
       "      <td>2023.03.30-12.28.32</td>\n",
       "      <td>False</td>\n",
       "      <td>True</td>\n",
       "      <td>logisticRegression_proba</td>\n",
       "      <td>0.535484</td>\n",
       "      <td>0.643411</td>\n",
       "      <td>0.761468</td>\n",
       "      <td>0.697479</td>\n",
       "      <td>0.062016</td>\n",
       "      <td>0.062016</td>\n",
       "      <td>1.000000</td>\n",
       "      <td>0.116788</td>\n",
       "    </tr>\n",
       "    <tr>\n",
       "      <th>29</th>\n",
       "      <td>2023.03.30-12.29.32</td>\n",
       "      <td>True</td>\n",
       "      <td>False</td>\n",
       "      <td>unet</td>\n",
       "      <td>0.138365</td>\n",
       "      <td>0.191304</td>\n",
       "      <td>0.333333</td>\n",
       "      <td>0.243094</td>\n",
       "      <td>NaN</td>\n",
       "      <td>NaN</td>\n",
       "      <td>NaN</td>\n",
       "      <td>NaN</td>\n",
       "    </tr>\n",
       "    <tr>\n",
       "      <th>30</th>\n",
       "      <td>2023.03.30-12.31.57</td>\n",
       "      <td>True</td>\n",
       "      <td>False</td>\n",
       "      <td>unet</td>\n",
       "      <td>0.000000</td>\n",
       "      <td>0.000000</td>\n",
       "      <td>0.000000</td>\n",
       "      <td>0.000000</td>\n",
       "      <td>NaN</td>\n",
       "      <td>NaN</td>\n",
       "      <td>NaN</td>\n",
       "      <td>NaN</td>\n",
       "    </tr>\n",
       "    <tr>\n",
       "      <th>31</th>\n",
       "      <td>2023.03.30-12.33.04</td>\n",
       "      <td>True</td>\n",
       "      <td>False</td>\n",
       "      <td>unet</td>\n",
       "      <td>0.119266</td>\n",
       "      <td>0.119266</td>\n",
       "      <td>1.000000</td>\n",
       "      <td>0.213115</td>\n",
       "      <td>NaN</td>\n",
       "      <td>NaN</td>\n",
       "      <td>NaN</td>\n",
       "      <td>NaN</td>\n",
       "    </tr>\n",
       "    <tr>\n",
       "      <th>32</th>\n",
       "      <td>2023.03.30-12.33.45</td>\n",
       "      <td>True</td>\n",
       "      <td>False</td>\n",
       "      <td>unet</td>\n",
       "      <td>0.392308</td>\n",
       "      <td>0.414634</td>\n",
       "      <td>0.879310</td>\n",
       "      <td>0.563536</td>\n",
       "      <td>NaN</td>\n",
       "      <td>NaN</td>\n",
       "      <td>NaN</td>\n",
       "      <td>NaN</td>\n",
       "    </tr>\n",
       "    <tr>\n",
       "      <th>33</th>\n",
       "      <td>2023.03.30-16.13.37</td>\n",
       "      <td>True</td>\n",
       "      <td>False</td>\n",
       "      <td>unet</td>\n",
       "      <td>0.222826</td>\n",
       "      <td>0.225275</td>\n",
       "      <td>0.953488</td>\n",
       "      <td>0.364444</td>\n",
       "      <td>NaN</td>\n",
       "      <td>NaN</td>\n",
       "      <td>NaN</td>\n",
       "      <td>NaN</td>\n",
       "    </tr>\n",
       "    <tr>\n",
       "      <th>34</th>\n",
       "      <td>2023.03.30-17.34.33</td>\n",
       "      <td>True</td>\n",
       "      <td>False</td>\n",
       "      <td>unet</td>\n",
       "      <td>0.913580</td>\n",
       "      <td>0.993289</td>\n",
       "      <td>0.919255</td>\n",
       "      <td>0.954839</td>\n",
       "      <td>NaN</td>\n",
       "      <td>NaN</td>\n",
       "      <td>NaN</td>\n",
       "      <td>NaN</td>\n",
       "    </tr>\n",
       "    <tr>\n",
       "      <th>35</th>\n",
       "      <td>2023.03.30-19.58.05</td>\n",
       "      <td>True</td>\n",
       "      <td>False</td>\n",
       "      <td>unet</td>\n",
       "      <td>0.314433</td>\n",
       "      <td>0.376543</td>\n",
       "      <td>0.655914</td>\n",
       "      <td>0.478431</td>\n",
       "      <td>NaN</td>\n",
       "      <td>NaN</td>\n",
       "      <td>NaN</td>\n",
       "      <td>NaN</td>\n",
       "    </tr>\n",
       "    <tr>\n",
       "      <th>36</th>\n",
       "      <td>2023.03.30-19.58.41</td>\n",
       "      <td>False</td>\n",
       "      <td>True</td>\n",
       "      <td>logisticRegression_proba</td>\n",
       "      <td>0.120438</td>\n",
       "      <td>0.180328</td>\n",
       "      <td>0.266129</td>\n",
       "      <td>0.214984</td>\n",
       "      <td>0.065217</td>\n",
       "      <td>0.065574</td>\n",
       "      <td>0.923077</td>\n",
       "      <td>0.122449</td>\n",
       "    </tr>\n",
       "    <tr>\n",
       "      <th>37</th>\n",
       "      <td>2023.03.30-20.03.56</td>\n",
       "      <td>False</td>\n",
       "      <td>True</td>\n",
       "      <td>logisticRegression_proba</td>\n",
       "      <td>0.333333</td>\n",
       "      <td>0.460938</td>\n",
       "      <td>0.546296</td>\n",
       "      <td>0.500000</td>\n",
       "      <td>0.210145</td>\n",
       "      <td>0.226562</td>\n",
       "      <td>0.743590</td>\n",
       "      <td>0.347305</td>\n",
       "    </tr>\n",
       "    <tr>\n",
       "      <th>38</th>\n",
       "      <td>2023.03.30-20.04.42</td>\n",
       "      <td>True</td>\n",
       "      <td>False</td>\n",
       "      <td>unet</td>\n",
       "      <td>0.318966</td>\n",
       "      <td>0.330357</td>\n",
       "      <td>0.902439</td>\n",
       "      <td>0.483660</td>\n",
       "      <td>NaN</td>\n",
       "      <td>NaN</td>\n",
       "      <td>NaN</td>\n",
       "      <td>NaN</td>\n",
       "    </tr>\n",
       "    <tr>\n",
       "      <th>39</th>\n",
       "      <td>2023.06.02-19.19.46</td>\n",
       "      <td>False</td>\n",
       "      <td>True</td>\n",
       "      <td>logisticRegression_proba</td>\n",
       "      <td>0.395062</td>\n",
       "      <td>0.484848</td>\n",
       "      <td>0.680851</td>\n",
       "      <td>0.566372</td>\n",
       "      <td>0.485075</td>\n",
       "      <td>0.492424</td>\n",
       "      <td>0.970149</td>\n",
       "      <td>0.653266</td>\n",
       "    </tr>\n",
       "    <tr>\n",
       "      <th>40</th>\n",
       "      <td>2023.06.02-19.22.04</td>\n",
       "      <td>True</td>\n",
       "      <td>False</td>\n",
       "      <td>unet</td>\n",
       "      <td>0.418919</td>\n",
       "      <td>0.418919</td>\n",
       "      <td>1.000000</td>\n",
       "      <td>0.590476</td>\n",
       "      <td>NaN</td>\n",
       "      <td>NaN</td>\n",
       "      <td>NaN</td>\n",
       "      <td>NaN</td>\n",
       "    </tr>\n",
       "    <tr>\n",
       "      <th>41</th>\n",
       "      <td>2023.06.02-19.22.49</td>\n",
       "      <td>True</td>\n",
       "      <td>False</td>\n",
       "      <td>unet</td>\n",
       "      <td>0.427273</td>\n",
       "      <td>0.451923</td>\n",
       "      <td>0.886792</td>\n",
       "      <td>0.598726</td>\n",
       "      <td>NaN</td>\n",
       "      <td>NaN</td>\n",
       "      <td>NaN</td>\n",
       "      <td>NaN</td>\n",
       "    </tr>\n",
       "    <tr>\n",
       "      <th>42</th>\n",
       "      <td>2023.06.02-19.23.39</td>\n",
       "      <td>True</td>\n",
       "      <td>False</td>\n",
       "      <td>unet</td>\n",
       "      <td>0.222689</td>\n",
       "      <td>0.456897</td>\n",
       "      <td>0.302857</td>\n",
       "      <td>0.364261</td>\n",
       "      <td>NaN</td>\n",
       "      <td>NaN</td>\n",
       "      <td>NaN</td>\n",
       "      <td>NaN</td>\n",
       "    </tr>\n",
       "    <tr>\n",
       "      <th>43</th>\n",
       "      <td>2023.06.02-19.28.13</td>\n",
       "      <td>True</td>\n",
       "      <td>False</td>\n",
       "      <td>unet</td>\n",
       "      <td>0.672566</td>\n",
       "      <td>0.730769</td>\n",
       "      <td>0.894118</td>\n",
       "      <td>0.804233</td>\n",
       "      <td>NaN</td>\n",
       "      <td>NaN</td>\n",
       "      <td>NaN</td>\n",
       "      <td>NaN</td>\n",
       "    </tr>\n",
       "    <tr>\n",
       "      <th>44</th>\n",
       "      <td>2023.06.02-19.29.01</td>\n",
       "      <td>True</td>\n",
       "      <td>False</td>\n",
       "      <td>unet</td>\n",
       "      <td>0.564885</td>\n",
       "      <td>0.606557</td>\n",
       "      <td>0.891566</td>\n",
       "      <td>0.721951</td>\n",
       "      <td>NaN</td>\n",
       "      <td>NaN</td>\n",
       "      <td>NaN</td>\n",
       "      <td>NaN</td>\n",
       "    </tr>\n",
       "    <tr>\n",
       "      <th>45</th>\n",
       "      <td>2023.06.02-19.38.05</td>\n",
       "      <td>True</td>\n",
       "      <td>False</td>\n",
       "      <td>unet</td>\n",
       "      <td>0.481250</td>\n",
       "      <td>0.719626</td>\n",
       "      <td>0.592308</td>\n",
       "      <td>0.649789</td>\n",
       "      <td>NaN</td>\n",
       "      <td>NaN</td>\n",
       "      <td>NaN</td>\n",
       "      <td>NaN</td>\n",
       "    </tr>\n",
       "    <tr>\n",
       "      <th>46</th>\n",
       "      <td>2023.06.02-20.22.44</td>\n",
       "      <td>True</td>\n",
       "      <td>False</td>\n",
       "      <td>unet</td>\n",
       "      <td>0.368000</td>\n",
       "      <td>0.370968</td>\n",
       "      <td>0.978723</td>\n",
       "      <td>0.538012</td>\n",
       "      <td>NaN</td>\n",
       "      <td>NaN</td>\n",
       "      <td>NaN</td>\n",
       "      <td>NaN</td>\n",
       "    </tr>\n",
       "    <tr>\n",
       "      <th>47</th>\n",
       "      <td>2023.06.02-20.23.50</td>\n",
       "      <td>True</td>\n",
       "      <td>False</td>\n",
       "      <td>unet</td>\n",
       "      <td>0.250000</td>\n",
       "      <td>0.314516</td>\n",
       "      <td>0.549296</td>\n",
       "      <td>0.400000</td>\n",
       "      <td>NaN</td>\n",
       "      <td>NaN</td>\n",
       "      <td>NaN</td>\n",
       "      <td>NaN</td>\n",
       "    </tr>\n",
       "    <tr>\n",
       "      <th>48</th>\n",
       "      <td>2023.06.02-20.26.43</td>\n",
       "      <td>True</td>\n",
       "      <td>False</td>\n",
       "      <td>unet</td>\n",
       "      <td>0.453846</td>\n",
       "      <td>0.627660</td>\n",
       "      <td>0.621053</td>\n",
       "      <td>0.624339</td>\n",
       "      <td>NaN</td>\n",
       "      <td>NaN</td>\n",
       "      <td>NaN</td>\n",
       "      <td>NaN</td>\n",
       "    </tr>\n",
       "    <tr>\n",
       "      <th>49</th>\n",
       "      <td>2023.06.02-20.30.15</td>\n",
       "      <td>True</td>\n",
       "      <td>False</td>\n",
       "      <td>unet</td>\n",
       "      <td>0.440000</td>\n",
       "      <td>0.470085</td>\n",
       "      <td>0.873016</td>\n",
       "      <td>0.611111</td>\n",
       "      <td>NaN</td>\n",
       "      <td>NaN</td>\n",
       "      <td>NaN</td>\n",
       "      <td>NaN</td>\n",
       "    </tr>\n",
       "    <tr>\n",
       "      <th>50</th>\n",
       "      <td>2023.06.02-20.31.45</td>\n",
       "      <td>True</td>\n",
       "      <td>False</td>\n",
       "      <td>unet</td>\n",
       "      <td>0.561983</td>\n",
       "      <td>0.591304</td>\n",
       "      <td>0.918919</td>\n",
       "      <td>0.719577</td>\n",
       "      <td>NaN</td>\n",
       "      <td>NaN</td>\n",
       "      <td>NaN</td>\n",
       "      <td>NaN</td>\n",
       "    </tr>\n",
       "    <tr>\n",
       "      <th>51</th>\n",
       "      <td>2023.06.02-20.32.27</td>\n",
       "      <td>True</td>\n",
       "      <td>False</td>\n",
       "      <td>unet</td>\n",
       "      <td>0.300000</td>\n",
       "      <td>0.357798</td>\n",
       "      <td>0.650000</td>\n",
       "      <td>0.461538</td>\n",
       "      <td>NaN</td>\n",
       "      <td>NaN</td>\n",
       "      <td>NaN</td>\n",
       "      <td>NaN</td>\n",
       "    </tr>\n",
       "  </tbody>\n",
       "</table>\n",
       "</div>"
      ],
      "text/plain": [
       "           Process Date   Unet  Voted                     Model   Jaccard  \\\n",
       "0   2021.07.27-20.24.13   True  False                      unet  0.458042   \n",
       "1   2022.04.09-22.15.32  False   True  logisticRegression_proba  0.304918   \n",
       "2   2023.03.26-07.00.18  False   True        logisticRegression  0.536082   \n",
       "3   2023.03.26-07.02.39   True  False                      unet  0.392857   \n",
       "4   2023.03.26-11.25.23  False   True  logisticRegression_proba  0.477778   \n",
       "5   2023.03.26-11.28.40  False   True  logisticRegression_proba  0.517606   \n",
       "6   2023.03.26-15.52.33   True  False                      unet  0.155556   \n",
       "7   2023.03.26-15.53.37  False   True  logisticRegression_proba  0.753623   \n",
       "8   2023.03.26-18.43.02   True  False                      unet  0.308824   \n",
       "9   2023.03.26-18.45.32   True  False                      unet  0.000000   \n",
       "10  2023.03.26-18.56.14   True  False                      unet  0.169697   \n",
       "11  2023.03.26-18.59.12   True  False                      unet  0.276119   \n",
       "12  2023.03.26-19.01.32   True  False                      unet  0.270440   \n",
       "13  2023.03.26-22.54.06  False   True  logisticRegression_proba  0.263736   \n",
       "14  2023.03.26-22.54.41  False   True  logisticRegression_proba  0.492958   \n",
       "15  2023.03.26-22.56.46   True  False                      unet  0.464567   \n",
       "16  2023.03.26-22.57.27  False   True  logisticRegression_proba  0.413502   \n",
       "17  2023.03.28-22.27.27   True  False                      unet  0.274809   \n",
       "18  2023.03.28-22.29.11  False   True  logisticRegression_proba  0.384615   \n",
       "19  2023.03.28-22.40.02   True  False                      unet  0.000000   \n",
       "20  2023.03.28-22.40.42   True  False                      unet  0.205128   \n",
       "21  2023.03.28-22.41.32   True  False                      unet  0.000000   \n",
       "22  2023.03.29-21.52.58   True  False                      unet  0.101695   \n",
       "23  2023.03.29-21.54.34  False   True  logisticRegression_proba  0.206897   \n",
       "24  2023.03.29-21.57.23  False   True  logisticRegression_proba  0.400000   \n",
       "25  2023.03.29-22.03.33  False   True  logisticRegression_proba  0.087948   \n",
       "26  2023.03.29-22.07.18   True  False                      unet  0.146154   \n",
       "27  2023.03.30-12.27.27  False   True  logisticRegression_proba  0.500000   \n",
       "28  2023.03.30-12.28.32  False   True  logisticRegression_proba  0.535484   \n",
       "29  2023.03.30-12.29.32   True  False                      unet  0.138365   \n",
       "30  2023.03.30-12.31.57   True  False                      unet  0.000000   \n",
       "31  2023.03.30-12.33.04   True  False                      unet  0.119266   \n",
       "32  2023.03.30-12.33.45   True  False                      unet  0.392308   \n",
       "33  2023.03.30-16.13.37   True  False                      unet  0.222826   \n",
       "34  2023.03.30-17.34.33   True  False                      unet  0.913580   \n",
       "35  2023.03.30-19.58.05   True  False                      unet  0.314433   \n",
       "36  2023.03.30-19.58.41  False   True  logisticRegression_proba  0.120438   \n",
       "37  2023.03.30-20.03.56  False   True  logisticRegression_proba  0.333333   \n",
       "38  2023.03.30-20.04.42   True  False                      unet  0.318966   \n",
       "39  2023.06.02-19.19.46  False   True  logisticRegression_proba  0.395062   \n",
       "40  2023.06.02-19.22.04   True  False                      unet  0.418919   \n",
       "41  2023.06.02-19.22.49   True  False                      unet  0.427273   \n",
       "42  2023.06.02-19.23.39   True  False                      unet  0.222689   \n",
       "43  2023.06.02-19.28.13   True  False                      unet  0.672566   \n",
       "44  2023.06.02-19.29.01   True  False                      unet  0.564885   \n",
       "45  2023.06.02-19.38.05   True  False                      unet  0.481250   \n",
       "46  2023.06.02-20.22.44   True  False                      unet  0.368000   \n",
       "47  2023.06.02-20.23.50   True  False                      unet  0.250000   \n",
       "48  2023.06.02-20.26.43   True  False                      unet  0.453846   \n",
       "49  2023.06.02-20.30.15   True  False                      unet  0.440000   \n",
       "50  2023.06.02-20.31.45   True  False                      unet  0.561983   \n",
       "51  2023.06.02-20.32.27   True  False                      unet  0.300000   \n",
       "\n",
       "      Recall  Precision        F1  unet_Jaccard  unet_Recall  unet_Precision  \\\n",
       "0   0.462898   0.977612  0.628297           NaN          NaN             NaN   \n",
       "1   0.392405   0.577640  0.467337      0.050802     0.080169        0.121795   \n",
       "2   0.662420   0.737589  0.697987      0.000000     0.000000        0.000000   \n",
       "3   0.394872   0.987179  0.564103           NaN          NaN             NaN   \n",
       "4   0.618705   0.677165  0.646617      0.000000     0.000000        0.000000   \n",
       "5   0.556818   0.880240  0.682135      0.000000     0.000000        0.000000   \n",
       "6   0.155556   1.000000  0.269231           NaN          NaN             NaN   \n",
       "7   0.818898   0.904348  0.859504      0.217949     0.267717        0.539683   \n",
       "8   0.308824   1.000000  0.471910           NaN          NaN             NaN   \n",
       "9   0.000000   0.000000  0.000000           NaN          NaN             NaN   \n",
       "10  0.173913   0.875000  0.290155           NaN          NaN             NaN   \n",
       "11  0.276119   1.000000  0.432749           NaN          NaN             NaN   \n",
       "12  0.270440   1.000000  0.425743           NaN          NaN             NaN   \n",
       "13  0.406780   0.428571  0.417391      0.059322     0.059322        1.000000   \n",
       "14  0.492958   1.000000  0.660377      0.000000     0.000000        0.000000   \n",
       "15  0.464567   1.000000  0.634409           NaN          NaN             NaN   \n",
       "16  0.464455   0.790323  0.585075      0.103774     0.104265        0.956522   \n",
       "17  0.274809   1.000000  0.431138           NaN          NaN             NaN   \n",
       "18  0.467836   0.683761  0.555556      0.169591     0.169591        1.000000   \n",
       "19  0.000000   0.000000  0.000000           NaN          NaN             NaN   \n",
       "20  0.205128   1.000000  0.340426           NaN          NaN             NaN   \n",
       "21  0.000000   0.000000  0.000000           NaN          NaN             NaN   \n",
       "22  0.101695   1.000000  0.184615           NaN          NaN             NaN   \n",
       "23  0.346154   0.339623  0.342857      0.000000     0.000000        0.000000   \n",
       "24  0.510949   0.648148  0.571429      0.109489     0.109489        1.000000   \n",
       "25  0.127358   0.221311  0.161677      0.136150     0.136792        0.966667   \n",
       "26  0.146154   1.000000  0.255034           NaN          NaN             NaN   \n",
       "27  0.620968   0.719626  0.666667      0.000000     0.000000        0.000000   \n",
       "28  0.643411   0.761468  0.697479      0.062016     0.062016        1.000000   \n",
       "29  0.191304   0.333333  0.243094           NaN          NaN             NaN   \n",
       "30  0.000000   0.000000  0.000000           NaN          NaN             NaN   \n",
       "31  0.119266   1.000000  0.213115           NaN          NaN             NaN   \n",
       "32  0.414634   0.879310  0.563536           NaN          NaN             NaN   \n",
       "33  0.225275   0.953488  0.364444           NaN          NaN             NaN   \n",
       "34  0.993289   0.919255  0.954839           NaN          NaN             NaN   \n",
       "35  0.376543   0.655914  0.478431           NaN          NaN             NaN   \n",
       "36  0.180328   0.266129  0.214984      0.065217     0.065574        0.923077   \n",
       "37  0.460938   0.546296  0.500000      0.210145     0.226562        0.743590   \n",
       "38  0.330357   0.902439  0.483660           NaN          NaN             NaN   \n",
       "39  0.484848   0.680851  0.566372      0.485075     0.492424        0.970149   \n",
       "40  0.418919   1.000000  0.590476           NaN          NaN             NaN   \n",
       "41  0.451923   0.886792  0.598726           NaN          NaN             NaN   \n",
       "42  0.456897   0.302857  0.364261           NaN          NaN             NaN   \n",
       "43  0.730769   0.894118  0.804233           NaN          NaN             NaN   \n",
       "44  0.606557   0.891566  0.721951           NaN          NaN             NaN   \n",
       "45  0.719626   0.592308  0.649789           NaN          NaN             NaN   \n",
       "46  0.370968   0.978723  0.538012           NaN          NaN             NaN   \n",
       "47  0.314516   0.549296  0.400000           NaN          NaN             NaN   \n",
       "48  0.627660   0.621053  0.624339           NaN          NaN             NaN   \n",
       "49  0.470085   0.873016  0.611111           NaN          NaN             NaN   \n",
       "50  0.591304   0.918919  0.719577           NaN          NaN             NaN   \n",
       "51  0.357798   0.650000  0.461538           NaN          NaN             NaN   \n",
       "\n",
       "     unet_F1  \n",
       "0        NaN  \n",
       "1   0.096692  \n",
       "2   0.000000  \n",
       "3        NaN  \n",
       "4   0.000000  \n",
       "5   0.000000  \n",
       "6        NaN  \n",
       "7   0.357895  \n",
       "8        NaN  \n",
       "9        NaN  \n",
       "10       NaN  \n",
       "11       NaN  \n",
       "12       NaN  \n",
       "13  0.112000  \n",
       "14  0.000000  \n",
       "15       NaN  \n",
       "16  0.188034  \n",
       "17       NaN  \n",
       "18  0.290000  \n",
       "19       NaN  \n",
       "20       NaN  \n",
       "21       NaN  \n",
       "22       NaN  \n",
       "23  0.000000  \n",
       "24  0.197368  \n",
       "25  0.239669  \n",
       "26       NaN  \n",
       "27  0.000000  \n",
       "28  0.116788  \n",
       "29       NaN  \n",
       "30       NaN  \n",
       "31       NaN  \n",
       "32       NaN  \n",
       "33       NaN  \n",
       "34       NaN  \n",
       "35       NaN  \n",
       "36  0.122449  \n",
       "37  0.347305  \n",
       "38       NaN  \n",
       "39  0.653266  \n",
       "40       NaN  \n",
       "41       NaN  \n",
       "42       NaN  \n",
       "43       NaN  \n",
       "44       NaN  \n",
       "45       NaN  \n",
       "46       NaN  \n",
       "47       NaN  \n",
       "48       NaN  \n",
       "49       NaN  \n",
       "50       NaN  \n",
       "51       NaN  "
      ]
     },
     "execution_count": 5,
     "metadata": {},
     "output_type": "execute_result"
    }
   ],
   "source": [
    "\n",
    "tes = final_df.drop_duplicates(subset=['Process Date'], keep='first').reset_index(drop=True)\n",
    "# tes.to_csv('C:\\\\Users\\\\arthu\\\\Desktop\\\\comparação modelos por quantidade\\\\226 somente optico\\\\results.tsv', sep='\\t')\n",
    "tes"
   ]
  },
  {
   "cell_type": "code",
   "execution_count": 6,
   "metadata": {},
   "outputs": [],
   "source": [
    "# células com problemas\n",
    "unet_problem_images = tes.loc[tes['Unet']==False]\n",
    "process_date = unet_problem_images[['Process Date','Model']]\n",
    "\n",
    "with open('C:\\\\Users\\\\arthu\\\\Desktop\\\\comparação modelos por quantidade\\\\226 imagens\\\\problem_cells.txt', 'w') as output:\n",
    "    for file, model in process_date.values:\n",
    "        output.write(str(file)+' '+ str(model)+'\\n')"
   ]
  },
  {
   "attachments": {},
   "cell_type": "markdown",
   "metadata": {},
   "source": [
    "## Analise por modelo"
   ]
  },
  {
   "attachments": {},
   "cell_type": "markdown",
   "metadata": {},
   "source": [
    "Entrada dos dados"
   ]
  },
  {
   "cell_type": "code",
   "execution_count": 2,
   "metadata": {},
   "outputs": [],
   "source": [
    "comparation_path = f'comparacao_modelos_por_quantidade{os.sep}'\n",
    "general_model_list = os.listdir(comparation_path)\n",
    "\n",
    "# pasta osnde estão as planilhas"
   ]
  },
  {
   "cell_type": "code",
   "execution_count": 3,
   "metadata": {
    "scrolled": false
   },
   "outputs": [],
   "source": [
    "final_df_compare = pd.DataFrame()\n",
    "\n",
    "df_list = []\n",
    "\n",
    "for folder in general_model_list:\n",
    "    path = comparation_path+folder+os.sep+'results.tsv'\n",
    "    #print(f'Modelo com {folder}\\n')\n",
    "    tmp_df = pd.read_csv(path, sep='\\t', index_col=0)\n",
    "    tmp_df['model_len'] = folder\n",
    "    df_list.append(tmp_df)\n",
    "\n",
    "final_df_compare = pd.concat(df_list, axis=0)\n",
    "\n",
    "# reunindo todas as planilhas em um dataframe"
   ]
  },
  {
   "attachments": {},
   "cell_type": "markdown",
   "metadata": {},
   "source": [
    "Dataframe Geral"
   ]
  },
  {
   "cell_type": "code",
   "execution_count": 4,
   "metadata": {},
   "outputs": [
    {
     "data": {
      "text/html": [
       "<div>\n",
       "<style scoped>\n",
       "    .dataframe tbody tr th:only-of-type {\n",
       "        vertical-align: middle;\n",
       "    }\n",
       "\n",
       "    .dataframe tbody tr th {\n",
       "        vertical-align: top;\n",
       "    }\n",
       "\n",
       "    .dataframe thead th {\n",
       "        text-align: right;\n",
       "    }\n",
       "</style>\n",
       "<table border=\"1\" class=\"dataframe\">\n",
       "  <thead>\n",
       "    <tr style=\"text-align: right;\">\n",
       "      <th></th>\n",
       "      <th>Process Date</th>\n",
       "      <th>Unet</th>\n",
       "      <th>Voted</th>\n",
       "      <th>Model</th>\n",
       "      <th>Jaccard</th>\n",
       "      <th>Recall</th>\n",
       "      <th>Precision</th>\n",
       "      <th>F1</th>\n",
       "      <th>unet_Jaccard</th>\n",
       "      <th>unet_Recall</th>\n",
       "      <th>unet_Precision</th>\n",
       "      <th>unet_F1</th>\n",
       "      <th>model_len</th>\n",
       "    </tr>\n",
       "  </thead>\n",
       "  <tbody>\n",
       "    <tr>\n",
       "      <th>0</th>\n",
       "      <td>2021.07.27-20.24.13</td>\n",
       "      <td>True</td>\n",
       "      <td>False</td>\n",
       "      <td>unet</td>\n",
       "      <td>0.965636</td>\n",
       "      <td>0.992933</td>\n",
       "      <td>0.972318</td>\n",
       "      <td>0.982517</td>\n",
       "      <td>NaN</td>\n",
       "      <td>NaN</td>\n",
       "      <td>NaN</td>\n",
       "      <td>NaN</td>\n",
       "      <td>226 imagens</td>\n",
       "    </tr>\n",
       "    <tr>\n",
       "      <th>1</th>\n",
       "      <td>2022.04.09-22.15.32</td>\n",
       "      <td>True</td>\n",
       "      <td>False</td>\n",
       "      <td>unet</td>\n",
       "      <td>0.630597</td>\n",
       "      <td>0.713080</td>\n",
       "      <td>0.845000</td>\n",
       "      <td>0.773455</td>\n",
       "      <td>NaN</td>\n",
       "      <td>NaN</td>\n",
       "      <td>NaN</td>\n",
       "      <td>NaN</td>\n",
       "      <td>226 imagens</td>\n",
       "    </tr>\n",
       "    <tr>\n",
       "      <th>2</th>\n",
       "      <td>2023.03.26-07.00.18</td>\n",
       "      <td>True</td>\n",
       "      <td>False</td>\n",
       "      <td>unet</td>\n",
       "      <td>0.558360</td>\n",
       "      <td>0.563694</td>\n",
       "      <td>0.983333</td>\n",
       "      <td>0.716599</td>\n",
       "      <td>NaN</td>\n",
       "      <td>NaN</td>\n",
       "      <td>NaN</td>\n",
       "      <td>NaN</td>\n",
       "      <td>226 imagens</td>\n",
       "    </tr>\n",
       "    <tr>\n",
       "      <th>3</th>\n",
       "      <td>2023.03.26-07.02.39</td>\n",
       "      <td>True</td>\n",
       "      <td>False</td>\n",
       "      <td>unet</td>\n",
       "      <td>0.929648</td>\n",
       "      <td>0.948718</td>\n",
       "      <td>0.978836</td>\n",
       "      <td>0.963542</td>\n",
       "      <td>NaN</td>\n",
       "      <td>NaN</td>\n",
       "      <td>NaN</td>\n",
       "      <td>NaN</td>\n",
       "      <td>226 imagens</td>\n",
       "    </tr>\n",
       "    <tr>\n",
       "      <th>4</th>\n",
       "      <td>2023.03.26-11.25.23</td>\n",
       "      <td>False</td>\n",
       "      <td>True</td>\n",
       "      <td>logisticRegression_proba</td>\n",
       "      <td>0.477778</td>\n",
       "      <td>0.618705</td>\n",
       "      <td>0.677165</td>\n",
       "      <td>0.646617</td>\n",
       "      <td>0.670968</td>\n",
       "      <td>0.748201</td>\n",
       "      <td>0.866667</td>\n",
       "      <td>0.803089</td>\n",
       "      <td>226 imagens</td>\n",
       "    </tr>\n",
       "    <tr>\n",
       "      <th>...</th>\n",
       "      <td>...</td>\n",
       "      <td>...</td>\n",
       "      <td>...</td>\n",
       "      <td>...</td>\n",
       "      <td>...</td>\n",
       "      <td>...</td>\n",
       "      <td>...</td>\n",
       "      <td>...</td>\n",
       "      <td>...</td>\n",
       "      <td>...</td>\n",
       "      <td>...</td>\n",
       "      <td>...</td>\n",
       "      <td>...</td>\n",
       "    </tr>\n",
       "    <tr>\n",
       "      <th>45</th>\n",
       "      <td>2023.06.02-20.23.50</td>\n",
       "      <td>True</td>\n",
       "      <td>False</td>\n",
       "      <td>unet</td>\n",
       "      <td>0.847328</td>\n",
       "      <td>0.895161</td>\n",
       "      <td>0.940678</td>\n",
       "      <td>0.917355</td>\n",
       "      <td>NaN</td>\n",
       "      <td>NaN</td>\n",
       "      <td>NaN</td>\n",
       "      <td>NaN</td>\n",
       "      <td>200 imagens</td>\n",
       "    </tr>\n",
       "    <tr>\n",
       "      <th>46</th>\n",
       "      <td>2023.06.02-20.26.43</td>\n",
       "      <td>True</td>\n",
       "      <td>False</td>\n",
       "      <td>unet</td>\n",
       "      <td>0.886792</td>\n",
       "      <td>1.000000</td>\n",
       "      <td>0.886792</td>\n",
       "      <td>0.940000</td>\n",
       "      <td>NaN</td>\n",
       "      <td>NaN</td>\n",
       "      <td>NaN</td>\n",
       "      <td>NaN</td>\n",
       "      <td>200 imagens</td>\n",
       "    </tr>\n",
       "    <tr>\n",
       "      <th>47</th>\n",
       "      <td>2023.06.02-20.30.15</td>\n",
       "      <td>True</td>\n",
       "      <td>False</td>\n",
       "      <td>unet</td>\n",
       "      <td>0.000000</td>\n",
       "      <td>0.000000</td>\n",
       "      <td>0.000000</td>\n",
       "      <td>0.000000</td>\n",
       "      <td>NaN</td>\n",
       "      <td>NaN</td>\n",
       "      <td>NaN</td>\n",
       "      <td>NaN</td>\n",
       "      <td>200 imagens</td>\n",
       "    </tr>\n",
       "    <tr>\n",
       "      <th>48</th>\n",
       "      <td>2023.06.02-20.31.45</td>\n",
       "      <td>True</td>\n",
       "      <td>False</td>\n",
       "      <td>unet</td>\n",
       "      <td>0.824427</td>\n",
       "      <td>0.939130</td>\n",
       "      <td>0.870968</td>\n",
       "      <td>0.903766</td>\n",
       "      <td>NaN</td>\n",
       "      <td>NaN</td>\n",
       "      <td>NaN</td>\n",
       "      <td>NaN</td>\n",
       "      <td>200 imagens</td>\n",
       "    </tr>\n",
       "    <tr>\n",
       "      <th>49</th>\n",
       "      <td>2023.06.02-20.32.27</td>\n",
       "      <td>True</td>\n",
       "      <td>False</td>\n",
       "      <td>unet</td>\n",
       "      <td>0.795620</td>\n",
       "      <td>1.000000</td>\n",
       "      <td>0.795620</td>\n",
       "      <td>0.886179</td>\n",
       "      <td>NaN</td>\n",
       "      <td>NaN</td>\n",
       "      <td>NaN</td>\n",
       "      <td>NaN</td>\n",
       "      <td>200 imagens</td>\n",
       "    </tr>\n",
       "  </tbody>\n",
       "</table>\n",
       "<p>452 rows × 13 columns</p>\n",
       "</div>"
      ],
      "text/plain": [
       "           Process Date   Unet  Voted                     Model   Jaccard  \\\n",
       "0   2021.07.27-20.24.13   True  False                      unet  0.965636   \n",
       "1   2022.04.09-22.15.32   True  False                      unet  0.630597   \n",
       "2   2023.03.26-07.00.18   True  False                      unet  0.558360   \n",
       "3   2023.03.26-07.02.39   True  False                      unet  0.929648   \n",
       "4   2023.03.26-11.25.23  False   True  logisticRegression_proba  0.477778   \n",
       "..                  ...    ...    ...                       ...       ...   \n",
       "45  2023.06.02-20.23.50   True  False                      unet  0.847328   \n",
       "46  2023.06.02-20.26.43   True  False                      unet  0.886792   \n",
       "47  2023.06.02-20.30.15   True  False                      unet  0.000000   \n",
       "48  2023.06.02-20.31.45   True  False                      unet  0.824427   \n",
       "49  2023.06.02-20.32.27   True  False                      unet  0.795620   \n",
       "\n",
       "      Recall  Precision        F1  unet_Jaccard  unet_Recall  unet_Precision  \\\n",
       "0   0.992933   0.972318  0.982517           NaN          NaN             NaN   \n",
       "1   0.713080   0.845000  0.773455           NaN          NaN             NaN   \n",
       "2   0.563694   0.983333  0.716599           NaN          NaN             NaN   \n",
       "3   0.948718   0.978836  0.963542           NaN          NaN             NaN   \n",
       "4   0.618705   0.677165  0.646617      0.670968     0.748201        0.866667   \n",
       "..       ...        ...       ...           ...          ...             ...   \n",
       "45  0.895161   0.940678  0.917355           NaN          NaN             NaN   \n",
       "46  1.000000   0.886792  0.940000           NaN          NaN             NaN   \n",
       "47  0.000000   0.000000  0.000000           NaN          NaN             NaN   \n",
       "48  0.939130   0.870968  0.903766           NaN          NaN             NaN   \n",
       "49  1.000000   0.795620  0.886179           NaN          NaN             NaN   \n",
       "\n",
       "     unet_F1    model_len  \n",
       "0        NaN  226 imagens  \n",
       "1        NaN  226 imagens  \n",
       "2        NaN  226 imagens  \n",
       "3        NaN  226 imagens  \n",
       "4   0.803089  226 imagens  \n",
       "..       ...          ...  \n",
       "45       NaN  200 imagens  \n",
       "46       NaN  200 imagens  \n",
       "47       NaN  200 imagens  \n",
       "48       NaN  200 imagens  \n",
       "49       NaN  200 imagens  \n",
       "\n",
       "[452 rows x 13 columns]"
      ]
     },
     "execution_count": 4,
     "metadata": {},
     "output_type": "execute_result"
    }
   ],
   "source": [
    "final_df_compare\n"
   ]
  },
  {
   "cell_type": "code",
   "execution_count": 5,
   "metadata": {},
   "outputs": [
    {
     "data": {
      "text/html": [
       "<div>\n",
       "<style scoped>\n",
       "    .dataframe tbody tr th:only-of-type {\n",
       "        vertical-align: middle;\n",
       "    }\n",
       "\n",
       "    .dataframe tbody tr th {\n",
       "        vertical-align: top;\n",
       "    }\n",
       "\n",
       "    .dataframe thead th {\n",
       "        text-align: right;\n",
       "    }\n",
       "</style>\n",
       "<table border=\"1\" class=\"dataframe\">\n",
       "  <thead>\n",
       "    <tr style=\"text-align: right;\">\n",
       "      <th></th>\n",
       "      <th>Jaccard</th>\n",
       "      <th>Recall</th>\n",
       "      <th>Precision</th>\n",
       "      <th>F1</th>\n",
       "      <th>unet_Jaccard</th>\n",
       "      <th>unet_Recall</th>\n",
       "      <th>unet_Precision</th>\n",
       "      <th>unet_F1</th>\n",
       "    </tr>\n",
       "  </thead>\n",
       "  <tbody>\n",
       "    <tr>\n",
       "      <th>count</th>\n",
       "      <td>452.000000</td>\n",
       "      <td>452.000000</td>\n",
       "      <td>452.000000</td>\n",
       "      <td>452.000000</td>\n",
       "      <td>28.000000</td>\n",
       "      <td>28.000000</td>\n",
       "      <td>28.000000</td>\n",
       "      <td>28.000000</td>\n",
       "    </tr>\n",
       "    <tr>\n",
       "      <th>mean</th>\n",
       "      <td>0.687715</td>\n",
       "      <td>0.784030</td>\n",
       "      <td>0.847286</td>\n",
       "      <td>0.787889</td>\n",
       "      <td>0.063059</td>\n",
       "      <td>0.065870</td>\n",
       "      <td>0.418319</td>\n",
       "      <td>0.098126</td>\n",
       "    </tr>\n",
       "    <tr>\n",
       "      <th>std</th>\n",
       "      <td>0.226719</td>\n",
       "      <td>0.258940</td>\n",
       "      <td>0.175292</td>\n",
       "      <td>0.204998</td>\n",
       "      <td>0.133270</td>\n",
       "      <td>0.146481</td>\n",
       "      <td>0.492643</td>\n",
       "      <td>0.172412</td>\n",
       "    </tr>\n",
       "    <tr>\n",
       "      <th>min</th>\n",
       "      <td>0.000000</td>\n",
       "      <td>0.000000</td>\n",
       "      <td>0.000000</td>\n",
       "      <td>0.000000</td>\n",
       "      <td>0.000000</td>\n",
       "      <td>0.000000</td>\n",
       "      <td>0.000000</td>\n",
       "      <td>0.000000</td>\n",
       "    </tr>\n",
       "    <tr>\n",
       "      <th>25%</th>\n",
       "      <td>0.584262</td>\n",
       "      <td>0.645454</td>\n",
       "      <td>0.809801</td>\n",
       "      <td>0.737581</td>\n",
       "      <td>0.000000</td>\n",
       "      <td>0.000000</td>\n",
       "      <td>0.000000</td>\n",
       "      <td>0.000000</td>\n",
       "    </tr>\n",
       "    <tr>\n",
       "      <th>50%</th>\n",
       "      <td>0.772255</td>\n",
       "      <td>0.897937</td>\n",
       "      <td>0.882801</td>\n",
       "      <td>0.871494</td>\n",
       "      <td>0.000000</td>\n",
       "      <td>0.000000</td>\n",
       "      <td>0.000000</td>\n",
       "      <td>0.000000</td>\n",
       "    </tr>\n",
       "    <tr>\n",
       "      <th>75%</th>\n",
       "      <td>0.849188</td>\n",
       "      <td>0.984464</td>\n",
       "      <td>0.964283</td>\n",
       "      <td>0.918444</td>\n",
       "      <td>0.074384</td>\n",
       "      <td>0.074384</td>\n",
       "      <td>1.000000</td>\n",
       "      <td>0.138161</td>\n",
       "    </tr>\n",
       "    <tr>\n",
       "      <th>max</th>\n",
       "      <td>0.965636</td>\n",
       "      <td>1.000000</td>\n",
       "      <td>1.000000</td>\n",
       "      <td>0.982517</td>\n",
       "      <td>0.670968</td>\n",
       "      <td>0.748201</td>\n",
       "      <td>1.000000</td>\n",
       "      <td>0.803089</td>\n",
       "    </tr>\n",
       "  </tbody>\n",
       "</table>\n",
       "</div>"
      ],
      "text/plain": [
       "          Jaccard      Recall   Precision          F1  unet_Jaccard  \\\n",
       "count  452.000000  452.000000  452.000000  452.000000     28.000000   \n",
       "mean     0.687715    0.784030    0.847286    0.787889      0.063059   \n",
       "std      0.226719    0.258940    0.175292    0.204998      0.133270   \n",
       "min      0.000000    0.000000    0.000000    0.000000      0.000000   \n",
       "25%      0.584262    0.645454    0.809801    0.737581      0.000000   \n",
       "50%      0.772255    0.897937    0.882801    0.871494      0.000000   \n",
       "75%      0.849188    0.984464    0.964283    0.918444      0.074384   \n",
       "max      0.965636    1.000000    1.000000    0.982517      0.670968   \n",
       "\n",
       "       unet_Recall  unet_Precision    unet_F1  \n",
       "count    28.000000       28.000000  28.000000  \n",
       "mean      0.065870        0.418319   0.098126  \n",
       "std       0.146481        0.492643   0.172412  \n",
       "min       0.000000        0.000000   0.000000  \n",
       "25%       0.000000        0.000000   0.000000  \n",
       "50%       0.000000        0.000000   0.000000  \n",
       "75%       0.074384        1.000000   0.138161  \n",
       "max       0.748201        1.000000   0.803089  "
      ]
     },
     "execution_count": 5,
     "metadata": {},
     "output_type": "execute_result"
    }
   ],
   "source": [
    "final_describe = final_df_compare.describe()\n",
    "# união dos dados\n",
    "final_describe"
   ]
  },
  {
   "cell_type": "code",
   "execution_count": 6,
   "metadata": {},
   "outputs": [],
   "source": [
    "#data frame geral\n",
    "final_df_compare.to_csv('final_df_compare.csv')"
   ]
  },
  {
   "cell_type": "code",
   "execution_count": 7,
   "metadata": {},
   "outputs": [
    {
     "data": {
      "text/html": [
       "<div>\n",
       "<style scoped>\n",
       "    .dataframe tbody tr th:only-of-type {\n",
       "        vertical-align: middle;\n",
       "    }\n",
       "\n",
       "    .dataframe tbody tr th {\n",
       "        vertical-align: top;\n",
       "    }\n",
       "\n",
       "    .dataframe thead th {\n",
       "        text-align: right;\n",
       "    }\n",
       "</style>\n",
       "<table border=\"1\" class=\"dataframe\">\n",
       "  <thead>\n",
       "    <tr style=\"text-align: right;\">\n",
       "      <th></th>\n",
       "      <th>Model</th>\n",
       "      <th>model_len</th>\n",
       "      <th>Process Date</th>\n",
       "      <th>metrics</th>\n",
       "      <th>scores</th>\n",
       "    </tr>\n",
       "  </thead>\n",
       "  <tbody>\n",
       "    <tr>\n",
       "      <th>0</th>\n",
       "      <td>unet</td>\n",
       "      <td>226 imagens</td>\n",
       "      <td>2021.07.27-20.24.13</td>\n",
       "      <td>Jaccard</td>\n",
       "      <td>0.965636</td>\n",
       "    </tr>\n",
       "    <tr>\n",
       "      <th>1</th>\n",
       "      <td>unet</td>\n",
       "      <td>226 imagens</td>\n",
       "      <td>2022.04.09-22.15.32</td>\n",
       "      <td>Jaccard</td>\n",
       "      <td>0.630597</td>\n",
       "    </tr>\n",
       "    <tr>\n",
       "      <th>2</th>\n",
       "      <td>unet</td>\n",
       "      <td>226 imagens</td>\n",
       "      <td>2023.03.26-07.00.18</td>\n",
       "      <td>Jaccard</td>\n",
       "      <td>0.558360</td>\n",
       "    </tr>\n",
       "    <tr>\n",
       "      <th>3</th>\n",
       "      <td>unet</td>\n",
       "      <td>226 imagens</td>\n",
       "      <td>2023.03.26-07.02.39</td>\n",
       "      <td>Jaccard</td>\n",
       "      <td>0.929648</td>\n",
       "    </tr>\n",
       "    <tr>\n",
       "      <th>4</th>\n",
       "      <td>logisticRegression_proba</td>\n",
       "      <td>226 imagens</td>\n",
       "      <td>2023.03.26-11.25.23</td>\n",
       "      <td>Jaccard</td>\n",
       "      <td>0.477778</td>\n",
       "    </tr>\n",
       "    <tr>\n",
       "      <th>...</th>\n",
       "      <td>...</td>\n",
       "      <td>...</td>\n",
       "      <td>...</td>\n",
       "      <td>...</td>\n",
       "      <td>...</td>\n",
       "    </tr>\n",
       "    <tr>\n",
       "      <th>3611</th>\n",
       "      <td>unet</td>\n",
       "      <td>200 imagens</td>\n",
       "      <td>2023.06.02-20.23.50</td>\n",
       "      <td>unet_Recall</td>\n",
       "      <td>NaN</td>\n",
       "    </tr>\n",
       "    <tr>\n",
       "      <th>3612</th>\n",
       "      <td>unet</td>\n",
       "      <td>200 imagens</td>\n",
       "      <td>2023.06.02-20.26.43</td>\n",
       "      <td>unet_Recall</td>\n",
       "      <td>NaN</td>\n",
       "    </tr>\n",
       "    <tr>\n",
       "      <th>3613</th>\n",
       "      <td>unet</td>\n",
       "      <td>200 imagens</td>\n",
       "      <td>2023.06.02-20.30.15</td>\n",
       "      <td>unet_Recall</td>\n",
       "      <td>NaN</td>\n",
       "    </tr>\n",
       "    <tr>\n",
       "      <th>3614</th>\n",
       "      <td>unet</td>\n",
       "      <td>200 imagens</td>\n",
       "      <td>2023.06.02-20.31.45</td>\n",
       "      <td>unet_Recall</td>\n",
       "      <td>NaN</td>\n",
       "    </tr>\n",
       "    <tr>\n",
       "      <th>3615</th>\n",
       "      <td>unet</td>\n",
       "      <td>200 imagens</td>\n",
       "      <td>2023.06.02-20.32.27</td>\n",
       "      <td>unet_Recall</td>\n",
       "      <td>NaN</td>\n",
       "    </tr>\n",
       "  </tbody>\n",
       "</table>\n",
       "<p>3616 rows × 5 columns</p>\n",
       "</div>"
      ],
      "text/plain": [
       "                         Model    model_len         Process Date      metrics  \\\n",
       "0                         unet  226 imagens  2021.07.27-20.24.13      Jaccard   \n",
       "1                         unet  226 imagens  2022.04.09-22.15.32      Jaccard   \n",
       "2                         unet  226 imagens  2023.03.26-07.00.18      Jaccard   \n",
       "3                         unet  226 imagens  2023.03.26-07.02.39      Jaccard   \n",
       "4     logisticRegression_proba  226 imagens  2023.03.26-11.25.23      Jaccard   \n",
       "...                        ...          ...                  ...          ...   \n",
       "3611                      unet  200 imagens  2023.06.02-20.23.50  unet_Recall   \n",
       "3612                      unet  200 imagens  2023.06.02-20.26.43  unet_Recall   \n",
       "3613                      unet  200 imagens  2023.06.02-20.30.15  unet_Recall   \n",
       "3614                      unet  200 imagens  2023.06.02-20.31.45  unet_Recall   \n",
       "3615                      unet  200 imagens  2023.06.02-20.32.27  unet_Recall   \n",
       "\n",
       "        scores  \n",
       "0     0.965636  \n",
       "1     0.630597  \n",
       "2     0.558360  \n",
       "3     0.929648  \n",
       "4     0.477778  \n",
       "...        ...  \n",
       "3611       NaN  \n",
       "3612       NaN  \n",
       "3613       NaN  \n",
       "3614       NaN  \n",
       "3615       NaN  \n",
       "\n",
       "[3616 rows x 5 columns]"
      ]
     },
     "execution_count": 7,
     "metadata": {},
     "output_type": "execute_result"
    }
   ],
   "source": [
    "final_df_compare_melt = pd.melt(final_df_compare, id_vars=['Model', 'model_len', 'Process Date'], value_vars=['Jaccard',\t'Recall',\t'Precision',\t'F1', 'unet_F1', 'unet_Jaccard', 'unet_Precision', 'unet_Recall'] , var_name= 'metrics' , value_name='scores')\n",
    "# reorganização dos dados\n",
    "final_df_compare_melt"
   ]
  },
  {
   "cell_type": "code",
   "execution_count": 8,
   "metadata": {},
   "outputs": [],
   "source": [
    "final_df_compare_melt.to_csv('final_df_compare_melt.csv')"
   ]
  },
  {
   "cell_type": "code",
   "execution_count": 9,
   "metadata": {},
   "outputs": [
    {
     "name": "stderr",
     "output_type": "stream",
     "text": [
      "/tmp/ipykernel_12102/3693565731.py:7: FutureWarning: The default value of numeric_only in DataFrameGroupBy.mean is deprecated. In a future version, numeric_only will default to False. Either specify numeric_only or select only columns which should be valid for the function.\n",
      "  new_df = model_number_images.groupby(['metrics', 'model_len',  'Process Date']).mean().reset_index(level = ['metrics', 'model_len'])\n",
      "/tmp/ipykernel_12102/3693565731.py:8: FutureWarning: The default value of numeric_only in DataFrameGroupBy.mean is deprecated. In a future version, numeric_only will default to False. Either specify numeric_only or select only columns which should be valid for the function.\n",
      "  mean_data_target = model_number_images.groupby(['model_len','metrics'] ).mean().reset_index(level=['model_len','metrics'])\n",
      "/tmp/ipykernel_12102/3693565731.py:15: SettingWithCopyWarning: \n",
      "A value is trying to be set on a copy of a slice from a DataFrame\n",
      "\n",
      "See the caveats in the documentation: https://pandas.pydata.org/pandas-docs/stable/user_guide/indexing.html#returning-a-view-versus-a-copy\n",
      "  model_number_images_table.drop([ 'unet_F1', 'unet_Jaccard', 'unet_Precision', 'unet_Recall'], axis = 1, inplace = True)\n",
      "/tmp/ipykernel_12102/3693565731.py:7: FutureWarning:\n",
      "\n",
      "The default value of numeric_only in DataFrameGroupBy.mean is deprecated. In a future version, numeric_only will default to False. Either specify numeric_only or select only columns which should be valid for the function.\n",
      "\n",
      "/tmp/ipykernel_12102/3693565731.py:8: FutureWarning:\n",
      "\n",
      "The default value of numeric_only in DataFrameGroupBy.mean is deprecated. In a future version, numeric_only will default to False. Either specify numeric_only or select only columns which should be valid for the function.\n",
      "\n",
      "/tmp/ipykernel_12102/3693565731.py:7: FutureWarning:\n",
      "\n",
      "The default value of numeric_only in DataFrameGroupBy.mean is deprecated. In a future version, numeric_only will default to False. Either specify numeric_only or select only columns which should be valid for the function.\n",
      "\n",
      "/tmp/ipykernel_12102/3693565731.py:8: FutureWarning:\n",
      "\n",
      "The default value of numeric_only in DataFrameGroupBy.mean is deprecated. In a future version, numeric_only will default to False. Either specify numeric_only or select only columns which should be valid for the function.\n",
      "\n",
      "/tmp/ipykernel_12102/3693565731.py:7: FutureWarning:\n",
      "\n",
      "The default value of numeric_only in DataFrameGroupBy.mean is deprecated. In a future version, numeric_only will default to False. Either specify numeric_only or select only columns which should be valid for the function.\n",
      "\n",
      "/tmp/ipykernel_12102/3693565731.py:8: FutureWarning:\n",
      "\n",
      "The default value of numeric_only in DataFrameGroupBy.mean is deprecated. In a future version, numeric_only will default to False. Either specify numeric_only or select only columns which should be valid for the function.\n",
      "\n",
      "/tmp/ipykernel_12102/3693565731.py:15: SettingWithCopyWarning:\n",
      "\n",
      "\n",
      "A value is trying to be set on a copy of a slice from a DataFrame\n",
      "\n",
      "See the caveats in the documentation: https://pandas.pydata.org/pandas-docs/stable/user_guide/indexing.html#returning-a-view-versus-a-copy\n",
      "\n",
      "/tmp/ipykernel_12102/3693565731.py:7: FutureWarning:\n",
      "\n",
      "The default value of numeric_only in DataFrameGroupBy.mean is deprecated. In a future version, numeric_only will default to False. Either specify numeric_only or select only columns which should be valid for the function.\n",
      "\n",
      "/tmp/ipykernel_12102/3693565731.py:8: FutureWarning:\n",
      "\n",
      "The default value of numeric_only in DataFrameGroupBy.mean is deprecated. In a future version, numeric_only will default to False. Either specify numeric_only or select only columns which should be valid for the function.\n",
      "\n",
      "/tmp/ipykernel_12102/3693565731.py:7: FutureWarning:\n",
      "\n",
      "The default value of numeric_only in DataFrameGroupBy.mean is deprecated. In a future version, numeric_only will default to False. Either specify numeric_only or select only columns which should be valid for the function.\n",
      "\n",
      "/tmp/ipykernel_12102/3693565731.py:8: FutureWarning:\n",
      "\n",
      "The default value of numeric_only in DataFrameGroupBy.mean is deprecated. In a future version, numeric_only will default to False. Either specify numeric_only or select only columns which should be valid for the function.\n",
      "\n",
      "/tmp/ipykernel_12102/3693565731.py:7: FutureWarning:\n",
      "\n",
      "The default value of numeric_only in DataFrameGroupBy.mean is deprecated. In a future version, numeric_only will default to False. Either specify numeric_only or select only columns which should be valid for the function.\n",
      "\n",
      "/tmp/ipykernel_12102/3693565731.py:8: FutureWarning:\n",
      "\n",
      "The default value of numeric_only in DataFrameGroupBy.mean is deprecated. In a future version, numeric_only will default to False. Either specify numeric_only or select only columns which should be valid for the function.\n",
      "\n",
      "/tmp/ipykernel_12102/3693565731.py:15: SettingWithCopyWarning:\n",
      "\n",
      "\n",
      "A value is trying to be set on a copy of a slice from a DataFrame\n",
      "\n",
      "See the caveats in the documentation: https://pandas.pydata.org/pandas-docs/stable/user_guide/indexing.html#returning-a-view-versus-a-copy\n",
      "\n",
      "/tmp/ipykernel_12102/3693565731.py:7: FutureWarning:\n",
      "\n",
      "The default value of numeric_only in DataFrameGroupBy.mean is deprecated. In a future version, numeric_only will default to False. Either specify numeric_only or select only columns which should be valid for the function.\n",
      "\n",
      "/tmp/ipykernel_12102/3693565731.py:8: FutureWarning:\n",
      "\n",
      "The default value of numeric_only in DataFrameGroupBy.mean is deprecated. In a future version, numeric_only will default to False. Either specify numeric_only or select only columns which should be valid for the function.\n",
      "\n",
      "/tmp/ipykernel_12102/3693565731.py:7: FutureWarning:\n",
      "\n",
      "The default value of numeric_only in DataFrameGroupBy.mean is deprecated. In a future version, numeric_only will default to False. Either specify numeric_only or select only columns which should be valid for the function.\n",
      "\n",
      "/tmp/ipykernel_12102/3693565731.py:8: FutureWarning:\n",
      "\n",
      "The default value of numeric_only in DataFrameGroupBy.mean is deprecated. In a future version, numeric_only will default to False. Either specify numeric_only or select only columns which should be valid for the function.\n",
      "\n",
      "/tmp/ipykernel_12102/3693565731.py:7: FutureWarning:\n",
      "\n",
      "The default value of numeric_only in DataFrameGroupBy.mean is deprecated. In a future version, numeric_only will default to False. Either specify numeric_only or select only columns which should be valid for the function.\n",
      "\n",
      "/tmp/ipykernel_12102/3693565731.py:8: FutureWarning:\n",
      "\n",
      "The default value of numeric_only in DataFrameGroupBy.mean is deprecated. In a future version, numeric_only will default to False. Either specify numeric_only or select only columns which should be valid for the function.\n",
      "\n",
      "/tmp/ipykernel_12102/3693565731.py:15: SettingWithCopyWarning:\n",
      "\n",
      "\n",
      "A value is trying to be set on a copy of a slice from a DataFrame\n",
      "\n",
      "See the caveats in the documentation: https://pandas.pydata.org/pandas-docs/stable/user_guide/indexing.html#returning-a-view-versus-a-copy\n",
      "\n",
      "/tmp/ipykernel_12102/3693565731.py:7: FutureWarning:\n",
      "\n",
      "The default value of numeric_only in DataFrameGroupBy.mean is deprecated. In a future version, numeric_only will default to False. Either specify numeric_only or select only columns which should be valid for the function.\n",
      "\n",
      "/tmp/ipykernel_12102/3693565731.py:8: FutureWarning:\n",
      "\n",
      "The default value of numeric_only in DataFrameGroupBy.mean is deprecated. In a future version, numeric_only will default to False. Either specify numeric_only or select only columns which should be valid for the function.\n",
      "\n",
      "/tmp/ipykernel_12102/3693565731.py:7: FutureWarning:\n",
      "\n",
      "The default value of numeric_only in DataFrameGroupBy.mean is deprecated. In a future version, numeric_only will default to False. Either specify numeric_only or select only columns which should be valid for the function.\n",
      "\n",
      "/tmp/ipykernel_12102/3693565731.py:8: FutureWarning:\n",
      "\n",
      "The default value of numeric_only in DataFrameGroupBy.mean is deprecated. In a future version, numeric_only will default to False. Either specify numeric_only or select only columns which should be valid for the function.\n",
      "\n",
      "/tmp/ipykernel_12102/3693565731.py:7: FutureWarning:\n",
      "\n",
      "The default value of numeric_only in DataFrameGroupBy.mean is deprecated. In a future version, numeric_only will default to False. Either specify numeric_only or select only columns which should be valid for the function.\n",
      "\n",
      "/tmp/ipykernel_12102/3693565731.py:8: FutureWarning:\n",
      "\n",
      "The default value of numeric_only in DataFrameGroupBy.mean is deprecated. In a future version, numeric_only will default to False. Either specify numeric_only or select only columns which should be valid for the function.\n",
      "\n",
      "/tmp/ipykernel_12102/3693565731.py:15: SettingWithCopyWarning:\n",
      "\n",
      "\n",
      "A value is trying to be set on a copy of a slice from a DataFrame\n",
      "\n",
      "See the caveats in the documentation: https://pandas.pydata.org/pandas-docs/stable/user_guide/indexing.html#returning-a-view-versus-a-copy\n",
      "\n",
      "/tmp/ipykernel_12102/3693565731.py:7: FutureWarning:\n",
      "\n",
      "The default value of numeric_only in DataFrameGroupBy.mean is deprecated. In a future version, numeric_only will default to False. Either specify numeric_only or select only columns which should be valid for the function.\n",
      "\n",
      "/tmp/ipykernel_12102/3693565731.py:8: FutureWarning:\n",
      "\n",
      "The default value of numeric_only in DataFrameGroupBy.mean is deprecated. In a future version, numeric_only will default to False. Either specify numeric_only or select only columns which should be valid for the function.\n",
      "\n",
      "/tmp/ipykernel_12102/3693565731.py:7: FutureWarning:\n",
      "\n",
      "The default value of numeric_only in DataFrameGroupBy.mean is deprecated. In a future version, numeric_only will default to False. Either specify numeric_only or select only columns which should be valid for the function.\n",
      "\n",
      "/tmp/ipykernel_12102/3693565731.py:8: FutureWarning:\n",
      "\n",
      "The default value of numeric_only in DataFrameGroupBy.mean is deprecated. In a future version, numeric_only will default to False. Either specify numeric_only or select only columns which should be valid for the function.\n",
      "\n",
      "/tmp/ipykernel_12102/3693565731.py:7: FutureWarning:\n",
      "\n",
      "The default value of numeric_only in DataFrameGroupBy.mean is deprecated. In a future version, numeric_only will default to False. Either specify numeric_only or select only columns which should be valid for the function.\n",
      "\n",
      "/tmp/ipykernel_12102/3693565731.py:8: FutureWarning:\n",
      "\n",
      "The default value of numeric_only in DataFrameGroupBy.mean is deprecated. In a future version, numeric_only will default to False. Either specify numeric_only or select only columns which should be valid for the function.\n",
      "\n",
      "/tmp/ipykernel_12102/3693565731.py:15: SettingWithCopyWarning:\n",
      "\n",
      "\n",
      "A value is trying to be set on a copy of a slice from a DataFrame\n",
      "\n",
      "See the caveats in the documentation: https://pandas.pydata.org/pandas-docs/stable/user_guide/indexing.html#returning-a-view-versus-a-copy\n",
      "\n",
      "/tmp/ipykernel_12102/3693565731.py:7: FutureWarning:\n",
      "\n",
      "The default value of numeric_only in DataFrameGroupBy.mean is deprecated. In a future version, numeric_only will default to False. Either specify numeric_only or select only columns which should be valid for the function.\n",
      "\n",
      "/tmp/ipykernel_12102/3693565731.py:8: FutureWarning:\n",
      "\n",
      "The default value of numeric_only in DataFrameGroupBy.mean is deprecated. In a future version, numeric_only will default to False. Either specify numeric_only or select only columns which should be valid for the function.\n",
      "\n",
      "/tmp/ipykernel_12102/3693565731.py:7: FutureWarning:\n",
      "\n",
      "The default value of numeric_only in DataFrameGroupBy.mean is deprecated. In a future version, numeric_only will default to False. Either specify numeric_only or select only columns which should be valid for the function.\n",
      "\n",
      "/tmp/ipykernel_12102/3693565731.py:8: FutureWarning:\n",
      "\n",
      "The default value of numeric_only in DataFrameGroupBy.mean is deprecated. In a future version, numeric_only will default to False. Either specify numeric_only or select only columns which should be valid for the function.\n",
      "\n",
      "/tmp/ipykernel_12102/3693565731.py:7: FutureWarning:\n",
      "\n",
      "The default value of numeric_only in DataFrameGroupBy.mean is deprecated. In a future version, numeric_only will default to False. Either specify numeric_only or select only columns which should be valid for the function.\n",
      "\n",
      "/tmp/ipykernel_12102/3693565731.py:8: FutureWarning:\n",
      "\n",
      "The default value of numeric_only in DataFrameGroupBy.mean is deprecated. In a future version, numeric_only will default to False. Either specify numeric_only or select only columns which should be valid for the function.\n",
      "\n",
      "/tmp/ipykernel_12102/3693565731.py:15: SettingWithCopyWarning:\n",
      "\n",
      "\n",
      "A value is trying to be set on a copy of a slice from a DataFrame\n",
      "\n",
      "See the caveats in the documentation: https://pandas.pydata.org/pandas-docs/stable/user_guide/indexing.html#returning-a-view-versus-a-copy\n",
      "\n",
      "/tmp/ipykernel_12102/3693565731.py:7: FutureWarning:\n",
      "\n",
      "The default value of numeric_only in DataFrameGroupBy.mean is deprecated. In a future version, numeric_only will default to False. Either specify numeric_only or select only columns which should be valid for the function.\n",
      "\n",
      "/tmp/ipykernel_12102/3693565731.py:8: FutureWarning:\n",
      "\n",
      "The default value of numeric_only in DataFrameGroupBy.mean is deprecated. In a future version, numeric_only will default to False. Either specify numeric_only or select only columns which should be valid for the function.\n",
      "\n",
      "/tmp/ipykernel_12102/3693565731.py:7: FutureWarning:\n",
      "\n",
      "The default value of numeric_only in DataFrameGroupBy.mean is deprecated. In a future version, numeric_only will default to False. Either specify numeric_only or select only columns which should be valid for the function.\n",
      "\n",
      "/tmp/ipykernel_12102/3693565731.py:8: FutureWarning:\n",
      "\n",
      "The default value of numeric_only in DataFrameGroupBy.mean is deprecated. In a future version, numeric_only will default to False. Either specify numeric_only or select only columns which should be valid for the function.\n",
      "\n",
      "/tmp/ipykernel_12102/3693565731.py:7: FutureWarning:\n",
      "\n",
      "The default value of numeric_only in DataFrameGroupBy.mean is deprecated. In a future version, numeric_only will default to False. Either specify numeric_only or select only columns which should be valid for the function.\n",
      "\n",
      "/tmp/ipykernel_12102/3693565731.py:8: FutureWarning:\n",
      "\n",
      "The default value of numeric_only in DataFrameGroupBy.mean is deprecated. In a future version, numeric_only will default to False. Either specify numeric_only or select only columns which should be valid for the function.\n",
      "\n",
      "/tmp/ipykernel_12102/3693565731.py:15: SettingWithCopyWarning:\n",
      "\n",
      "\n",
      "A value is trying to be set on a copy of a slice from a DataFrame\n",
      "\n",
      "See the caveats in the documentation: https://pandas.pydata.org/pandas-docs/stable/user_guide/indexing.html#returning-a-view-versus-a-copy\n",
      "\n",
      "/tmp/ipykernel_12102/3693565731.py:7: FutureWarning:\n",
      "\n",
      "The default value of numeric_only in DataFrameGroupBy.mean is deprecated. In a future version, numeric_only will default to False. Either specify numeric_only or select only columns which should be valid for the function.\n",
      "\n",
      "/tmp/ipykernel_12102/3693565731.py:8: FutureWarning:\n",
      "\n",
      "The default value of numeric_only in DataFrameGroupBy.mean is deprecated. In a future version, numeric_only will default to False. Either specify numeric_only or select only columns which should be valid for the function.\n",
      "\n",
      "/tmp/ipykernel_12102/3693565731.py:7: FutureWarning:\n",
      "\n",
      "The default value of numeric_only in DataFrameGroupBy.mean is deprecated. In a future version, numeric_only will default to False. Either specify numeric_only or select only columns which should be valid for the function.\n",
      "\n",
      "/tmp/ipykernel_12102/3693565731.py:8: FutureWarning:\n",
      "\n",
      "The default value of numeric_only in DataFrameGroupBy.mean is deprecated. In a future version, numeric_only will default to False. Either specify numeric_only or select only columns which should be valid for the function.\n",
      "\n",
      "/tmp/ipykernel_12102/3693565731.py:7: FutureWarning:\n",
      "\n",
      "The default value of numeric_only in DataFrameGroupBy.mean is deprecated. In a future version, numeric_only will default to False. Either specify numeric_only or select only columns which should be valid for the function.\n",
      "\n",
      "/tmp/ipykernel_12102/3693565731.py:8: FutureWarning:\n",
      "\n",
      "The default value of numeric_only in DataFrameGroupBy.mean is deprecated. In a future version, numeric_only will default to False. Either specify numeric_only or select only columns which should be valid for the function.\n",
      "\n",
      "/tmp/ipykernel_12102/3693565731.py:15: SettingWithCopyWarning:\n",
      "\n",
      "\n",
      "A value is trying to be set on a copy of a slice from a DataFrame\n",
      "\n",
      "See the caveats in the documentation: https://pandas.pydata.org/pandas-docs/stable/user_guide/indexing.html#returning-a-view-versus-a-copy\n",
      "\n",
      "/tmp/ipykernel_12102/3693565731.py:7: FutureWarning:\n",
      "\n",
      "The default value of numeric_only in DataFrameGroupBy.mean is deprecated. In a future version, numeric_only will default to False. Either specify numeric_only or select only columns which should be valid for the function.\n",
      "\n",
      "/tmp/ipykernel_12102/3693565731.py:8: FutureWarning:\n",
      "\n",
      "The default value of numeric_only in DataFrameGroupBy.mean is deprecated. In a future version, numeric_only will default to False. Either specify numeric_only or select only columns which should be valid for the function.\n",
      "\n",
      "/tmp/ipykernel_12102/3693565731.py:7: FutureWarning:\n",
      "\n",
      "The default value of numeric_only in DataFrameGroupBy.mean is deprecated. In a future version, numeric_only will default to False. Either specify numeric_only or select only columns which should be valid for the function.\n",
      "\n",
      "/tmp/ipykernel_12102/3693565731.py:8: FutureWarning:\n",
      "\n",
      "The default value of numeric_only in DataFrameGroupBy.mean is deprecated. In a future version, numeric_only will default to False. Either specify numeric_only or select only columns which should be valid for the function.\n",
      "\n"
     ]
    }
   ],
   "source": [
    "\n",
    "def compare_model_metric(df_to_chart,df_to_table, analitic_df, model, model_len):\n",
    "\n",
    "    table_columns = ['index','F1', 'Jaccard', 'Precision', 'Recall'\t, 'unet_F1', 'unet_Jaccard', 'unet_Precision', 'unet_Recall']\n",
    "\n",
    "    model_df = df_to_chart.query('Model == @model' )\n",
    "    model_number_images = model_df.query('model_len == @model_len' )\n",
    "    new_df = model_number_images.groupby(['metrics', 'model_len',  'Process Date']).mean().reset_index(level = ['metrics', 'model_len'])\n",
    "    mean_data_target = model_number_images.groupby(['model_len','metrics'] ).mean().reset_index(level=['model_len','metrics'])\n",
    "\n",
    "    model_df_table = df_to_table.query('Model == @model' )\n",
    "    model_number_images_table = model_df_table.query('model_len == @model_len' )\n",
    "   \n",
    "    if(model == 'unet'):\n",
    "        table_columns = ['index','F1', 'Jaccard', 'Precision', 'Recall']\n",
    "        model_number_images_table.drop([ 'unet_F1', 'unet_Jaccard', 'unet_Precision', 'unet_Recall'], axis = 1, inplace = True)\n",
    "\n",
    "        new_df.dropna(subset = ['scores'], inplace=True)\n",
    "        # new_df.to_csv(f'{i}_{model}..csv')\n",
    "        analitic_df.append(new_df)\n",
    "\n",
    "    if not (new_df.empty):\n",
    "        df_compare_table = model_number_images_table.describe().reset_index()\n",
    "\n",
    "        fig_new_df = px.box(new_df, x='metrics', y='scores', color='metrics', title=f'Experiment: {model_len.replace(\"imagens\", \"images\")}_{model}')\n",
    "        fig_new_df.update_layout(yaxis_range = [0,1])\n",
    "        fig_new_df.update_traces(marker = dict(opacity = 0))\n",
    "\n",
    "        fig_new_df.write_image(f'{comparation_path}{os.sep}{model_len}{os.sep}{model_len}_{model}_graph.png')\n",
    "\n",
    "        figure_dataframe = go.Figure(data=[go.Table(header=dict(values = table_columns, align='right'),\n",
    "                 cells=dict(values=[df_compare_table[col] if col == 'index' else df_compare_table[col].round(3)  for col in df_compare_table.columns ], align='right' ),\n",
    "                 legendgrouptitle=dict())\n",
    "                 ])\n",
    "        \n",
    "        figure_dataframe.write_image(f'{comparation_path}{os.sep}{model_len}{os.sep}{model_len}_{model}_table.png')\n",
    "\n",
    "\n",
    "list_len_models = final_df_compare_melt['model_len'].unique()\n",
    "list_models = final_df_compare_melt['Model'].unique()\n",
    "\n",
    "analitic_df = []\n",
    "for i in list_len_models:\n",
    "    for model in list_models: \n",
    "       \n",
    "        compare_model_metric(final_df_compare_melt, final_df_compare, analitic_df, model, i )\n",
    "\n",
    "        "
   ]
  },
  {
   "cell_type": "code",
   "execution_count": 11,
   "metadata": {},
   "outputs": [
    {
     "data": {
      "text/html": [
       "<div>\n",
       "<style scoped>\n",
       "    .dataframe tbody tr th:only-of-type {\n",
       "        vertical-align: middle;\n",
       "    }\n",
       "\n",
       "    .dataframe tbody tr th {\n",
       "        vertical-align: top;\n",
       "    }\n",
       "\n",
       "    .dataframe thead th {\n",
       "        text-align: right;\n",
       "    }\n",
       "</style>\n",
       "<table border=\"1\" class=\"dataframe\">\n",
       "  <thead>\n",
       "    <tr style=\"text-align: right;\">\n",
       "      <th></th>\n",
       "      <th>metrics</th>\n",
       "      <th>model_len</th>\n",
       "      <th>scores</th>\n",
       "    </tr>\n",
       "    <tr>\n",
       "      <th>Process Date</th>\n",
       "      <th></th>\n",
       "      <th></th>\n",
       "      <th></th>\n",
       "    </tr>\n",
       "  </thead>\n",
       "  <tbody>\n",
       "    <tr>\n",
       "      <th>2021.07.27-20.24.13</th>\n",
       "      <td>F1</td>\n",
       "      <td>226 imagens</td>\n",
       "      <td>0.982517</td>\n",
       "    </tr>\n",
       "    <tr>\n",
       "      <th>2022.04.09-22.15.32</th>\n",
       "      <td>F1</td>\n",
       "      <td>226 imagens</td>\n",
       "      <td>0.773455</td>\n",
       "    </tr>\n",
       "    <tr>\n",
       "      <th>2023.03.26-07.00.18</th>\n",
       "      <td>F1</td>\n",
       "      <td>226 imagens</td>\n",
       "      <td>0.716599</td>\n",
       "    </tr>\n",
       "    <tr>\n",
       "      <th>2023.03.26-07.02.39</th>\n",
       "      <td>F1</td>\n",
       "      <td>226 imagens</td>\n",
       "      <td>0.963542</td>\n",
       "    </tr>\n",
       "    <tr>\n",
       "      <th>2023.03.26-11.28.40</th>\n",
       "      <td>F1</td>\n",
       "      <td>226 imagens</td>\n",
       "      <td>0.807095</td>\n",
       "    </tr>\n",
       "    <tr>\n",
       "      <th>...</th>\n",
       "      <td>...</td>\n",
       "      <td>...</td>\n",
       "      <td>...</td>\n",
       "    </tr>\n",
       "    <tr>\n",
       "      <th>2023.06.02-20.23.50</th>\n",
       "      <td>Recall</td>\n",
       "      <td>200 imagens</td>\n",
       "      <td>0.895161</td>\n",
       "    </tr>\n",
       "    <tr>\n",
       "      <th>2023.06.02-20.26.43</th>\n",
       "      <td>Recall</td>\n",
       "      <td>200 imagens</td>\n",
       "      <td>1.000000</td>\n",
       "    </tr>\n",
       "    <tr>\n",
       "      <th>2023.06.02-20.30.15</th>\n",
       "      <td>Recall</td>\n",
       "      <td>200 imagens</td>\n",
       "      <td>0.000000</td>\n",
       "    </tr>\n",
       "    <tr>\n",
       "      <th>2023.06.02-20.31.45</th>\n",
       "      <td>Recall</td>\n",
       "      <td>200 imagens</td>\n",
       "      <td>0.939130</td>\n",
       "    </tr>\n",
       "    <tr>\n",
       "      <th>2023.06.02-20.32.27</th>\n",
       "      <td>Recall</td>\n",
       "      <td>200 imagens</td>\n",
       "      <td>1.000000</td>\n",
       "    </tr>\n",
       "  </tbody>\n",
       "</table>\n",
       "<p>1696 rows × 3 columns</p>\n",
       "</div>"
      ],
      "text/plain": [
       "                    metrics    model_len    scores\n",
       "Process Date                                      \n",
       "2021.07.27-20.24.13      F1  226 imagens  0.982517\n",
       "2022.04.09-22.15.32      F1  226 imagens  0.773455\n",
       "2023.03.26-07.00.18      F1  226 imagens  0.716599\n",
       "2023.03.26-07.02.39      F1  226 imagens  0.963542\n",
       "2023.03.26-11.28.40      F1  226 imagens  0.807095\n",
       "...                     ...          ...       ...\n",
       "2023.06.02-20.23.50  Recall  200 imagens  0.895161\n",
       "2023.06.02-20.26.43  Recall  200 imagens  1.000000\n",
       "2023.06.02-20.30.15  Recall  200 imagens  0.000000\n",
       "2023.06.02-20.31.45  Recall  200 imagens  0.939130\n",
       "2023.06.02-20.32.27  Recall  200 imagens  1.000000\n",
       "\n",
       "[1696 rows x 3 columns]"
      ]
     },
     "execution_count": 11,
     "metadata": {},
     "output_type": "execute_result"
    }
   ],
   "source": [
    "analitic_df[0]\n",
    "unet_analisys = pd.concat(analitic_df, axis= 0)\n",
    "unet_analisys"
   ]
  },
  {
   "cell_type": "code",
   "execution_count": 12,
   "metadata": {},
   "outputs": [
    {
     "name": "stdout",
     "output_type": "stream",
     "text": [
      "                    metrics           model_len    scores\n",
      "Process Date                                             \n",
      "2023.03.26-07.02.39      F1          50 imagens  0.866097\n",
      "2023.03.26-15.52.33      F1          50 imagens  0.269231\n",
      "2023.03.26-15.53.37      F1          50 imagens  0.903475\n",
      "2023.03.26-18.43.02      F1          50 imagens  0.939394\n",
      "2023.03.26-18.45.32      F1          50 imagens  0.000000\n",
      "...                     ...                 ...       ...\n",
      "2023.06.02-20.23.50  Recall  226 somente optico  0.314516\n",
      "2023.06.02-20.26.43  Recall  226 somente optico  0.627660\n",
      "2023.06.02-20.30.15  Recall  226 somente optico  0.470085\n",
      "2023.06.02-20.31.45  Recall  226 somente optico  0.591304\n",
      "2023.06.02-20.32.27  Recall  226 somente optico  0.357798\n",
      "\n",
      "[1696 rows x 3 columns]\n",
      "             model_len    metrics    scores\n",
      "28          50 imagens         F1  0.762991\n",
      "29          50 imagens    Jaccard  0.654081\n",
      "30          50 imagens  Precision  0.861249\n",
      "31          50 imagens     Recall  0.741192\n",
      "32          75 imagens         F1  0.823885\n",
      "33          75 imagens    Jaccard  0.722324\n",
      "34          75 imagens  Precision  0.877153\n",
      "35          75 imagens     Recall  0.832277\n",
      "0          100 imagens         F1  0.814238\n",
      "1          100 imagens    Jaccard  0.711780\n",
      "2          100 imagens  Precision  0.879097\n",
      "3          100 imagens     Recall  0.812918\n",
      "4          125 imagens         F1  0.858171\n",
      "5          125 imagens    Jaccard  0.763090\n",
      "6          125 imagens  Precision  0.890554\n",
      "7          125 imagens     Recall  0.863604\n",
      "8          150 imagens         F1  0.865841\n",
      "9          150 imagens    Jaccard  0.773151\n",
      "10         150 imagens  Precision  0.883890\n",
      "11         150 imagens     Recall  0.876722\n",
      "12         175 imagens         F1  0.867438\n",
      "13         175 imagens    Jaccard  0.777966\n",
      "14         175 imagens  Precision  0.869614\n",
      "15         175 imagens     Recall  0.892472\n",
      "16         200 imagens         F1  0.849845\n",
      "17         200 imagens    Jaccard  0.769717\n",
      "18         200 imagens  Precision  0.862084\n",
      "19         200 imagens     Recall  0.857277\n",
      "20         226 imagens         F1  0.885458\n",
      "21         226 imagens    Jaccard  0.803700\n",
      "22         226 imagens  Precision  0.883475\n",
      "23         226 imagens     Recall  0.909609\n",
      "24  226 somente optico         F1  0.433598\n",
      "25  226 somente optico    Jaccard  0.304329\n",
      "26  226 somente optico  Precision  0.754540\n",
      "27  226 somente optico     Recall  0.338553\n"
     ]
    }
   ],
   "source": [
    "\n",
    "df_order = unet_analisys.sort_values(by=['model_len' ,'metrics'],key = lambda x:np.argsort(index_natsorted(unet_analisys['model_len'])))\n",
    "print(df_order)\n",
    "\n",
    "mean_data_all = df_order.groupby(['model_len','metrics'] ).mean().reset_index(level=['model_len','metrics'])\n",
    "mean_data_all = mean_data_all.sort_values(by=['model_len' ,'metrics'],key = lambda x:np.argsort(index_natsorted(mean_data_all['model_len'])))\n",
    "print(mean_data_all)\n"
   ]
  },
  {
   "cell_type": "code",
   "execution_count": 13,
   "metadata": {},
   "outputs": [
    {
     "data": {
      "text/html": [
       "<div>\n",
       "<style scoped>\n",
       "    .dataframe tbody tr th:only-of-type {\n",
       "        vertical-align: middle;\n",
       "    }\n",
       "\n",
       "    .dataframe tbody tr th {\n",
       "        vertical-align: top;\n",
       "    }\n",
       "\n",
       "    .dataframe thead th {\n",
       "        text-align: right;\n",
       "    }\n",
       "</style>\n",
       "<table border=\"1\" class=\"dataframe\">\n",
       "  <thead>\n",
       "    <tr style=\"text-align: right;\">\n",
       "      <th></th>\n",
       "      <th>Process Date</th>\n",
       "      <th>Unet</th>\n",
       "      <th>Voted</th>\n",
       "      <th>Model</th>\n",
       "      <th>Jaccard</th>\n",
       "      <th>Recall</th>\n",
       "      <th>Precision</th>\n",
       "      <th>F1</th>\n",
       "      <th>unet_Jaccard</th>\n",
       "      <th>unet_Recall</th>\n",
       "      <th>unet_Precision</th>\n",
       "      <th>unet_F1</th>\n",
       "      <th>model_len</th>\n",
       "    </tr>\n",
       "  </thead>\n",
       "  <tbody>\n",
       "    <tr>\n",
       "      <th>0</th>\n",
       "      <td>2021.07.27-20.24.13</td>\n",
       "      <td>True</td>\n",
       "      <td>False</td>\n",
       "      <td>unet</td>\n",
       "      <td>0.965636</td>\n",
       "      <td>0.992933</td>\n",
       "      <td>0.972318</td>\n",
       "      <td>0.982517</td>\n",
       "      <td>NaN</td>\n",
       "      <td>NaN</td>\n",
       "      <td>NaN</td>\n",
       "      <td>NaN</td>\n",
       "      <td>226 imagens</td>\n",
       "    </tr>\n",
       "    <tr>\n",
       "      <th>1</th>\n",
       "      <td>2022.04.09-22.15.32</td>\n",
       "      <td>True</td>\n",
       "      <td>False</td>\n",
       "      <td>unet</td>\n",
       "      <td>0.630597</td>\n",
       "      <td>0.713080</td>\n",
       "      <td>0.845000</td>\n",
       "      <td>0.773455</td>\n",
       "      <td>NaN</td>\n",
       "      <td>NaN</td>\n",
       "      <td>NaN</td>\n",
       "      <td>NaN</td>\n",
       "      <td>226 imagens</td>\n",
       "    </tr>\n",
       "    <tr>\n",
       "      <th>2</th>\n",
       "      <td>2023.03.26-07.00.18</td>\n",
       "      <td>True</td>\n",
       "      <td>False</td>\n",
       "      <td>unet</td>\n",
       "      <td>0.558360</td>\n",
       "      <td>0.563694</td>\n",
       "      <td>0.983333</td>\n",
       "      <td>0.716599</td>\n",
       "      <td>NaN</td>\n",
       "      <td>NaN</td>\n",
       "      <td>NaN</td>\n",
       "      <td>NaN</td>\n",
       "      <td>226 imagens</td>\n",
       "    </tr>\n",
       "    <tr>\n",
       "      <th>3</th>\n",
       "      <td>2023.03.26-07.02.39</td>\n",
       "      <td>True</td>\n",
       "      <td>False</td>\n",
       "      <td>unet</td>\n",
       "      <td>0.929648</td>\n",
       "      <td>0.948718</td>\n",
       "      <td>0.978836</td>\n",
       "      <td>0.963542</td>\n",
       "      <td>NaN</td>\n",
       "      <td>NaN</td>\n",
       "      <td>NaN</td>\n",
       "      <td>NaN</td>\n",
       "      <td>226 imagens</td>\n",
       "    </tr>\n",
       "    <tr>\n",
       "      <th>5</th>\n",
       "      <td>2023.03.26-11.28.40</td>\n",
       "      <td>True</td>\n",
       "      <td>False</td>\n",
       "      <td>unet</td>\n",
       "      <td>0.676580</td>\n",
       "      <td>0.689394</td>\n",
       "      <td>0.973262</td>\n",
       "      <td>0.807095</td>\n",
       "      <td>NaN</td>\n",
       "      <td>NaN</td>\n",
       "      <td>NaN</td>\n",
       "      <td>NaN</td>\n",
       "      <td>226 imagens</td>\n",
       "    </tr>\n",
       "    <tr>\n",
       "      <th>...</th>\n",
       "      <td>...</td>\n",
       "      <td>...</td>\n",
       "      <td>...</td>\n",
       "      <td>...</td>\n",
       "      <td>...</td>\n",
       "      <td>...</td>\n",
       "      <td>...</td>\n",
       "      <td>...</td>\n",
       "      <td>...</td>\n",
       "      <td>...</td>\n",
       "      <td>...</td>\n",
       "      <td>...</td>\n",
       "      <td>...</td>\n",
       "    </tr>\n",
       "    <tr>\n",
       "      <th>45</th>\n",
       "      <td>2023.06.02-20.23.50</td>\n",
       "      <td>True</td>\n",
       "      <td>False</td>\n",
       "      <td>unet</td>\n",
       "      <td>0.847328</td>\n",
       "      <td>0.895161</td>\n",
       "      <td>0.940678</td>\n",
       "      <td>0.917355</td>\n",
       "      <td>NaN</td>\n",
       "      <td>NaN</td>\n",
       "      <td>NaN</td>\n",
       "      <td>NaN</td>\n",
       "      <td>200 imagens</td>\n",
       "    </tr>\n",
       "    <tr>\n",
       "      <th>46</th>\n",
       "      <td>2023.06.02-20.26.43</td>\n",
       "      <td>True</td>\n",
       "      <td>False</td>\n",
       "      <td>unet</td>\n",
       "      <td>0.886792</td>\n",
       "      <td>1.000000</td>\n",
       "      <td>0.886792</td>\n",
       "      <td>0.940000</td>\n",
       "      <td>NaN</td>\n",
       "      <td>NaN</td>\n",
       "      <td>NaN</td>\n",
       "      <td>NaN</td>\n",
       "      <td>200 imagens</td>\n",
       "    </tr>\n",
       "    <tr>\n",
       "      <th>47</th>\n",
       "      <td>2023.06.02-20.30.15</td>\n",
       "      <td>True</td>\n",
       "      <td>False</td>\n",
       "      <td>unet</td>\n",
       "      <td>0.000000</td>\n",
       "      <td>0.000000</td>\n",
       "      <td>0.000000</td>\n",
       "      <td>0.000000</td>\n",
       "      <td>NaN</td>\n",
       "      <td>NaN</td>\n",
       "      <td>NaN</td>\n",
       "      <td>NaN</td>\n",
       "      <td>200 imagens</td>\n",
       "    </tr>\n",
       "    <tr>\n",
       "      <th>48</th>\n",
       "      <td>2023.06.02-20.31.45</td>\n",
       "      <td>True</td>\n",
       "      <td>False</td>\n",
       "      <td>unet</td>\n",
       "      <td>0.824427</td>\n",
       "      <td>0.939130</td>\n",
       "      <td>0.870968</td>\n",
       "      <td>0.903766</td>\n",
       "      <td>NaN</td>\n",
       "      <td>NaN</td>\n",
       "      <td>NaN</td>\n",
       "      <td>NaN</td>\n",
       "      <td>200 imagens</td>\n",
       "    </tr>\n",
       "    <tr>\n",
       "      <th>49</th>\n",
       "      <td>2023.06.02-20.32.27</td>\n",
       "      <td>True</td>\n",
       "      <td>False</td>\n",
       "      <td>unet</td>\n",
       "      <td>0.795620</td>\n",
       "      <td>1.000000</td>\n",
       "      <td>0.795620</td>\n",
       "      <td>0.886179</td>\n",
       "      <td>NaN</td>\n",
       "      <td>NaN</td>\n",
       "      <td>NaN</td>\n",
       "      <td>NaN</td>\n",
       "      <td>200 imagens</td>\n",
       "    </tr>\n",
       "  </tbody>\n",
       "</table>\n",
       "<p>424 rows × 13 columns</p>\n",
       "</div>"
      ],
      "text/plain": [
       "           Process Date  Unet  Voted Model   Jaccard    Recall  Precision  \\\n",
       "0   2021.07.27-20.24.13  True  False  unet  0.965636  0.992933   0.972318   \n",
       "1   2022.04.09-22.15.32  True  False  unet  0.630597  0.713080   0.845000   \n",
       "2   2023.03.26-07.00.18  True  False  unet  0.558360  0.563694   0.983333   \n",
       "3   2023.03.26-07.02.39  True  False  unet  0.929648  0.948718   0.978836   \n",
       "5   2023.03.26-11.28.40  True  False  unet  0.676580  0.689394   0.973262   \n",
       "..                  ...   ...    ...   ...       ...       ...        ...   \n",
       "45  2023.06.02-20.23.50  True  False  unet  0.847328  0.895161   0.940678   \n",
       "46  2023.06.02-20.26.43  True  False  unet  0.886792  1.000000   0.886792   \n",
       "47  2023.06.02-20.30.15  True  False  unet  0.000000  0.000000   0.000000   \n",
       "48  2023.06.02-20.31.45  True  False  unet  0.824427  0.939130   0.870968   \n",
       "49  2023.06.02-20.32.27  True  False  unet  0.795620  1.000000   0.795620   \n",
       "\n",
       "          F1  unet_Jaccard  unet_Recall  unet_Precision  unet_F1    model_len  \n",
       "0   0.982517           NaN          NaN             NaN      NaN  226 imagens  \n",
       "1   0.773455           NaN          NaN             NaN      NaN  226 imagens  \n",
       "2   0.716599           NaN          NaN             NaN      NaN  226 imagens  \n",
       "3   0.963542           NaN          NaN             NaN      NaN  226 imagens  \n",
       "5   0.807095           NaN          NaN             NaN      NaN  226 imagens  \n",
       "..       ...           ...          ...             ...      ...          ...  \n",
       "45  0.917355           NaN          NaN             NaN      NaN  200 imagens  \n",
       "46  0.940000           NaN          NaN             NaN      NaN  200 imagens  \n",
       "47  0.000000           NaN          NaN             NaN      NaN  200 imagens  \n",
       "48  0.903766           NaN          NaN             NaN      NaN  200 imagens  \n",
       "49  0.886179           NaN          NaN             NaN      NaN  200 imagens  \n",
       "\n",
       "[424 rows x 13 columns]"
      ]
     },
     "execution_count": 13,
     "metadata": {},
     "output_type": "execute_result"
    }
   ],
   "source": [
    "final_df_compare_describe = final_df_compare.describe().reset_index()\n",
    "final_df_compare.query(\"Model=='unet'\")"
   ]
  },
  {
   "cell_type": "code",
   "execution_count": 20,
   "metadata": {},
   "outputs": [
    {
     "data": {
      "application/vnd.plotly.v1+json": {
       "config": {
        "plotlyServerURL": "https://plot.ly"
       },
       "data": [
        {
         "alignmentgroup": "True",
         "hovertemplate": "metrics=F1<br>model_len=%{x}<br>scores=%{y}<extra></extra>",
         "legendgroup": "F1",
         "marker": {
          "color": "#636efa",
          "opacity": 0
         },
         "name": "F1",
         "notched": false,
         "offsetgroup": "F1",
         "orientation": "v",
         "showlegend": true,
         "type": "box",
         "x": [
          "50 imagens",
          "50 imagens",
          "50 imagens",
          "50 imagens",
          "50 imagens",
          "50 imagens",
          "50 imagens",
          "50 imagens",
          "50 imagens",
          "50 imagens",
          "50 imagens",
          "50 imagens",
          "50 imagens",
          "50 imagens",
          "50 imagens",
          "50 imagens",
          "50 imagens",
          "50 imagens",
          "50 imagens",
          "50 imagens",
          "50 imagens",
          "50 imagens",
          "50 imagens",
          "50 imagens",
          "50 imagens",
          "50 imagens",
          "50 imagens",
          "50 imagens",
          "50 imagens",
          "50 imagens",
          "50 imagens",
          "50 imagens",
          "50 imagens",
          "50 imagens",
          "50 imagens",
          "50 imagens",
          "50 imagens",
          "50 imagens",
          "50 imagens",
          "50 imagens",
          "50 imagens",
          "50 imagens",
          "50 imagens",
          "50 imagens",
          "75 imagens",
          "75 imagens",
          "75 imagens",
          "75 imagens",
          "75 imagens",
          "75 imagens",
          "75 imagens",
          "75 imagens",
          "75 imagens",
          "75 imagens",
          "75 imagens",
          "75 imagens",
          "75 imagens",
          "75 imagens",
          "75 imagens",
          "75 imagens",
          "75 imagens",
          "75 imagens",
          "75 imagens",
          "75 imagens",
          "75 imagens",
          "75 imagens",
          "75 imagens",
          "75 imagens",
          "75 imagens",
          "75 imagens",
          "75 imagens",
          "75 imagens",
          "75 imagens",
          "75 imagens",
          "75 imagens",
          "75 imagens",
          "75 imagens",
          "75 imagens",
          "75 imagens",
          "75 imagens",
          "75 imagens",
          "75 imagens",
          "75 imagens",
          "75 imagens",
          "75 imagens",
          "75 imagens",
          "75 imagens",
          "75 imagens",
          "75 imagens",
          "75 imagens",
          "75 imagens",
          "75 imagens",
          "100 imagens",
          "100 imagens",
          "100 imagens",
          "100 imagens",
          "100 imagens",
          "100 imagens",
          "100 imagens",
          "100 imagens",
          "100 imagens",
          "100 imagens",
          "100 imagens",
          "100 imagens",
          "100 imagens",
          "100 imagens",
          "100 imagens",
          "100 imagens",
          "100 imagens",
          "100 imagens",
          "100 imagens",
          "100 imagens",
          "100 imagens",
          "100 imagens",
          "100 imagens",
          "100 imagens",
          "100 imagens",
          "100 imagens",
          "100 imagens",
          "100 imagens",
          "100 imagens",
          "100 imagens",
          "100 imagens",
          "100 imagens",
          "100 imagens",
          "100 imagens",
          "100 imagens",
          "100 imagens",
          "100 imagens",
          "100 imagens",
          "100 imagens",
          "100 imagens",
          "100 imagens",
          "100 imagens",
          "100 imagens",
          "100 imagens",
          "100 imagens",
          "100 imagens",
          "100 imagens",
          "100 imagens",
          "100 imagens",
          "125 imagens",
          "125 imagens",
          "125 imagens",
          "125 imagens",
          "125 imagens",
          "125 imagens",
          "125 imagens",
          "125 imagens",
          "125 imagens",
          "125 imagens",
          "125 imagens",
          "125 imagens",
          "125 imagens",
          "125 imagens",
          "125 imagens",
          "125 imagens",
          "125 imagens",
          "125 imagens",
          "125 imagens",
          "125 imagens",
          "125 imagens",
          "125 imagens",
          "125 imagens",
          "125 imagens",
          "125 imagens",
          "125 imagens",
          "125 imagens",
          "125 imagens",
          "125 imagens",
          "125 imagens",
          "125 imagens",
          "125 imagens",
          "125 imagens",
          "125 imagens",
          "125 imagens",
          "125 imagens",
          "125 imagens",
          "125 imagens",
          "125 imagens",
          "125 imagens",
          "125 imagens",
          "125 imagens",
          "125 imagens",
          "125 imagens",
          "125 imagens",
          "125 imagens",
          "125 imagens",
          "125 imagens",
          "125 imagens",
          "150 imagens",
          "150 imagens",
          "150 imagens",
          "150 imagens",
          "150 imagens",
          "150 imagens",
          "150 imagens",
          "150 imagens",
          "150 imagens",
          "150 imagens",
          "150 imagens",
          "150 imagens",
          "150 imagens",
          "150 imagens",
          "150 imagens",
          "150 imagens",
          "150 imagens",
          "150 imagens",
          "150 imagens",
          "150 imagens",
          "150 imagens",
          "150 imagens",
          "150 imagens",
          "150 imagens",
          "150 imagens",
          "150 imagens",
          "150 imagens",
          "150 imagens",
          "150 imagens",
          "150 imagens",
          "150 imagens",
          "150 imagens",
          "150 imagens",
          "150 imagens",
          "150 imagens",
          "150 imagens",
          "150 imagens",
          "150 imagens",
          "150 imagens",
          "150 imagens",
          "150 imagens",
          "150 imagens",
          "150 imagens",
          "150 imagens",
          "150 imagens",
          "150 imagens",
          "150 imagens",
          "150 imagens",
          "150 imagens",
          "175 imagens",
          "175 imagens",
          "175 imagens",
          "175 imagens",
          "175 imagens",
          "175 imagens",
          "175 imagens",
          "175 imagens",
          "175 imagens",
          "175 imagens",
          "175 imagens",
          "175 imagens",
          "175 imagens",
          "175 imagens",
          "175 imagens",
          "175 imagens",
          "175 imagens",
          "175 imagens",
          "175 imagens",
          "175 imagens",
          "175 imagens",
          "175 imagens",
          "175 imagens",
          "175 imagens",
          "175 imagens",
          "175 imagens",
          "175 imagens",
          "175 imagens",
          "175 imagens",
          "175 imagens",
          "175 imagens",
          "175 imagens",
          "175 imagens",
          "175 imagens",
          "175 imagens",
          "175 imagens",
          "175 imagens",
          "175 imagens",
          "175 imagens",
          "175 imagens",
          "175 imagens",
          "175 imagens",
          "175 imagens",
          "175 imagens",
          "175 imagens",
          "175 imagens",
          "175 imagens",
          "175 imagens",
          "175 imagens",
          "200 imagens",
          "200 imagens",
          "200 imagens",
          "200 imagens",
          "200 imagens",
          "200 imagens",
          "200 imagens",
          "200 imagens",
          "200 imagens",
          "200 imagens",
          "200 imagens",
          "200 imagens",
          "200 imagens",
          "200 imagens",
          "200 imagens",
          "200 imagens",
          "200 imagens",
          "200 imagens",
          "200 imagens",
          "200 imagens",
          "200 imagens",
          "200 imagens",
          "200 imagens",
          "200 imagens",
          "200 imagens",
          "200 imagens",
          "200 imagens",
          "200 imagens",
          "200 imagens",
          "200 imagens",
          "200 imagens",
          "200 imagens",
          "200 imagens",
          "200 imagens",
          "200 imagens",
          "200 imagens",
          "200 imagens",
          "200 imagens",
          "200 imagens",
          "200 imagens",
          "200 imagens",
          "200 imagens",
          "200 imagens",
          "200 imagens",
          "200 imagens",
          "200 imagens",
          "200 imagens",
          "200 imagens",
          "200 imagens",
          "226 imagens",
          "226 imagens",
          "226 imagens",
          "226 imagens",
          "226 imagens",
          "226 imagens",
          "226 imagens",
          "226 imagens",
          "226 imagens",
          "226 imagens",
          "226 imagens",
          "226 imagens",
          "226 imagens",
          "226 imagens",
          "226 imagens",
          "226 imagens",
          "226 imagens",
          "226 imagens",
          "226 imagens",
          "226 imagens",
          "226 imagens",
          "226 imagens",
          "226 imagens",
          "226 imagens",
          "226 imagens",
          "226 imagens",
          "226 imagens",
          "226 imagens",
          "226 imagens",
          "226 imagens",
          "226 imagens",
          "226 imagens",
          "226 imagens",
          "226 imagens",
          "226 imagens",
          "226 imagens",
          "226 imagens",
          "226 imagens",
          "226 imagens",
          "226 imagens",
          "226 imagens",
          "226 imagens",
          "226 imagens",
          "226 imagens",
          "226 imagens",
          "226 imagens",
          "226 imagens",
          "226 imagens",
          "226 imagens",
          "226 imagens"
         ],
         "x0": " ",
         "xaxis": "x",
         "y": [
          0.8660968660968661,
          0.2692307692307693,
          0.9034749034749034,
          0.9393939393939394,
          0,
          0.907514450867052,
          0.9148936170212764,
          0.7538461538461539,
          0.8333333333333334,
          0.8088642659279778,
          0.8603773584905662,
          0.8938906752411575,
          0.8850574712643677,
          0.915151515151515,
          0.9029126213592232,
          0.4774193548387097,
          0.5228758169934641,
          0.905511811023622,
          0.8238482384823848,
          0.2432432432432432,
          0.906367041198502,
          0.4739884393063584,
          0.7134502923976608,
          0.5369127516778524,
          0.811965811965812,
          0.9090909090909092,
          0.9511400651465798,
          0.5877862595419848,
          0.4602510460251046,
          0.7750000000000001,
          0.9276595744680852,
          0.8923076923076922,
          0.9054054054054054,
          0.9272727272727272,
          0.8014184397163121,
          0.8927038626609441,
          0.7845659163987138,
          0.7773279352226722,
          0.8319327731092436,
          0.8281938325991189,
          0.8773584905660378,
          0.7222222222222221,
          0.8214285714285714,
          0.8288973384030417,
          0.5950782997762863,
          0.9193548387096772,
          0.7599067599067598,
          0.9156626506024096,
          0.9323308270676692,
          0.9438202247191012,
          0.8806584362139916,
          0.8541114058355438,
          0.8721311475409836,
          0.8733333333333334,
          0.9551020408163264,
          0.8675324675324676,
          0.7788461538461539,
          0.6202531645569621,
          0.9003690036900369,
          0.9640718562874252,
          0.870967741935484,
          0.9285714285714286,
          0.831858407079646,
          0.8090909090909091,
          0.8965517241379309,
          0.9405940594059404,
          0.718181818181818,
          0.5988700564971752,
          0.9148936170212766,
          0.7614213197969543,
          0.2419354838709677,
          0.9483568075117372,
          0.8560885608856088,
          0.9124668435013262,
          0.9396825396825396,
          0.785498489425982,
          0.8063492063492065,
          0.8646616541353384,
          0.925,
          0.8205128205128205,
          0.9211356466876972,
          0.9244444444444444,
          0.818505338078292,
          0.8739495798319328,
          0.7240356083086054,
          0.8031496062992125,
          0.7661691542288557,
          0.9218106995884774,
          0.7966101694915254,
          0.2537313432835821,
          0.9130434782608696,
          0.8257575757575758,
          0.5153664302600472,
          0.907608695652174,
          0.6138613861386139,
          0.7153284671532847,
          0.8902439024390244,
          0.9230769230769232,
          0.9338235294117648,
          0.919831223628692,
          0.9014084507042254,
          0.917808219178082,
          0.8014184397163121,
          0.9495798319327732,
          0.9234567901234568,
          0.5146198830409356,
          0.312,
          0.8642857142857143,
          0.9182389937106916,
          0.9368421052631578,
          0.9176470588235294,
          0.823008849557522,
          0.8349514563106796,
          0.8401486988847583,
          0.9113300492610836,
          0.4049079754601227,
          0.8019323671497584,
          0.9696969696969696,
          0.4784688995215311,
          0.4755244755244756,
          0.9158878504672896,
          0.8932806324110673,
          0.9182058047493404,
          0.93125,
          0.8203592814371259,
          0.710801393728223,
          0.8507462686567163,
          0.9356223175965664,
          0.8000000000000002,
          0.9367088607594936,
          0.9082969432314412,
          0.8156028368794326,
          0.9043478260869564,
          0.7327327327327328,
          0.848,
          0.8523206751054851,
          0.9256198347107438,
          0.8732394366197184,
          0.6601941747572816,
          0.9159663865546218,
          0.83206106870229,
          0.6778947368421052,
          0.946808510638298,
          0.8170212765957446,
          0.7610208816705336,
          0.7792207792207793,
          0.9442379182156134,
          0.9555555555555556,
          0.902127659574468,
          0.9121813031161472,
          0.917808219178082,
          0.8263888888888888,
          0.943089430894309,
          0.8977556109725687,
          0.8348623853211008,
          0.6098360655737706,
          0.9136690647482014,
          0.9798270893371758,
          0.908108108108108,
          0.9281437125748504,
          0.8482142857142857,
          0.8986784140969163,
          0.8791208791208791,
          0.9560975609756096,
          0.5227272727272727,
          0.7722772277227723,
          0.937007874015748,
          0.8728813559322034,
          0.9230769230769232,
          0.9107142857142856,
          0.8714285714285713,
          0.908616187989556,
          0.9079754601226994,
          0.8749999999999999,
          0.8473520249221185,
          0.8936170212765957,
          0.944206008583691,
          0.8814814814814814,
          0.9079754601226994,
          0.8927038626609441,
          0.8156028368794326,
          0.9004329004329005,
          0.7349397590361446,
          0.8366533864541832,
          0.8262910798122065,
          0.8928571428571428,
          0.8355555555555555,
          0.5301204819277108,
          0.9327731092436974,
          0.8384615384615385,
          0.6552462526766595,
          0.9333333333333332,
          0.8333333333333334,
          0.8434782608695651,
          0.85,
          0.9323308270676692,
          0.9672727272727272,
          0.936,
          0.8773841961852862,
          0.9337979094076656,
          0.79136690647482,
          0.9590163934426228,
          0.8578947368421054,
          0.9416666666666668,
          0.6729559748427673,
          0.8928571428571429,
          0.9710982658959536,
          0.9456521739130436,
          0.936936936936937,
          0.8715596330275228,
          0.8708133971291866,
          0.8560885608856089,
          0.966183574879227,
          0.5714285714285715,
          0.915966386554622,
          0.9347826086956522,
          0.7592592592592593,
          0.8653846153846153,
          0.8841201716738197,
          0.9144981412639406,
          0.9015544041450776,
          0.9141104294478528,
          0.8668730650154798,
          0.8087774294670846,
          0.8768115942028986,
          0.9401709401709402,
          0.8487084870848707,
          0.925,
          0.905829596412556,
          0.798611111111111,
          0.9285714285714286,
          0.7261904761904762,
          0.859437751004016,
          0.867579908675799,
          0.8925619834710744,
          0.8468468468468469,
          0.6162162162162163,
          0.9090909090909092,
          0.8515625,
          0.7384615384615385,
          0.964102564102564,
          0.7722007722007722,
          0.8503253796095445,
          0.7692307692307692,
          0.929889298892989,
          0.9469964664310954,
          0.9365079365079364,
          0.817258883248731,
          0.9305555555555556,
          0.8391608391608392,
          0.9140625,
          0.9548693586698338,
          0.9140625,
          0.9365853658536584,
          0.8686868686868687,
          0.9710982658959536,
          0.9170731707317074,
          0.923076923076923,
          0.9178743961352658,
          0.908296943231441,
          0.8551236749116607,
          0.9590361445783132,
          0.3435582822085889,
          0.9004329004329005,
          0.9052631578947368,
          0.746268656716418,
          0.8942307692307692,
          0.869198312236287,
          0.9042145593869731,
          0.9190600522193212,
          0.9371069182389936,
          0.8327402135231317,
          0.7612903225806453,
          0.8541666666666667,
          0.9372384937238494,
          0.8827586206896552,
          0.9164086687306502,
          0.8583333333333334,
          0.7943262411347517,
          0.9497716894977168,
          0.7305389221556886,
          0.8820960698689956,
          0.931726907630522,
          0.9243697478991596,
          0.8744186046511627,
          0.6483516483516484,
          0.9205020920502092,
          0.8515625,
          0.7183673469387756,
          0.9549071618037136,
          0.8181818181818182,
          0.8601694915254238,
          0.935672514619883,
          0.9363295880149812,
          0.96028880866426,
          0.9224806201550388,
          0.8773841961852862,
          0.9462365591397848,
          0.8201438848920863,
          0.9465020576131686,
          0.9326683291770572,
          0.784688995215311,
          0.7267267267267268,
          0.9280575539568344,
          0.9620991253644317,
          0.904255319148936,
          0.9393939393939394,
          0.8837209302325582,
          0.8959276018099547,
          0.8914728682170543,
          0.9588377723970944,
          0,
          0.9026548672566372,
          0.938181818181818,
          0.6,
          0.8952380952380953,
          0.9439252336448596,
          0.9019607843137256,
          0.9142857142857144,
          0.9254658385093169,
          0.9049180327868852,
          0.7651006711409396,
          0.88,
          0.9396551724137931,
          0.8683274021352313,
          0.9337539432176656,
          0.9237668161434978,
          0.795847750865052,
          0.9162995594713657,
          0.7922077922077922,
          0.824,
          0.925,
          0.9173553719008264,
          0.94,
          0,
          0.9037656903765692,
          0.8861788617886179,
          0.9825174825174824,
          0.7734553775743706,
          0.7165991902834007,
          0.9635416666666666,
          0.8070953436807097,
          0.8934010152284264,
          0.9438202247191012,
          0.9537366548042704,
          0.937007874015748,
          0.8773841961852862,
          0.9103448275862068,
          0.8197879858657243,
          0.9551020408163264,
          0.9081885856079404,
          0.944,
          0.9376558603491272,
          0.8641114982578397,
          0.9768786127167628,
          0.9479166666666666,
          0.9313432835820896,
          0.8785046728971962,
          0.9276595744680852,
          0.8864468864468864,
          0.9592326139088728,
          0.4883720930232558,
          0.97165991902834,
          0.8897058823529412,
          0.8764940239043825,
          0.898989898989899,
          0.9155555555555556,
          0.8955223880597015,
          0.9168900804289544,
          0.9221183800623052,
          0.9361702127659574,
          0.8012820512820512,
          0.856140350877193,
          0.9128630705394192,
          0.8683274021352313,
          0.9367088607594936,
          0.8739495798319328,
          0.8214285714285715,
          0.9203539823008848,
          0.7648902821316614,
          0.895397489539749,
          0.921161825726141,
          0.9282700421940928,
          0.9082125603864734,
          0.66,
          0.9316239316239316,
          0.8650793650793651
         ],
         "y0": " ",
         "yaxis": "y"
        },
        {
         "alignmentgroup": "True",
         "hovertemplate": "metrics=Jaccard<br>model_len=%{x}<br>scores=%{y}<extra></extra>",
         "legendgroup": "Jaccard",
         "marker": {
          "color": "#EF553B",
          "opacity": 0
         },
         "name": "Jaccard",
         "notched": false,
         "offsetgroup": "Jaccard",
         "orientation": "v",
         "showlegend": true,
         "type": "box",
         "x": [
          "50 imagens",
          "50 imagens",
          "50 imagens",
          "50 imagens",
          "50 imagens",
          "50 imagens",
          "50 imagens",
          "50 imagens",
          "50 imagens",
          "50 imagens",
          "50 imagens",
          "50 imagens",
          "50 imagens",
          "50 imagens",
          "50 imagens",
          "50 imagens",
          "50 imagens",
          "50 imagens",
          "50 imagens",
          "50 imagens",
          "50 imagens",
          "50 imagens",
          "50 imagens",
          "50 imagens",
          "50 imagens",
          "50 imagens",
          "50 imagens",
          "50 imagens",
          "50 imagens",
          "50 imagens",
          "50 imagens",
          "50 imagens",
          "50 imagens",
          "50 imagens",
          "50 imagens",
          "50 imagens",
          "50 imagens",
          "50 imagens",
          "50 imagens",
          "50 imagens",
          "50 imagens",
          "50 imagens",
          "50 imagens",
          "50 imagens",
          "75 imagens",
          "75 imagens",
          "75 imagens",
          "75 imagens",
          "75 imagens",
          "75 imagens",
          "75 imagens",
          "75 imagens",
          "75 imagens",
          "75 imagens",
          "75 imagens",
          "75 imagens",
          "75 imagens",
          "75 imagens",
          "75 imagens",
          "75 imagens",
          "75 imagens",
          "75 imagens",
          "75 imagens",
          "75 imagens",
          "75 imagens",
          "75 imagens",
          "75 imagens",
          "75 imagens",
          "75 imagens",
          "75 imagens",
          "75 imagens",
          "75 imagens",
          "75 imagens",
          "75 imagens",
          "75 imagens",
          "75 imagens",
          "75 imagens",
          "75 imagens",
          "75 imagens",
          "75 imagens",
          "75 imagens",
          "75 imagens",
          "75 imagens",
          "75 imagens",
          "75 imagens",
          "75 imagens",
          "75 imagens",
          "75 imagens",
          "75 imagens",
          "75 imagens",
          "75 imagens",
          "75 imagens",
          "100 imagens",
          "100 imagens",
          "100 imagens",
          "100 imagens",
          "100 imagens",
          "100 imagens",
          "100 imagens",
          "100 imagens",
          "100 imagens",
          "100 imagens",
          "100 imagens",
          "100 imagens",
          "100 imagens",
          "100 imagens",
          "100 imagens",
          "100 imagens",
          "100 imagens",
          "100 imagens",
          "100 imagens",
          "100 imagens",
          "100 imagens",
          "100 imagens",
          "100 imagens",
          "100 imagens",
          "100 imagens",
          "100 imagens",
          "100 imagens",
          "100 imagens",
          "100 imagens",
          "100 imagens",
          "100 imagens",
          "100 imagens",
          "100 imagens",
          "100 imagens",
          "100 imagens",
          "100 imagens",
          "100 imagens",
          "100 imagens",
          "100 imagens",
          "100 imagens",
          "100 imagens",
          "100 imagens",
          "100 imagens",
          "100 imagens",
          "100 imagens",
          "100 imagens",
          "100 imagens",
          "100 imagens",
          "100 imagens",
          "125 imagens",
          "125 imagens",
          "125 imagens",
          "125 imagens",
          "125 imagens",
          "125 imagens",
          "125 imagens",
          "125 imagens",
          "125 imagens",
          "125 imagens",
          "125 imagens",
          "125 imagens",
          "125 imagens",
          "125 imagens",
          "125 imagens",
          "125 imagens",
          "125 imagens",
          "125 imagens",
          "125 imagens",
          "125 imagens",
          "125 imagens",
          "125 imagens",
          "125 imagens",
          "125 imagens",
          "125 imagens",
          "125 imagens",
          "125 imagens",
          "125 imagens",
          "125 imagens",
          "125 imagens",
          "125 imagens",
          "125 imagens",
          "125 imagens",
          "125 imagens",
          "125 imagens",
          "125 imagens",
          "125 imagens",
          "125 imagens",
          "125 imagens",
          "125 imagens",
          "125 imagens",
          "125 imagens",
          "125 imagens",
          "125 imagens",
          "125 imagens",
          "125 imagens",
          "125 imagens",
          "125 imagens",
          "125 imagens",
          "150 imagens",
          "150 imagens",
          "150 imagens",
          "150 imagens",
          "150 imagens",
          "150 imagens",
          "150 imagens",
          "150 imagens",
          "150 imagens",
          "150 imagens",
          "150 imagens",
          "150 imagens",
          "150 imagens",
          "150 imagens",
          "150 imagens",
          "150 imagens",
          "150 imagens",
          "150 imagens",
          "150 imagens",
          "150 imagens",
          "150 imagens",
          "150 imagens",
          "150 imagens",
          "150 imagens",
          "150 imagens",
          "150 imagens",
          "150 imagens",
          "150 imagens",
          "150 imagens",
          "150 imagens",
          "150 imagens",
          "150 imagens",
          "150 imagens",
          "150 imagens",
          "150 imagens",
          "150 imagens",
          "150 imagens",
          "150 imagens",
          "150 imagens",
          "150 imagens",
          "150 imagens",
          "150 imagens",
          "150 imagens",
          "150 imagens",
          "150 imagens",
          "150 imagens",
          "150 imagens",
          "150 imagens",
          "150 imagens",
          "175 imagens",
          "175 imagens",
          "175 imagens",
          "175 imagens",
          "175 imagens",
          "175 imagens",
          "175 imagens",
          "175 imagens",
          "175 imagens",
          "175 imagens",
          "175 imagens",
          "175 imagens",
          "175 imagens",
          "175 imagens",
          "175 imagens",
          "175 imagens",
          "175 imagens",
          "175 imagens",
          "175 imagens",
          "175 imagens",
          "175 imagens",
          "175 imagens",
          "175 imagens",
          "175 imagens",
          "175 imagens",
          "175 imagens",
          "175 imagens",
          "175 imagens",
          "175 imagens",
          "175 imagens",
          "175 imagens",
          "175 imagens",
          "175 imagens",
          "175 imagens",
          "175 imagens",
          "175 imagens",
          "175 imagens",
          "175 imagens",
          "175 imagens",
          "175 imagens",
          "175 imagens",
          "175 imagens",
          "175 imagens",
          "175 imagens",
          "175 imagens",
          "175 imagens",
          "175 imagens",
          "175 imagens",
          "175 imagens",
          "200 imagens",
          "200 imagens",
          "200 imagens",
          "200 imagens",
          "200 imagens",
          "200 imagens",
          "200 imagens",
          "200 imagens",
          "200 imagens",
          "200 imagens",
          "200 imagens",
          "200 imagens",
          "200 imagens",
          "200 imagens",
          "200 imagens",
          "200 imagens",
          "200 imagens",
          "200 imagens",
          "200 imagens",
          "200 imagens",
          "200 imagens",
          "200 imagens",
          "200 imagens",
          "200 imagens",
          "200 imagens",
          "200 imagens",
          "200 imagens",
          "200 imagens",
          "200 imagens",
          "200 imagens",
          "200 imagens",
          "200 imagens",
          "200 imagens",
          "200 imagens",
          "200 imagens",
          "200 imagens",
          "200 imagens",
          "200 imagens",
          "200 imagens",
          "200 imagens",
          "200 imagens",
          "200 imagens",
          "200 imagens",
          "200 imagens",
          "200 imagens",
          "200 imagens",
          "200 imagens",
          "200 imagens",
          "200 imagens",
          "226 imagens",
          "226 imagens",
          "226 imagens",
          "226 imagens",
          "226 imagens",
          "226 imagens",
          "226 imagens",
          "226 imagens",
          "226 imagens",
          "226 imagens",
          "226 imagens",
          "226 imagens",
          "226 imagens",
          "226 imagens",
          "226 imagens",
          "226 imagens",
          "226 imagens",
          "226 imagens",
          "226 imagens",
          "226 imagens",
          "226 imagens",
          "226 imagens",
          "226 imagens",
          "226 imagens",
          "226 imagens",
          "226 imagens",
          "226 imagens",
          "226 imagens",
          "226 imagens",
          "226 imagens",
          "226 imagens",
          "226 imagens",
          "226 imagens",
          "226 imagens",
          "226 imagens",
          "226 imagens",
          "226 imagens",
          "226 imagens",
          "226 imagens",
          "226 imagens",
          "226 imagens",
          "226 imagens",
          "226 imagens",
          "226 imagens",
          "226 imagens",
          "226 imagens",
          "226 imagens",
          "226 imagens",
          "226 imagens",
          "226 imagens"
         ],
         "x0": " ",
         "xaxis": "x",
         "y": [
          0.7638190954773869,
          0.1555555555555555,
          0.823943661971831,
          0.8857142857142857,
          0,
          0.8306878306878307,
          0.8431372549019608,
          0.6049382716049383,
          0.7142857142857143,
          0.6790697674418604,
          0.7549668874172185,
          0.8081395348837209,
          0.7938144329896907,
          0.8435754189944135,
          0.8230088495575221,
          0.3135593220338983,
          0.3539823008849557,
          0.8273381294964028,
          0.7004608294930875,
          0.1384615384615384,
          0.8287671232876712,
          0.3106060606060606,
          0.5545454545454546,
          0.3669724770642202,
          0.6834532374100719,
          0.8333333333333334,
          0.906832298136646,
          0.4162162162162162,
          0.2989130434782608,
          0.6326530612244898,
          0.8650793650793651,
          0.8055555555555556,
          0.8271604938271605,
          0.864406779661017,
          0.6686390532544378,
          0.8062015503875969,
          0.6455026455026455,
          0.6357615894039735,
          0.7122302158273381,
          0.706766917293233,
          0.7815126050420168,
          0.5652173913043478,
          0.696969696969697,
          0.7077922077922078,
          0.4235668789808917,
          0.8507462686567164,
          0.6127819548872181,
          0.8444444444444444,
          0.8732394366197183,
          0.8936170212765957,
          0.7867647058823529,
          0.7453703703703703,
          0.7732558139534884,
          0.7751479289940828,
          0.9140625,
          0.7660550458715596,
          0.6377952755905512,
          0.4495412844036697,
          0.8187919463087249,
          0.930635838150289,
          0.7714285714285715,
          0.8666666666666667,
          0.7121212121212122,
          0.6793893129770993,
          0.8125,
          0.8878504672897196,
          0.5602836879432624,
          0.4274193548387097,
          0.8431372549019608,
          0.6147540983606558,
          0.1376146788990825,
          0.9017857142857144,
          0.7483870967741936,
          0.8390243902439024,
          0.8862275449101796,
          0.6467661691542289,
          0.675531914893617,
          0.7615894039735099,
          0.8604651162790697,
          0.6956521739130435,
          0.8538011695906432,
          0.859504132231405,
          0.6927710843373494,
          0.7761194029850746,
          0.5674418604651162,
          0.6710526315789473,
          0.6209677419354839,
          0.8549618320610687,
          0.6619718309859155,
          0.1452991452991453,
          0.84,
          0.7032258064516129,
          0.3471337579617834,
          0.8308457711442786,
          0.4428571428571428,
          0.5568181818181818,
          0.8021978021978022,
          0.8571428571428571,
          0.8758620689655172,
          0.8515625,
          0.8205128205128205,
          0.8481012658227848,
          0.6686390532544378,
          0.904,
          0.8577981651376146,
          0.3464566929133858,
          0.1848341232227488,
          0.7610062893081762,
          0.8488372093023255,
          0.8811881188118812,
          0.8478260869565217,
          0.6992481203007519,
          0.7166666666666667,
          0.7243589743589743,
          0.8371040723981901,
          0.2538461538461538,
          0.6693548387096774,
          0.9411764705882352,
          0.3144654088050314,
          0.3119266055045872,
          0.8448275862068966,
          0.8071428571428572,
          0.848780487804878,
          0.8713450292397661,
          0.6954314720812182,
          0.5513513513513514,
          0.7402597402597403,
          0.8790322580645161,
          0.6666666666666666,
          0.8809523809523809,
          0.832,
          0.688622754491018,
          0.8253968253968254,
          0.5781990521327014,
          0.7361111111111112,
          0.7426470588235294,
          0.8615384615384616,
          0.775,
          0.4927536231884058,
          0.8449612403100775,
          0.7124183006535948,
          0.5127388535031847,
          0.898989898989899,
          0.6906474820143885,
          0.6142322097378277,
          0.6382978723404256,
          0.8943661971830986,
          0.9148936170212766,
          0.8217054263565892,
          0.8385416666666666,
          0.8481012658227848,
          0.7041420118343196,
          0.8923076923076924,
          0.8144796380090498,
          0.7165354330708661,
          0.4386792452830189,
          0.8410596026490066,
          0.96045197740113,
          0.8316831683168316,
          0.8659217877094972,
          0.7364341085271318,
          0.816,
          0.7843137254901961,
          0.9158878504672896,
          0.3538461538461538,
          0.6290322580645161,
          0.8814814814814815,
          0.7744360902255639,
          0.8571428571428571,
          0.8360655737704918,
          0.7721518987341772,
          0.8325358851674641,
          0.8314606741573034,
          0.7777777777777778,
          0.7351351351351352,
          0.8076923076923077,
          0.8943089430894309,
          0.7880794701986755,
          0.8314606741573034,
          0.8062015503875969,
          0.688622754491018,
          0.8188976377952756,
          0.580952380952381,
          0.7191780821917808,
          0.704,
          0.8064516129032258,
          0.7175572519083969,
          0.360655737704918,
          0.8740157480314961,
          0.7218543046357616,
          0.4872611464968153,
          0.875,
          0.7142857142857143,
          0.7293233082706767,
          0.7391304347826086,
          0.8732394366197183,
          0.9366197183098592,
          0.8796992481203008,
          0.7815533980582524,
          0.8758169934640523,
          0.6547619047619048,
          0.9212598425196852,
          0.7511520737327189,
          0.889763779527559,
          0.5071090047393365,
          0.8064516129032258,
          0.9438202247191012,
          0.8969072164948454,
          0.8813559322033898,
          0.7723577235772358,
          0.7711864406779662,
          0.7483870967741936,
          0.9345794392523364,
          0.4,
          0.8449612403100775,
          0.8775510204081632,
          0.6119402985074627,
          0.7627118644067796,
          0.7923076923076923,
          0.8424657534246576,
          0.8207547169811321,
          0.8418079096045198,
          0.7650273224043715,
          0.6789473684210526,
          0.7806451612903226,
          0.8870967741935484,
          0.7371794871794872,
          0.8604651162790697,
          0.8278688524590164,
          0.6647398843930635,
          0.8666666666666667,
          0.5700934579439252,
          0.7535211267605634,
          0.7661290322580645,
          0.8059701492537313,
          0.734375,
          0.4453125,
          0.8333333333333334,
          0.7414965986394558,
          0.5853658536585366,
          0.9306930693069309,
          0.6289308176100629,
          0.7396226415094339,
          0.625,
          0.8689655172413793,
          0.8993288590604027,
          0.8805970149253731,
          0.6909871244635193,
          0.8701298701298701,
          0.7228915662650602,
          0.841726618705036,
          0.9136363636363636,
          0.841726618705036,
          0.8807339449541285,
          0.7678571428571429,
          0.9438202247191012,
          0.8468468468468469,
          0.8571428571428571,
          0.8482142857142857,
          0.832,
          0.7469135802469136,
          0.9212962962962964,
          0.2074074074074074,
          0.8188976377952756,
          0.8269230769230769,
          0.5952380952380952,
          0.808695652173913,
          0.7686567164179104,
          0.8251748251748252,
          0.8502415458937198,
          0.8816568047337278,
          0.7134146341463414,
          0.6145833333333334,
          0.7454545454545455,
          0.8818897637795275,
          0.7901234567901234,
          0.8457142857142858,
          0.7518248175182481,
          0.6588235294117647,
          0.9043478260869564,
          0.5754716981132075,
          0.7890625,
          0.8721804511278195,
          0.859375,
          0.7768595041322314,
          0.4796747967479675,
          0.8527131782945736,
          0.7414965986394558,
          0.5605095541401274,
          0.9137055837563453,
          0.6923076923076923,
          0.7546468401486989,
          0.8791208791208791,
          0.8802816901408451,
          0.9236111111111112,
          0.8561151079136691,
          0.7815533980582524,
          0.8979591836734694,
          0.6951219512195121,
          0.8984375,
          0.8738317757009346,
          0.6456692913385826,
          0.5707547169811321,
          0.8657718120805369,
          0.9269662921348316,
          0.8252427184466019,
          0.8857142857142857,
          0.7916666666666666,
          0.8114754098360656,
          0.8041958041958042,
          0.9209302325581395,
          0,
          0.8225806451612904,
          0.8835616438356164,
          0.4285714285714285,
          0.8103448275862069,
          0.8938053097345132,
          0.8214285714285714,
          0.8421052631578947,
          0.861271676300578,
          0.8263473053892215,
          0.6195652173913043,
          0.7857142857142857,
          0.8861788617886179,
          0.7672955974842768,
          0.8757396449704142,
          0.8583333333333333,
          0.6609195402298851,
          0.8455284552845529,
          0.6559139784946236,
          0.7006802721088435,
          0.8604651162790697,
          0.8473282442748091,
          0.8867924528301887,
          0,
          0.8244274809160306,
          0.7956204379562044,
          0.9656357388316152,
          0.6305970149253731,
          0.5583596214511041,
          0.9296482412060302,
          0.6765799256505576,
          0.8073394495412844,
          0.8936170212765957,
          0.91156462585034,
          0.8814814814814815,
          0.7815533980582524,
          0.8354430379746836,
          0.6946107784431138,
          0.9140625,
          0.8318181818181818,
          0.8939393939393939,
          0.8826291079812206,
          0.7607361963190185,
          0.9548022598870056,
          0.900990099009901,
          0.8715083798882681,
          0.7833333333333333,
          0.8650793650793651,
          0.7960526315789473,
          0.9216589861751152,
          0.3230769230769231,
          0.9448818897637796,
          0.8013245033112583,
          0.7801418439716312,
          0.8165137614678899,
          0.8442622950819673,
          0.8108108108108109,
          0.8465346534653465,
          0.8554913294797688,
          0.88,
          0.6684491978609626,
          0.7484662576687117,
          0.8396946564885496,
          0.7672955974842768,
          0.8809523809523809,
          0.7761194029850746,
          0.696969696969697,
          0.8524590163934426,
          0.6192893401015228,
          0.8106060606060606,
          0.8538461538461538,
          0.8661417322834646,
          0.831858407079646,
          0.4925373134328358,
          0.872,
          0.7622377622377622
         ],
         "y0": " ",
         "yaxis": "y"
        },
        {
         "alignmentgroup": "True",
         "hovertemplate": "metrics=Precision<br>model_len=%{x}<br>scores=%{y}<extra></extra>",
         "legendgroup": "Precision",
         "marker": {
          "color": "#00cc96",
          "opacity": 0
         },
         "name": "Precision",
         "notched": false,
         "offsetgroup": "Precision",
         "orientation": "v",
         "showlegend": true,
         "type": "box",
         "x": [
          "50 imagens",
          "50 imagens",
          "50 imagens",
          "50 imagens",
          "50 imagens",
          "50 imagens",
          "50 imagens",
          "50 imagens",
          "50 imagens",
          "50 imagens",
          "50 imagens",
          "50 imagens",
          "50 imagens",
          "50 imagens",
          "50 imagens",
          "50 imagens",
          "50 imagens",
          "50 imagens",
          "50 imagens",
          "50 imagens",
          "50 imagens",
          "50 imagens",
          "50 imagens",
          "50 imagens",
          "50 imagens",
          "50 imagens",
          "50 imagens",
          "50 imagens",
          "50 imagens",
          "50 imagens",
          "50 imagens",
          "50 imagens",
          "50 imagens",
          "50 imagens",
          "50 imagens",
          "50 imagens",
          "50 imagens",
          "50 imagens",
          "50 imagens",
          "50 imagens",
          "50 imagens",
          "50 imagens",
          "50 imagens",
          "50 imagens",
          "75 imagens",
          "75 imagens",
          "75 imagens",
          "75 imagens",
          "75 imagens",
          "75 imagens",
          "75 imagens",
          "75 imagens",
          "75 imagens",
          "75 imagens",
          "75 imagens",
          "75 imagens",
          "75 imagens",
          "75 imagens",
          "75 imagens",
          "75 imagens",
          "75 imagens",
          "75 imagens",
          "75 imagens",
          "75 imagens",
          "75 imagens",
          "75 imagens",
          "75 imagens",
          "75 imagens",
          "75 imagens",
          "75 imagens",
          "75 imagens",
          "75 imagens",
          "75 imagens",
          "75 imagens",
          "75 imagens",
          "75 imagens",
          "75 imagens",
          "75 imagens",
          "75 imagens",
          "75 imagens",
          "75 imagens",
          "75 imagens",
          "75 imagens",
          "75 imagens",
          "75 imagens",
          "75 imagens",
          "75 imagens",
          "75 imagens",
          "75 imagens",
          "75 imagens",
          "75 imagens",
          "75 imagens",
          "100 imagens",
          "100 imagens",
          "100 imagens",
          "100 imagens",
          "100 imagens",
          "100 imagens",
          "100 imagens",
          "100 imagens",
          "100 imagens",
          "100 imagens",
          "100 imagens",
          "100 imagens",
          "100 imagens",
          "100 imagens",
          "100 imagens",
          "100 imagens",
          "100 imagens",
          "100 imagens",
          "100 imagens",
          "100 imagens",
          "100 imagens",
          "100 imagens",
          "100 imagens",
          "100 imagens",
          "100 imagens",
          "100 imagens",
          "100 imagens",
          "100 imagens",
          "100 imagens",
          "100 imagens",
          "100 imagens",
          "100 imagens",
          "100 imagens",
          "100 imagens",
          "100 imagens",
          "100 imagens",
          "100 imagens",
          "100 imagens",
          "100 imagens",
          "100 imagens",
          "100 imagens",
          "100 imagens",
          "100 imagens",
          "100 imagens",
          "100 imagens",
          "100 imagens",
          "100 imagens",
          "100 imagens",
          "100 imagens",
          "125 imagens",
          "125 imagens",
          "125 imagens",
          "125 imagens",
          "125 imagens",
          "125 imagens",
          "125 imagens",
          "125 imagens",
          "125 imagens",
          "125 imagens",
          "125 imagens",
          "125 imagens",
          "125 imagens",
          "125 imagens",
          "125 imagens",
          "125 imagens",
          "125 imagens",
          "125 imagens",
          "125 imagens",
          "125 imagens",
          "125 imagens",
          "125 imagens",
          "125 imagens",
          "125 imagens",
          "125 imagens",
          "125 imagens",
          "125 imagens",
          "125 imagens",
          "125 imagens",
          "125 imagens",
          "125 imagens",
          "125 imagens",
          "125 imagens",
          "125 imagens",
          "125 imagens",
          "125 imagens",
          "125 imagens",
          "125 imagens",
          "125 imagens",
          "125 imagens",
          "125 imagens",
          "125 imagens",
          "125 imagens",
          "125 imagens",
          "125 imagens",
          "125 imagens",
          "125 imagens",
          "125 imagens",
          "125 imagens",
          "150 imagens",
          "150 imagens",
          "150 imagens",
          "150 imagens",
          "150 imagens",
          "150 imagens",
          "150 imagens",
          "150 imagens",
          "150 imagens",
          "150 imagens",
          "150 imagens",
          "150 imagens",
          "150 imagens",
          "150 imagens",
          "150 imagens",
          "150 imagens",
          "150 imagens",
          "150 imagens",
          "150 imagens",
          "150 imagens",
          "150 imagens",
          "150 imagens",
          "150 imagens",
          "150 imagens",
          "150 imagens",
          "150 imagens",
          "150 imagens",
          "150 imagens",
          "150 imagens",
          "150 imagens",
          "150 imagens",
          "150 imagens",
          "150 imagens",
          "150 imagens",
          "150 imagens",
          "150 imagens",
          "150 imagens",
          "150 imagens",
          "150 imagens",
          "150 imagens",
          "150 imagens",
          "150 imagens",
          "150 imagens",
          "150 imagens",
          "150 imagens",
          "150 imagens",
          "150 imagens",
          "150 imagens",
          "150 imagens",
          "175 imagens",
          "175 imagens",
          "175 imagens",
          "175 imagens",
          "175 imagens",
          "175 imagens",
          "175 imagens",
          "175 imagens",
          "175 imagens",
          "175 imagens",
          "175 imagens",
          "175 imagens",
          "175 imagens",
          "175 imagens",
          "175 imagens",
          "175 imagens",
          "175 imagens",
          "175 imagens",
          "175 imagens",
          "175 imagens",
          "175 imagens",
          "175 imagens",
          "175 imagens",
          "175 imagens",
          "175 imagens",
          "175 imagens",
          "175 imagens",
          "175 imagens",
          "175 imagens",
          "175 imagens",
          "175 imagens",
          "175 imagens",
          "175 imagens",
          "175 imagens",
          "175 imagens",
          "175 imagens",
          "175 imagens",
          "175 imagens",
          "175 imagens",
          "175 imagens",
          "175 imagens",
          "175 imagens",
          "175 imagens",
          "175 imagens",
          "175 imagens",
          "175 imagens",
          "175 imagens",
          "175 imagens",
          "175 imagens",
          "200 imagens",
          "200 imagens",
          "200 imagens",
          "200 imagens",
          "200 imagens",
          "200 imagens",
          "200 imagens",
          "200 imagens",
          "200 imagens",
          "200 imagens",
          "200 imagens",
          "200 imagens",
          "200 imagens",
          "200 imagens",
          "200 imagens",
          "200 imagens",
          "200 imagens",
          "200 imagens",
          "200 imagens",
          "200 imagens",
          "200 imagens",
          "200 imagens",
          "200 imagens",
          "200 imagens",
          "200 imagens",
          "200 imagens",
          "200 imagens",
          "200 imagens",
          "200 imagens",
          "200 imagens",
          "200 imagens",
          "200 imagens",
          "200 imagens",
          "200 imagens",
          "200 imagens",
          "200 imagens",
          "200 imagens",
          "200 imagens",
          "200 imagens",
          "200 imagens",
          "200 imagens",
          "200 imagens",
          "200 imagens",
          "200 imagens",
          "200 imagens",
          "200 imagens",
          "200 imagens",
          "200 imagens",
          "200 imagens",
          "226 imagens",
          "226 imagens",
          "226 imagens",
          "226 imagens",
          "226 imagens",
          "226 imagens",
          "226 imagens",
          "226 imagens",
          "226 imagens",
          "226 imagens",
          "226 imagens",
          "226 imagens",
          "226 imagens",
          "226 imagens",
          "226 imagens",
          "226 imagens",
          "226 imagens",
          "226 imagens",
          "226 imagens",
          "226 imagens",
          "226 imagens",
          "226 imagens",
          "226 imagens",
          "226 imagens",
          "226 imagens",
          "226 imagens",
          "226 imagens",
          "226 imagens",
          "226 imagens",
          "226 imagens",
          "226 imagens",
          "226 imagens",
          "226 imagens",
          "226 imagens",
          "226 imagens",
          "226 imagens",
          "226 imagens",
          "226 imagens",
          "226 imagens",
          "226 imagens",
          "226 imagens",
          "226 imagens",
          "226 imagens",
          "226 imagens",
          "226 imagens",
          "226 imagens",
          "226 imagens",
          "226 imagens",
          "226 imagens",
          "226 imagens"
         ],
         "x0": " ",
         "xaxis": "x",
         "y": [
          0.9743589743589745,
          1,
          0.8863636363636364,
          0.96875,
          0,
          0.8486486486486486,
          0.8716216216216216,
          0.9702970297029704,
          0.9883720930232558,
          0.9864864864864864,
          0.8507462686567164,
          0.9928571428571428,
          0.9871794871794872,
          0.867816091954023,
          0.8378378378378378,
          1,
          0.8163265306122449,
          0.9829059829059827,
          0.9681528662420382,
          1,
          0.8768115942028986,
          0.7068965517241379,
          0.9838709677419356,
          1,
          0.8558558558558559,
          0.8620689655172413,
          0.9240506329113924,
          0.77,
          0.9821428571428572,
          0.8303571428571429,
          0.8861788617886179,
          0.90625,
          0.9054054054054054,
          0.8793103448275862,
          0.6807228915662651,
          0.8062015503875969,
          0.6455026455026455,
          0.6857142857142857,
          0.868421052631579,
          0.912621359223301,
          0.788135593220339,
          0.7878787878787878,
          0.8440366972477065,
          0.7077922077922078,
          1,
          0.9661016949152542,
          0.987878787878788,
          1,
          0.8920863309352518,
          0.9618320610687024,
          0.8842975206611571,
          0.7453703703703703,
          0.7777777777777778,
          0.9290780141843972,
          0.9212598425196852,
          0.9709302325581396,
          1,
          0.9333333333333332,
          0.8714285714285714,
          0.9877300613496932,
          0.9,
          0.8666666666666667,
          0.7175572519083969,
          0.8725490196078431,
          0.9435483870967742,
          0.9895833333333334,
          0.8777777777777778,
          1,
          0.8431372549019608,
          0.9146341463414634,
          1,
          0.971153846153846,
          0.7837837837837838,
          0.882051282051282,
          0.891566265060241,
          0.7692307692307693,
          0.9621212121212122,
          0.8333333333333334,
          0.8671875,
          0.7111111111111111,
          0.863905325443787,
          0.859504132231405,
          0.696969696969697,
          0.7761194029850746,
          0.5674418604651162,
          0.6938775510204082,
          1,
          0.9411764705882352,
          0.6619718309859155,
          1,
          0.9130434782608696,
          0.7032258064516129,
          1,
          0.9653179190751444,
          0.984126984126984,
          1,
          0.9864864864864864,
          0.863013698630137,
          0.9338235294117648,
          0.9478260869565216,
          0.8247422680412371,
          0.8481012658227848,
          0.91869918699187,
          0.9416666666666668,
          0.9739583333333334,
          1,
          1,
          0.8120805369127517,
          0.9931972789115646,
          0.946808510638298,
          0.8478260869565217,
          0.7099236641221374,
          0.9772727272727272,
          0.8560606060606061,
          0.9536082474226804,
          1,
          1,
          0.9481481481481482,
          0.5319148936170213,
          1,
          0.9333333333333332,
          0.8692307692307693,
          0.883248730964467,
          0.8713450292397661,
          0.7965116279069767,
          0.9807692307692308,
          0.8142857142857143,
          0.9008264462809916,
          0.7239263803680982,
          0.8809523809523809,
          0.832,
          0.6927710843373494,
          0.8253968253968254,
          0.5781990521327014,
          0.7412587412587412,
          0.8938053097345132,
          0.9491525423728814,
          0.7815126050420168,
          0.7640449438202247,
          0.8861788617886179,
          0.7124183006535948,
          1,
          0.9834254143646408,
          1,
          0.9820359281437124,
          0.9375,
          0.8943661971830986,
          0.9626865671641792,
          0.9380530973451328,
          0.8385416666666666,
          0.8481012658227848,
          0.9224806201550388,
          0.90625,
          0.9574468085106383,
          1,
          0.9893617021276596,
          0.8639455782312925,
          0.9659090909090908,
          0.9438202247191012,
          0.8707865168539326,
          0.7364341085271318,
          0.9357798165137616,
          0.8823529411764706,
          0.98989898989899,
          1,
          1,
          0.952,
          0.8512396694214877,
          0.9696969696969696,
          0.8869565217391304,
          0.7770700636942676,
          0.8656716417910447,
          0.8361581920903954,
          0.8860759493670886,
          0.9855072463768116,
          0.8181818181818182,
          0.9090909090909092,
          0.8623188405797102,
          0.8314606741573034,
          0.8062015503875969,
          0.6927710843373494,
          0.8188976377952756,
          0.580952380952381,
          0.7291666666666666,
          0.9887640449438202,
          1,
          0.7175572519083969,
          0.8979591836734694,
          0.902439024390244,
          0.7218543046357616,
          1,
          0.9722222222222222,
          0.88,
          0.9897959183673468,
          0.9714285714285714,
          0.8920863309352518,
          0.9568345323741008,
          0.9140625,
          0.7815533980582524,
          0.8758169934640523,
          0.9243697478991596,
          0.9285714285714286,
          0.9760479041916168,
          1,
          1,
          0.8389261744966443,
          0.96,
          0.9886363636363636,
          0.8813559322033898,
          0.7723577235772358,
          1,
          0.8656716417910447,
          0.99009900990099,
          1,
          0.956140350877193,
          0.8775510204081632,
          0.8118811881188119,
          0.9090909090909092,
          0.8306451612903226,
          0.8424657534246576,
          0.8529411764705882,
          0.8418079096045198,
          0.8695652173913043,
          0.9485294117647058,
          0.8175675675675675,
          0.9016393442622952,
          0.8273381294964028,
          0.8604651162790697,
          0.8487394957983193,
          0.6686046511627907,
          0.8666666666666667,
          0.5700934579439252,
          0.7535211267605634,
          1,
          0.9152542372881356,
          0.734375,
          0.8382352941176471,
          0.8661417322834646,
          0.7414965986394558,
          0.9320388349514565,
          0.964102564102564,
          0.8333333333333334,
          0.9949238578680204,
          0.9090909090909092,
          0.875,
          0.91156462585034,
          0.9076923076923076,
          0.6909871244635193,
          0.8701298701298701,
          0.9448818897637796,
          0.8478260869565217,
          0.966346153846154,
          0.9069767441860463,
          0.964824120603015,
          0.7771084337349398,
          0.96,
          0.8623853211009175,
          0.8571428571428571,
          0.8482142857142857,
          0.9369369369369368,
          0.8287671232876712,
          0.9802955665024632,
          0.8484848484848485,
          0.97196261682243,
          0.8269230769230769,
          0.872093023255814,
          0.9393939393939394,
          0.8046875,
          0.855072463768116,
          0.8756218905472637,
          0.8816568047337278,
          0.9831932773109244,
          0.9291338582677166,
          0.76875,
          0.8818897637795275,
          0.810126582278481,
          0.8457142857142858,
          0.7573529411764706,
          0.6746987951807228,
          0.9043478260869564,
          0.5754716981132075,
          0.8278688524590164,
          0.928,
          0.9649122807017544,
          0.7768595041322314,
          0.9076923076923076,
          0.8870967741935484,
          0.7414965986394558,
          1,
          0.989010989010989,
          0.9611650485436892,
          0.9759615384615384,
          0.9876543209876544,
          0.8928571428571429,
          0.9432624113475178,
          0.875,
          0.7815533980582524,
          0.9103448275862068,
          0.957983193277311,
          0.92,
          0.9946808510638298,
          1,
          0.9918032786885246,
          0.8775510204081632,
          0.9593023255813954,
          0.9239130434782608,
          0.8908045977011494,
          0.7916666666666666,
          0.9611650485436892,
          0.950413223140496,
          0.9850746268656716,
          0,
          1,
          0.8835616438356164,
          0.76,
          0.9306930693069309,
          0.961904761904762,
          0.8712121212121212,
          0.8669950738916257,
          0.861271676300578,
          0.965034965034965,
          0.991304347826087,
          0.8231292517006803,
          0.9083333333333332,
          0.8187919463087249,
          0.8757396449704142,
          0.865546218487395,
          0.6647398843930635,
          0.8455284552845529,
          0.6559139784946236,
          0.7202797202797203,
          0.956896551724138,
          0.940677966101695,
          0.8867924528301887,
          0,
          0.8709677419354839,
          0.7956204379562044,
          0.972318339100346,
          0.845,
          0.9833333333333332,
          0.9788359788359788,
          0.9732620320855616,
          0.822429906542056,
          0.9,
          0.9241379310344828,
          0.9015151515151516,
          0.7815533980582524,
          0.8461538461538461,
          0.935483870967742,
          0.9212598425196852,
          0.963157894736842,
          0.959349593495935,
          0.9894736842105264,
          0.7948717948717948,
          0.9657142857142856,
          0.9479166666666666,
          0.8715083798882681,
          0.7899159663865546,
          0.9316239316239316,
          0.8897058823529411,
          0.975609756097561,
          1,
          0.975609756097561,
          0.8461538461538461,
          0.8088235294117647,
          1,
          0.8879310344827587,
          0.8275862068965517,
          0.8952879581151832,
          0.8604651162790697,
          0.9221556886227544,
          0.9689922480620154,
          0.7770700636942676,
          0.8527131782945736,
          0.8187919463087249,
          0.8809523809523809,
          0.7761194029850746,
          0.7012195121951219,
          0.8524590163934426,
          0.6192893401015228,
          0.8106060606060606,
          0.9487179487179488,
          0.9734513274336284,
          0.831858407079646,
          0.7951807228915663,
          0.9159663865546218,
          0.7622377622377622
         ],
         "y0": " ",
         "yaxis": "y"
        },
        {
         "alignmentgroup": "True",
         "hovertemplate": "metrics=Recall<br>model_len=%{x}<br>scores=%{y}<extra></extra>",
         "legendgroup": "Recall",
         "marker": {
          "color": "#ab63fa",
          "opacity": 0
         },
         "name": "Recall",
         "notched": false,
         "offsetgroup": "Recall",
         "orientation": "v",
         "showlegend": true,
         "type": "box",
         "x": [
          "50 imagens",
          "50 imagens",
          "50 imagens",
          "50 imagens",
          "50 imagens",
          "50 imagens",
          "50 imagens",
          "50 imagens",
          "50 imagens",
          "50 imagens",
          "50 imagens",
          "50 imagens",
          "50 imagens",
          "50 imagens",
          "50 imagens",
          "50 imagens",
          "50 imagens",
          "50 imagens",
          "50 imagens",
          "50 imagens",
          "50 imagens",
          "50 imagens",
          "50 imagens",
          "50 imagens",
          "50 imagens",
          "50 imagens",
          "50 imagens",
          "50 imagens",
          "50 imagens",
          "50 imagens",
          "50 imagens",
          "50 imagens",
          "50 imagens",
          "50 imagens",
          "50 imagens",
          "50 imagens",
          "50 imagens",
          "50 imagens",
          "50 imagens",
          "50 imagens",
          "50 imagens",
          "50 imagens",
          "50 imagens",
          "50 imagens",
          "75 imagens",
          "75 imagens",
          "75 imagens",
          "75 imagens",
          "75 imagens",
          "75 imagens",
          "75 imagens",
          "75 imagens",
          "75 imagens",
          "75 imagens",
          "75 imagens",
          "75 imagens",
          "75 imagens",
          "75 imagens",
          "75 imagens",
          "75 imagens",
          "75 imagens",
          "75 imagens",
          "75 imagens",
          "75 imagens",
          "75 imagens",
          "75 imagens",
          "75 imagens",
          "75 imagens",
          "75 imagens",
          "75 imagens",
          "75 imagens",
          "75 imagens",
          "75 imagens",
          "75 imagens",
          "75 imagens",
          "75 imagens",
          "75 imagens",
          "75 imagens",
          "75 imagens",
          "75 imagens",
          "75 imagens",
          "75 imagens",
          "75 imagens",
          "75 imagens",
          "75 imagens",
          "75 imagens",
          "75 imagens",
          "75 imagens",
          "75 imagens",
          "75 imagens",
          "75 imagens",
          "75 imagens",
          "100 imagens",
          "100 imagens",
          "100 imagens",
          "100 imagens",
          "100 imagens",
          "100 imagens",
          "100 imagens",
          "100 imagens",
          "100 imagens",
          "100 imagens",
          "100 imagens",
          "100 imagens",
          "100 imagens",
          "100 imagens",
          "100 imagens",
          "100 imagens",
          "100 imagens",
          "100 imagens",
          "100 imagens",
          "100 imagens",
          "100 imagens",
          "100 imagens",
          "100 imagens",
          "100 imagens",
          "100 imagens",
          "100 imagens",
          "100 imagens",
          "100 imagens",
          "100 imagens",
          "100 imagens",
          "100 imagens",
          "100 imagens",
          "100 imagens",
          "100 imagens",
          "100 imagens",
          "100 imagens",
          "100 imagens",
          "100 imagens",
          "100 imagens",
          "100 imagens",
          "100 imagens",
          "100 imagens",
          "100 imagens",
          "100 imagens",
          "100 imagens",
          "100 imagens",
          "100 imagens",
          "100 imagens",
          "100 imagens",
          "125 imagens",
          "125 imagens",
          "125 imagens",
          "125 imagens",
          "125 imagens",
          "125 imagens",
          "125 imagens",
          "125 imagens",
          "125 imagens",
          "125 imagens",
          "125 imagens",
          "125 imagens",
          "125 imagens",
          "125 imagens",
          "125 imagens",
          "125 imagens",
          "125 imagens",
          "125 imagens",
          "125 imagens",
          "125 imagens",
          "125 imagens",
          "125 imagens",
          "125 imagens",
          "125 imagens",
          "125 imagens",
          "125 imagens",
          "125 imagens",
          "125 imagens",
          "125 imagens",
          "125 imagens",
          "125 imagens",
          "125 imagens",
          "125 imagens",
          "125 imagens",
          "125 imagens",
          "125 imagens",
          "125 imagens",
          "125 imagens",
          "125 imagens",
          "125 imagens",
          "125 imagens",
          "125 imagens",
          "125 imagens",
          "125 imagens",
          "125 imagens",
          "125 imagens",
          "125 imagens",
          "125 imagens",
          "125 imagens",
          "150 imagens",
          "150 imagens",
          "150 imagens",
          "150 imagens",
          "150 imagens",
          "150 imagens",
          "150 imagens",
          "150 imagens",
          "150 imagens",
          "150 imagens",
          "150 imagens",
          "150 imagens",
          "150 imagens",
          "150 imagens",
          "150 imagens",
          "150 imagens",
          "150 imagens",
          "150 imagens",
          "150 imagens",
          "150 imagens",
          "150 imagens",
          "150 imagens",
          "150 imagens",
          "150 imagens",
          "150 imagens",
          "150 imagens",
          "150 imagens",
          "150 imagens",
          "150 imagens",
          "150 imagens",
          "150 imagens",
          "150 imagens",
          "150 imagens",
          "150 imagens",
          "150 imagens",
          "150 imagens",
          "150 imagens",
          "150 imagens",
          "150 imagens",
          "150 imagens",
          "150 imagens",
          "150 imagens",
          "150 imagens",
          "150 imagens",
          "150 imagens",
          "150 imagens",
          "150 imagens",
          "150 imagens",
          "150 imagens",
          "175 imagens",
          "175 imagens",
          "175 imagens",
          "175 imagens",
          "175 imagens",
          "175 imagens",
          "175 imagens",
          "175 imagens",
          "175 imagens",
          "175 imagens",
          "175 imagens",
          "175 imagens",
          "175 imagens",
          "175 imagens",
          "175 imagens",
          "175 imagens",
          "175 imagens",
          "175 imagens",
          "175 imagens",
          "175 imagens",
          "175 imagens",
          "175 imagens",
          "175 imagens",
          "175 imagens",
          "175 imagens",
          "175 imagens",
          "175 imagens",
          "175 imagens",
          "175 imagens",
          "175 imagens",
          "175 imagens",
          "175 imagens",
          "175 imagens",
          "175 imagens",
          "175 imagens",
          "175 imagens",
          "175 imagens",
          "175 imagens",
          "175 imagens",
          "175 imagens",
          "175 imagens",
          "175 imagens",
          "175 imagens",
          "175 imagens",
          "175 imagens",
          "175 imagens",
          "175 imagens",
          "175 imagens",
          "175 imagens",
          "200 imagens",
          "200 imagens",
          "200 imagens",
          "200 imagens",
          "200 imagens",
          "200 imagens",
          "200 imagens",
          "200 imagens",
          "200 imagens",
          "200 imagens",
          "200 imagens",
          "200 imagens",
          "200 imagens",
          "200 imagens",
          "200 imagens",
          "200 imagens",
          "200 imagens",
          "200 imagens",
          "200 imagens",
          "200 imagens",
          "200 imagens",
          "200 imagens",
          "200 imagens",
          "200 imagens",
          "200 imagens",
          "200 imagens",
          "200 imagens",
          "200 imagens",
          "200 imagens",
          "200 imagens",
          "200 imagens",
          "200 imagens",
          "200 imagens",
          "200 imagens",
          "200 imagens",
          "200 imagens",
          "200 imagens",
          "200 imagens",
          "200 imagens",
          "200 imagens",
          "200 imagens",
          "200 imagens",
          "200 imagens",
          "200 imagens",
          "200 imagens",
          "200 imagens",
          "200 imagens",
          "200 imagens",
          "200 imagens",
          "226 imagens",
          "226 imagens",
          "226 imagens",
          "226 imagens",
          "226 imagens",
          "226 imagens",
          "226 imagens",
          "226 imagens",
          "226 imagens",
          "226 imagens",
          "226 imagens",
          "226 imagens",
          "226 imagens",
          "226 imagens",
          "226 imagens",
          "226 imagens",
          "226 imagens",
          "226 imagens",
          "226 imagens",
          "226 imagens",
          "226 imagens",
          "226 imagens",
          "226 imagens",
          "226 imagens",
          "226 imagens",
          "226 imagens",
          "226 imagens",
          "226 imagens",
          "226 imagens",
          "226 imagens",
          "226 imagens",
          "226 imagens",
          "226 imagens",
          "226 imagens",
          "226 imagens",
          "226 imagens",
          "226 imagens",
          "226 imagens",
          "226 imagens",
          "226 imagens",
          "226 imagens",
          "226 imagens",
          "226 imagens",
          "226 imagens",
          "226 imagens",
          "226 imagens",
          "226 imagens",
          "226 imagens",
          "226 imagens",
          "226 imagens"
         ],
         "x0": " ",
         "xaxis": "x",
         "y": [
          0.7794871794871795,
          0.1555555555555555,
          0.9212598425196852,
          0.9117647058823528,
          0,
          0.9751552795031057,
          0.9626865671641792,
          0.6163522012578616,
          0.7203389830508474,
          0.6854460093896714,
          0.8702290076335878,
          0.8128654970760234,
          0.8020833333333334,
          0.967948717948718,
          0.9789473684210528,
          0.3135593220338983,
          0.3846153846153846,
          0.8394160583941606,
          0.7169811320754716,
          0.1384615384615384,
          0.937984496124031,
          0.3565217391304348,
          0.5596330275229358,
          0.3669724770642202,
          0.7723577235772358,
          0.9615384615384616,
          0.9798657718120806,
          0.4753086419753086,
          0.3005464480874317,
          0.7265625,
          0.9732142857142856,
          0.8787878787878788,
          0.9054054054054054,
          0.9807692307692308,
          0.9741379310344828,
          1,
          1,
          0.897196261682243,
          0.7983870967741935,
          0.7580645161290323,
          0.9893617021276596,
          0.6666666666666666,
          0.8,
          1,
          0.4235668789808917,
          0.8769230769230769,
          0.6174242424242424,
          0.8444444444444444,
          0.9763779527559056,
          0.9264705882352942,
          0.8770491803278688,
          1,
          0.9925373134328358,
          0.8238993710691824,
          0.9915254237288136,
          0.784037558685446,
          0.6377952755905512,
          0.4644549763033175,
          0.931297709923664,
          0.9415204678362572,
          0.84375,
          1,
          0.9894736842105264,
          0.7542372881355932,
          0.8540145985401459,
          0.8962264150943396,
          0.6076923076923076,
          0.4274193548387097,
          1,
          0.6521739130434783,
          0.1376146788990825,
          0.926605504587156,
          0.943089430894309,
          0.945054945054945,
          0.9932885906040269,
          0.8024691358024691,
          0.6939890710382514,
          0.8984375,
          0.9910714285714286,
          0.9696969696969696,
          0.9864864864864864,
          1,
          0.9913793103448276,
          1,
          1,
          0.9532710280373832,
          0.6209677419354839,
          0.9032258064516128,
          1,
          0.1452991452991453,
          0.9130434782608696,
          1,
          0.3471337579617834,
          0.8564102564102564,
          0.4460431654676259,
          0.5568181818181818,
          0.8111111111111111,
          0.9921259842519684,
          0.9338235294117648,
          0.8934426229508197,
          0.9937888198757764,
          1,
          0.710691823899371,
          0.9576271186440678,
          0.8779342723004695,
          0.3464566929133858,
          0.1848341232227488,
          0.9236641221374046,
          0.8538011695906432,
          0.9270833333333334,
          1,
          0.9789473684210528,
          0.7288135593220338,
          0.8248175182481752,
          0.8726415094339622,
          0.2538461538461538,
          0.6693548387096774,
          0.992248062015504,
          0.4347826086956521,
          0.3119266055045872,
          0.8990825688073395,
          0.91869918699187,
          0.956043956043956,
          1,
          0.845679012345679,
          0.5573770491803278,
          0.890625,
          0.9732142857142856,
          0.8939393939393939,
          1,
          1,
          0.9913793103448276,
          1,
          1,
          0.9906542056074766,
          0.8145161290322581,
          0.9032258064516128,
          0.9893617021276596,
          0.5811965811965812,
          0.9478260869565216,
          1,
          0.5127388535031847,
          0.9128205128205128,
          0.6906474820143885,
          0.6212121212121212,
          0.6666666666666666,
          1,
          0.9485294117647058,
          0.8688524590163934,
          1,
          1,
          0.7484276729559748,
          0.9830508474576272,
          0.8450704225352113,
          0.7165354330708661,
          0.4407582938388625,
          0.9694656488549618,
          0.9941520467836256,
          0.875,
          0.9935897435897436,
          1,
          0.864406779661017,
          0.8759124087591241,
          0.9245283018867924,
          0.3538461538461538,
          0.6290322580645161,
          0.9224806201550388,
          0.8956521739130435,
          0.8807339449541285,
          0.9357798165137616,
          0.991869918699187,
          0.956043956043956,
          0.9932885906040269,
          0.8641975308641975,
          0.7431693989071039,
          0.984375,
          0.9821428571428572,
          0.9015151515151516,
          1,
          1,
          0.9913793103448276,
          1,
          1,
          0.9813084112149532,
          0.7096774193548387,
          0.8064516129032258,
          1,
          0.376068376068376,
          0.9652173913043478,
          1,
          0.4872611464968153,
          0.8974358974358975,
          0.7913669064748201,
          0.7348484848484849,
          0.7555555555555555,
          0.9763779527559056,
          0.9779411764705882,
          0.9590163934426228,
          1,
          1,
          0.6918238993710691,
          0.9915254237288136,
          0.7652582159624414,
          0.889763779527559,
          0.5071090047393365,
          0.9541984732824428,
          0.9824561403508772,
          0.90625,
          1,
          1,
          0.7711864406779662,
          0.8467153284671532,
          0.9433962264150944,
          0.4,
          0.8790322580645161,
          1,
          0.7130434782608696,
          0.8256880733944955,
          0.944954128440367,
          1,
          0.956043956043956,
          1,
          0.8641975308641975,
          0.7049180327868853,
          0.9453125,
          0.9821428571428572,
          0.8712121212121212,
          1,
          0.971153846153846,
          0.9913793103448276,
          1,
          1,
          1,
          0.7661290322580645,
          0.8709677419354839,
          1,
          0.4871794871794871,
          0.9565217391304348,
          1,
          0.6114649681528662,
          0.964102564102564,
          0.7194244604316546,
          0.7424242424242424,
          0.6666666666666666,
          0.9921259842519684,
          0.9852941176470588,
          0.9672131147540984,
          1,
          1,
          0.7547169811320755,
          0.9915254237288136,
          0.943661971830986,
          0.9212598425196852,
          0.909952606635071,
          0.9847328244274808,
          0.9824561403508772,
          0.9791666666666666,
          1,
          1,
          0.8813559322033898,
          0.8832116788321168,
          0.9386792452830188,
          0.2153846153846154,
          0.8387096774193549,
          1,
          0.6521739130434783,
          0.8532110091743119,
          0.944954128440367,
          0.959349593495935,
          0.967032967032967,
          1,
          0.7222222222222222,
          0.644808743169399,
          0.9609375,
          1,
          0.9696969696969696,
          1,
          0.9903846153846154,
          0.9655172413793104,
          1,
          1,
          0.9439252336448598,
          0.935483870967742,
          0.8870967741935484,
          1,
          0.5042735042735043,
          0.9565217391304348,
          1,
          0.5605095541401274,
          0.9230769230769232,
          0.7122302158273381,
          0.7689393939393939,
          0.8888888888888888,
          0.984251968503937,
          0.9779411764705882,
          0.9754098360655736,
          1,
          0.9850746268656716,
          0.7169811320754716,
          0.9745762711864406,
          0.8779342723004695,
          0.6456692913385826,
          0.5734597156398105,
          0.9847328244274808,
          0.9649122807017544,
          0.8854166666666666,
          0.9935897435897436,
          1,
          0.8389830508474576,
          0.8394160583941606,
          0.9339622641509434,
          0,
          0.8225806451612904,
          1,
          0.4956521739130435,
          0.8623853211009175,
          0.926605504587156,
          0.934959349593496,
          0.967032967032967,
          1,
          0.8518518518518519,
          0.6229508196721312,
          0.9453125,
          0.9732142857142856,
          0.9242424242424242,
          1,
          0.9903846153846154,
          0.9913793103448276,
          1,
          1,
          0.9626168224299064,
          0.8951612903225806,
          0.8951612903225806,
          1,
          0,
          0.9391304347826088,
          1,
          0.9929328621908128,
          0.7130801687763713,
          0.5636942675159236,
          0.9487179487179488,
          0.6893939393939394,
          0.9777777777777776,
          0.9921259842519684,
          0.9852941176470588,
          0.9754098360655736,
          1,
          0.9850746268656716,
          0.7295597484276729,
          0.9915254237288136,
          0.8591549295774648,
          0.9291338582677166,
          0.8909952606635071,
          0.9465648854961832,
          0.9883040935672516,
          0.9479166666666666,
          1,
          0.9894736842105264,
          0.923728813559322,
          0.8832116788321168,
          0.9433962264150944,
          0.3230769230769231,
          0.967741935483871,
          0.937984496124031,
          0.9565217391304348,
          0.8165137614678899,
          0.944954128440367,
          0.975609756097561,
          0.9395604395604396,
          0.9932885906040269,
          0.9506172839506172,
          0.6830601092896175,
          0.953125,
          0.9821428571428572,
          0.9242424242424242,
          1,
          1,
          0.9913793103448276,
          1,
          1,
          1,
          0.8951612903225806,
          0.8870967741935484,
          1,
          0.5641025641025641,
          0.9478260869565216,
          1
         ],
         "y0": " ",
         "yaxis": "y"
        }
       ],
       "layout": {
        "barmode": "group",
        "boxmode": "group",
        "legend": {
         "title": {
          "text": "metrics"
         },
         "tracegroupgap": 0
        },
        "template": {
         "data": {
          "bar": [
           {
            "error_x": {
             "color": "#2a3f5f"
            },
            "error_y": {
             "color": "#2a3f5f"
            },
            "marker": {
             "line": {
              "color": "#E5ECF6",
              "width": 0.5
             },
             "pattern": {
              "fillmode": "overlay",
              "size": 10,
              "solidity": 0.2
             }
            },
            "type": "bar"
           }
          ],
          "barpolar": [
           {
            "marker": {
             "line": {
              "color": "#E5ECF6",
              "width": 0.5
             },
             "pattern": {
              "fillmode": "overlay",
              "size": 10,
              "solidity": 0.2
             }
            },
            "type": "barpolar"
           }
          ],
          "carpet": [
           {
            "aaxis": {
             "endlinecolor": "#2a3f5f",
             "gridcolor": "white",
             "linecolor": "white",
             "minorgridcolor": "white",
             "startlinecolor": "#2a3f5f"
            },
            "baxis": {
             "endlinecolor": "#2a3f5f",
             "gridcolor": "white",
             "linecolor": "white",
             "minorgridcolor": "white",
             "startlinecolor": "#2a3f5f"
            },
            "type": "carpet"
           }
          ],
          "choropleth": [
           {
            "colorbar": {
             "outlinewidth": 0,
             "ticks": ""
            },
            "type": "choropleth"
           }
          ],
          "contour": [
           {
            "colorbar": {
             "outlinewidth": 0,
             "ticks": ""
            },
            "colorscale": [
             [
              0,
              "#0d0887"
             ],
             [
              0.1111111111111111,
              "#46039f"
             ],
             [
              0.2222222222222222,
              "#7201a8"
             ],
             [
              0.3333333333333333,
              "#9c179e"
             ],
             [
              0.4444444444444444,
              "#bd3786"
             ],
             [
              0.5555555555555556,
              "#d8576b"
             ],
             [
              0.6666666666666666,
              "#ed7953"
             ],
             [
              0.7777777777777778,
              "#fb9f3a"
             ],
             [
              0.8888888888888888,
              "#fdca26"
             ],
             [
              1,
              "#f0f921"
             ]
            ],
            "type": "contour"
           }
          ],
          "contourcarpet": [
           {
            "colorbar": {
             "outlinewidth": 0,
             "ticks": ""
            },
            "type": "contourcarpet"
           }
          ],
          "heatmap": [
           {
            "colorbar": {
             "outlinewidth": 0,
             "ticks": ""
            },
            "colorscale": [
             [
              0,
              "#0d0887"
             ],
             [
              0.1111111111111111,
              "#46039f"
             ],
             [
              0.2222222222222222,
              "#7201a8"
             ],
             [
              0.3333333333333333,
              "#9c179e"
             ],
             [
              0.4444444444444444,
              "#bd3786"
             ],
             [
              0.5555555555555556,
              "#d8576b"
             ],
             [
              0.6666666666666666,
              "#ed7953"
             ],
             [
              0.7777777777777778,
              "#fb9f3a"
             ],
             [
              0.8888888888888888,
              "#fdca26"
             ],
             [
              1,
              "#f0f921"
             ]
            ],
            "type": "heatmap"
           }
          ],
          "heatmapgl": [
           {
            "colorbar": {
             "outlinewidth": 0,
             "ticks": ""
            },
            "colorscale": [
             [
              0,
              "#0d0887"
             ],
             [
              0.1111111111111111,
              "#46039f"
             ],
             [
              0.2222222222222222,
              "#7201a8"
             ],
             [
              0.3333333333333333,
              "#9c179e"
             ],
             [
              0.4444444444444444,
              "#bd3786"
             ],
             [
              0.5555555555555556,
              "#d8576b"
             ],
             [
              0.6666666666666666,
              "#ed7953"
             ],
             [
              0.7777777777777778,
              "#fb9f3a"
             ],
             [
              0.8888888888888888,
              "#fdca26"
             ],
             [
              1,
              "#f0f921"
             ]
            ],
            "type": "heatmapgl"
           }
          ],
          "histogram": [
           {
            "marker": {
             "pattern": {
              "fillmode": "overlay",
              "size": 10,
              "solidity": 0.2
             }
            },
            "type": "histogram"
           }
          ],
          "histogram2d": [
           {
            "colorbar": {
             "outlinewidth": 0,
             "ticks": ""
            },
            "colorscale": [
             [
              0,
              "#0d0887"
             ],
             [
              0.1111111111111111,
              "#46039f"
             ],
             [
              0.2222222222222222,
              "#7201a8"
             ],
             [
              0.3333333333333333,
              "#9c179e"
             ],
             [
              0.4444444444444444,
              "#bd3786"
             ],
             [
              0.5555555555555556,
              "#d8576b"
             ],
             [
              0.6666666666666666,
              "#ed7953"
             ],
             [
              0.7777777777777778,
              "#fb9f3a"
             ],
             [
              0.8888888888888888,
              "#fdca26"
             ],
             [
              1,
              "#f0f921"
             ]
            ],
            "type": "histogram2d"
           }
          ],
          "histogram2dcontour": [
           {
            "colorbar": {
             "outlinewidth": 0,
             "ticks": ""
            },
            "colorscale": [
             [
              0,
              "#0d0887"
             ],
             [
              0.1111111111111111,
              "#46039f"
             ],
             [
              0.2222222222222222,
              "#7201a8"
             ],
             [
              0.3333333333333333,
              "#9c179e"
             ],
             [
              0.4444444444444444,
              "#bd3786"
             ],
             [
              0.5555555555555556,
              "#d8576b"
             ],
             [
              0.6666666666666666,
              "#ed7953"
             ],
             [
              0.7777777777777778,
              "#fb9f3a"
             ],
             [
              0.8888888888888888,
              "#fdca26"
             ],
             [
              1,
              "#f0f921"
             ]
            ],
            "type": "histogram2dcontour"
           }
          ],
          "mesh3d": [
           {
            "colorbar": {
             "outlinewidth": 0,
             "ticks": ""
            },
            "type": "mesh3d"
           }
          ],
          "parcoords": [
           {
            "line": {
             "colorbar": {
              "outlinewidth": 0,
              "ticks": ""
             }
            },
            "type": "parcoords"
           }
          ],
          "pie": [
           {
            "automargin": true,
            "type": "pie"
           }
          ],
          "scatter": [
           {
            "fillpattern": {
             "fillmode": "overlay",
             "size": 10,
             "solidity": 0.2
            },
            "type": "scatter"
           }
          ],
          "scatter3d": [
           {
            "line": {
             "colorbar": {
              "outlinewidth": 0,
              "ticks": ""
             }
            },
            "marker": {
             "colorbar": {
              "outlinewidth": 0,
              "ticks": ""
             }
            },
            "type": "scatter3d"
           }
          ],
          "scattercarpet": [
           {
            "marker": {
             "colorbar": {
              "outlinewidth": 0,
              "ticks": ""
             }
            },
            "type": "scattercarpet"
           }
          ],
          "scattergeo": [
           {
            "marker": {
             "colorbar": {
              "outlinewidth": 0,
              "ticks": ""
             }
            },
            "type": "scattergeo"
           }
          ],
          "scattergl": [
           {
            "marker": {
             "colorbar": {
              "outlinewidth": 0,
              "ticks": ""
             }
            },
            "type": "scattergl"
           }
          ],
          "scattermapbox": [
           {
            "marker": {
             "colorbar": {
              "outlinewidth": 0,
              "ticks": ""
             }
            },
            "type": "scattermapbox"
           }
          ],
          "scatterpolar": [
           {
            "marker": {
             "colorbar": {
              "outlinewidth": 0,
              "ticks": ""
             }
            },
            "type": "scatterpolar"
           }
          ],
          "scatterpolargl": [
           {
            "marker": {
             "colorbar": {
              "outlinewidth": 0,
              "ticks": ""
             }
            },
            "type": "scatterpolargl"
           }
          ],
          "scatterternary": [
           {
            "marker": {
             "colorbar": {
              "outlinewidth": 0,
              "ticks": ""
             }
            },
            "type": "scatterternary"
           }
          ],
          "surface": [
           {
            "colorbar": {
             "outlinewidth": 0,
             "ticks": ""
            },
            "colorscale": [
             [
              0,
              "#0d0887"
             ],
             [
              0.1111111111111111,
              "#46039f"
             ],
             [
              0.2222222222222222,
              "#7201a8"
             ],
             [
              0.3333333333333333,
              "#9c179e"
             ],
             [
              0.4444444444444444,
              "#bd3786"
             ],
             [
              0.5555555555555556,
              "#d8576b"
             ],
             [
              0.6666666666666666,
              "#ed7953"
             ],
             [
              0.7777777777777778,
              "#fb9f3a"
             ],
             [
              0.8888888888888888,
              "#fdca26"
             ],
             [
              1,
              "#f0f921"
             ]
            ],
            "type": "surface"
           }
          ],
          "table": [
           {
            "cells": {
             "fill": {
              "color": "#EBF0F8"
             },
             "line": {
              "color": "white"
             }
            },
            "header": {
             "fill": {
              "color": "#C8D4E3"
             },
             "line": {
              "color": "white"
             }
            },
            "type": "table"
           }
          ]
         },
         "layout": {
          "annotationdefaults": {
           "arrowcolor": "#2a3f5f",
           "arrowhead": 0,
           "arrowwidth": 1
          },
          "autotypenumbers": "strict",
          "coloraxis": {
           "colorbar": {
            "outlinewidth": 0,
            "ticks": ""
           }
          },
          "colorscale": {
           "diverging": [
            [
             0,
             "#8e0152"
            ],
            [
             0.1,
             "#c51b7d"
            ],
            [
             0.2,
             "#de77ae"
            ],
            [
             0.3,
             "#f1b6da"
            ],
            [
             0.4,
             "#fde0ef"
            ],
            [
             0.5,
             "#f7f7f7"
            ],
            [
             0.6,
             "#e6f5d0"
            ],
            [
             0.7,
             "#b8e186"
            ],
            [
             0.8,
             "#7fbc41"
            ],
            [
             0.9,
             "#4d9221"
            ],
            [
             1,
             "#276419"
            ]
           ],
           "sequential": [
            [
             0,
             "#0d0887"
            ],
            [
             0.1111111111111111,
             "#46039f"
            ],
            [
             0.2222222222222222,
             "#7201a8"
            ],
            [
             0.3333333333333333,
             "#9c179e"
            ],
            [
             0.4444444444444444,
             "#bd3786"
            ],
            [
             0.5555555555555556,
             "#d8576b"
            ],
            [
             0.6666666666666666,
             "#ed7953"
            ],
            [
             0.7777777777777778,
             "#fb9f3a"
            ],
            [
             0.8888888888888888,
             "#fdca26"
            ],
            [
             1,
             "#f0f921"
            ]
           ],
           "sequentialminus": [
            [
             0,
             "#0d0887"
            ],
            [
             0.1111111111111111,
             "#46039f"
            ],
            [
             0.2222222222222222,
             "#7201a8"
            ],
            [
             0.3333333333333333,
             "#9c179e"
            ],
            [
             0.4444444444444444,
             "#bd3786"
            ],
            [
             0.5555555555555556,
             "#d8576b"
            ],
            [
             0.6666666666666666,
             "#ed7953"
            ],
            [
             0.7777777777777778,
             "#fb9f3a"
            ],
            [
             0.8888888888888888,
             "#fdca26"
            ],
            [
             1,
             "#f0f921"
            ]
           ]
          },
          "colorway": [
           "#636efa",
           "#EF553B",
           "#00cc96",
           "#ab63fa",
           "#FFA15A",
           "#19d3f3",
           "#FF6692",
           "#B6E880",
           "#FF97FF",
           "#FECB52"
          ],
          "font": {
           "color": "#2a3f5f"
          },
          "geo": {
           "bgcolor": "white",
           "lakecolor": "white",
           "landcolor": "#E5ECF6",
           "showlakes": true,
           "showland": true,
           "subunitcolor": "white"
          },
          "hoverlabel": {
           "align": "left"
          },
          "hovermode": "closest",
          "mapbox": {
           "style": "light"
          },
          "paper_bgcolor": "white",
          "plot_bgcolor": "#E5ECF6",
          "polar": {
           "angularaxis": {
            "gridcolor": "white",
            "linecolor": "white",
            "ticks": ""
           },
           "bgcolor": "#E5ECF6",
           "radialaxis": {
            "gridcolor": "white",
            "linecolor": "white",
            "ticks": ""
           }
          },
          "scene": {
           "xaxis": {
            "backgroundcolor": "#E5ECF6",
            "gridcolor": "white",
            "gridwidth": 2,
            "linecolor": "white",
            "showbackground": true,
            "ticks": "",
            "zerolinecolor": "white"
           },
           "yaxis": {
            "backgroundcolor": "#E5ECF6",
            "gridcolor": "white",
            "gridwidth": 2,
            "linecolor": "white",
            "showbackground": true,
            "ticks": "",
            "zerolinecolor": "white"
           },
           "zaxis": {
            "backgroundcolor": "#E5ECF6",
            "gridcolor": "white",
            "gridwidth": 2,
            "linecolor": "white",
            "showbackground": true,
            "ticks": "",
            "zerolinecolor": "white"
           }
          },
          "shapedefaults": {
           "line": {
            "color": "#2a3f5f"
           }
          },
          "ternary": {
           "aaxis": {
            "gridcolor": "white",
            "linecolor": "white",
            "ticks": ""
           },
           "baxis": {
            "gridcolor": "white",
            "linecolor": "white",
            "ticks": ""
           },
           "bgcolor": "#E5ECF6",
           "caxis": {
            "gridcolor": "white",
            "linecolor": "white",
            "ticks": ""
           }
          },
          "title": {
           "x": 0.05
          },
          "xaxis": {
           "automargin": true,
           "gridcolor": "white",
           "linecolor": "white",
           "ticks": "",
           "title": {
            "standoff": 15
           },
           "zerolinecolor": "white",
           "zerolinewidth": 2
          },
          "yaxis": {
           "automargin": true,
           "gridcolor": "white",
           "linecolor": "white",
           "ticks": "",
           "title": {
            "standoff": 15
           },
           "zerolinecolor": "white",
           "zerolinewidth": 2
          }
         }
        },
        "title": {
         "text": "Unet sample comparison"
        },
        "xaxis": {
         "anchor": "y",
         "domain": [
          0,
          1
         ],
         "title": {
          "text": "model_len"
         }
        },
        "yaxis": {
         "anchor": "x",
         "domain": [
          0,
          1
         ],
         "range": [
          0,
          1
         ],
         "title": {
          "text": "scores"
         }
        }
       }
      }
     },
     "metadata": {},
     "output_type": "display_data"
    },
    {
     "data": {
      "application/vnd.plotly.v1+json": {
       "config": {
        "plotlyServerURL": "https://plot.ly"
       },
       "data": [
        {
         "cells": {
          "align": "right",
          "values": [
           [
            "count",
            "mean",
            "std",
            "min",
            "25%",
            "50%",
            "75%",
            "max"
           ],
           [
            452,
            0.688,
            0.227,
            0,
            0.584,
            0.772,
            0.849,
            0.966
           ],
           [
            452,
            0.784,
            0.259,
            0,
            0.645,
            0.898,
            0.984,
            1
           ],
           [
            452,
            0.847,
            0.175,
            0,
            0.81,
            0.883,
            0.964,
            1
           ],
           [
            452,
            0.788,
            0.205,
            0,
            0.738,
            0.871,
            0.918,
            0.983
           ],
           [
            28,
            0.063,
            0.133,
            0,
            0,
            0,
            0.074,
            0.671
           ],
           [
            28,
            0.066,
            0.146,
            0,
            0,
            0,
            0.074,
            0.748
           ],
           [
            28,
            0.418,
            0.493,
            0,
            0,
            0,
            1,
            1
           ],
           [
            28,
            0.098,
            0.172,
            0,
            0,
            0,
            0.138,
            0.803
           ]
          ]
         },
         "header": {
          "align": "right",
          "values": [
           "index",
           "Jaccard",
           "Recall",
           "Precision",
           "F1",
           "unet_Jaccard",
           "unet_Recall",
           "unet_Precision",
           "unet_F1"
          ]
         },
         "type": "table"
        }
       ],
       "layout": {
        "template": {
         "data": {
          "bar": [
           {
            "error_x": {
             "color": "#2a3f5f"
            },
            "error_y": {
             "color": "#2a3f5f"
            },
            "marker": {
             "line": {
              "color": "#E5ECF6",
              "width": 0.5
             },
             "pattern": {
              "fillmode": "overlay",
              "size": 10,
              "solidity": 0.2
             }
            },
            "type": "bar"
           }
          ],
          "barpolar": [
           {
            "marker": {
             "line": {
              "color": "#E5ECF6",
              "width": 0.5
             },
             "pattern": {
              "fillmode": "overlay",
              "size": 10,
              "solidity": 0.2
             }
            },
            "type": "barpolar"
           }
          ],
          "carpet": [
           {
            "aaxis": {
             "endlinecolor": "#2a3f5f",
             "gridcolor": "white",
             "linecolor": "white",
             "minorgridcolor": "white",
             "startlinecolor": "#2a3f5f"
            },
            "baxis": {
             "endlinecolor": "#2a3f5f",
             "gridcolor": "white",
             "linecolor": "white",
             "minorgridcolor": "white",
             "startlinecolor": "#2a3f5f"
            },
            "type": "carpet"
           }
          ],
          "choropleth": [
           {
            "colorbar": {
             "outlinewidth": 0,
             "ticks": ""
            },
            "type": "choropleth"
           }
          ],
          "contour": [
           {
            "colorbar": {
             "outlinewidth": 0,
             "ticks": ""
            },
            "colorscale": [
             [
              0,
              "#0d0887"
             ],
             [
              0.1111111111111111,
              "#46039f"
             ],
             [
              0.2222222222222222,
              "#7201a8"
             ],
             [
              0.3333333333333333,
              "#9c179e"
             ],
             [
              0.4444444444444444,
              "#bd3786"
             ],
             [
              0.5555555555555556,
              "#d8576b"
             ],
             [
              0.6666666666666666,
              "#ed7953"
             ],
             [
              0.7777777777777778,
              "#fb9f3a"
             ],
             [
              0.8888888888888888,
              "#fdca26"
             ],
             [
              1,
              "#f0f921"
             ]
            ],
            "type": "contour"
           }
          ],
          "contourcarpet": [
           {
            "colorbar": {
             "outlinewidth": 0,
             "ticks": ""
            },
            "type": "contourcarpet"
           }
          ],
          "heatmap": [
           {
            "colorbar": {
             "outlinewidth": 0,
             "ticks": ""
            },
            "colorscale": [
             [
              0,
              "#0d0887"
             ],
             [
              0.1111111111111111,
              "#46039f"
             ],
             [
              0.2222222222222222,
              "#7201a8"
             ],
             [
              0.3333333333333333,
              "#9c179e"
             ],
             [
              0.4444444444444444,
              "#bd3786"
             ],
             [
              0.5555555555555556,
              "#d8576b"
             ],
             [
              0.6666666666666666,
              "#ed7953"
             ],
             [
              0.7777777777777778,
              "#fb9f3a"
             ],
             [
              0.8888888888888888,
              "#fdca26"
             ],
             [
              1,
              "#f0f921"
             ]
            ],
            "type": "heatmap"
           }
          ],
          "heatmapgl": [
           {
            "colorbar": {
             "outlinewidth": 0,
             "ticks": ""
            },
            "colorscale": [
             [
              0,
              "#0d0887"
             ],
             [
              0.1111111111111111,
              "#46039f"
             ],
             [
              0.2222222222222222,
              "#7201a8"
             ],
             [
              0.3333333333333333,
              "#9c179e"
             ],
             [
              0.4444444444444444,
              "#bd3786"
             ],
             [
              0.5555555555555556,
              "#d8576b"
             ],
             [
              0.6666666666666666,
              "#ed7953"
             ],
             [
              0.7777777777777778,
              "#fb9f3a"
             ],
             [
              0.8888888888888888,
              "#fdca26"
             ],
             [
              1,
              "#f0f921"
             ]
            ],
            "type": "heatmapgl"
           }
          ],
          "histogram": [
           {
            "marker": {
             "pattern": {
              "fillmode": "overlay",
              "size": 10,
              "solidity": 0.2
             }
            },
            "type": "histogram"
           }
          ],
          "histogram2d": [
           {
            "colorbar": {
             "outlinewidth": 0,
             "ticks": ""
            },
            "colorscale": [
             [
              0,
              "#0d0887"
             ],
             [
              0.1111111111111111,
              "#46039f"
             ],
             [
              0.2222222222222222,
              "#7201a8"
             ],
             [
              0.3333333333333333,
              "#9c179e"
             ],
             [
              0.4444444444444444,
              "#bd3786"
             ],
             [
              0.5555555555555556,
              "#d8576b"
             ],
             [
              0.6666666666666666,
              "#ed7953"
             ],
             [
              0.7777777777777778,
              "#fb9f3a"
             ],
             [
              0.8888888888888888,
              "#fdca26"
             ],
             [
              1,
              "#f0f921"
             ]
            ],
            "type": "histogram2d"
           }
          ],
          "histogram2dcontour": [
           {
            "colorbar": {
             "outlinewidth": 0,
             "ticks": ""
            },
            "colorscale": [
             [
              0,
              "#0d0887"
             ],
             [
              0.1111111111111111,
              "#46039f"
             ],
             [
              0.2222222222222222,
              "#7201a8"
             ],
             [
              0.3333333333333333,
              "#9c179e"
             ],
             [
              0.4444444444444444,
              "#bd3786"
             ],
             [
              0.5555555555555556,
              "#d8576b"
             ],
             [
              0.6666666666666666,
              "#ed7953"
             ],
             [
              0.7777777777777778,
              "#fb9f3a"
             ],
             [
              0.8888888888888888,
              "#fdca26"
             ],
             [
              1,
              "#f0f921"
             ]
            ],
            "type": "histogram2dcontour"
           }
          ],
          "mesh3d": [
           {
            "colorbar": {
             "outlinewidth": 0,
             "ticks": ""
            },
            "type": "mesh3d"
           }
          ],
          "parcoords": [
           {
            "line": {
             "colorbar": {
              "outlinewidth": 0,
              "ticks": ""
             }
            },
            "type": "parcoords"
           }
          ],
          "pie": [
           {
            "automargin": true,
            "type": "pie"
           }
          ],
          "scatter": [
           {
            "fillpattern": {
             "fillmode": "overlay",
             "size": 10,
             "solidity": 0.2
            },
            "type": "scatter"
           }
          ],
          "scatter3d": [
           {
            "line": {
             "colorbar": {
              "outlinewidth": 0,
              "ticks": ""
             }
            },
            "marker": {
             "colorbar": {
              "outlinewidth": 0,
              "ticks": ""
             }
            },
            "type": "scatter3d"
           }
          ],
          "scattercarpet": [
           {
            "marker": {
             "colorbar": {
              "outlinewidth": 0,
              "ticks": ""
             }
            },
            "type": "scattercarpet"
           }
          ],
          "scattergeo": [
           {
            "marker": {
             "colorbar": {
              "outlinewidth": 0,
              "ticks": ""
             }
            },
            "type": "scattergeo"
           }
          ],
          "scattergl": [
           {
            "marker": {
             "colorbar": {
              "outlinewidth": 0,
              "ticks": ""
             }
            },
            "type": "scattergl"
           }
          ],
          "scattermapbox": [
           {
            "marker": {
             "colorbar": {
              "outlinewidth": 0,
              "ticks": ""
             }
            },
            "type": "scattermapbox"
           }
          ],
          "scatterpolar": [
           {
            "marker": {
             "colorbar": {
              "outlinewidth": 0,
              "ticks": ""
             }
            },
            "type": "scatterpolar"
           }
          ],
          "scatterpolargl": [
           {
            "marker": {
             "colorbar": {
              "outlinewidth": 0,
              "ticks": ""
             }
            },
            "type": "scatterpolargl"
           }
          ],
          "scatterternary": [
           {
            "marker": {
             "colorbar": {
              "outlinewidth": 0,
              "ticks": ""
             }
            },
            "type": "scatterternary"
           }
          ],
          "surface": [
           {
            "colorbar": {
             "outlinewidth": 0,
             "ticks": ""
            },
            "colorscale": [
             [
              0,
              "#0d0887"
             ],
             [
              0.1111111111111111,
              "#46039f"
             ],
             [
              0.2222222222222222,
              "#7201a8"
             ],
             [
              0.3333333333333333,
              "#9c179e"
             ],
             [
              0.4444444444444444,
              "#bd3786"
             ],
             [
              0.5555555555555556,
              "#d8576b"
             ],
             [
              0.6666666666666666,
              "#ed7953"
             ],
             [
              0.7777777777777778,
              "#fb9f3a"
             ],
             [
              0.8888888888888888,
              "#fdca26"
             ],
             [
              1,
              "#f0f921"
             ]
            ],
            "type": "surface"
           }
          ],
          "table": [
           {
            "cells": {
             "fill": {
              "color": "#EBF0F8"
             },
             "line": {
              "color": "white"
             }
            },
            "header": {
             "fill": {
              "color": "#C8D4E3"
             },
             "line": {
              "color": "white"
             }
            },
            "type": "table"
           }
          ]
         },
         "layout": {
          "annotationdefaults": {
           "arrowcolor": "#2a3f5f",
           "arrowhead": 0,
           "arrowwidth": 1
          },
          "autotypenumbers": "strict",
          "coloraxis": {
           "colorbar": {
            "outlinewidth": 0,
            "ticks": ""
           }
          },
          "colorscale": {
           "diverging": [
            [
             0,
             "#8e0152"
            ],
            [
             0.1,
             "#c51b7d"
            ],
            [
             0.2,
             "#de77ae"
            ],
            [
             0.3,
             "#f1b6da"
            ],
            [
             0.4,
             "#fde0ef"
            ],
            [
             0.5,
             "#f7f7f7"
            ],
            [
             0.6,
             "#e6f5d0"
            ],
            [
             0.7,
             "#b8e186"
            ],
            [
             0.8,
             "#7fbc41"
            ],
            [
             0.9,
             "#4d9221"
            ],
            [
             1,
             "#276419"
            ]
           ],
           "sequential": [
            [
             0,
             "#0d0887"
            ],
            [
             0.1111111111111111,
             "#46039f"
            ],
            [
             0.2222222222222222,
             "#7201a8"
            ],
            [
             0.3333333333333333,
             "#9c179e"
            ],
            [
             0.4444444444444444,
             "#bd3786"
            ],
            [
             0.5555555555555556,
             "#d8576b"
            ],
            [
             0.6666666666666666,
             "#ed7953"
            ],
            [
             0.7777777777777778,
             "#fb9f3a"
            ],
            [
             0.8888888888888888,
             "#fdca26"
            ],
            [
             1,
             "#f0f921"
            ]
           ],
           "sequentialminus": [
            [
             0,
             "#0d0887"
            ],
            [
             0.1111111111111111,
             "#46039f"
            ],
            [
             0.2222222222222222,
             "#7201a8"
            ],
            [
             0.3333333333333333,
             "#9c179e"
            ],
            [
             0.4444444444444444,
             "#bd3786"
            ],
            [
             0.5555555555555556,
             "#d8576b"
            ],
            [
             0.6666666666666666,
             "#ed7953"
            ],
            [
             0.7777777777777778,
             "#fb9f3a"
            ],
            [
             0.8888888888888888,
             "#fdca26"
            ],
            [
             1,
             "#f0f921"
            ]
           ]
          },
          "colorway": [
           "#636efa",
           "#EF553B",
           "#00cc96",
           "#ab63fa",
           "#FFA15A",
           "#19d3f3",
           "#FF6692",
           "#B6E880",
           "#FF97FF",
           "#FECB52"
          ],
          "font": {
           "color": "#2a3f5f"
          },
          "geo": {
           "bgcolor": "white",
           "lakecolor": "white",
           "landcolor": "#E5ECF6",
           "showlakes": true,
           "showland": true,
           "subunitcolor": "white"
          },
          "hoverlabel": {
           "align": "left"
          },
          "hovermode": "closest",
          "mapbox": {
           "style": "light"
          },
          "paper_bgcolor": "white",
          "plot_bgcolor": "#E5ECF6",
          "polar": {
           "angularaxis": {
            "gridcolor": "white",
            "linecolor": "white",
            "ticks": ""
           },
           "bgcolor": "#E5ECF6",
           "radialaxis": {
            "gridcolor": "white",
            "linecolor": "white",
            "ticks": ""
           }
          },
          "scene": {
           "xaxis": {
            "backgroundcolor": "#E5ECF6",
            "gridcolor": "white",
            "gridwidth": 2,
            "linecolor": "white",
            "showbackground": true,
            "ticks": "",
            "zerolinecolor": "white"
           },
           "yaxis": {
            "backgroundcolor": "#E5ECF6",
            "gridcolor": "white",
            "gridwidth": 2,
            "linecolor": "white",
            "showbackground": true,
            "ticks": "",
            "zerolinecolor": "white"
           },
           "zaxis": {
            "backgroundcolor": "#E5ECF6",
            "gridcolor": "white",
            "gridwidth": 2,
            "linecolor": "white",
            "showbackground": true,
            "ticks": "",
            "zerolinecolor": "white"
           }
          },
          "shapedefaults": {
           "line": {
            "color": "#2a3f5f"
           }
          },
          "ternary": {
           "aaxis": {
            "gridcolor": "white",
            "linecolor": "white",
            "ticks": ""
           },
           "baxis": {
            "gridcolor": "white",
            "linecolor": "white",
            "ticks": ""
           },
           "bgcolor": "#E5ECF6",
           "caxis": {
            "gridcolor": "white",
            "linecolor": "white",
            "ticks": ""
           }
          },
          "title": {
           "x": 0.05
          },
          "xaxis": {
           "automargin": true,
           "gridcolor": "white",
           "linecolor": "white",
           "ticks": "",
           "title": {
            "standoff": 15
           },
           "zerolinecolor": "white",
           "zerolinewidth": 2
          },
          "yaxis": {
           "automargin": true,
           "gridcolor": "white",
           "linecolor": "white",
           "ticks": "",
           "title": {
            "standoff": 15
           },
           "zerolinecolor": "white",
           "zerolinewidth": 2
          }
         }
        }
       }
      }
     },
     "metadata": {},
     "output_type": "display_data"
    }
   ],
   "source": [
    "# gráfico em barras\n",
    "fig_new_df = px.box(df_order.loc[df_order['model_len']!='226 somente optico' ]  ,x=\"model_len\", y='scores' ,color='metrics', title='Unet sample comparison')\n",
    "fig_new_df.update_layout(  barmode='group',yaxis_range = [0,1])\n",
    "fig_new_df.update_traces(marker = dict(opacity = 0))\n",
    "\n",
    "figure_dataframe = go.Figure(data=[go.Table(header=dict(values=['index', 'Jaccard',\t'Recall',\t'Precision',\t'F1',\t'unet_Jaccard',\t'unet_Recall',\t'unet_Precision',\t'unet_F1'], align='right'),\n",
    "                 cells=dict(values=[final_df_compare_describe[col] if col == 'index' else final_df_compare_describe[col].round(3)  for col in final_df_compare_describe.columns ], align='right' ))\n",
    "                     ] )\n",
    "fig_new_df.show()\n",
    "figure_dataframe.show()\n",
    "\n",
    "fig_new_df.write_image(f'reports{os.sep}images{os.sep}Unet_GeneralBoxplot_by_Train_Set_graf.png')\n",
    "figure_dataframe.write_image(f'reports{os.sep}images{os.sep}Unet_GeneralBoxplot_by_Train_Set_table.png')"
   ]
  },
  {
   "cell_type": "code",
   "execution_count": 21,
   "metadata": {},
   "outputs": [
    {
     "data": {
      "application/vnd.plotly.v1+json": {
       "config": {
        "plotlyServerURL": "https://plot.ly"
       },
       "data": [
        {
         "alignmentgroup": "True",
         "hovertemplate": "metrics=F1<br>model_len=%{x}<br>scores=%{y}<extra></extra>",
         "legendgroup": "F1",
         "marker": {
          "color": "#636efa",
          "opacity": 0
         },
         "name": "F1",
         "notched": false,
         "offsetgroup": "F1",
         "orientation": "v",
         "showlegend": true,
         "type": "box",
         "x": [
          "226 imagens",
          "226 imagens",
          "226 imagens",
          "226 imagens",
          "226 imagens",
          "226 imagens",
          "226 imagens",
          "226 imagens",
          "226 imagens",
          "226 imagens",
          "226 imagens",
          "226 imagens",
          "226 imagens",
          "226 imagens",
          "226 imagens",
          "226 imagens",
          "226 imagens",
          "226 imagens",
          "226 imagens",
          "226 imagens",
          "226 imagens",
          "226 imagens",
          "226 imagens",
          "226 imagens",
          "226 imagens",
          "226 imagens",
          "226 imagens",
          "226 imagens",
          "226 imagens",
          "226 imagens",
          "226 imagens",
          "226 imagens",
          "226 imagens",
          "226 imagens",
          "226 imagens",
          "226 imagens",
          "226 imagens",
          "226 imagens",
          "226 imagens",
          "226 imagens",
          "226 imagens",
          "226 imagens",
          "226 imagens",
          "226 imagens",
          "226 imagens",
          "226 imagens",
          "226 imagens",
          "226 imagens",
          "226 imagens",
          "226 imagens",
          "226 somente optico",
          "226 somente optico",
          "226 somente optico",
          "226 somente optico",
          "226 somente optico",
          "226 somente optico",
          "226 somente optico",
          "226 somente optico",
          "226 somente optico",
          "226 somente optico",
          "226 somente optico",
          "226 somente optico",
          "226 somente optico",
          "226 somente optico",
          "226 somente optico",
          "226 somente optico",
          "226 somente optico",
          "226 somente optico",
          "226 somente optico",
          "226 somente optico",
          "226 somente optico",
          "226 somente optico",
          "226 somente optico",
          "226 somente optico",
          "226 somente optico",
          "226 somente optico",
          "226 somente optico",
          "226 somente optico",
          "226 somente optico",
          "226 somente optico",
          "226 somente optico",
          "226 somente optico",
          "226 somente optico",
          "226 somente optico",
          "226 somente optico",
          "226 somente optico",
          "226 somente optico"
         ],
         "x0": " ",
         "xaxis": "x",
         "y": [
          0.9825174825174824,
          0.7734553775743706,
          0.7165991902834007,
          0.9635416666666666,
          0.8070953436807097,
          0.8934010152284264,
          0.9438202247191012,
          0.9537366548042704,
          0.937007874015748,
          0.8773841961852862,
          0.9103448275862068,
          0.8197879858657243,
          0.9551020408163264,
          0.9081885856079404,
          0.944,
          0.9376558603491272,
          0.8641114982578397,
          0.9768786127167628,
          0.9479166666666666,
          0.9313432835820896,
          0.8785046728971962,
          0.9276595744680852,
          0.8864468864468864,
          0.9592326139088728,
          0.4883720930232558,
          0.97165991902834,
          0.8897058823529412,
          0.8764940239043825,
          0.898989898989899,
          0.9155555555555556,
          0.8955223880597015,
          0.9168900804289544,
          0.9221183800623052,
          0.9361702127659574,
          0.8012820512820512,
          0.856140350877193,
          0.9128630705394192,
          0.8683274021352313,
          0.9367088607594936,
          0.8739495798319328,
          0.8214285714285715,
          0.9203539823008848,
          0.7648902821316614,
          0.895397489539749,
          0.921161825726141,
          0.9282700421940928,
          0.9082125603864734,
          0.66,
          0.9316239316239316,
          0.8650793650793651,
          0.5641025641025641,
          0.2692307692307693,
          0.3578947368421052,
          0.4719101123595506,
          0,
          0.2901554404145078,
          0.4327485380116959,
          0.4257425742574257,
          0.6344086021505376,
          0.4311377245508982,
          0,
          0.3404255319148936,
          0,
          0.1846153846153846,
          0.2550335570469799,
          0.2430939226519337,
          0,
          0.2131147540983606,
          0.5635359116022098,
          0.3644444444444444,
          0.9548387096774196,
          0.4784313725490196,
          0.3473053892215569,
          0.4836601307189542,
          0.6532663316582914,
          0.5904761904761905,
          0.5987261146496815,
          0.3642611683848797,
          0.8042328042328043,
          0.7219512195121952,
          0.649789029535865,
          0.5380116959064327,
          0.3999999999999999,
          0.6243386243386243,
          0.611111111111111,
          0.7195767195767196,
          0.4615384615384616
         ],
         "y0": " ",
         "yaxis": "y"
        },
        {
         "alignmentgroup": "True",
         "hovertemplate": "metrics=Jaccard<br>model_len=%{x}<br>scores=%{y}<extra></extra>",
         "legendgroup": "Jaccard",
         "marker": {
          "color": "#EF553B",
          "opacity": 0
         },
         "name": "Jaccard",
         "notched": false,
         "offsetgroup": "Jaccard",
         "orientation": "v",
         "showlegend": true,
         "type": "box",
         "x": [
          "226 imagens",
          "226 imagens",
          "226 imagens",
          "226 imagens",
          "226 imagens",
          "226 imagens",
          "226 imagens",
          "226 imagens",
          "226 imagens",
          "226 imagens",
          "226 imagens",
          "226 imagens",
          "226 imagens",
          "226 imagens",
          "226 imagens",
          "226 imagens",
          "226 imagens",
          "226 imagens",
          "226 imagens",
          "226 imagens",
          "226 imagens",
          "226 imagens",
          "226 imagens",
          "226 imagens",
          "226 imagens",
          "226 imagens",
          "226 imagens",
          "226 imagens",
          "226 imagens",
          "226 imagens",
          "226 imagens",
          "226 imagens",
          "226 imagens",
          "226 imagens",
          "226 imagens",
          "226 imagens",
          "226 imagens",
          "226 imagens",
          "226 imagens",
          "226 imagens",
          "226 imagens",
          "226 imagens",
          "226 imagens",
          "226 imagens",
          "226 imagens",
          "226 imagens",
          "226 imagens",
          "226 imagens",
          "226 imagens",
          "226 imagens",
          "226 somente optico",
          "226 somente optico",
          "226 somente optico",
          "226 somente optico",
          "226 somente optico",
          "226 somente optico",
          "226 somente optico",
          "226 somente optico",
          "226 somente optico",
          "226 somente optico",
          "226 somente optico",
          "226 somente optico",
          "226 somente optico",
          "226 somente optico",
          "226 somente optico",
          "226 somente optico",
          "226 somente optico",
          "226 somente optico",
          "226 somente optico",
          "226 somente optico",
          "226 somente optico",
          "226 somente optico",
          "226 somente optico",
          "226 somente optico",
          "226 somente optico",
          "226 somente optico",
          "226 somente optico",
          "226 somente optico",
          "226 somente optico",
          "226 somente optico",
          "226 somente optico",
          "226 somente optico",
          "226 somente optico",
          "226 somente optico",
          "226 somente optico",
          "226 somente optico",
          "226 somente optico"
         ],
         "x0": " ",
         "xaxis": "x",
         "y": [
          0.9656357388316152,
          0.6305970149253731,
          0.5583596214511041,
          0.9296482412060302,
          0.6765799256505576,
          0.8073394495412844,
          0.8936170212765957,
          0.91156462585034,
          0.8814814814814815,
          0.7815533980582524,
          0.8354430379746836,
          0.6946107784431138,
          0.9140625,
          0.8318181818181818,
          0.8939393939393939,
          0.8826291079812206,
          0.7607361963190185,
          0.9548022598870056,
          0.900990099009901,
          0.8715083798882681,
          0.7833333333333333,
          0.8650793650793651,
          0.7960526315789473,
          0.9216589861751152,
          0.3230769230769231,
          0.9448818897637796,
          0.8013245033112583,
          0.7801418439716312,
          0.8165137614678899,
          0.8442622950819673,
          0.8108108108108109,
          0.8465346534653465,
          0.8554913294797688,
          0.88,
          0.6684491978609626,
          0.7484662576687117,
          0.8396946564885496,
          0.7672955974842768,
          0.8809523809523809,
          0.7761194029850746,
          0.696969696969697,
          0.8524590163934426,
          0.6192893401015228,
          0.8106060606060606,
          0.8538461538461538,
          0.8661417322834646,
          0.831858407079646,
          0.4925373134328358,
          0.872,
          0.7622377622377622,
          0.3928571428571428,
          0.1555555555555555,
          0.2179487179487179,
          0.3088235294117647,
          0,
          0.1696969696969697,
          0.2761194029850746,
          0.270440251572327,
          0.4645669291338583,
          0.2748091603053435,
          0,
          0.2051282051282051,
          0,
          0.1016949152542373,
          0.1461538461538461,
          0.1383647798742138,
          0,
          0.1192660550458715,
          0.3923076923076923,
          0.2228260869565217,
          0.9135802469135802,
          0.3144329896907216,
          0.2101449275362318,
          0.3189655172413793,
          0.4850746268656716,
          0.4189189189189189,
          0.4272727272727272,
          0.2226890756302521,
          0.672566371681416,
          0.5648854961832062,
          0.48125,
          0.368,
          0.25,
          0.4538461538461538,
          0.44,
          0.5619834710743802,
          0.3
         ],
         "y0": " ",
         "yaxis": "y"
        },
        {
         "alignmentgroup": "True",
         "hovertemplate": "metrics=Precision<br>model_len=%{x}<br>scores=%{y}<extra></extra>",
         "legendgroup": "Precision",
         "marker": {
          "color": "#00cc96",
          "opacity": 0
         },
         "name": "Precision",
         "notched": false,
         "offsetgroup": "Precision",
         "orientation": "v",
         "showlegend": true,
         "type": "box",
         "x": [
          "226 imagens",
          "226 imagens",
          "226 imagens",
          "226 imagens",
          "226 imagens",
          "226 imagens",
          "226 imagens",
          "226 imagens",
          "226 imagens",
          "226 imagens",
          "226 imagens",
          "226 imagens",
          "226 imagens",
          "226 imagens",
          "226 imagens",
          "226 imagens",
          "226 imagens",
          "226 imagens",
          "226 imagens",
          "226 imagens",
          "226 imagens",
          "226 imagens",
          "226 imagens",
          "226 imagens",
          "226 imagens",
          "226 imagens",
          "226 imagens",
          "226 imagens",
          "226 imagens",
          "226 imagens",
          "226 imagens",
          "226 imagens",
          "226 imagens",
          "226 imagens",
          "226 imagens",
          "226 imagens",
          "226 imagens",
          "226 imagens",
          "226 imagens",
          "226 imagens",
          "226 imagens",
          "226 imagens",
          "226 imagens",
          "226 imagens",
          "226 imagens",
          "226 imagens",
          "226 imagens",
          "226 imagens",
          "226 imagens",
          "226 imagens",
          "226 somente optico",
          "226 somente optico",
          "226 somente optico",
          "226 somente optico",
          "226 somente optico",
          "226 somente optico",
          "226 somente optico",
          "226 somente optico",
          "226 somente optico",
          "226 somente optico",
          "226 somente optico",
          "226 somente optico",
          "226 somente optico",
          "226 somente optico",
          "226 somente optico",
          "226 somente optico",
          "226 somente optico",
          "226 somente optico",
          "226 somente optico",
          "226 somente optico",
          "226 somente optico",
          "226 somente optico",
          "226 somente optico",
          "226 somente optico",
          "226 somente optico",
          "226 somente optico",
          "226 somente optico",
          "226 somente optico",
          "226 somente optico",
          "226 somente optico",
          "226 somente optico",
          "226 somente optico",
          "226 somente optico",
          "226 somente optico",
          "226 somente optico",
          "226 somente optico",
          "226 somente optico"
         ],
         "x0": " ",
         "xaxis": "x",
         "y": [
          0.972318339100346,
          0.845,
          0.9833333333333332,
          0.9788359788359788,
          0.9732620320855616,
          0.822429906542056,
          0.9,
          0.9241379310344828,
          0.9015151515151516,
          0.7815533980582524,
          0.8461538461538461,
          0.935483870967742,
          0.9212598425196852,
          0.963157894736842,
          0.959349593495935,
          0.9894736842105264,
          0.7948717948717948,
          0.9657142857142856,
          0.9479166666666666,
          0.8715083798882681,
          0.7899159663865546,
          0.9316239316239316,
          0.8897058823529411,
          0.975609756097561,
          1,
          0.975609756097561,
          0.8461538461538461,
          0.8088235294117647,
          1,
          0.8879310344827587,
          0.8275862068965517,
          0.8952879581151832,
          0.8604651162790697,
          0.9221556886227544,
          0.9689922480620154,
          0.7770700636942676,
          0.8527131782945736,
          0.8187919463087249,
          0.8809523809523809,
          0.7761194029850746,
          0.7012195121951219,
          0.8524590163934426,
          0.6192893401015228,
          0.8106060606060606,
          0.9487179487179488,
          0.9734513274336284,
          0.831858407079646,
          0.7951807228915663,
          0.9159663865546218,
          0.7622377622377622,
          0.9871794871794872,
          1,
          0.5396825396825397,
          1,
          0,
          0.875,
          1,
          1,
          1,
          1,
          0,
          1,
          0,
          1,
          1,
          0.3333333333333333,
          0,
          1,
          0.8793103448275862,
          0.9534883720930232,
          0.9192546583850932,
          0.6559139784946236,
          0.7435897435897436,
          0.902439024390244,
          0.9701492537313432,
          1,
          0.8867924528301887,
          0.3028571428571429,
          0.8941176470588236,
          0.891566265060241,
          0.5923076923076923,
          0.9787234042553192,
          0.5492957746478874,
          0.6210526315789474,
          0.873015873015873,
          0.918918918918919,
          0.65
         ],
         "y0": " ",
         "yaxis": "y"
        },
        {
         "alignmentgroup": "True",
         "hovertemplate": "metrics=Recall<br>model_len=%{x}<br>scores=%{y}<extra></extra>",
         "legendgroup": "Recall",
         "marker": {
          "color": "#ab63fa",
          "opacity": 0
         },
         "name": "Recall",
         "notched": false,
         "offsetgroup": "Recall",
         "orientation": "v",
         "showlegend": true,
         "type": "box",
         "x": [
          "226 imagens",
          "226 imagens",
          "226 imagens",
          "226 imagens",
          "226 imagens",
          "226 imagens",
          "226 imagens",
          "226 imagens",
          "226 imagens",
          "226 imagens",
          "226 imagens",
          "226 imagens",
          "226 imagens",
          "226 imagens",
          "226 imagens",
          "226 imagens",
          "226 imagens",
          "226 imagens",
          "226 imagens",
          "226 imagens",
          "226 imagens",
          "226 imagens",
          "226 imagens",
          "226 imagens",
          "226 imagens",
          "226 imagens",
          "226 imagens",
          "226 imagens",
          "226 imagens",
          "226 imagens",
          "226 imagens",
          "226 imagens",
          "226 imagens",
          "226 imagens",
          "226 imagens",
          "226 imagens",
          "226 imagens",
          "226 imagens",
          "226 imagens",
          "226 imagens",
          "226 imagens",
          "226 imagens",
          "226 imagens",
          "226 imagens",
          "226 imagens",
          "226 imagens",
          "226 imagens",
          "226 imagens",
          "226 imagens",
          "226 imagens",
          "226 somente optico",
          "226 somente optico",
          "226 somente optico",
          "226 somente optico",
          "226 somente optico",
          "226 somente optico",
          "226 somente optico",
          "226 somente optico",
          "226 somente optico",
          "226 somente optico",
          "226 somente optico",
          "226 somente optico",
          "226 somente optico",
          "226 somente optico",
          "226 somente optico",
          "226 somente optico",
          "226 somente optico",
          "226 somente optico",
          "226 somente optico",
          "226 somente optico",
          "226 somente optico",
          "226 somente optico",
          "226 somente optico",
          "226 somente optico",
          "226 somente optico",
          "226 somente optico",
          "226 somente optico",
          "226 somente optico",
          "226 somente optico",
          "226 somente optico",
          "226 somente optico",
          "226 somente optico",
          "226 somente optico",
          "226 somente optico",
          "226 somente optico",
          "226 somente optico",
          "226 somente optico"
         ],
         "x0": " ",
         "xaxis": "x",
         "y": [
          0.9929328621908128,
          0.7130801687763713,
          0.5636942675159236,
          0.9487179487179488,
          0.6893939393939394,
          0.9777777777777776,
          0.9921259842519684,
          0.9852941176470588,
          0.9754098360655736,
          1,
          0.9850746268656716,
          0.7295597484276729,
          0.9915254237288136,
          0.8591549295774648,
          0.9291338582677166,
          0.8909952606635071,
          0.9465648854961832,
          0.9883040935672516,
          0.9479166666666666,
          1,
          0.9894736842105264,
          0.923728813559322,
          0.8832116788321168,
          0.9433962264150944,
          0.3230769230769231,
          0.967741935483871,
          0.937984496124031,
          0.9565217391304348,
          0.8165137614678899,
          0.944954128440367,
          0.975609756097561,
          0.9395604395604396,
          0.9932885906040269,
          0.9506172839506172,
          0.6830601092896175,
          0.953125,
          0.9821428571428572,
          0.9242424242424242,
          1,
          1,
          0.9913793103448276,
          1,
          1,
          1,
          0.8951612903225806,
          0.8870967741935484,
          1,
          0.5641025641025641,
          0.9478260869565216,
          1,
          0.3948717948717948,
          0.1555555555555555,
          0.2677165354330709,
          0.3088235294117647,
          0,
          0.1739130434782608,
          0.2761194029850746,
          0.270440251572327,
          0.4645669291338583,
          0.2748091603053435,
          0,
          0.2051282051282051,
          0,
          0.1016949152542373,
          0.1461538461538461,
          0.1913043478260869,
          0,
          0.1192660550458715,
          0.4146341463414634,
          0.2252747252747252,
          0.9932885906040269,
          0.3765432098765432,
          0.2265625,
          0.3303571428571428,
          0.4924242424242424,
          0.4189189189189189,
          0.4519230769230769,
          0.4568965517241379,
          0.7307692307692307,
          0.6065573770491803,
          0.719626168224299,
          0.3709677419354839,
          0.314516129032258,
          0.6276595744680851,
          0.4700854700854701,
          0.591304347826087,
          0.3577981651376147
         ],
         "y0": " ",
         "yaxis": "y"
        }
       ],
       "layout": {
        "barmode": "group",
        "boxmode": "group",
        "legend": {
         "title": {
          "text": "metrics"
         },
         "tracegroupgap": 0
        },
        "template": {
         "data": {
          "bar": [
           {
            "error_x": {
             "color": "#2a3f5f"
            },
            "error_y": {
             "color": "#2a3f5f"
            },
            "marker": {
             "line": {
              "color": "#E5ECF6",
              "width": 0.5
             },
             "pattern": {
              "fillmode": "overlay",
              "size": 10,
              "solidity": 0.2
             }
            },
            "type": "bar"
           }
          ],
          "barpolar": [
           {
            "marker": {
             "line": {
              "color": "#E5ECF6",
              "width": 0.5
             },
             "pattern": {
              "fillmode": "overlay",
              "size": 10,
              "solidity": 0.2
             }
            },
            "type": "barpolar"
           }
          ],
          "carpet": [
           {
            "aaxis": {
             "endlinecolor": "#2a3f5f",
             "gridcolor": "white",
             "linecolor": "white",
             "minorgridcolor": "white",
             "startlinecolor": "#2a3f5f"
            },
            "baxis": {
             "endlinecolor": "#2a3f5f",
             "gridcolor": "white",
             "linecolor": "white",
             "minorgridcolor": "white",
             "startlinecolor": "#2a3f5f"
            },
            "type": "carpet"
           }
          ],
          "choropleth": [
           {
            "colorbar": {
             "outlinewidth": 0,
             "ticks": ""
            },
            "type": "choropleth"
           }
          ],
          "contour": [
           {
            "colorbar": {
             "outlinewidth": 0,
             "ticks": ""
            },
            "colorscale": [
             [
              0,
              "#0d0887"
             ],
             [
              0.1111111111111111,
              "#46039f"
             ],
             [
              0.2222222222222222,
              "#7201a8"
             ],
             [
              0.3333333333333333,
              "#9c179e"
             ],
             [
              0.4444444444444444,
              "#bd3786"
             ],
             [
              0.5555555555555556,
              "#d8576b"
             ],
             [
              0.6666666666666666,
              "#ed7953"
             ],
             [
              0.7777777777777778,
              "#fb9f3a"
             ],
             [
              0.8888888888888888,
              "#fdca26"
             ],
             [
              1,
              "#f0f921"
             ]
            ],
            "type": "contour"
           }
          ],
          "contourcarpet": [
           {
            "colorbar": {
             "outlinewidth": 0,
             "ticks": ""
            },
            "type": "contourcarpet"
           }
          ],
          "heatmap": [
           {
            "colorbar": {
             "outlinewidth": 0,
             "ticks": ""
            },
            "colorscale": [
             [
              0,
              "#0d0887"
             ],
             [
              0.1111111111111111,
              "#46039f"
             ],
             [
              0.2222222222222222,
              "#7201a8"
             ],
             [
              0.3333333333333333,
              "#9c179e"
             ],
             [
              0.4444444444444444,
              "#bd3786"
             ],
             [
              0.5555555555555556,
              "#d8576b"
             ],
             [
              0.6666666666666666,
              "#ed7953"
             ],
             [
              0.7777777777777778,
              "#fb9f3a"
             ],
             [
              0.8888888888888888,
              "#fdca26"
             ],
             [
              1,
              "#f0f921"
             ]
            ],
            "type": "heatmap"
           }
          ],
          "heatmapgl": [
           {
            "colorbar": {
             "outlinewidth": 0,
             "ticks": ""
            },
            "colorscale": [
             [
              0,
              "#0d0887"
             ],
             [
              0.1111111111111111,
              "#46039f"
             ],
             [
              0.2222222222222222,
              "#7201a8"
             ],
             [
              0.3333333333333333,
              "#9c179e"
             ],
             [
              0.4444444444444444,
              "#bd3786"
             ],
             [
              0.5555555555555556,
              "#d8576b"
             ],
             [
              0.6666666666666666,
              "#ed7953"
             ],
             [
              0.7777777777777778,
              "#fb9f3a"
             ],
             [
              0.8888888888888888,
              "#fdca26"
             ],
             [
              1,
              "#f0f921"
             ]
            ],
            "type": "heatmapgl"
           }
          ],
          "histogram": [
           {
            "marker": {
             "pattern": {
              "fillmode": "overlay",
              "size": 10,
              "solidity": 0.2
             }
            },
            "type": "histogram"
           }
          ],
          "histogram2d": [
           {
            "colorbar": {
             "outlinewidth": 0,
             "ticks": ""
            },
            "colorscale": [
             [
              0,
              "#0d0887"
             ],
             [
              0.1111111111111111,
              "#46039f"
             ],
             [
              0.2222222222222222,
              "#7201a8"
             ],
             [
              0.3333333333333333,
              "#9c179e"
             ],
             [
              0.4444444444444444,
              "#bd3786"
             ],
             [
              0.5555555555555556,
              "#d8576b"
             ],
             [
              0.6666666666666666,
              "#ed7953"
             ],
             [
              0.7777777777777778,
              "#fb9f3a"
             ],
             [
              0.8888888888888888,
              "#fdca26"
             ],
             [
              1,
              "#f0f921"
             ]
            ],
            "type": "histogram2d"
           }
          ],
          "histogram2dcontour": [
           {
            "colorbar": {
             "outlinewidth": 0,
             "ticks": ""
            },
            "colorscale": [
             [
              0,
              "#0d0887"
             ],
             [
              0.1111111111111111,
              "#46039f"
             ],
             [
              0.2222222222222222,
              "#7201a8"
             ],
             [
              0.3333333333333333,
              "#9c179e"
             ],
             [
              0.4444444444444444,
              "#bd3786"
             ],
             [
              0.5555555555555556,
              "#d8576b"
             ],
             [
              0.6666666666666666,
              "#ed7953"
             ],
             [
              0.7777777777777778,
              "#fb9f3a"
             ],
             [
              0.8888888888888888,
              "#fdca26"
             ],
             [
              1,
              "#f0f921"
             ]
            ],
            "type": "histogram2dcontour"
           }
          ],
          "mesh3d": [
           {
            "colorbar": {
             "outlinewidth": 0,
             "ticks": ""
            },
            "type": "mesh3d"
           }
          ],
          "parcoords": [
           {
            "line": {
             "colorbar": {
              "outlinewidth": 0,
              "ticks": ""
             }
            },
            "type": "parcoords"
           }
          ],
          "pie": [
           {
            "automargin": true,
            "type": "pie"
           }
          ],
          "scatter": [
           {
            "fillpattern": {
             "fillmode": "overlay",
             "size": 10,
             "solidity": 0.2
            },
            "type": "scatter"
           }
          ],
          "scatter3d": [
           {
            "line": {
             "colorbar": {
              "outlinewidth": 0,
              "ticks": ""
             }
            },
            "marker": {
             "colorbar": {
              "outlinewidth": 0,
              "ticks": ""
             }
            },
            "type": "scatter3d"
           }
          ],
          "scattercarpet": [
           {
            "marker": {
             "colorbar": {
              "outlinewidth": 0,
              "ticks": ""
             }
            },
            "type": "scattercarpet"
           }
          ],
          "scattergeo": [
           {
            "marker": {
             "colorbar": {
              "outlinewidth": 0,
              "ticks": ""
             }
            },
            "type": "scattergeo"
           }
          ],
          "scattergl": [
           {
            "marker": {
             "colorbar": {
              "outlinewidth": 0,
              "ticks": ""
             }
            },
            "type": "scattergl"
           }
          ],
          "scattermapbox": [
           {
            "marker": {
             "colorbar": {
              "outlinewidth": 0,
              "ticks": ""
             }
            },
            "type": "scattermapbox"
           }
          ],
          "scatterpolar": [
           {
            "marker": {
             "colorbar": {
              "outlinewidth": 0,
              "ticks": ""
             }
            },
            "type": "scatterpolar"
           }
          ],
          "scatterpolargl": [
           {
            "marker": {
             "colorbar": {
              "outlinewidth": 0,
              "ticks": ""
             }
            },
            "type": "scatterpolargl"
           }
          ],
          "scatterternary": [
           {
            "marker": {
             "colorbar": {
              "outlinewidth": 0,
              "ticks": ""
             }
            },
            "type": "scatterternary"
           }
          ],
          "surface": [
           {
            "colorbar": {
             "outlinewidth": 0,
             "ticks": ""
            },
            "colorscale": [
             [
              0,
              "#0d0887"
             ],
             [
              0.1111111111111111,
              "#46039f"
             ],
             [
              0.2222222222222222,
              "#7201a8"
             ],
             [
              0.3333333333333333,
              "#9c179e"
             ],
             [
              0.4444444444444444,
              "#bd3786"
             ],
             [
              0.5555555555555556,
              "#d8576b"
             ],
             [
              0.6666666666666666,
              "#ed7953"
             ],
             [
              0.7777777777777778,
              "#fb9f3a"
             ],
             [
              0.8888888888888888,
              "#fdca26"
             ],
             [
              1,
              "#f0f921"
             ]
            ],
            "type": "surface"
           }
          ],
          "table": [
           {
            "cells": {
             "fill": {
              "color": "#EBF0F8"
             },
             "line": {
              "color": "white"
             }
            },
            "header": {
             "fill": {
              "color": "#C8D4E3"
             },
             "line": {
              "color": "white"
             }
            },
            "type": "table"
           }
          ]
         },
         "layout": {
          "annotationdefaults": {
           "arrowcolor": "#2a3f5f",
           "arrowhead": 0,
           "arrowwidth": 1
          },
          "autotypenumbers": "strict",
          "coloraxis": {
           "colorbar": {
            "outlinewidth": 0,
            "ticks": ""
           }
          },
          "colorscale": {
           "diverging": [
            [
             0,
             "#8e0152"
            ],
            [
             0.1,
             "#c51b7d"
            ],
            [
             0.2,
             "#de77ae"
            ],
            [
             0.3,
             "#f1b6da"
            ],
            [
             0.4,
             "#fde0ef"
            ],
            [
             0.5,
             "#f7f7f7"
            ],
            [
             0.6,
             "#e6f5d0"
            ],
            [
             0.7,
             "#b8e186"
            ],
            [
             0.8,
             "#7fbc41"
            ],
            [
             0.9,
             "#4d9221"
            ],
            [
             1,
             "#276419"
            ]
           ],
           "sequential": [
            [
             0,
             "#0d0887"
            ],
            [
             0.1111111111111111,
             "#46039f"
            ],
            [
             0.2222222222222222,
             "#7201a8"
            ],
            [
             0.3333333333333333,
             "#9c179e"
            ],
            [
             0.4444444444444444,
             "#bd3786"
            ],
            [
             0.5555555555555556,
             "#d8576b"
            ],
            [
             0.6666666666666666,
             "#ed7953"
            ],
            [
             0.7777777777777778,
             "#fb9f3a"
            ],
            [
             0.8888888888888888,
             "#fdca26"
            ],
            [
             1,
             "#f0f921"
            ]
           ],
           "sequentialminus": [
            [
             0,
             "#0d0887"
            ],
            [
             0.1111111111111111,
             "#46039f"
            ],
            [
             0.2222222222222222,
             "#7201a8"
            ],
            [
             0.3333333333333333,
             "#9c179e"
            ],
            [
             0.4444444444444444,
             "#bd3786"
            ],
            [
             0.5555555555555556,
             "#d8576b"
            ],
            [
             0.6666666666666666,
             "#ed7953"
            ],
            [
             0.7777777777777778,
             "#fb9f3a"
            ],
            [
             0.8888888888888888,
             "#fdca26"
            ],
            [
             1,
             "#f0f921"
            ]
           ]
          },
          "colorway": [
           "#636efa",
           "#EF553B",
           "#00cc96",
           "#ab63fa",
           "#FFA15A",
           "#19d3f3",
           "#FF6692",
           "#B6E880",
           "#FF97FF",
           "#FECB52"
          ],
          "font": {
           "color": "#2a3f5f"
          },
          "geo": {
           "bgcolor": "white",
           "lakecolor": "white",
           "landcolor": "#E5ECF6",
           "showlakes": true,
           "showland": true,
           "subunitcolor": "white"
          },
          "hoverlabel": {
           "align": "left"
          },
          "hovermode": "closest",
          "mapbox": {
           "style": "light"
          },
          "paper_bgcolor": "white",
          "plot_bgcolor": "#E5ECF6",
          "polar": {
           "angularaxis": {
            "gridcolor": "white",
            "linecolor": "white",
            "ticks": ""
           },
           "bgcolor": "#E5ECF6",
           "radialaxis": {
            "gridcolor": "white",
            "linecolor": "white",
            "ticks": ""
           }
          },
          "scene": {
           "xaxis": {
            "backgroundcolor": "#E5ECF6",
            "gridcolor": "white",
            "gridwidth": 2,
            "linecolor": "white",
            "showbackground": true,
            "ticks": "",
            "zerolinecolor": "white"
           },
           "yaxis": {
            "backgroundcolor": "#E5ECF6",
            "gridcolor": "white",
            "gridwidth": 2,
            "linecolor": "white",
            "showbackground": true,
            "ticks": "",
            "zerolinecolor": "white"
           },
           "zaxis": {
            "backgroundcolor": "#E5ECF6",
            "gridcolor": "white",
            "gridwidth": 2,
            "linecolor": "white",
            "showbackground": true,
            "ticks": "",
            "zerolinecolor": "white"
           }
          },
          "shapedefaults": {
           "line": {
            "color": "#2a3f5f"
           }
          },
          "ternary": {
           "aaxis": {
            "gridcolor": "white",
            "linecolor": "white",
            "ticks": ""
           },
           "baxis": {
            "gridcolor": "white",
            "linecolor": "white",
            "ticks": ""
           },
           "bgcolor": "#E5ECF6",
           "caxis": {
            "gridcolor": "white",
            "linecolor": "white",
            "ticks": ""
           }
          },
          "title": {
           "x": 0.05
          },
          "xaxis": {
           "automargin": true,
           "gridcolor": "white",
           "linecolor": "white",
           "ticks": "",
           "title": {
            "standoff": 15
           },
           "zerolinecolor": "white",
           "zerolinewidth": 2
          },
          "yaxis": {
           "automargin": true,
           "gridcolor": "white",
           "linecolor": "white",
           "ticks": "",
           "title": {
            "standoff": 15
           },
           "zerolinecolor": "white",
           "zerolinewidth": 2
          }
         }
        },
        "title": {
         "text": "Unet sample comparison"
        },
        "xaxis": {
         "anchor": "y",
         "domain": [
          0,
          1
         ],
         "title": {
          "text": "model_len"
         }
        },
        "yaxis": {
         "anchor": "x",
         "domain": [
          0,
          1
         ],
         "range": [
          0,
          1
         ],
         "title": {
          "text": "scores"
         }
        }
       }
      }
     },
     "metadata": {},
     "output_type": "display_data"
    },
    {
     "data": {
      "application/vnd.plotly.v1+json": {
       "config": {
        "plotlyServerURL": "https://plot.ly"
       },
       "data": [
        {
         "cells": {
          "align": "right",
          "values": [
           [
            "count",
            "mean",
            "std",
            "min",
            "25%",
            "50%",
            "75%",
            "max"
           ],
           [
            452,
            0.688,
            0.227,
            0,
            0.584,
            0.772,
            0.849,
            0.966
           ],
           [
            452,
            0.784,
            0.259,
            0,
            0.645,
            0.898,
            0.984,
            1
           ],
           [
            452,
            0.847,
            0.175,
            0,
            0.81,
            0.883,
            0.964,
            1
           ],
           [
            452,
            0.788,
            0.205,
            0,
            0.738,
            0.871,
            0.918,
            0.983
           ],
           [
            28,
            0.063,
            0.133,
            0,
            0,
            0,
            0.074,
            0.671
           ],
           [
            28,
            0.066,
            0.146,
            0,
            0,
            0,
            0.074,
            0.748
           ],
           [
            28,
            0.418,
            0.493,
            0,
            0,
            0,
            1,
            1
           ],
           [
            28,
            0.098,
            0.172,
            0,
            0,
            0,
            0.138,
            0.803
           ]
          ]
         },
         "header": {
          "align": "right",
          "values": [
           "index",
           "Jaccard",
           "Recall",
           "Precision",
           "F1",
           "unet_Jaccard",
           "unet_Recall",
           "unet_Precision",
           "unet_F1"
          ]
         },
         "type": "table"
        }
       ],
       "layout": {
        "template": {
         "data": {
          "bar": [
           {
            "error_x": {
             "color": "#2a3f5f"
            },
            "error_y": {
             "color": "#2a3f5f"
            },
            "marker": {
             "line": {
              "color": "#E5ECF6",
              "width": 0.5
             },
             "pattern": {
              "fillmode": "overlay",
              "size": 10,
              "solidity": 0.2
             }
            },
            "type": "bar"
           }
          ],
          "barpolar": [
           {
            "marker": {
             "line": {
              "color": "#E5ECF6",
              "width": 0.5
             },
             "pattern": {
              "fillmode": "overlay",
              "size": 10,
              "solidity": 0.2
             }
            },
            "type": "barpolar"
           }
          ],
          "carpet": [
           {
            "aaxis": {
             "endlinecolor": "#2a3f5f",
             "gridcolor": "white",
             "linecolor": "white",
             "minorgridcolor": "white",
             "startlinecolor": "#2a3f5f"
            },
            "baxis": {
             "endlinecolor": "#2a3f5f",
             "gridcolor": "white",
             "linecolor": "white",
             "minorgridcolor": "white",
             "startlinecolor": "#2a3f5f"
            },
            "type": "carpet"
           }
          ],
          "choropleth": [
           {
            "colorbar": {
             "outlinewidth": 0,
             "ticks": ""
            },
            "type": "choropleth"
           }
          ],
          "contour": [
           {
            "colorbar": {
             "outlinewidth": 0,
             "ticks": ""
            },
            "colorscale": [
             [
              0,
              "#0d0887"
             ],
             [
              0.1111111111111111,
              "#46039f"
             ],
             [
              0.2222222222222222,
              "#7201a8"
             ],
             [
              0.3333333333333333,
              "#9c179e"
             ],
             [
              0.4444444444444444,
              "#bd3786"
             ],
             [
              0.5555555555555556,
              "#d8576b"
             ],
             [
              0.6666666666666666,
              "#ed7953"
             ],
             [
              0.7777777777777778,
              "#fb9f3a"
             ],
             [
              0.8888888888888888,
              "#fdca26"
             ],
             [
              1,
              "#f0f921"
             ]
            ],
            "type": "contour"
           }
          ],
          "contourcarpet": [
           {
            "colorbar": {
             "outlinewidth": 0,
             "ticks": ""
            },
            "type": "contourcarpet"
           }
          ],
          "heatmap": [
           {
            "colorbar": {
             "outlinewidth": 0,
             "ticks": ""
            },
            "colorscale": [
             [
              0,
              "#0d0887"
             ],
             [
              0.1111111111111111,
              "#46039f"
             ],
             [
              0.2222222222222222,
              "#7201a8"
             ],
             [
              0.3333333333333333,
              "#9c179e"
             ],
             [
              0.4444444444444444,
              "#bd3786"
             ],
             [
              0.5555555555555556,
              "#d8576b"
             ],
             [
              0.6666666666666666,
              "#ed7953"
             ],
             [
              0.7777777777777778,
              "#fb9f3a"
             ],
             [
              0.8888888888888888,
              "#fdca26"
             ],
             [
              1,
              "#f0f921"
             ]
            ],
            "type": "heatmap"
           }
          ],
          "heatmapgl": [
           {
            "colorbar": {
             "outlinewidth": 0,
             "ticks": ""
            },
            "colorscale": [
             [
              0,
              "#0d0887"
             ],
             [
              0.1111111111111111,
              "#46039f"
             ],
             [
              0.2222222222222222,
              "#7201a8"
             ],
             [
              0.3333333333333333,
              "#9c179e"
             ],
             [
              0.4444444444444444,
              "#bd3786"
             ],
             [
              0.5555555555555556,
              "#d8576b"
             ],
             [
              0.6666666666666666,
              "#ed7953"
             ],
             [
              0.7777777777777778,
              "#fb9f3a"
             ],
             [
              0.8888888888888888,
              "#fdca26"
             ],
             [
              1,
              "#f0f921"
             ]
            ],
            "type": "heatmapgl"
           }
          ],
          "histogram": [
           {
            "marker": {
             "pattern": {
              "fillmode": "overlay",
              "size": 10,
              "solidity": 0.2
             }
            },
            "type": "histogram"
           }
          ],
          "histogram2d": [
           {
            "colorbar": {
             "outlinewidth": 0,
             "ticks": ""
            },
            "colorscale": [
             [
              0,
              "#0d0887"
             ],
             [
              0.1111111111111111,
              "#46039f"
             ],
             [
              0.2222222222222222,
              "#7201a8"
             ],
             [
              0.3333333333333333,
              "#9c179e"
             ],
             [
              0.4444444444444444,
              "#bd3786"
             ],
             [
              0.5555555555555556,
              "#d8576b"
             ],
             [
              0.6666666666666666,
              "#ed7953"
             ],
             [
              0.7777777777777778,
              "#fb9f3a"
             ],
             [
              0.8888888888888888,
              "#fdca26"
             ],
             [
              1,
              "#f0f921"
             ]
            ],
            "type": "histogram2d"
           }
          ],
          "histogram2dcontour": [
           {
            "colorbar": {
             "outlinewidth": 0,
             "ticks": ""
            },
            "colorscale": [
             [
              0,
              "#0d0887"
             ],
             [
              0.1111111111111111,
              "#46039f"
             ],
             [
              0.2222222222222222,
              "#7201a8"
             ],
             [
              0.3333333333333333,
              "#9c179e"
             ],
             [
              0.4444444444444444,
              "#bd3786"
             ],
             [
              0.5555555555555556,
              "#d8576b"
             ],
             [
              0.6666666666666666,
              "#ed7953"
             ],
             [
              0.7777777777777778,
              "#fb9f3a"
             ],
             [
              0.8888888888888888,
              "#fdca26"
             ],
             [
              1,
              "#f0f921"
             ]
            ],
            "type": "histogram2dcontour"
           }
          ],
          "mesh3d": [
           {
            "colorbar": {
             "outlinewidth": 0,
             "ticks": ""
            },
            "type": "mesh3d"
           }
          ],
          "parcoords": [
           {
            "line": {
             "colorbar": {
              "outlinewidth": 0,
              "ticks": ""
             }
            },
            "type": "parcoords"
           }
          ],
          "pie": [
           {
            "automargin": true,
            "type": "pie"
           }
          ],
          "scatter": [
           {
            "fillpattern": {
             "fillmode": "overlay",
             "size": 10,
             "solidity": 0.2
            },
            "type": "scatter"
           }
          ],
          "scatter3d": [
           {
            "line": {
             "colorbar": {
              "outlinewidth": 0,
              "ticks": ""
             }
            },
            "marker": {
             "colorbar": {
              "outlinewidth": 0,
              "ticks": ""
             }
            },
            "type": "scatter3d"
           }
          ],
          "scattercarpet": [
           {
            "marker": {
             "colorbar": {
              "outlinewidth": 0,
              "ticks": ""
             }
            },
            "type": "scattercarpet"
           }
          ],
          "scattergeo": [
           {
            "marker": {
             "colorbar": {
              "outlinewidth": 0,
              "ticks": ""
             }
            },
            "type": "scattergeo"
           }
          ],
          "scattergl": [
           {
            "marker": {
             "colorbar": {
              "outlinewidth": 0,
              "ticks": ""
             }
            },
            "type": "scattergl"
           }
          ],
          "scattermapbox": [
           {
            "marker": {
             "colorbar": {
              "outlinewidth": 0,
              "ticks": ""
             }
            },
            "type": "scattermapbox"
           }
          ],
          "scatterpolar": [
           {
            "marker": {
             "colorbar": {
              "outlinewidth": 0,
              "ticks": ""
             }
            },
            "type": "scatterpolar"
           }
          ],
          "scatterpolargl": [
           {
            "marker": {
             "colorbar": {
              "outlinewidth": 0,
              "ticks": ""
             }
            },
            "type": "scatterpolargl"
           }
          ],
          "scatterternary": [
           {
            "marker": {
             "colorbar": {
              "outlinewidth": 0,
              "ticks": ""
             }
            },
            "type": "scatterternary"
           }
          ],
          "surface": [
           {
            "colorbar": {
             "outlinewidth": 0,
             "ticks": ""
            },
            "colorscale": [
             [
              0,
              "#0d0887"
             ],
             [
              0.1111111111111111,
              "#46039f"
             ],
             [
              0.2222222222222222,
              "#7201a8"
             ],
             [
              0.3333333333333333,
              "#9c179e"
             ],
             [
              0.4444444444444444,
              "#bd3786"
             ],
             [
              0.5555555555555556,
              "#d8576b"
             ],
             [
              0.6666666666666666,
              "#ed7953"
             ],
             [
              0.7777777777777778,
              "#fb9f3a"
             ],
             [
              0.8888888888888888,
              "#fdca26"
             ],
             [
              1,
              "#f0f921"
             ]
            ],
            "type": "surface"
           }
          ],
          "table": [
           {
            "cells": {
             "fill": {
              "color": "#EBF0F8"
             },
             "line": {
              "color": "white"
             }
            },
            "header": {
             "fill": {
              "color": "#C8D4E3"
             },
             "line": {
              "color": "white"
             }
            },
            "type": "table"
           }
          ]
         },
         "layout": {
          "annotationdefaults": {
           "arrowcolor": "#2a3f5f",
           "arrowhead": 0,
           "arrowwidth": 1
          },
          "autotypenumbers": "strict",
          "coloraxis": {
           "colorbar": {
            "outlinewidth": 0,
            "ticks": ""
           }
          },
          "colorscale": {
           "diverging": [
            [
             0,
             "#8e0152"
            ],
            [
             0.1,
             "#c51b7d"
            ],
            [
             0.2,
             "#de77ae"
            ],
            [
             0.3,
             "#f1b6da"
            ],
            [
             0.4,
             "#fde0ef"
            ],
            [
             0.5,
             "#f7f7f7"
            ],
            [
             0.6,
             "#e6f5d0"
            ],
            [
             0.7,
             "#b8e186"
            ],
            [
             0.8,
             "#7fbc41"
            ],
            [
             0.9,
             "#4d9221"
            ],
            [
             1,
             "#276419"
            ]
           ],
           "sequential": [
            [
             0,
             "#0d0887"
            ],
            [
             0.1111111111111111,
             "#46039f"
            ],
            [
             0.2222222222222222,
             "#7201a8"
            ],
            [
             0.3333333333333333,
             "#9c179e"
            ],
            [
             0.4444444444444444,
             "#bd3786"
            ],
            [
             0.5555555555555556,
             "#d8576b"
            ],
            [
             0.6666666666666666,
             "#ed7953"
            ],
            [
             0.7777777777777778,
             "#fb9f3a"
            ],
            [
             0.8888888888888888,
             "#fdca26"
            ],
            [
             1,
             "#f0f921"
            ]
           ],
           "sequentialminus": [
            [
             0,
             "#0d0887"
            ],
            [
             0.1111111111111111,
             "#46039f"
            ],
            [
             0.2222222222222222,
             "#7201a8"
            ],
            [
             0.3333333333333333,
             "#9c179e"
            ],
            [
             0.4444444444444444,
             "#bd3786"
            ],
            [
             0.5555555555555556,
             "#d8576b"
            ],
            [
             0.6666666666666666,
             "#ed7953"
            ],
            [
             0.7777777777777778,
             "#fb9f3a"
            ],
            [
             0.8888888888888888,
             "#fdca26"
            ],
            [
             1,
             "#f0f921"
            ]
           ]
          },
          "colorway": [
           "#636efa",
           "#EF553B",
           "#00cc96",
           "#ab63fa",
           "#FFA15A",
           "#19d3f3",
           "#FF6692",
           "#B6E880",
           "#FF97FF",
           "#FECB52"
          ],
          "font": {
           "color": "#2a3f5f"
          },
          "geo": {
           "bgcolor": "white",
           "lakecolor": "white",
           "landcolor": "#E5ECF6",
           "showlakes": true,
           "showland": true,
           "subunitcolor": "white"
          },
          "hoverlabel": {
           "align": "left"
          },
          "hovermode": "closest",
          "mapbox": {
           "style": "light"
          },
          "paper_bgcolor": "white",
          "plot_bgcolor": "#E5ECF6",
          "polar": {
           "angularaxis": {
            "gridcolor": "white",
            "linecolor": "white",
            "ticks": ""
           },
           "bgcolor": "#E5ECF6",
           "radialaxis": {
            "gridcolor": "white",
            "linecolor": "white",
            "ticks": ""
           }
          },
          "scene": {
           "xaxis": {
            "backgroundcolor": "#E5ECF6",
            "gridcolor": "white",
            "gridwidth": 2,
            "linecolor": "white",
            "showbackground": true,
            "ticks": "",
            "zerolinecolor": "white"
           },
           "yaxis": {
            "backgroundcolor": "#E5ECF6",
            "gridcolor": "white",
            "gridwidth": 2,
            "linecolor": "white",
            "showbackground": true,
            "ticks": "",
            "zerolinecolor": "white"
           },
           "zaxis": {
            "backgroundcolor": "#E5ECF6",
            "gridcolor": "white",
            "gridwidth": 2,
            "linecolor": "white",
            "showbackground": true,
            "ticks": "",
            "zerolinecolor": "white"
           }
          },
          "shapedefaults": {
           "line": {
            "color": "#2a3f5f"
           }
          },
          "ternary": {
           "aaxis": {
            "gridcolor": "white",
            "linecolor": "white",
            "ticks": ""
           },
           "baxis": {
            "gridcolor": "white",
            "linecolor": "white",
            "ticks": ""
           },
           "bgcolor": "#E5ECF6",
           "caxis": {
            "gridcolor": "white",
            "linecolor": "white",
            "ticks": ""
           }
          },
          "title": {
           "x": 0.05
          },
          "xaxis": {
           "automargin": true,
           "gridcolor": "white",
           "linecolor": "white",
           "ticks": "",
           "title": {
            "standoff": 15
           },
           "zerolinecolor": "white",
           "zerolinewidth": 2
          },
          "yaxis": {
           "automargin": true,
           "gridcolor": "white",
           "linecolor": "white",
           "ticks": "",
           "title": {
            "standoff": 15
           },
           "zerolinecolor": "white",
           "zerolinewidth": 2
          }
         }
        }
       }
      }
     },
     "metadata": {},
     "output_type": "display_data"
    }
   ],
   "source": [
    "fig_new_df = px.box(df_order.loc[(df_order['model_len']=='226 somente optico') | (df_order['model_len']=='226 imagens') ]  ,x=\"model_len\", y='scores' ,color='metrics', title='Unet sample comparison')\n",
    "fig_new_df.update_layout(  barmode='group',yaxis_range = [0,1])\n",
    "fig_new_df.update_traces(marker = dict(opacity = 0))\n",
    "\n",
    "figure_dataframe = go.Figure(data=[go.Table(header=dict(values=['index', 'Jaccard',\t'Recall',\t'Precision',\t'F1',\t'unet_Jaccard',\t'unet_Recall',\t'unet_Precision',\t'unet_F1'], align='right'),\n",
    "                 cells=dict(values=[final_df_compare_describe[col] if col == 'index' else final_df_compare_describe[col].round(3)  for col in final_df_compare_describe.columns ], align='right' ))\n",
    "                     ] )\n",
    "fig_new_df.show()\n",
    "figure_dataframe.show()"
   ]
  },
  {
   "cell_type": "code",
   "execution_count": 22,
   "metadata": {},
   "outputs": [
    {
     "data": {
      "application/vnd.plotly.v1+json": {
       "config": {
        "plotlyServerURL": "https://plot.ly"
       },
       "data": [
        {
         "hovertemplate": "metrics=F1<br>model_len=%{x}<br>scores=%{y}<extra></extra>",
         "legendgroup": "F1",
         "line": {
          "color": "#636efa",
          "dash": "solid"
         },
         "marker": {
          "symbol": "circle"
         },
         "mode": "lines",
         "name": "F1",
         "orientation": "v",
         "showlegend": true,
         "type": "scatter",
         "x": [
          "50 imagens",
          "75 imagens",
          "100 imagens",
          "125 imagens",
          "150 imagens",
          "175 imagens",
          "200 imagens",
          "226 imagens"
         ],
         "xaxis": "x",
         "y": [
          0.7629905409866381,
          0.8238845571310477,
          0.8142379614508741,
          0.8581713703137156,
          0.8658410619454074,
          0.8674381727801375,
          0.8498449515357658,
          0.8854579986970534
         ],
         "yaxis": "y"
        },
        {
         "hovertemplate": "metrics=Jaccard<br>model_len=%{x}<br>scores=%{y}<extra></extra>",
         "legendgroup": "Jaccard",
         "line": {
          "color": "#EF553B",
          "dash": "solid"
         },
         "marker": {
          "symbol": "circle"
         },
         "mode": "lines",
         "name": "Jaccard",
         "orientation": "v",
         "showlegend": true,
         "type": "scatter",
         "x": [
          "50 imagens",
          "75 imagens",
          "100 imagens",
          "125 imagens",
          "150 imagens",
          "175 imagens",
          "200 imagens",
          "226 imagens"
         ],
         "xaxis": "x",
         "y": [
          0.6540806148649279,
          0.7223235037951424,
          0.7117797035902964,
          0.7630898973947889,
          0.7731508166881155,
          0.7779658937763859,
          0.769716511989101,
          0.803700035130402
         ],
         "yaxis": "y"
        },
        {
         "hovertemplate": "metrics=Precision<br>model_len=%{x}<br>scores=%{y}<extra></extra>",
         "legendgroup": "Precision",
         "line": {
          "color": "#00cc96",
          "dash": "solid"
         },
         "marker": {
          "symbol": "circle"
         },
         "mode": "lines",
         "name": "Precision",
         "orientation": "v",
         "showlegend": true,
         "type": "scatter",
         "x": [
          "50 imagens",
          "75 imagens",
          "100 imagens",
          "125 imagens",
          "150 imagens",
          "175 imagens",
          "200 imagens",
          "226 imagens"
         ],
         "xaxis": "x",
         "y": [
          0.861248794308883,
          0.8771527728096467,
          0.8790973680709098,
          0.8905544522488005,
          0.8838896512209216,
          0.8696136827941577,
          0.8620837305179806,
          0.8834754061351918
         ],
         "yaxis": "y"
        },
        {
         "hovertemplate": "metrics=Recall<br>model_len=%{x}<br>scores=%{y}<extra></extra>",
         "legendgroup": "Recall",
         "line": {
          "color": "#ab63fa",
          "dash": "solid"
         },
         "marker": {
          "symbol": "circle"
         },
         "mode": "lines",
         "name": "Recall",
         "orientation": "v",
         "showlegend": true,
         "type": "scatter",
         "x": [
          "50 imagens",
          "75 imagens",
          "100 imagens",
          "125 imagens",
          "150 imagens",
          "175 imagens",
          "200 imagens",
          "226 imagens"
         ],
         "xaxis": "x",
         "y": [
          0.741191726039246,
          0.8322771307121113,
          0.8129181343721897,
          0.8636039795674586,
          0.876721684473793,
          0.8924718316345904,
          0.8572770971745736,
          0.9096094453829296
         ],
         "yaxis": "y"
        }
       ],
       "layout": {
        "barmode": "group",
        "legend": {
         "title": {
          "text": "metrics"
         },
         "tracegroupgap": 0
        },
        "template": {
         "data": {
          "bar": [
           {
            "error_x": {
             "color": "#2a3f5f"
            },
            "error_y": {
             "color": "#2a3f5f"
            },
            "marker": {
             "line": {
              "color": "#E5ECF6",
              "width": 0.5
             },
             "pattern": {
              "fillmode": "overlay",
              "size": 10,
              "solidity": 0.2
             }
            },
            "type": "bar"
           }
          ],
          "barpolar": [
           {
            "marker": {
             "line": {
              "color": "#E5ECF6",
              "width": 0.5
             },
             "pattern": {
              "fillmode": "overlay",
              "size": 10,
              "solidity": 0.2
             }
            },
            "type": "barpolar"
           }
          ],
          "carpet": [
           {
            "aaxis": {
             "endlinecolor": "#2a3f5f",
             "gridcolor": "white",
             "linecolor": "white",
             "minorgridcolor": "white",
             "startlinecolor": "#2a3f5f"
            },
            "baxis": {
             "endlinecolor": "#2a3f5f",
             "gridcolor": "white",
             "linecolor": "white",
             "minorgridcolor": "white",
             "startlinecolor": "#2a3f5f"
            },
            "type": "carpet"
           }
          ],
          "choropleth": [
           {
            "colorbar": {
             "outlinewidth": 0,
             "ticks": ""
            },
            "type": "choropleth"
           }
          ],
          "contour": [
           {
            "colorbar": {
             "outlinewidth": 0,
             "ticks": ""
            },
            "colorscale": [
             [
              0,
              "#0d0887"
             ],
             [
              0.1111111111111111,
              "#46039f"
             ],
             [
              0.2222222222222222,
              "#7201a8"
             ],
             [
              0.3333333333333333,
              "#9c179e"
             ],
             [
              0.4444444444444444,
              "#bd3786"
             ],
             [
              0.5555555555555556,
              "#d8576b"
             ],
             [
              0.6666666666666666,
              "#ed7953"
             ],
             [
              0.7777777777777778,
              "#fb9f3a"
             ],
             [
              0.8888888888888888,
              "#fdca26"
             ],
             [
              1,
              "#f0f921"
             ]
            ],
            "type": "contour"
           }
          ],
          "contourcarpet": [
           {
            "colorbar": {
             "outlinewidth": 0,
             "ticks": ""
            },
            "type": "contourcarpet"
           }
          ],
          "heatmap": [
           {
            "colorbar": {
             "outlinewidth": 0,
             "ticks": ""
            },
            "colorscale": [
             [
              0,
              "#0d0887"
             ],
             [
              0.1111111111111111,
              "#46039f"
             ],
             [
              0.2222222222222222,
              "#7201a8"
             ],
             [
              0.3333333333333333,
              "#9c179e"
             ],
             [
              0.4444444444444444,
              "#bd3786"
             ],
             [
              0.5555555555555556,
              "#d8576b"
             ],
             [
              0.6666666666666666,
              "#ed7953"
             ],
             [
              0.7777777777777778,
              "#fb9f3a"
             ],
             [
              0.8888888888888888,
              "#fdca26"
             ],
             [
              1,
              "#f0f921"
             ]
            ],
            "type": "heatmap"
           }
          ],
          "heatmapgl": [
           {
            "colorbar": {
             "outlinewidth": 0,
             "ticks": ""
            },
            "colorscale": [
             [
              0,
              "#0d0887"
             ],
             [
              0.1111111111111111,
              "#46039f"
             ],
             [
              0.2222222222222222,
              "#7201a8"
             ],
             [
              0.3333333333333333,
              "#9c179e"
             ],
             [
              0.4444444444444444,
              "#bd3786"
             ],
             [
              0.5555555555555556,
              "#d8576b"
             ],
             [
              0.6666666666666666,
              "#ed7953"
             ],
             [
              0.7777777777777778,
              "#fb9f3a"
             ],
             [
              0.8888888888888888,
              "#fdca26"
             ],
             [
              1,
              "#f0f921"
             ]
            ],
            "type": "heatmapgl"
           }
          ],
          "histogram": [
           {
            "marker": {
             "pattern": {
              "fillmode": "overlay",
              "size": 10,
              "solidity": 0.2
             }
            },
            "type": "histogram"
           }
          ],
          "histogram2d": [
           {
            "colorbar": {
             "outlinewidth": 0,
             "ticks": ""
            },
            "colorscale": [
             [
              0,
              "#0d0887"
             ],
             [
              0.1111111111111111,
              "#46039f"
             ],
             [
              0.2222222222222222,
              "#7201a8"
             ],
             [
              0.3333333333333333,
              "#9c179e"
             ],
             [
              0.4444444444444444,
              "#bd3786"
             ],
             [
              0.5555555555555556,
              "#d8576b"
             ],
             [
              0.6666666666666666,
              "#ed7953"
             ],
             [
              0.7777777777777778,
              "#fb9f3a"
             ],
             [
              0.8888888888888888,
              "#fdca26"
             ],
             [
              1,
              "#f0f921"
             ]
            ],
            "type": "histogram2d"
           }
          ],
          "histogram2dcontour": [
           {
            "colorbar": {
             "outlinewidth": 0,
             "ticks": ""
            },
            "colorscale": [
             [
              0,
              "#0d0887"
             ],
             [
              0.1111111111111111,
              "#46039f"
             ],
             [
              0.2222222222222222,
              "#7201a8"
             ],
             [
              0.3333333333333333,
              "#9c179e"
             ],
             [
              0.4444444444444444,
              "#bd3786"
             ],
             [
              0.5555555555555556,
              "#d8576b"
             ],
             [
              0.6666666666666666,
              "#ed7953"
             ],
             [
              0.7777777777777778,
              "#fb9f3a"
             ],
             [
              0.8888888888888888,
              "#fdca26"
             ],
             [
              1,
              "#f0f921"
             ]
            ],
            "type": "histogram2dcontour"
           }
          ],
          "mesh3d": [
           {
            "colorbar": {
             "outlinewidth": 0,
             "ticks": ""
            },
            "type": "mesh3d"
           }
          ],
          "parcoords": [
           {
            "line": {
             "colorbar": {
              "outlinewidth": 0,
              "ticks": ""
             }
            },
            "type": "parcoords"
           }
          ],
          "pie": [
           {
            "automargin": true,
            "type": "pie"
           }
          ],
          "scatter": [
           {
            "fillpattern": {
             "fillmode": "overlay",
             "size": 10,
             "solidity": 0.2
            },
            "type": "scatter"
           }
          ],
          "scatter3d": [
           {
            "line": {
             "colorbar": {
              "outlinewidth": 0,
              "ticks": ""
             }
            },
            "marker": {
             "colorbar": {
              "outlinewidth": 0,
              "ticks": ""
             }
            },
            "type": "scatter3d"
           }
          ],
          "scattercarpet": [
           {
            "marker": {
             "colorbar": {
              "outlinewidth": 0,
              "ticks": ""
             }
            },
            "type": "scattercarpet"
           }
          ],
          "scattergeo": [
           {
            "marker": {
             "colorbar": {
              "outlinewidth": 0,
              "ticks": ""
             }
            },
            "type": "scattergeo"
           }
          ],
          "scattergl": [
           {
            "marker": {
             "colorbar": {
              "outlinewidth": 0,
              "ticks": ""
             }
            },
            "type": "scattergl"
           }
          ],
          "scattermapbox": [
           {
            "marker": {
             "colorbar": {
              "outlinewidth": 0,
              "ticks": ""
             }
            },
            "type": "scattermapbox"
           }
          ],
          "scatterpolar": [
           {
            "marker": {
             "colorbar": {
              "outlinewidth": 0,
              "ticks": ""
             }
            },
            "type": "scatterpolar"
           }
          ],
          "scatterpolargl": [
           {
            "marker": {
             "colorbar": {
              "outlinewidth": 0,
              "ticks": ""
             }
            },
            "type": "scatterpolargl"
           }
          ],
          "scatterternary": [
           {
            "marker": {
             "colorbar": {
              "outlinewidth": 0,
              "ticks": ""
             }
            },
            "type": "scatterternary"
           }
          ],
          "surface": [
           {
            "colorbar": {
             "outlinewidth": 0,
             "ticks": ""
            },
            "colorscale": [
             [
              0,
              "#0d0887"
             ],
             [
              0.1111111111111111,
              "#46039f"
             ],
             [
              0.2222222222222222,
              "#7201a8"
             ],
             [
              0.3333333333333333,
              "#9c179e"
             ],
             [
              0.4444444444444444,
              "#bd3786"
             ],
             [
              0.5555555555555556,
              "#d8576b"
             ],
             [
              0.6666666666666666,
              "#ed7953"
             ],
             [
              0.7777777777777778,
              "#fb9f3a"
             ],
             [
              0.8888888888888888,
              "#fdca26"
             ],
             [
              1,
              "#f0f921"
             ]
            ],
            "type": "surface"
           }
          ],
          "table": [
           {
            "cells": {
             "fill": {
              "color": "#EBF0F8"
             },
             "line": {
              "color": "white"
             }
            },
            "header": {
             "fill": {
              "color": "#C8D4E3"
             },
             "line": {
              "color": "white"
             }
            },
            "type": "table"
           }
          ]
         },
         "layout": {
          "annotationdefaults": {
           "arrowcolor": "#2a3f5f",
           "arrowhead": 0,
           "arrowwidth": 1
          },
          "autotypenumbers": "strict",
          "coloraxis": {
           "colorbar": {
            "outlinewidth": 0,
            "ticks": ""
           }
          },
          "colorscale": {
           "diverging": [
            [
             0,
             "#8e0152"
            ],
            [
             0.1,
             "#c51b7d"
            ],
            [
             0.2,
             "#de77ae"
            ],
            [
             0.3,
             "#f1b6da"
            ],
            [
             0.4,
             "#fde0ef"
            ],
            [
             0.5,
             "#f7f7f7"
            ],
            [
             0.6,
             "#e6f5d0"
            ],
            [
             0.7,
             "#b8e186"
            ],
            [
             0.8,
             "#7fbc41"
            ],
            [
             0.9,
             "#4d9221"
            ],
            [
             1,
             "#276419"
            ]
           ],
           "sequential": [
            [
             0,
             "#0d0887"
            ],
            [
             0.1111111111111111,
             "#46039f"
            ],
            [
             0.2222222222222222,
             "#7201a8"
            ],
            [
             0.3333333333333333,
             "#9c179e"
            ],
            [
             0.4444444444444444,
             "#bd3786"
            ],
            [
             0.5555555555555556,
             "#d8576b"
            ],
            [
             0.6666666666666666,
             "#ed7953"
            ],
            [
             0.7777777777777778,
             "#fb9f3a"
            ],
            [
             0.8888888888888888,
             "#fdca26"
            ],
            [
             1,
             "#f0f921"
            ]
           ],
           "sequentialminus": [
            [
             0,
             "#0d0887"
            ],
            [
             0.1111111111111111,
             "#46039f"
            ],
            [
             0.2222222222222222,
             "#7201a8"
            ],
            [
             0.3333333333333333,
             "#9c179e"
            ],
            [
             0.4444444444444444,
             "#bd3786"
            ],
            [
             0.5555555555555556,
             "#d8576b"
            ],
            [
             0.6666666666666666,
             "#ed7953"
            ],
            [
             0.7777777777777778,
             "#fb9f3a"
            ],
            [
             0.8888888888888888,
             "#fdca26"
            ],
            [
             1,
             "#f0f921"
            ]
           ]
          },
          "colorway": [
           "#636efa",
           "#EF553B",
           "#00cc96",
           "#ab63fa",
           "#FFA15A",
           "#19d3f3",
           "#FF6692",
           "#B6E880",
           "#FF97FF",
           "#FECB52"
          ],
          "font": {
           "color": "#2a3f5f"
          },
          "geo": {
           "bgcolor": "white",
           "lakecolor": "white",
           "landcolor": "#E5ECF6",
           "showlakes": true,
           "showland": true,
           "subunitcolor": "white"
          },
          "hoverlabel": {
           "align": "left"
          },
          "hovermode": "closest",
          "mapbox": {
           "style": "light"
          },
          "paper_bgcolor": "white",
          "plot_bgcolor": "#E5ECF6",
          "polar": {
           "angularaxis": {
            "gridcolor": "white",
            "linecolor": "white",
            "ticks": ""
           },
           "bgcolor": "#E5ECF6",
           "radialaxis": {
            "gridcolor": "white",
            "linecolor": "white",
            "ticks": ""
           }
          },
          "scene": {
           "xaxis": {
            "backgroundcolor": "#E5ECF6",
            "gridcolor": "white",
            "gridwidth": 2,
            "linecolor": "white",
            "showbackground": true,
            "ticks": "",
            "zerolinecolor": "white"
           },
           "yaxis": {
            "backgroundcolor": "#E5ECF6",
            "gridcolor": "white",
            "gridwidth": 2,
            "linecolor": "white",
            "showbackground": true,
            "ticks": "",
            "zerolinecolor": "white"
           },
           "zaxis": {
            "backgroundcolor": "#E5ECF6",
            "gridcolor": "white",
            "gridwidth": 2,
            "linecolor": "white",
            "showbackground": true,
            "ticks": "",
            "zerolinecolor": "white"
           }
          },
          "shapedefaults": {
           "line": {
            "color": "#2a3f5f"
           }
          },
          "ternary": {
           "aaxis": {
            "gridcolor": "white",
            "linecolor": "white",
            "ticks": ""
           },
           "baxis": {
            "gridcolor": "white",
            "linecolor": "white",
            "ticks": ""
           },
           "bgcolor": "#E5ECF6",
           "caxis": {
            "gridcolor": "white",
            "linecolor": "white",
            "ticks": ""
           }
          },
          "title": {
           "x": 0.05
          },
          "xaxis": {
           "automargin": true,
           "gridcolor": "white",
           "linecolor": "white",
           "ticks": "",
           "title": {
            "standoff": 15
           },
           "zerolinecolor": "white",
           "zerolinewidth": 2
          },
          "yaxis": {
           "automargin": true,
           "gridcolor": "white",
           "linecolor": "white",
           "ticks": "",
           "title": {
            "standoff": 15
           },
           "zerolinecolor": "white",
           "zerolinewidth": 2
          }
         }
        },
        "title": {
         "text": "Unet sample comparison "
        },
        "xaxis": {
         "anchor": "y",
         "domain": [
          0,
          1
         ],
         "title": {
          "text": "model_len"
         }
        },
        "yaxis": {
         "anchor": "x",
         "domain": [
          0,
          1
         ],
         "range": [
          0,
          1
         ],
         "title": {
          "text": "scores"
         }
        }
       }
      }
     },
     "metadata": {},
     "output_type": "display_data"
    },
    {
     "data": {
      "application/vnd.plotly.v1+json": {
       "config": {
        "plotlyServerURL": "https://plot.ly"
       },
       "data": [
        {
         "cells": {
          "align": "right",
          "values": [
           [
            "count",
            "mean",
            "std",
            "min",
            "25%",
            "50%",
            "75%",
            "max"
           ],
           [
            452,
            0.688,
            0.227,
            0,
            0.584,
            0.772,
            0.849,
            0.966
           ],
           [
            452,
            0.784,
            0.259,
            0,
            0.645,
            0.898,
            0.984,
            1
           ],
           [
            452,
            0.847,
            0.175,
            0,
            0.81,
            0.883,
            0.964,
            1
           ],
           [
            452,
            0.788,
            0.205,
            0,
            0.738,
            0.871,
            0.918,
            0.983
           ],
           [
            28,
            0.063,
            0.133,
            0,
            0,
            0,
            0.074,
            0.671
           ],
           [
            28,
            0.066,
            0.146,
            0,
            0,
            0,
            0.074,
            0.748
           ],
           [
            28,
            0.418,
            0.493,
            0,
            0,
            0,
            1,
            1
           ],
           [
            28,
            0.098,
            0.172,
            0,
            0,
            0,
            0.138,
            0.803
           ]
          ]
         },
         "header": {
          "align": "right",
          "values": [
           "index",
           "Jaccard",
           "Recall",
           "Precision",
           "F1",
           "unet_Jaccard",
           "unet_Recall",
           "unet_Precision",
           "unet_F1"
          ]
         },
         "type": "table"
        }
       ],
       "layout": {
        "template": {
         "data": {
          "bar": [
           {
            "error_x": {
             "color": "#2a3f5f"
            },
            "error_y": {
             "color": "#2a3f5f"
            },
            "marker": {
             "line": {
              "color": "#E5ECF6",
              "width": 0.5
             },
             "pattern": {
              "fillmode": "overlay",
              "size": 10,
              "solidity": 0.2
             }
            },
            "type": "bar"
           }
          ],
          "barpolar": [
           {
            "marker": {
             "line": {
              "color": "#E5ECF6",
              "width": 0.5
             },
             "pattern": {
              "fillmode": "overlay",
              "size": 10,
              "solidity": 0.2
             }
            },
            "type": "barpolar"
           }
          ],
          "carpet": [
           {
            "aaxis": {
             "endlinecolor": "#2a3f5f",
             "gridcolor": "white",
             "linecolor": "white",
             "minorgridcolor": "white",
             "startlinecolor": "#2a3f5f"
            },
            "baxis": {
             "endlinecolor": "#2a3f5f",
             "gridcolor": "white",
             "linecolor": "white",
             "minorgridcolor": "white",
             "startlinecolor": "#2a3f5f"
            },
            "type": "carpet"
           }
          ],
          "choropleth": [
           {
            "colorbar": {
             "outlinewidth": 0,
             "ticks": ""
            },
            "type": "choropleth"
           }
          ],
          "contour": [
           {
            "colorbar": {
             "outlinewidth": 0,
             "ticks": ""
            },
            "colorscale": [
             [
              0,
              "#0d0887"
             ],
             [
              0.1111111111111111,
              "#46039f"
             ],
             [
              0.2222222222222222,
              "#7201a8"
             ],
             [
              0.3333333333333333,
              "#9c179e"
             ],
             [
              0.4444444444444444,
              "#bd3786"
             ],
             [
              0.5555555555555556,
              "#d8576b"
             ],
             [
              0.6666666666666666,
              "#ed7953"
             ],
             [
              0.7777777777777778,
              "#fb9f3a"
             ],
             [
              0.8888888888888888,
              "#fdca26"
             ],
             [
              1,
              "#f0f921"
             ]
            ],
            "type": "contour"
           }
          ],
          "contourcarpet": [
           {
            "colorbar": {
             "outlinewidth": 0,
             "ticks": ""
            },
            "type": "contourcarpet"
           }
          ],
          "heatmap": [
           {
            "colorbar": {
             "outlinewidth": 0,
             "ticks": ""
            },
            "colorscale": [
             [
              0,
              "#0d0887"
             ],
             [
              0.1111111111111111,
              "#46039f"
             ],
             [
              0.2222222222222222,
              "#7201a8"
             ],
             [
              0.3333333333333333,
              "#9c179e"
             ],
             [
              0.4444444444444444,
              "#bd3786"
             ],
             [
              0.5555555555555556,
              "#d8576b"
             ],
             [
              0.6666666666666666,
              "#ed7953"
             ],
             [
              0.7777777777777778,
              "#fb9f3a"
             ],
             [
              0.8888888888888888,
              "#fdca26"
             ],
             [
              1,
              "#f0f921"
             ]
            ],
            "type": "heatmap"
           }
          ],
          "heatmapgl": [
           {
            "colorbar": {
             "outlinewidth": 0,
             "ticks": ""
            },
            "colorscale": [
             [
              0,
              "#0d0887"
             ],
             [
              0.1111111111111111,
              "#46039f"
             ],
             [
              0.2222222222222222,
              "#7201a8"
             ],
             [
              0.3333333333333333,
              "#9c179e"
             ],
             [
              0.4444444444444444,
              "#bd3786"
             ],
             [
              0.5555555555555556,
              "#d8576b"
             ],
             [
              0.6666666666666666,
              "#ed7953"
             ],
             [
              0.7777777777777778,
              "#fb9f3a"
             ],
             [
              0.8888888888888888,
              "#fdca26"
             ],
             [
              1,
              "#f0f921"
             ]
            ],
            "type": "heatmapgl"
           }
          ],
          "histogram": [
           {
            "marker": {
             "pattern": {
              "fillmode": "overlay",
              "size": 10,
              "solidity": 0.2
             }
            },
            "type": "histogram"
           }
          ],
          "histogram2d": [
           {
            "colorbar": {
             "outlinewidth": 0,
             "ticks": ""
            },
            "colorscale": [
             [
              0,
              "#0d0887"
             ],
             [
              0.1111111111111111,
              "#46039f"
             ],
             [
              0.2222222222222222,
              "#7201a8"
             ],
             [
              0.3333333333333333,
              "#9c179e"
             ],
             [
              0.4444444444444444,
              "#bd3786"
             ],
             [
              0.5555555555555556,
              "#d8576b"
             ],
             [
              0.6666666666666666,
              "#ed7953"
             ],
             [
              0.7777777777777778,
              "#fb9f3a"
             ],
             [
              0.8888888888888888,
              "#fdca26"
             ],
             [
              1,
              "#f0f921"
             ]
            ],
            "type": "histogram2d"
           }
          ],
          "histogram2dcontour": [
           {
            "colorbar": {
             "outlinewidth": 0,
             "ticks": ""
            },
            "colorscale": [
             [
              0,
              "#0d0887"
             ],
             [
              0.1111111111111111,
              "#46039f"
             ],
             [
              0.2222222222222222,
              "#7201a8"
             ],
             [
              0.3333333333333333,
              "#9c179e"
             ],
             [
              0.4444444444444444,
              "#bd3786"
             ],
             [
              0.5555555555555556,
              "#d8576b"
             ],
             [
              0.6666666666666666,
              "#ed7953"
             ],
             [
              0.7777777777777778,
              "#fb9f3a"
             ],
             [
              0.8888888888888888,
              "#fdca26"
             ],
             [
              1,
              "#f0f921"
             ]
            ],
            "type": "histogram2dcontour"
           }
          ],
          "mesh3d": [
           {
            "colorbar": {
             "outlinewidth": 0,
             "ticks": ""
            },
            "type": "mesh3d"
           }
          ],
          "parcoords": [
           {
            "line": {
             "colorbar": {
              "outlinewidth": 0,
              "ticks": ""
             }
            },
            "type": "parcoords"
           }
          ],
          "pie": [
           {
            "automargin": true,
            "type": "pie"
           }
          ],
          "scatter": [
           {
            "fillpattern": {
             "fillmode": "overlay",
             "size": 10,
             "solidity": 0.2
            },
            "type": "scatter"
           }
          ],
          "scatter3d": [
           {
            "line": {
             "colorbar": {
              "outlinewidth": 0,
              "ticks": ""
             }
            },
            "marker": {
             "colorbar": {
              "outlinewidth": 0,
              "ticks": ""
             }
            },
            "type": "scatter3d"
           }
          ],
          "scattercarpet": [
           {
            "marker": {
             "colorbar": {
              "outlinewidth": 0,
              "ticks": ""
             }
            },
            "type": "scattercarpet"
           }
          ],
          "scattergeo": [
           {
            "marker": {
             "colorbar": {
              "outlinewidth": 0,
              "ticks": ""
             }
            },
            "type": "scattergeo"
           }
          ],
          "scattergl": [
           {
            "marker": {
             "colorbar": {
              "outlinewidth": 0,
              "ticks": ""
             }
            },
            "type": "scattergl"
           }
          ],
          "scattermapbox": [
           {
            "marker": {
             "colorbar": {
              "outlinewidth": 0,
              "ticks": ""
             }
            },
            "type": "scattermapbox"
           }
          ],
          "scatterpolar": [
           {
            "marker": {
             "colorbar": {
              "outlinewidth": 0,
              "ticks": ""
             }
            },
            "type": "scatterpolar"
           }
          ],
          "scatterpolargl": [
           {
            "marker": {
             "colorbar": {
              "outlinewidth": 0,
              "ticks": ""
             }
            },
            "type": "scatterpolargl"
           }
          ],
          "scatterternary": [
           {
            "marker": {
             "colorbar": {
              "outlinewidth": 0,
              "ticks": ""
             }
            },
            "type": "scatterternary"
           }
          ],
          "surface": [
           {
            "colorbar": {
             "outlinewidth": 0,
             "ticks": ""
            },
            "colorscale": [
             [
              0,
              "#0d0887"
             ],
             [
              0.1111111111111111,
              "#46039f"
             ],
             [
              0.2222222222222222,
              "#7201a8"
             ],
             [
              0.3333333333333333,
              "#9c179e"
             ],
             [
              0.4444444444444444,
              "#bd3786"
             ],
             [
              0.5555555555555556,
              "#d8576b"
             ],
             [
              0.6666666666666666,
              "#ed7953"
             ],
             [
              0.7777777777777778,
              "#fb9f3a"
             ],
             [
              0.8888888888888888,
              "#fdca26"
             ],
             [
              1,
              "#f0f921"
             ]
            ],
            "type": "surface"
           }
          ],
          "table": [
           {
            "cells": {
             "fill": {
              "color": "#EBF0F8"
             },
             "line": {
              "color": "white"
             }
            },
            "header": {
             "fill": {
              "color": "#C8D4E3"
             },
             "line": {
              "color": "white"
             }
            },
            "type": "table"
           }
          ]
         },
         "layout": {
          "annotationdefaults": {
           "arrowcolor": "#2a3f5f",
           "arrowhead": 0,
           "arrowwidth": 1
          },
          "autotypenumbers": "strict",
          "coloraxis": {
           "colorbar": {
            "outlinewidth": 0,
            "ticks": ""
           }
          },
          "colorscale": {
           "diverging": [
            [
             0,
             "#8e0152"
            ],
            [
             0.1,
             "#c51b7d"
            ],
            [
             0.2,
             "#de77ae"
            ],
            [
             0.3,
             "#f1b6da"
            ],
            [
             0.4,
             "#fde0ef"
            ],
            [
             0.5,
             "#f7f7f7"
            ],
            [
             0.6,
             "#e6f5d0"
            ],
            [
             0.7,
             "#b8e186"
            ],
            [
             0.8,
             "#7fbc41"
            ],
            [
             0.9,
             "#4d9221"
            ],
            [
             1,
             "#276419"
            ]
           ],
           "sequential": [
            [
             0,
             "#0d0887"
            ],
            [
             0.1111111111111111,
             "#46039f"
            ],
            [
             0.2222222222222222,
             "#7201a8"
            ],
            [
             0.3333333333333333,
             "#9c179e"
            ],
            [
             0.4444444444444444,
             "#bd3786"
            ],
            [
             0.5555555555555556,
             "#d8576b"
            ],
            [
             0.6666666666666666,
             "#ed7953"
            ],
            [
             0.7777777777777778,
             "#fb9f3a"
            ],
            [
             0.8888888888888888,
             "#fdca26"
            ],
            [
             1,
             "#f0f921"
            ]
           ],
           "sequentialminus": [
            [
             0,
             "#0d0887"
            ],
            [
             0.1111111111111111,
             "#46039f"
            ],
            [
             0.2222222222222222,
             "#7201a8"
            ],
            [
             0.3333333333333333,
             "#9c179e"
            ],
            [
             0.4444444444444444,
             "#bd3786"
            ],
            [
             0.5555555555555556,
             "#d8576b"
            ],
            [
             0.6666666666666666,
             "#ed7953"
            ],
            [
             0.7777777777777778,
             "#fb9f3a"
            ],
            [
             0.8888888888888888,
             "#fdca26"
            ],
            [
             1,
             "#f0f921"
            ]
           ]
          },
          "colorway": [
           "#636efa",
           "#EF553B",
           "#00cc96",
           "#ab63fa",
           "#FFA15A",
           "#19d3f3",
           "#FF6692",
           "#B6E880",
           "#FF97FF",
           "#FECB52"
          ],
          "font": {
           "color": "#2a3f5f"
          },
          "geo": {
           "bgcolor": "white",
           "lakecolor": "white",
           "landcolor": "#E5ECF6",
           "showlakes": true,
           "showland": true,
           "subunitcolor": "white"
          },
          "hoverlabel": {
           "align": "left"
          },
          "hovermode": "closest",
          "mapbox": {
           "style": "light"
          },
          "paper_bgcolor": "white",
          "plot_bgcolor": "#E5ECF6",
          "polar": {
           "angularaxis": {
            "gridcolor": "white",
            "linecolor": "white",
            "ticks": ""
           },
           "bgcolor": "#E5ECF6",
           "radialaxis": {
            "gridcolor": "white",
            "linecolor": "white",
            "ticks": ""
           }
          },
          "scene": {
           "xaxis": {
            "backgroundcolor": "#E5ECF6",
            "gridcolor": "white",
            "gridwidth": 2,
            "linecolor": "white",
            "showbackground": true,
            "ticks": "",
            "zerolinecolor": "white"
           },
           "yaxis": {
            "backgroundcolor": "#E5ECF6",
            "gridcolor": "white",
            "gridwidth": 2,
            "linecolor": "white",
            "showbackground": true,
            "ticks": "",
            "zerolinecolor": "white"
           },
           "zaxis": {
            "backgroundcolor": "#E5ECF6",
            "gridcolor": "white",
            "gridwidth": 2,
            "linecolor": "white",
            "showbackground": true,
            "ticks": "",
            "zerolinecolor": "white"
           }
          },
          "shapedefaults": {
           "line": {
            "color": "#2a3f5f"
           }
          },
          "ternary": {
           "aaxis": {
            "gridcolor": "white",
            "linecolor": "white",
            "ticks": ""
           },
           "baxis": {
            "gridcolor": "white",
            "linecolor": "white",
            "ticks": ""
           },
           "bgcolor": "#E5ECF6",
           "caxis": {
            "gridcolor": "white",
            "linecolor": "white",
            "ticks": ""
           }
          },
          "title": {
           "x": 0.05
          },
          "xaxis": {
           "automargin": true,
           "gridcolor": "white",
           "linecolor": "white",
           "ticks": "",
           "title": {
            "standoff": 15
           },
           "zerolinecolor": "white",
           "zerolinewidth": 2
          },
          "yaxis": {
           "automargin": true,
           "gridcolor": "white",
           "linecolor": "white",
           "ticks": "",
           "title": {
            "standoff": 15
           },
           "zerolinecolor": "white",
           "zerolinewidth": 2
          }
         }
        }
       }
      }
     },
     "metadata": {},
     "output_type": "display_data"
    }
   ],
   "source": [
    "# gráfico em linhas\n",
    "fig_new_df = px.line(mean_data_all.loc[mean_data_all['model_len']!='226 somente optico' ]   ,x='model_len', y='scores',color='metrics', title='Unet sample comparison ')\n",
    "fig_new_df.update_layout(barmode='group',yaxis_range = [0,1])\n",
    "#fig_new_df.write_image(f'reports{os.sep}images{os.sep}Unet_GeneralLines_by_Train_Set.png')\n",
    "fig_new_df.show()\n",
    "\n",
    "figure_dataframe = go.Figure(data=[go.Table(header=dict(values=['index', 'Jaccard',\t'Recall',\t'Precision',\t'F1',\t'unet_Jaccard',\t'unet_Recall',\t'unet_Precision',\t'unet_F1'], align='right'),\n",
    "                 cells=dict(values=[final_df_compare_describe[col] if col == 'index' else final_df_compare_describe[col].round(3)  for col in final_df_compare_describe.columns ], align='right' ))\n",
    "                     ] )\n",
    "\n",
    "figure_dataframe.show()\n",
    "\n",
    "\n",
    "fig_new_df.write_image(f'reports{os.sep}images{os.sep}Unet_GeneralLines_by_Train_Set_graf.png')\n",
    "figure_dataframe.write_image(f'reports{os.sep}images{os.sep}Unet_GeneralLines_by_Train_Set_table.png')"
   ]
  },
  {
   "cell_type": "code",
   "execution_count": 16,
   "metadata": {},
   "outputs": [],
   "source": [
    "\n",
    "\n",
    "\n",
    "class PDF(FPDF):\n",
    "    def header(self):\n",
    "        # Logo\n",
    "        self.image('lgcmlogo.png', 10, 8, 33)\n",
    "        self.image('fzusp.png', 160, 8, 33)\n",
    "        # Arial bold 15\n",
    "        self.set_font('Arial', 'B', 12)\n",
    "        # Move to the right\n",
    "        self.cell(80)\n",
    "        # Title\n",
    "        self.cell(30, 10, 'Data Analysis Report'+ '- Generated at-' +f'{today}', 0, 0, 'C')\n",
    "        # Line break\n",
    "        self.ln(20)\n",
    "\n",
    "    # Page footer\n",
    "    def footer(self):\n",
    "        # Position at 1.5 cm from bottom\n",
    "        self.set_y(-15)\n",
    "        # Arial italic 8\n",
    "        self.set_font('Arial', 'I', 8)\n",
    "        # Page number\n",
    "        self.cell(0, 10, 'Report Page ' + str(self.page_no()) + '/{nb}' + '-Report Generated at-' +f'{today}', 0, 0, 'C')\n",
    "\n",
    "\n",
    "def report(pdf, path, fig_name, table_name):\n",
    "    \n",
    "    pdf.alias_nb_pages()\n",
    "    pdf.add_page()\n",
    "    pdf.set_font('Times', '', 12)\n",
    "    pdf.cell(200, 10, txt = f\"Experiment Sample {fig_name}\",ln = 1, align = 'C')\n",
    "    pdf.cell(200, 10, txt = f\"Data_{fig_name}\", ln = 2, align = 'C')\n",
    "    pdf.image(f'{path}{fig_name}.png', x=10, y=50, w=pdf.w/1.2, h=pdf.h/2.5 )\n",
    "    pdf.image(f'{path}{table_name}.png', x=10, y=170, w=pdf.w/1.2, h=pdf.h/2.5 )\n",
    "\n",
    "\n",
    "\n",
    "def data_order_metrics(df_order, target):\n",
    "    target_df  = df_order.query(f\"metrics == '{target}'\")\n",
    "    return target_df \n",
    "\n",
    "def data_order_metrics_mean(mean_data_all, target):\n",
    "    mean_data_target = mean_data_all.query(f\"metrics == '{target}'\")\n",
    "    return mean_data_target\n",
    "\n",
    "def target_data_graph_lineandbox(target):\n",
    "\n",
    "    target_df  = df_order.query(f\"metrics == '{target}'\")\n",
    "    # print(target_df)\n",
    "    mean_data_target = mean_data_all.query(f\"metrics == '{target}'\")\n",
    "    # print(mean_data_target)\n",
    "\n",
    "    fig = make_subplots(rows=1, cols=1)\n",
    "    fig.add_trace(\n",
    "        go.Box(x=target_df['model_len'], y=target_df['scores'], name=f'{target} complete data'),\n",
    "    )\n",
    "    \n",
    "    fig.add_trace(\n",
    "        go.Scatter(x=mean_data_target['model_len'], y=mean_data_target['scores'], name=f'{target} Mean data'),\n",
    "    )\n",
    "    fig.update_yaxes(range = [0,1], row=1, col=1)\n",
    "    fig.update_yaxes(range = [0,1], row=1, col=2)\n",
    "    fig.update_layout(height=600, width=800, title_text=f\"Unet {target} by Train Set\")\n",
    "    fig.update_traces(marker = dict(opacity = 0))\n",
    "    fig.write_image(f'reports{os.sep}images{os.sep}Unet_{target}_by_Train_Set_graph.png')\n",
    "    \n"
   ]
  },
  {
   "attachments": {},
   "cell_type": "markdown",
   "metadata": {},
   "source": [
    "General Repports"
   ]
  },
  {
   "cell_type": "code",
   "execution_count": 17,
   "metadata": {},
   "outputs": [
    {
     "data": {
      "text/plain": [
       "array(['50 imagens', '75 imagens', '100 imagens', '125 imagens',\n",
       "       '150 imagens', '175 imagens', '200 imagens', '226 imagens',\n",
       "       '226 somente optico'], dtype=object)"
      ]
     },
     "execution_count": 17,
     "metadata": {},
     "output_type": "execute_result"
    }
   ],
   "source": [
    "list_mean_model_len = mean_data_all['model_len'].unique()\n",
    "list_mean_model_len"
   ]
  },
  {
   "attachments": {},
   "cell_type": "markdown",
   "metadata": {},
   "source": [
    "General Report "
   ]
  },
  {
   "cell_type": "code",
   "execution_count": 19,
   "metadata": {},
   "outputs": [
    {
     "data": {
      "application/vnd.plotly.v1+json": {
       "config": {
        "plotlyServerURL": "https://plot.ly"
       },
       "data": [
        {
         "marker": {
          "opacity": 0
         },
         "name": "F1 complete data",
         "type": "box",
         "x": [
          "50 imagens",
          "50 imagens",
          "50 imagens",
          "50 imagens",
          "50 imagens",
          "50 imagens",
          "50 imagens",
          "50 imagens",
          "50 imagens",
          "50 imagens",
          "50 imagens",
          "50 imagens",
          "50 imagens",
          "50 imagens",
          "50 imagens",
          "50 imagens",
          "50 imagens",
          "50 imagens",
          "50 imagens",
          "50 imagens",
          "50 imagens",
          "50 imagens",
          "50 imagens",
          "50 imagens",
          "50 imagens",
          "50 imagens",
          "50 imagens",
          "50 imagens",
          "50 imagens",
          "50 imagens",
          "50 imagens",
          "50 imagens",
          "50 imagens",
          "50 imagens",
          "50 imagens",
          "50 imagens",
          "50 imagens",
          "50 imagens",
          "50 imagens",
          "50 imagens",
          "50 imagens",
          "50 imagens",
          "50 imagens",
          "50 imagens",
          "75 imagens",
          "75 imagens",
          "75 imagens",
          "75 imagens",
          "75 imagens",
          "75 imagens",
          "75 imagens",
          "75 imagens",
          "75 imagens",
          "75 imagens",
          "75 imagens",
          "75 imagens",
          "75 imagens",
          "75 imagens",
          "75 imagens",
          "75 imagens",
          "75 imagens",
          "75 imagens",
          "75 imagens",
          "75 imagens",
          "75 imagens",
          "75 imagens",
          "75 imagens",
          "75 imagens",
          "75 imagens",
          "75 imagens",
          "75 imagens",
          "75 imagens",
          "75 imagens",
          "75 imagens",
          "75 imagens",
          "75 imagens",
          "75 imagens",
          "75 imagens",
          "75 imagens",
          "75 imagens",
          "75 imagens",
          "75 imagens",
          "75 imagens",
          "75 imagens",
          "75 imagens",
          "75 imagens",
          "75 imagens",
          "75 imagens",
          "75 imagens",
          "75 imagens",
          "75 imagens",
          "75 imagens",
          "100 imagens",
          "100 imagens",
          "100 imagens",
          "100 imagens",
          "100 imagens",
          "100 imagens",
          "100 imagens",
          "100 imagens",
          "100 imagens",
          "100 imagens",
          "100 imagens",
          "100 imagens",
          "100 imagens",
          "100 imagens",
          "100 imagens",
          "100 imagens",
          "100 imagens",
          "100 imagens",
          "100 imagens",
          "100 imagens",
          "100 imagens",
          "100 imagens",
          "100 imagens",
          "100 imagens",
          "100 imagens",
          "100 imagens",
          "100 imagens",
          "100 imagens",
          "100 imagens",
          "100 imagens",
          "100 imagens",
          "100 imagens",
          "100 imagens",
          "100 imagens",
          "100 imagens",
          "100 imagens",
          "100 imagens",
          "100 imagens",
          "100 imagens",
          "100 imagens",
          "100 imagens",
          "100 imagens",
          "100 imagens",
          "100 imagens",
          "100 imagens",
          "100 imagens",
          "100 imagens",
          "100 imagens",
          "100 imagens",
          "125 imagens",
          "125 imagens",
          "125 imagens",
          "125 imagens",
          "125 imagens",
          "125 imagens",
          "125 imagens",
          "125 imagens",
          "125 imagens",
          "125 imagens",
          "125 imagens",
          "125 imagens",
          "125 imagens",
          "125 imagens",
          "125 imagens",
          "125 imagens",
          "125 imagens",
          "125 imagens",
          "125 imagens",
          "125 imagens",
          "125 imagens",
          "125 imagens",
          "125 imagens",
          "125 imagens",
          "125 imagens",
          "125 imagens",
          "125 imagens",
          "125 imagens",
          "125 imagens",
          "125 imagens",
          "125 imagens",
          "125 imagens",
          "125 imagens",
          "125 imagens",
          "125 imagens",
          "125 imagens",
          "125 imagens",
          "125 imagens",
          "125 imagens",
          "125 imagens",
          "125 imagens",
          "125 imagens",
          "125 imagens",
          "125 imagens",
          "125 imagens",
          "125 imagens",
          "125 imagens",
          "125 imagens",
          "125 imagens",
          "150 imagens",
          "150 imagens",
          "150 imagens",
          "150 imagens",
          "150 imagens",
          "150 imagens",
          "150 imagens",
          "150 imagens",
          "150 imagens",
          "150 imagens",
          "150 imagens",
          "150 imagens",
          "150 imagens",
          "150 imagens",
          "150 imagens",
          "150 imagens",
          "150 imagens",
          "150 imagens",
          "150 imagens",
          "150 imagens",
          "150 imagens",
          "150 imagens",
          "150 imagens",
          "150 imagens",
          "150 imagens",
          "150 imagens",
          "150 imagens",
          "150 imagens",
          "150 imagens",
          "150 imagens",
          "150 imagens",
          "150 imagens",
          "150 imagens",
          "150 imagens",
          "150 imagens",
          "150 imagens",
          "150 imagens",
          "150 imagens",
          "150 imagens",
          "150 imagens",
          "150 imagens",
          "150 imagens",
          "150 imagens",
          "150 imagens",
          "150 imagens",
          "150 imagens",
          "150 imagens",
          "150 imagens",
          "150 imagens",
          "175 imagens",
          "175 imagens",
          "175 imagens",
          "175 imagens",
          "175 imagens",
          "175 imagens",
          "175 imagens",
          "175 imagens",
          "175 imagens",
          "175 imagens",
          "175 imagens",
          "175 imagens",
          "175 imagens",
          "175 imagens",
          "175 imagens",
          "175 imagens",
          "175 imagens",
          "175 imagens",
          "175 imagens",
          "175 imagens",
          "175 imagens",
          "175 imagens",
          "175 imagens",
          "175 imagens",
          "175 imagens",
          "175 imagens",
          "175 imagens",
          "175 imagens",
          "175 imagens",
          "175 imagens",
          "175 imagens",
          "175 imagens",
          "175 imagens",
          "175 imagens",
          "175 imagens",
          "175 imagens",
          "175 imagens",
          "175 imagens",
          "175 imagens",
          "175 imagens",
          "175 imagens",
          "175 imagens",
          "175 imagens",
          "175 imagens",
          "175 imagens",
          "175 imagens",
          "175 imagens",
          "175 imagens",
          "175 imagens",
          "200 imagens",
          "200 imagens",
          "200 imagens",
          "200 imagens",
          "200 imagens",
          "200 imagens",
          "200 imagens",
          "200 imagens",
          "200 imagens",
          "200 imagens",
          "200 imagens",
          "200 imagens",
          "200 imagens",
          "200 imagens",
          "200 imagens",
          "200 imagens",
          "200 imagens",
          "200 imagens",
          "200 imagens",
          "200 imagens",
          "200 imagens",
          "200 imagens",
          "200 imagens",
          "200 imagens",
          "200 imagens",
          "200 imagens",
          "200 imagens",
          "200 imagens",
          "200 imagens",
          "200 imagens",
          "200 imagens",
          "200 imagens",
          "200 imagens",
          "200 imagens",
          "200 imagens",
          "200 imagens",
          "200 imagens",
          "200 imagens",
          "200 imagens",
          "200 imagens",
          "200 imagens",
          "200 imagens",
          "200 imagens",
          "200 imagens",
          "200 imagens",
          "200 imagens",
          "200 imagens",
          "200 imagens",
          "200 imagens",
          "226 imagens",
          "226 imagens",
          "226 imagens",
          "226 imagens",
          "226 imagens",
          "226 imagens",
          "226 imagens",
          "226 imagens",
          "226 imagens",
          "226 imagens",
          "226 imagens",
          "226 imagens",
          "226 imagens",
          "226 imagens",
          "226 imagens",
          "226 imagens",
          "226 imagens",
          "226 imagens",
          "226 imagens",
          "226 imagens",
          "226 imagens",
          "226 imagens",
          "226 imagens",
          "226 imagens",
          "226 imagens",
          "226 imagens",
          "226 imagens",
          "226 imagens",
          "226 imagens",
          "226 imagens",
          "226 imagens",
          "226 imagens",
          "226 imagens",
          "226 imagens",
          "226 imagens",
          "226 imagens",
          "226 imagens",
          "226 imagens",
          "226 imagens",
          "226 imagens",
          "226 imagens",
          "226 imagens",
          "226 imagens",
          "226 imagens",
          "226 imagens",
          "226 imagens",
          "226 imagens",
          "226 imagens",
          "226 imagens",
          "226 imagens",
          "226 somente optico",
          "226 somente optico",
          "226 somente optico",
          "226 somente optico",
          "226 somente optico",
          "226 somente optico",
          "226 somente optico",
          "226 somente optico",
          "226 somente optico",
          "226 somente optico",
          "226 somente optico",
          "226 somente optico",
          "226 somente optico",
          "226 somente optico",
          "226 somente optico",
          "226 somente optico",
          "226 somente optico",
          "226 somente optico",
          "226 somente optico",
          "226 somente optico",
          "226 somente optico",
          "226 somente optico",
          "226 somente optico",
          "226 somente optico",
          "226 somente optico",
          "226 somente optico",
          "226 somente optico",
          "226 somente optico",
          "226 somente optico",
          "226 somente optico",
          "226 somente optico",
          "226 somente optico",
          "226 somente optico",
          "226 somente optico",
          "226 somente optico",
          "226 somente optico",
          "226 somente optico"
         ],
         "y": [
          0.8660968660968661,
          0.2692307692307693,
          0.9034749034749034,
          0.9393939393939394,
          0,
          0.907514450867052,
          0.9148936170212764,
          0.7538461538461539,
          0.8333333333333334,
          0.8088642659279778,
          0.8603773584905662,
          0.8938906752411575,
          0.8850574712643677,
          0.915151515151515,
          0.9029126213592232,
          0.4774193548387097,
          0.5228758169934641,
          0.905511811023622,
          0.8238482384823848,
          0.2432432432432432,
          0.906367041198502,
          0.4739884393063584,
          0.7134502923976608,
          0.5369127516778524,
          0.811965811965812,
          0.9090909090909092,
          0.9511400651465798,
          0.5877862595419848,
          0.4602510460251046,
          0.7750000000000001,
          0.9276595744680852,
          0.8923076923076922,
          0.9054054054054054,
          0.9272727272727272,
          0.8014184397163121,
          0.8927038626609441,
          0.7845659163987138,
          0.7773279352226722,
          0.8319327731092436,
          0.8281938325991189,
          0.8773584905660378,
          0.7222222222222221,
          0.8214285714285714,
          0.8288973384030417,
          0.5950782997762863,
          0.9193548387096772,
          0.7599067599067598,
          0.9156626506024096,
          0.9323308270676692,
          0.9438202247191012,
          0.8806584362139916,
          0.8541114058355438,
          0.8721311475409836,
          0.8733333333333334,
          0.9551020408163264,
          0.8675324675324676,
          0.7788461538461539,
          0.6202531645569621,
          0.9003690036900369,
          0.9640718562874252,
          0.870967741935484,
          0.9285714285714286,
          0.831858407079646,
          0.8090909090909091,
          0.8965517241379309,
          0.9405940594059404,
          0.718181818181818,
          0.5988700564971752,
          0.9148936170212766,
          0.7614213197969543,
          0.2419354838709677,
          0.9483568075117372,
          0.8560885608856088,
          0.9124668435013262,
          0.9396825396825396,
          0.785498489425982,
          0.8063492063492065,
          0.8646616541353384,
          0.925,
          0.8205128205128205,
          0.9211356466876972,
          0.9244444444444444,
          0.818505338078292,
          0.8739495798319328,
          0.7240356083086054,
          0.8031496062992125,
          0.7661691542288557,
          0.9218106995884774,
          0.7966101694915254,
          0.2537313432835821,
          0.9130434782608696,
          0.8257575757575758,
          0.5153664302600472,
          0.907608695652174,
          0.6138613861386139,
          0.7153284671532847,
          0.8902439024390244,
          0.9230769230769232,
          0.9338235294117648,
          0.919831223628692,
          0.9014084507042254,
          0.917808219178082,
          0.8014184397163121,
          0.9495798319327732,
          0.9234567901234568,
          0.5146198830409356,
          0.312,
          0.8642857142857143,
          0.9182389937106916,
          0.9368421052631578,
          0.9176470588235294,
          0.823008849557522,
          0.8349514563106796,
          0.8401486988847583,
          0.9113300492610836,
          0.4049079754601227,
          0.8019323671497584,
          0.9696969696969696,
          0.4784688995215311,
          0.4755244755244756,
          0.9158878504672896,
          0.8932806324110673,
          0.9182058047493404,
          0.93125,
          0.8203592814371259,
          0.710801393728223,
          0.8507462686567163,
          0.9356223175965664,
          0.8000000000000002,
          0.9367088607594936,
          0.9082969432314412,
          0.8156028368794326,
          0.9043478260869564,
          0.7327327327327328,
          0.848,
          0.8523206751054851,
          0.9256198347107438,
          0.8732394366197184,
          0.6601941747572816,
          0.9159663865546218,
          0.83206106870229,
          0.6778947368421052,
          0.946808510638298,
          0.8170212765957446,
          0.7610208816705336,
          0.7792207792207793,
          0.9442379182156134,
          0.9555555555555556,
          0.902127659574468,
          0.9121813031161472,
          0.917808219178082,
          0.8263888888888888,
          0.943089430894309,
          0.8977556109725687,
          0.8348623853211008,
          0.6098360655737706,
          0.9136690647482014,
          0.9798270893371758,
          0.908108108108108,
          0.9281437125748504,
          0.8482142857142857,
          0.8986784140969163,
          0.8791208791208791,
          0.9560975609756096,
          0.5227272727272727,
          0.7722772277227723,
          0.937007874015748,
          0.8728813559322034,
          0.9230769230769232,
          0.9107142857142856,
          0.8714285714285713,
          0.908616187989556,
          0.9079754601226994,
          0.8749999999999999,
          0.8473520249221185,
          0.8936170212765957,
          0.944206008583691,
          0.8814814814814814,
          0.9079754601226994,
          0.8927038626609441,
          0.8156028368794326,
          0.9004329004329005,
          0.7349397590361446,
          0.8366533864541832,
          0.8262910798122065,
          0.8928571428571428,
          0.8355555555555555,
          0.5301204819277108,
          0.9327731092436974,
          0.8384615384615385,
          0.6552462526766595,
          0.9333333333333332,
          0.8333333333333334,
          0.8434782608695651,
          0.85,
          0.9323308270676692,
          0.9672727272727272,
          0.936,
          0.8773841961852862,
          0.9337979094076656,
          0.79136690647482,
          0.9590163934426228,
          0.8578947368421054,
          0.9416666666666668,
          0.6729559748427673,
          0.8928571428571429,
          0.9710982658959536,
          0.9456521739130436,
          0.936936936936937,
          0.8715596330275228,
          0.8708133971291866,
          0.8560885608856089,
          0.966183574879227,
          0.5714285714285715,
          0.915966386554622,
          0.9347826086956522,
          0.7592592592592593,
          0.8653846153846153,
          0.8841201716738197,
          0.9144981412639406,
          0.9015544041450776,
          0.9141104294478528,
          0.8668730650154798,
          0.8087774294670846,
          0.8768115942028986,
          0.9401709401709402,
          0.8487084870848707,
          0.925,
          0.905829596412556,
          0.798611111111111,
          0.9285714285714286,
          0.7261904761904762,
          0.859437751004016,
          0.867579908675799,
          0.8925619834710744,
          0.8468468468468469,
          0.6162162162162163,
          0.9090909090909092,
          0.8515625,
          0.7384615384615385,
          0.964102564102564,
          0.7722007722007722,
          0.8503253796095445,
          0.7692307692307692,
          0.929889298892989,
          0.9469964664310954,
          0.9365079365079364,
          0.817258883248731,
          0.9305555555555556,
          0.8391608391608392,
          0.9140625,
          0.9548693586698338,
          0.9140625,
          0.9365853658536584,
          0.8686868686868687,
          0.9710982658959536,
          0.9170731707317074,
          0.923076923076923,
          0.9178743961352658,
          0.908296943231441,
          0.8551236749116607,
          0.9590361445783132,
          0.3435582822085889,
          0.9004329004329005,
          0.9052631578947368,
          0.746268656716418,
          0.8942307692307692,
          0.869198312236287,
          0.9042145593869731,
          0.9190600522193212,
          0.9371069182389936,
          0.8327402135231317,
          0.7612903225806453,
          0.8541666666666667,
          0.9372384937238494,
          0.8827586206896552,
          0.9164086687306502,
          0.8583333333333334,
          0.7943262411347517,
          0.9497716894977168,
          0.7305389221556886,
          0.8820960698689956,
          0.931726907630522,
          0.9243697478991596,
          0.8744186046511627,
          0.6483516483516484,
          0.9205020920502092,
          0.8515625,
          0.7183673469387756,
          0.9549071618037136,
          0.8181818181818182,
          0.8601694915254238,
          0.935672514619883,
          0.9363295880149812,
          0.96028880866426,
          0.9224806201550388,
          0.8773841961852862,
          0.9462365591397848,
          0.8201438848920863,
          0.9465020576131686,
          0.9326683291770572,
          0.784688995215311,
          0.7267267267267268,
          0.9280575539568344,
          0.9620991253644317,
          0.904255319148936,
          0.9393939393939394,
          0.8837209302325582,
          0.8959276018099547,
          0.8914728682170543,
          0.9588377723970944,
          0,
          0.9026548672566372,
          0.938181818181818,
          0.6,
          0.8952380952380953,
          0.9439252336448596,
          0.9019607843137256,
          0.9142857142857144,
          0.9254658385093169,
          0.9049180327868852,
          0.7651006711409396,
          0.88,
          0.9396551724137931,
          0.8683274021352313,
          0.9337539432176656,
          0.9237668161434978,
          0.795847750865052,
          0.9162995594713657,
          0.7922077922077922,
          0.824,
          0.925,
          0.9173553719008264,
          0.94,
          0,
          0.9037656903765692,
          0.8861788617886179,
          0.9825174825174824,
          0.7734553775743706,
          0.7165991902834007,
          0.9635416666666666,
          0.8070953436807097,
          0.8934010152284264,
          0.9438202247191012,
          0.9537366548042704,
          0.937007874015748,
          0.8773841961852862,
          0.9103448275862068,
          0.8197879858657243,
          0.9551020408163264,
          0.9081885856079404,
          0.944,
          0.9376558603491272,
          0.8641114982578397,
          0.9768786127167628,
          0.9479166666666666,
          0.9313432835820896,
          0.8785046728971962,
          0.9276595744680852,
          0.8864468864468864,
          0.9592326139088728,
          0.4883720930232558,
          0.97165991902834,
          0.8897058823529412,
          0.8764940239043825,
          0.898989898989899,
          0.9155555555555556,
          0.8955223880597015,
          0.9168900804289544,
          0.9221183800623052,
          0.9361702127659574,
          0.8012820512820512,
          0.856140350877193,
          0.9128630705394192,
          0.8683274021352313,
          0.9367088607594936,
          0.8739495798319328,
          0.8214285714285715,
          0.9203539823008848,
          0.7648902821316614,
          0.895397489539749,
          0.921161825726141,
          0.9282700421940928,
          0.9082125603864734,
          0.66,
          0.9316239316239316,
          0.8650793650793651,
          0.5641025641025641,
          0.2692307692307693,
          0.3578947368421052,
          0.4719101123595506,
          0,
          0.2901554404145078,
          0.4327485380116959,
          0.4257425742574257,
          0.6344086021505376,
          0.4311377245508982,
          0,
          0.3404255319148936,
          0,
          0.1846153846153846,
          0.2550335570469799,
          0.2430939226519337,
          0,
          0.2131147540983606,
          0.5635359116022098,
          0.3644444444444444,
          0.9548387096774196,
          0.4784313725490196,
          0.3473053892215569,
          0.4836601307189542,
          0.6532663316582914,
          0.5904761904761905,
          0.5987261146496815,
          0.3642611683848797,
          0.8042328042328043,
          0.7219512195121952,
          0.649789029535865,
          0.5380116959064327,
          0.3999999999999999,
          0.6243386243386243,
          0.611111111111111,
          0.7195767195767196,
          0.4615384615384616
         ]
        },
        {
         "marker": {
          "opacity": 0
         },
         "name": "F1 Mean data",
         "type": "scatter",
         "x": [
          "50 imagens",
          "75 imagens",
          "100 imagens",
          "125 imagens",
          "150 imagens",
          "175 imagens",
          "200 imagens",
          "226 imagens",
          "226 somente optico"
         ],
         "y": [
          0.7629905409866381,
          0.8238845571310477,
          0.8142379614508741,
          0.8581713703137156,
          0.8658410619454074,
          0.8674381727801375,
          0.8498449515357658,
          0.8854579986970534,
          0.4335975578752018
         ]
        }
       ],
       "layout": {
        "height": 600,
        "template": {
         "data": {
          "bar": [
           {
            "error_x": {
             "color": "#2a3f5f"
            },
            "error_y": {
             "color": "#2a3f5f"
            },
            "marker": {
             "line": {
              "color": "#E5ECF6",
              "width": 0.5
             },
             "pattern": {
              "fillmode": "overlay",
              "size": 10,
              "solidity": 0.2
             }
            },
            "type": "bar"
           }
          ],
          "barpolar": [
           {
            "marker": {
             "line": {
              "color": "#E5ECF6",
              "width": 0.5
             },
             "pattern": {
              "fillmode": "overlay",
              "size": 10,
              "solidity": 0.2
             }
            },
            "type": "barpolar"
           }
          ],
          "carpet": [
           {
            "aaxis": {
             "endlinecolor": "#2a3f5f",
             "gridcolor": "white",
             "linecolor": "white",
             "minorgridcolor": "white",
             "startlinecolor": "#2a3f5f"
            },
            "baxis": {
             "endlinecolor": "#2a3f5f",
             "gridcolor": "white",
             "linecolor": "white",
             "minorgridcolor": "white",
             "startlinecolor": "#2a3f5f"
            },
            "type": "carpet"
           }
          ],
          "choropleth": [
           {
            "colorbar": {
             "outlinewidth": 0,
             "ticks": ""
            },
            "type": "choropleth"
           }
          ],
          "contour": [
           {
            "colorbar": {
             "outlinewidth": 0,
             "ticks": ""
            },
            "colorscale": [
             [
              0,
              "#0d0887"
             ],
             [
              0.1111111111111111,
              "#46039f"
             ],
             [
              0.2222222222222222,
              "#7201a8"
             ],
             [
              0.3333333333333333,
              "#9c179e"
             ],
             [
              0.4444444444444444,
              "#bd3786"
             ],
             [
              0.5555555555555556,
              "#d8576b"
             ],
             [
              0.6666666666666666,
              "#ed7953"
             ],
             [
              0.7777777777777778,
              "#fb9f3a"
             ],
             [
              0.8888888888888888,
              "#fdca26"
             ],
             [
              1,
              "#f0f921"
             ]
            ],
            "type": "contour"
           }
          ],
          "contourcarpet": [
           {
            "colorbar": {
             "outlinewidth": 0,
             "ticks": ""
            },
            "type": "contourcarpet"
           }
          ],
          "heatmap": [
           {
            "colorbar": {
             "outlinewidth": 0,
             "ticks": ""
            },
            "colorscale": [
             [
              0,
              "#0d0887"
             ],
             [
              0.1111111111111111,
              "#46039f"
             ],
             [
              0.2222222222222222,
              "#7201a8"
             ],
             [
              0.3333333333333333,
              "#9c179e"
             ],
             [
              0.4444444444444444,
              "#bd3786"
             ],
             [
              0.5555555555555556,
              "#d8576b"
             ],
             [
              0.6666666666666666,
              "#ed7953"
             ],
             [
              0.7777777777777778,
              "#fb9f3a"
             ],
             [
              0.8888888888888888,
              "#fdca26"
             ],
             [
              1,
              "#f0f921"
             ]
            ],
            "type": "heatmap"
           }
          ],
          "heatmapgl": [
           {
            "colorbar": {
             "outlinewidth": 0,
             "ticks": ""
            },
            "colorscale": [
             [
              0,
              "#0d0887"
             ],
             [
              0.1111111111111111,
              "#46039f"
             ],
             [
              0.2222222222222222,
              "#7201a8"
             ],
             [
              0.3333333333333333,
              "#9c179e"
             ],
             [
              0.4444444444444444,
              "#bd3786"
             ],
             [
              0.5555555555555556,
              "#d8576b"
             ],
             [
              0.6666666666666666,
              "#ed7953"
             ],
             [
              0.7777777777777778,
              "#fb9f3a"
             ],
             [
              0.8888888888888888,
              "#fdca26"
             ],
             [
              1,
              "#f0f921"
             ]
            ],
            "type": "heatmapgl"
           }
          ],
          "histogram": [
           {
            "marker": {
             "pattern": {
              "fillmode": "overlay",
              "size": 10,
              "solidity": 0.2
             }
            },
            "type": "histogram"
           }
          ],
          "histogram2d": [
           {
            "colorbar": {
             "outlinewidth": 0,
             "ticks": ""
            },
            "colorscale": [
             [
              0,
              "#0d0887"
             ],
             [
              0.1111111111111111,
              "#46039f"
             ],
             [
              0.2222222222222222,
              "#7201a8"
             ],
             [
              0.3333333333333333,
              "#9c179e"
             ],
             [
              0.4444444444444444,
              "#bd3786"
             ],
             [
              0.5555555555555556,
              "#d8576b"
             ],
             [
              0.6666666666666666,
              "#ed7953"
             ],
             [
              0.7777777777777778,
              "#fb9f3a"
             ],
             [
              0.8888888888888888,
              "#fdca26"
             ],
             [
              1,
              "#f0f921"
             ]
            ],
            "type": "histogram2d"
           }
          ],
          "histogram2dcontour": [
           {
            "colorbar": {
             "outlinewidth": 0,
             "ticks": ""
            },
            "colorscale": [
             [
              0,
              "#0d0887"
             ],
             [
              0.1111111111111111,
              "#46039f"
             ],
             [
              0.2222222222222222,
              "#7201a8"
             ],
             [
              0.3333333333333333,
              "#9c179e"
             ],
             [
              0.4444444444444444,
              "#bd3786"
             ],
             [
              0.5555555555555556,
              "#d8576b"
             ],
             [
              0.6666666666666666,
              "#ed7953"
             ],
             [
              0.7777777777777778,
              "#fb9f3a"
             ],
             [
              0.8888888888888888,
              "#fdca26"
             ],
             [
              1,
              "#f0f921"
             ]
            ],
            "type": "histogram2dcontour"
           }
          ],
          "mesh3d": [
           {
            "colorbar": {
             "outlinewidth": 0,
             "ticks": ""
            },
            "type": "mesh3d"
           }
          ],
          "parcoords": [
           {
            "line": {
             "colorbar": {
              "outlinewidth": 0,
              "ticks": ""
             }
            },
            "type": "parcoords"
           }
          ],
          "pie": [
           {
            "automargin": true,
            "type": "pie"
           }
          ],
          "scatter": [
           {
            "fillpattern": {
             "fillmode": "overlay",
             "size": 10,
             "solidity": 0.2
            },
            "type": "scatter"
           }
          ],
          "scatter3d": [
           {
            "line": {
             "colorbar": {
              "outlinewidth": 0,
              "ticks": ""
             }
            },
            "marker": {
             "colorbar": {
              "outlinewidth": 0,
              "ticks": ""
             }
            },
            "type": "scatter3d"
           }
          ],
          "scattercarpet": [
           {
            "marker": {
             "colorbar": {
              "outlinewidth": 0,
              "ticks": ""
             }
            },
            "type": "scattercarpet"
           }
          ],
          "scattergeo": [
           {
            "marker": {
             "colorbar": {
              "outlinewidth": 0,
              "ticks": ""
             }
            },
            "type": "scattergeo"
           }
          ],
          "scattergl": [
           {
            "marker": {
             "colorbar": {
              "outlinewidth": 0,
              "ticks": ""
             }
            },
            "type": "scattergl"
           }
          ],
          "scattermapbox": [
           {
            "marker": {
             "colorbar": {
              "outlinewidth": 0,
              "ticks": ""
             }
            },
            "type": "scattermapbox"
           }
          ],
          "scatterpolar": [
           {
            "marker": {
             "colorbar": {
              "outlinewidth": 0,
              "ticks": ""
             }
            },
            "type": "scatterpolar"
           }
          ],
          "scatterpolargl": [
           {
            "marker": {
             "colorbar": {
              "outlinewidth": 0,
              "ticks": ""
             }
            },
            "type": "scatterpolargl"
           }
          ],
          "scatterternary": [
           {
            "marker": {
             "colorbar": {
              "outlinewidth": 0,
              "ticks": ""
             }
            },
            "type": "scatterternary"
           }
          ],
          "surface": [
           {
            "colorbar": {
             "outlinewidth": 0,
             "ticks": ""
            },
            "colorscale": [
             [
              0,
              "#0d0887"
             ],
             [
              0.1111111111111111,
              "#46039f"
             ],
             [
              0.2222222222222222,
              "#7201a8"
             ],
             [
              0.3333333333333333,
              "#9c179e"
             ],
             [
              0.4444444444444444,
              "#bd3786"
             ],
             [
              0.5555555555555556,
              "#d8576b"
             ],
             [
              0.6666666666666666,
              "#ed7953"
             ],
             [
              0.7777777777777778,
              "#fb9f3a"
             ],
             [
              0.8888888888888888,
              "#fdca26"
             ],
             [
              1,
              "#f0f921"
             ]
            ],
            "type": "surface"
           }
          ],
          "table": [
           {
            "cells": {
             "fill": {
              "color": "#EBF0F8"
             },
             "line": {
              "color": "white"
             }
            },
            "header": {
             "fill": {
              "color": "#C8D4E3"
             },
             "line": {
              "color": "white"
             }
            },
            "type": "table"
           }
          ]
         },
         "layout": {
          "annotationdefaults": {
           "arrowcolor": "#2a3f5f",
           "arrowhead": 0,
           "arrowwidth": 1
          },
          "autotypenumbers": "strict",
          "coloraxis": {
           "colorbar": {
            "outlinewidth": 0,
            "ticks": ""
           }
          },
          "colorscale": {
           "diverging": [
            [
             0,
             "#8e0152"
            ],
            [
             0.1,
             "#c51b7d"
            ],
            [
             0.2,
             "#de77ae"
            ],
            [
             0.3,
             "#f1b6da"
            ],
            [
             0.4,
             "#fde0ef"
            ],
            [
             0.5,
             "#f7f7f7"
            ],
            [
             0.6,
             "#e6f5d0"
            ],
            [
             0.7,
             "#b8e186"
            ],
            [
             0.8,
             "#7fbc41"
            ],
            [
             0.9,
             "#4d9221"
            ],
            [
             1,
             "#276419"
            ]
           ],
           "sequential": [
            [
             0,
             "#0d0887"
            ],
            [
             0.1111111111111111,
             "#46039f"
            ],
            [
             0.2222222222222222,
             "#7201a8"
            ],
            [
             0.3333333333333333,
             "#9c179e"
            ],
            [
             0.4444444444444444,
             "#bd3786"
            ],
            [
             0.5555555555555556,
             "#d8576b"
            ],
            [
             0.6666666666666666,
             "#ed7953"
            ],
            [
             0.7777777777777778,
             "#fb9f3a"
            ],
            [
             0.8888888888888888,
             "#fdca26"
            ],
            [
             1,
             "#f0f921"
            ]
           ],
           "sequentialminus": [
            [
             0,
             "#0d0887"
            ],
            [
             0.1111111111111111,
             "#46039f"
            ],
            [
             0.2222222222222222,
             "#7201a8"
            ],
            [
             0.3333333333333333,
             "#9c179e"
            ],
            [
             0.4444444444444444,
             "#bd3786"
            ],
            [
             0.5555555555555556,
             "#d8576b"
            ],
            [
             0.6666666666666666,
             "#ed7953"
            ],
            [
             0.7777777777777778,
             "#fb9f3a"
            ],
            [
             0.8888888888888888,
             "#fdca26"
            ],
            [
             1,
             "#f0f921"
            ]
           ]
          },
          "colorway": [
           "#636efa",
           "#EF553B",
           "#00cc96",
           "#ab63fa",
           "#FFA15A",
           "#19d3f3",
           "#FF6692",
           "#B6E880",
           "#FF97FF",
           "#FECB52"
          ],
          "font": {
           "color": "#2a3f5f"
          },
          "geo": {
           "bgcolor": "white",
           "lakecolor": "white",
           "landcolor": "#E5ECF6",
           "showlakes": true,
           "showland": true,
           "subunitcolor": "white"
          },
          "hoverlabel": {
           "align": "left"
          },
          "hovermode": "closest",
          "mapbox": {
           "style": "light"
          },
          "paper_bgcolor": "white",
          "plot_bgcolor": "#E5ECF6",
          "polar": {
           "angularaxis": {
            "gridcolor": "white",
            "linecolor": "white",
            "ticks": ""
           },
           "bgcolor": "#E5ECF6",
           "radialaxis": {
            "gridcolor": "white",
            "linecolor": "white",
            "ticks": ""
           }
          },
          "scene": {
           "xaxis": {
            "backgroundcolor": "#E5ECF6",
            "gridcolor": "white",
            "gridwidth": 2,
            "linecolor": "white",
            "showbackground": true,
            "ticks": "",
            "zerolinecolor": "white"
           },
           "yaxis": {
            "backgroundcolor": "#E5ECF6",
            "gridcolor": "white",
            "gridwidth": 2,
            "linecolor": "white",
            "showbackground": true,
            "ticks": "",
            "zerolinecolor": "white"
           },
           "zaxis": {
            "backgroundcolor": "#E5ECF6",
            "gridcolor": "white",
            "gridwidth": 2,
            "linecolor": "white",
            "showbackground": true,
            "ticks": "",
            "zerolinecolor": "white"
           }
          },
          "shapedefaults": {
           "line": {
            "color": "#2a3f5f"
           }
          },
          "ternary": {
           "aaxis": {
            "gridcolor": "white",
            "linecolor": "white",
            "ticks": ""
           },
           "baxis": {
            "gridcolor": "white",
            "linecolor": "white",
            "ticks": ""
           },
           "bgcolor": "#E5ECF6",
           "caxis": {
            "gridcolor": "white",
            "linecolor": "white",
            "ticks": ""
           }
          },
          "title": {
           "x": 0.05
          },
          "xaxis": {
           "automargin": true,
           "gridcolor": "white",
           "linecolor": "white",
           "ticks": "",
           "title": {
            "standoff": 15
           },
           "zerolinecolor": "white",
           "zerolinewidth": 2
          },
          "yaxis": {
           "automargin": true,
           "gridcolor": "white",
           "linecolor": "white",
           "ticks": "",
           "title": {
            "standoff": 15
           },
           "zerolinecolor": "white",
           "zerolinewidth": 2
          }
         }
        },
        "title": {
         "text": "Unet F1 by Train Set"
        },
        "width": 800,
        "xaxis": {
         "anchor": "y",
         "domain": [
          0,
          1
         ]
        },
        "yaxis": {
         "anchor": "x",
         "domain": [
          0,
          1
         ],
         "range": [
          0,
          1
         ]
        }
       }
      }
     },
     "metadata": {},
     "output_type": "display_data"
    },
    {
     "data": {
      "application/vnd.plotly.v1+json": {
       "config": {
        "plotlyServerURL": "https://plot.ly"
       },
       "data": [
        {
         "marker": {
          "opacity": 0
         },
         "name": "Jaccard complete data",
         "type": "box",
         "x": [
          "50 imagens",
          "50 imagens",
          "50 imagens",
          "50 imagens",
          "50 imagens",
          "50 imagens",
          "50 imagens",
          "50 imagens",
          "50 imagens",
          "50 imagens",
          "50 imagens",
          "50 imagens",
          "50 imagens",
          "50 imagens",
          "50 imagens",
          "50 imagens",
          "50 imagens",
          "50 imagens",
          "50 imagens",
          "50 imagens",
          "50 imagens",
          "50 imagens",
          "50 imagens",
          "50 imagens",
          "50 imagens",
          "50 imagens",
          "50 imagens",
          "50 imagens",
          "50 imagens",
          "50 imagens",
          "50 imagens",
          "50 imagens",
          "50 imagens",
          "50 imagens",
          "50 imagens",
          "50 imagens",
          "50 imagens",
          "50 imagens",
          "50 imagens",
          "50 imagens",
          "50 imagens",
          "50 imagens",
          "50 imagens",
          "50 imagens",
          "75 imagens",
          "75 imagens",
          "75 imagens",
          "75 imagens",
          "75 imagens",
          "75 imagens",
          "75 imagens",
          "75 imagens",
          "75 imagens",
          "75 imagens",
          "75 imagens",
          "75 imagens",
          "75 imagens",
          "75 imagens",
          "75 imagens",
          "75 imagens",
          "75 imagens",
          "75 imagens",
          "75 imagens",
          "75 imagens",
          "75 imagens",
          "75 imagens",
          "75 imagens",
          "75 imagens",
          "75 imagens",
          "75 imagens",
          "75 imagens",
          "75 imagens",
          "75 imagens",
          "75 imagens",
          "75 imagens",
          "75 imagens",
          "75 imagens",
          "75 imagens",
          "75 imagens",
          "75 imagens",
          "75 imagens",
          "75 imagens",
          "75 imagens",
          "75 imagens",
          "75 imagens",
          "75 imagens",
          "75 imagens",
          "75 imagens",
          "75 imagens",
          "75 imagens",
          "75 imagens",
          "75 imagens",
          "100 imagens",
          "100 imagens",
          "100 imagens",
          "100 imagens",
          "100 imagens",
          "100 imagens",
          "100 imagens",
          "100 imagens",
          "100 imagens",
          "100 imagens",
          "100 imagens",
          "100 imagens",
          "100 imagens",
          "100 imagens",
          "100 imagens",
          "100 imagens",
          "100 imagens",
          "100 imagens",
          "100 imagens",
          "100 imagens",
          "100 imagens",
          "100 imagens",
          "100 imagens",
          "100 imagens",
          "100 imagens",
          "100 imagens",
          "100 imagens",
          "100 imagens",
          "100 imagens",
          "100 imagens",
          "100 imagens",
          "100 imagens",
          "100 imagens",
          "100 imagens",
          "100 imagens",
          "100 imagens",
          "100 imagens",
          "100 imagens",
          "100 imagens",
          "100 imagens",
          "100 imagens",
          "100 imagens",
          "100 imagens",
          "100 imagens",
          "100 imagens",
          "100 imagens",
          "100 imagens",
          "100 imagens",
          "100 imagens",
          "125 imagens",
          "125 imagens",
          "125 imagens",
          "125 imagens",
          "125 imagens",
          "125 imagens",
          "125 imagens",
          "125 imagens",
          "125 imagens",
          "125 imagens",
          "125 imagens",
          "125 imagens",
          "125 imagens",
          "125 imagens",
          "125 imagens",
          "125 imagens",
          "125 imagens",
          "125 imagens",
          "125 imagens",
          "125 imagens",
          "125 imagens",
          "125 imagens",
          "125 imagens",
          "125 imagens",
          "125 imagens",
          "125 imagens",
          "125 imagens",
          "125 imagens",
          "125 imagens",
          "125 imagens",
          "125 imagens",
          "125 imagens",
          "125 imagens",
          "125 imagens",
          "125 imagens",
          "125 imagens",
          "125 imagens",
          "125 imagens",
          "125 imagens",
          "125 imagens",
          "125 imagens",
          "125 imagens",
          "125 imagens",
          "125 imagens",
          "125 imagens",
          "125 imagens",
          "125 imagens",
          "125 imagens",
          "125 imagens",
          "150 imagens",
          "150 imagens",
          "150 imagens",
          "150 imagens",
          "150 imagens",
          "150 imagens",
          "150 imagens",
          "150 imagens",
          "150 imagens",
          "150 imagens",
          "150 imagens",
          "150 imagens",
          "150 imagens",
          "150 imagens",
          "150 imagens",
          "150 imagens",
          "150 imagens",
          "150 imagens",
          "150 imagens",
          "150 imagens",
          "150 imagens",
          "150 imagens",
          "150 imagens",
          "150 imagens",
          "150 imagens",
          "150 imagens",
          "150 imagens",
          "150 imagens",
          "150 imagens",
          "150 imagens",
          "150 imagens",
          "150 imagens",
          "150 imagens",
          "150 imagens",
          "150 imagens",
          "150 imagens",
          "150 imagens",
          "150 imagens",
          "150 imagens",
          "150 imagens",
          "150 imagens",
          "150 imagens",
          "150 imagens",
          "150 imagens",
          "150 imagens",
          "150 imagens",
          "150 imagens",
          "150 imagens",
          "150 imagens",
          "175 imagens",
          "175 imagens",
          "175 imagens",
          "175 imagens",
          "175 imagens",
          "175 imagens",
          "175 imagens",
          "175 imagens",
          "175 imagens",
          "175 imagens",
          "175 imagens",
          "175 imagens",
          "175 imagens",
          "175 imagens",
          "175 imagens",
          "175 imagens",
          "175 imagens",
          "175 imagens",
          "175 imagens",
          "175 imagens",
          "175 imagens",
          "175 imagens",
          "175 imagens",
          "175 imagens",
          "175 imagens",
          "175 imagens",
          "175 imagens",
          "175 imagens",
          "175 imagens",
          "175 imagens",
          "175 imagens",
          "175 imagens",
          "175 imagens",
          "175 imagens",
          "175 imagens",
          "175 imagens",
          "175 imagens",
          "175 imagens",
          "175 imagens",
          "175 imagens",
          "175 imagens",
          "175 imagens",
          "175 imagens",
          "175 imagens",
          "175 imagens",
          "175 imagens",
          "175 imagens",
          "175 imagens",
          "175 imagens",
          "200 imagens",
          "200 imagens",
          "200 imagens",
          "200 imagens",
          "200 imagens",
          "200 imagens",
          "200 imagens",
          "200 imagens",
          "200 imagens",
          "200 imagens",
          "200 imagens",
          "200 imagens",
          "200 imagens",
          "200 imagens",
          "200 imagens",
          "200 imagens",
          "200 imagens",
          "200 imagens",
          "200 imagens",
          "200 imagens",
          "200 imagens",
          "200 imagens",
          "200 imagens",
          "200 imagens",
          "200 imagens",
          "200 imagens",
          "200 imagens",
          "200 imagens",
          "200 imagens",
          "200 imagens",
          "200 imagens",
          "200 imagens",
          "200 imagens",
          "200 imagens",
          "200 imagens",
          "200 imagens",
          "200 imagens",
          "200 imagens",
          "200 imagens",
          "200 imagens",
          "200 imagens",
          "200 imagens",
          "200 imagens",
          "200 imagens",
          "200 imagens",
          "200 imagens",
          "200 imagens",
          "200 imagens",
          "200 imagens",
          "226 imagens",
          "226 imagens",
          "226 imagens",
          "226 imagens",
          "226 imagens",
          "226 imagens",
          "226 imagens",
          "226 imagens",
          "226 imagens",
          "226 imagens",
          "226 imagens",
          "226 imagens",
          "226 imagens",
          "226 imagens",
          "226 imagens",
          "226 imagens",
          "226 imagens",
          "226 imagens",
          "226 imagens",
          "226 imagens",
          "226 imagens",
          "226 imagens",
          "226 imagens",
          "226 imagens",
          "226 imagens",
          "226 imagens",
          "226 imagens",
          "226 imagens",
          "226 imagens",
          "226 imagens",
          "226 imagens",
          "226 imagens",
          "226 imagens",
          "226 imagens",
          "226 imagens",
          "226 imagens",
          "226 imagens",
          "226 imagens",
          "226 imagens",
          "226 imagens",
          "226 imagens",
          "226 imagens",
          "226 imagens",
          "226 imagens",
          "226 imagens",
          "226 imagens",
          "226 imagens",
          "226 imagens",
          "226 imagens",
          "226 imagens",
          "226 somente optico",
          "226 somente optico",
          "226 somente optico",
          "226 somente optico",
          "226 somente optico",
          "226 somente optico",
          "226 somente optico",
          "226 somente optico",
          "226 somente optico",
          "226 somente optico",
          "226 somente optico",
          "226 somente optico",
          "226 somente optico",
          "226 somente optico",
          "226 somente optico",
          "226 somente optico",
          "226 somente optico",
          "226 somente optico",
          "226 somente optico",
          "226 somente optico",
          "226 somente optico",
          "226 somente optico",
          "226 somente optico",
          "226 somente optico",
          "226 somente optico",
          "226 somente optico",
          "226 somente optico",
          "226 somente optico",
          "226 somente optico",
          "226 somente optico",
          "226 somente optico",
          "226 somente optico",
          "226 somente optico",
          "226 somente optico",
          "226 somente optico",
          "226 somente optico",
          "226 somente optico"
         ],
         "y": [
          0.7638190954773869,
          0.1555555555555555,
          0.823943661971831,
          0.8857142857142857,
          0,
          0.8306878306878307,
          0.8431372549019608,
          0.6049382716049383,
          0.7142857142857143,
          0.6790697674418604,
          0.7549668874172185,
          0.8081395348837209,
          0.7938144329896907,
          0.8435754189944135,
          0.8230088495575221,
          0.3135593220338983,
          0.3539823008849557,
          0.8273381294964028,
          0.7004608294930875,
          0.1384615384615384,
          0.8287671232876712,
          0.3106060606060606,
          0.5545454545454546,
          0.3669724770642202,
          0.6834532374100719,
          0.8333333333333334,
          0.906832298136646,
          0.4162162162162162,
          0.2989130434782608,
          0.6326530612244898,
          0.8650793650793651,
          0.8055555555555556,
          0.8271604938271605,
          0.864406779661017,
          0.6686390532544378,
          0.8062015503875969,
          0.6455026455026455,
          0.6357615894039735,
          0.7122302158273381,
          0.706766917293233,
          0.7815126050420168,
          0.5652173913043478,
          0.696969696969697,
          0.7077922077922078,
          0.4235668789808917,
          0.8507462686567164,
          0.6127819548872181,
          0.8444444444444444,
          0.8732394366197183,
          0.8936170212765957,
          0.7867647058823529,
          0.7453703703703703,
          0.7732558139534884,
          0.7751479289940828,
          0.9140625,
          0.7660550458715596,
          0.6377952755905512,
          0.4495412844036697,
          0.8187919463087249,
          0.930635838150289,
          0.7714285714285715,
          0.8666666666666667,
          0.7121212121212122,
          0.6793893129770993,
          0.8125,
          0.8878504672897196,
          0.5602836879432624,
          0.4274193548387097,
          0.8431372549019608,
          0.6147540983606558,
          0.1376146788990825,
          0.9017857142857144,
          0.7483870967741936,
          0.8390243902439024,
          0.8862275449101796,
          0.6467661691542289,
          0.675531914893617,
          0.7615894039735099,
          0.8604651162790697,
          0.6956521739130435,
          0.8538011695906432,
          0.859504132231405,
          0.6927710843373494,
          0.7761194029850746,
          0.5674418604651162,
          0.6710526315789473,
          0.6209677419354839,
          0.8549618320610687,
          0.6619718309859155,
          0.1452991452991453,
          0.84,
          0.7032258064516129,
          0.3471337579617834,
          0.8308457711442786,
          0.4428571428571428,
          0.5568181818181818,
          0.8021978021978022,
          0.8571428571428571,
          0.8758620689655172,
          0.8515625,
          0.8205128205128205,
          0.8481012658227848,
          0.6686390532544378,
          0.904,
          0.8577981651376146,
          0.3464566929133858,
          0.1848341232227488,
          0.7610062893081762,
          0.8488372093023255,
          0.8811881188118812,
          0.8478260869565217,
          0.6992481203007519,
          0.7166666666666667,
          0.7243589743589743,
          0.8371040723981901,
          0.2538461538461538,
          0.6693548387096774,
          0.9411764705882352,
          0.3144654088050314,
          0.3119266055045872,
          0.8448275862068966,
          0.8071428571428572,
          0.848780487804878,
          0.8713450292397661,
          0.6954314720812182,
          0.5513513513513514,
          0.7402597402597403,
          0.8790322580645161,
          0.6666666666666666,
          0.8809523809523809,
          0.832,
          0.688622754491018,
          0.8253968253968254,
          0.5781990521327014,
          0.7361111111111112,
          0.7426470588235294,
          0.8615384615384616,
          0.775,
          0.4927536231884058,
          0.8449612403100775,
          0.7124183006535948,
          0.5127388535031847,
          0.898989898989899,
          0.6906474820143885,
          0.6142322097378277,
          0.6382978723404256,
          0.8943661971830986,
          0.9148936170212766,
          0.8217054263565892,
          0.8385416666666666,
          0.8481012658227848,
          0.7041420118343196,
          0.8923076923076924,
          0.8144796380090498,
          0.7165354330708661,
          0.4386792452830189,
          0.8410596026490066,
          0.96045197740113,
          0.8316831683168316,
          0.8659217877094972,
          0.7364341085271318,
          0.816,
          0.7843137254901961,
          0.9158878504672896,
          0.3538461538461538,
          0.6290322580645161,
          0.8814814814814815,
          0.7744360902255639,
          0.8571428571428571,
          0.8360655737704918,
          0.7721518987341772,
          0.8325358851674641,
          0.8314606741573034,
          0.7777777777777778,
          0.7351351351351352,
          0.8076923076923077,
          0.8943089430894309,
          0.7880794701986755,
          0.8314606741573034,
          0.8062015503875969,
          0.688622754491018,
          0.8188976377952756,
          0.580952380952381,
          0.7191780821917808,
          0.704,
          0.8064516129032258,
          0.7175572519083969,
          0.360655737704918,
          0.8740157480314961,
          0.7218543046357616,
          0.4872611464968153,
          0.875,
          0.7142857142857143,
          0.7293233082706767,
          0.7391304347826086,
          0.8732394366197183,
          0.9366197183098592,
          0.8796992481203008,
          0.7815533980582524,
          0.8758169934640523,
          0.6547619047619048,
          0.9212598425196852,
          0.7511520737327189,
          0.889763779527559,
          0.5071090047393365,
          0.8064516129032258,
          0.9438202247191012,
          0.8969072164948454,
          0.8813559322033898,
          0.7723577235772358,
          0.7711864406779662,
          0.7483870967741936,
          0.9345794392523364,
          0.4,
          0.8449612403100775,
          0.8775510204081632,
          0.6119402985074627,
          0.7627118644067796,
          0.7923076923076923,
          0.8424657534246576,
          0.8207547169811321,
          0.8418079096045198,
          0.7650273224043715,
          0.6789473684210526,
          0.7806451612903226,
          0.8870967741935484,
          0.7371794871794872,
          0.8604651162790697,
          0.8278688524590164,
          0.6647398843930635,
          0.8666666666666667,
          0.5700934579439252,
          0.7535211267605634,
          0.7661290322580645,
          0.8059701492537313,
          0.734375,
          0.4453125,
          0.8333333333333334,
          0.7414965986394558,
          0.5853658536585366,
          0.9306930693069309,
          0.6289308176100629,
          0.7396226415094339,
          0.625,
          0.8689655172413793,
          0.8993288590604027,
          0.8805970149253731,
          0.6909871244635193,
          0.8701298701298701,
          0.7228915662650602,
          0.841726618705036,
          0.9136363636363636,
          0.841726618705036,
          0.8807339449541285,
          0.7678571428571429,
          0.9438202247191012,
          0.8468468468468469,
          0.8571428571428571,
          0.8482142857142857,
          0.832,
          0.7469135802469136,
          0.9212962962962964,
          0.2074074074074074,
          0.8188976377952756,
          0.8269230769230769,
          0.5952380952380952,
          0.808695652173913,
          0.7686567164179104,
          0.8251748251748252,
          0.8502415458937198,
          0.8816568047337278,
          0.7134146341463414,
          0.6145833333333334,
          0.7454545454545455,
          0.8818897637795275,
          0.7901234567901234,
          0.8457142857142858,
          0.7518248175182481,
          0.6588235294117647,
          0.9043478260869564,
          0.5754716981132075,
          0.7890625,
          0.8721804511278195,
          0.859375,
          0.7768595041322314,
          0.4796747967479675,
          0.8527131782945736,
          0.7414965986394558,
          0.5605095541401274,
          0.9137055837563453,
          0.6923076923076923,
          0.7546468401486989,
          0.8791208791208791,
          0.8802816901408451,
          0.9236111111111112,
          0.8561151079136691,
          0.7815533980582524,
          0.8979591836734694,
          0.6951219512195121,
          0.8984375,
          0.8738317757009346,
          0.6456692913385826,
          0.5707547169811321,
          0.8657718120805369,
          0.9269662921348316,
          0.8252427184466019,
          0.8857142857142857,
          0.7916666666666666,
          0.8114754098360656,
          0.8041958041958042,
          0.9209302325581395,
          0,
          0.8225806451612904,
          0.8835616438356164,
          0.4285714285714285,
          0.8103448275862069,
          0.8938053097345132,
          0.8214285714285714,
          0.8421052631578947,
          0.861271676300578,
          0.8263473053892215,
          0.6195652173913043,
          0.7857142857142857,
          0.8861788617886179,
          0.7672955974842768,
          0.8757396449704142,
          0.8583333333333333,
          0.6609195402298851,
          0.8455284552845529,
          0.6559139784946236,
          0.7006802721088435,
          0.8604651162790697,
          0.8473282442748091,
          0.8867924528301887,
          0,
          0.8244274809160306,
          0.7956204379562044,
          0.9656357388316152,
          0.6305970149253731,
          0.5583596214511041,
          0.9296482412060302,
          0.6765799256505576,
          0.8073394495412844,
          0.8936170212765957,
          0.91156462585034,
          0.8814814814814815,
          0.7815533980582524,
          0.8354430379746836,
          0.6946107784431138,
          0.9140625,
          0.8318181818181818,
          0.8939393939393939,
          0.8826291079812206,
          0.7607361963190185,
          0.9548022598870056,
          0.900990099009901,
          0.8715083798882681,
          0.7833333333333333,
          0.8650793650793651,
          0.7960526315789473,
          0.9216589861751152,
          0.3230769230769231,
          0.9448818897637796,
          0.8013245033112583,
          0.7801418439716312,
          0.8165137614678899,
          0.8442622950819673,
          0.8108108108108109,
          0.8465346534653465,
          0.8554913294797688,
          0.88,
          0.6684491978609626,
          0.7484662576687117,
          0.8396946564885496,
          0.7672955974842768,
          0.8809523809523809,
          0.7761194029850746,
          0.696969696969697,
          0.8524590163934426,
          0.6192893401015228,
          0.8106060606060606,
          0.8538461538461538,
          0.8661417322834646,
          0.831858407079646,
          0.4925373134328358,
          0.872,
          0.7622377622377622,
          0.3928571428571428,
          0.1555555555555555,
          0.2179487179487179,
          0.3088235294117647,
          0,
          0.1696969696969697,
          0.2761194029850746,
          0.270440251572327,
          0.4645669291338583,
          0.2748091603053435,
          0,
          0.2051282051282051,
          0,
          0.1016949152542373,
          0.1461538461538461,
          0.1383647798742138,
          0,
          0.1192660550458715,
          0.3923076923076923,
          0.2228260869565217,
          0.9135802469135802,
          0.3144329896907216,
          0.2101449275362318,
          0.3189655172413793,
          0.4850746268656716,
          0.4189189189189189,
          0.4272727272727272,
          0.2226890756302521,
          0.672566371681416,
          0.5648854961832062,
          0.48125,
          0.368,
          0.25,
          0.4538461538461538,
          0.44,
          0.5619834710743802,
          0.3
         ]
        },
        {
         "marker": {
          "opacity": 0
         },
         "name": "Jaccard Mean data",
         "type": "scatter",
         "x": [
          "50 imagens",
          "75 imagens",
          "100 imagens",
          "125 imagens",
          "150 imagens",
          "175 imagens",
          "200 imagens",
          "226 imagens",
          "226 somente optico"
         ],
         "y": [
          0.6540806148649279,
          0.7223235037951424,
          0.7117797035902964,
          0.7630898973947889,
          0.7731508166881155,
          0.7779658937763859,
          0.769716511989101,
          0.803700035130402,
          0.3043289125146481
         ]
        }
       ],
       "layout": {
        "height": 600,
        "template": {
         "data": {
          "bar": [
           {
            "error_x": {
             "color": "#2a3f5f"
            },
            "error_y": {
             "color": "#2a3f5f"
            },
            "marker": {
             "line": {
              "color": "#E5ECF6",
              "width": 0.5
             },
             "pattern": {
              "fillmode": "overlay",
              "size": 10,
              "solidity": 0.2
             }
            },
            "type": "bar"
           }
          ],
          "barpolar": [
           {
            "marker": {
             "line": {
              "color": "#E5ECF6",
              "width": 0.5
             },
             "pattern": {
              "fillmode": "overlay",
              "size": 10,
              "solidity": 0.2
             }
            },
            "type": "barpolar"
           }
          ],
          "carpet": [
           {
            "aaxis": {
             "endlinecolor": "#2a3f5f",
             "gridcolor": "white",
             "linecolor": "white",
             "minorgridcolor": "white",
             "startlinecolor": "#2a3f5f"
            },
            "baxis": {
             "endlinecolor": "#2a3f5f",
             "gridcolor": "white",
             "linecolor": "white",
             "minorgridcolor": "white",
             "startlinecolor": "#2a3f5f"
            },
            "type": "carpet"
           }
          ],
          "choropleth": [
           {
            "colorbar": {
             "outlinewidth": 0,
             "ticks": ""
            },
            "type": "choropleth"
           }
          ],
          "contour": [
           {
            "colorbar": {
             "outlinewidth": 0,
             "ticks": ""
            },
            "colorscale": [
             [
              0,
              "#0d0887"
             ],
             [
              0.1111111111111111,
              "#46039f"
             ],
             [
              0.2222222222222222,
              "#7201a8"
             ],
             [
              0.3333333333333333,
              "#9c179e"
             ],
             [
              0.4444444444444444,
              "#bd3786"
             ],
             [
              0.5555555555555556,
              "#d8576b"
             ],
             [
              0.6666666666666666,
              "#ed7953"
             ],
             [
              0.7777777777777778,
              "#fb9f3a"
             ],
             [
              0.8888888888888888,
              "#fdca26"
             ],
             [
              1,
              "#f0f921"
             ]
            ],
            "type": "contour"
           }
          ],
          "contourcarpet": [
           {
            "colorbar": {
             "outlinewidth": 0,
             "ticks": ""
            },
            "type": "contourcarpet"
           }
          ],
          "heatmap": [
           {
            "colorbar": {
             "outlinewidth": 0,
             "ticks": ""
            },
            "colorscale": [
             [
              0,
              "#0d0887"
             ],
             [
              0.1111111111111111,
              "#46039f"
             ],
             [
              0.2222222222222222,
              "#7201a8"
             ],
             [
              0.3333333333333333,
              "#9c179e"
             ],
             [
              0.4444444444444444,
              "#bd3786"
             ],
             [
              0.5555555555555556,
              "#d8576b"
             ],
             [
              0.6666666666666666,
              "#ed7953"
             ],
             [
              0.7777777777777778,
              "#fb9f3a"
             ],
             [
              0.8888888888888888,
              "#fdca26"
             ],
             [
              1,
              "#f0f921"
             ]
            ],
            "type": "heatmap"
           }
          ],
          "heatmapgl": [
           {
            "colorbar": {
             "outlinewidth": 0,
             "ticks": ""
            },
            "colorscale": [
             [
              0,
              "#0d0887"
             ],
             [
              0.1111111111111111,
              "#46039f"
             ],
             [
              0.2222222222222222,
              "#7201a8"
             ],
             [
              0.3333333333333333,
              "#9c179e"
             ],
             [
              0.4444444444444444,
              "#bd3786"
             ],
             [
              0.5555555555555556,
              "#d8576b"
             ],
             [
              0.6666666666666666,
              "#ed7953"
             ],
             [
              0.7777777777777778,
              "#fb9f3a"
             ],
             [
              0.8888888888888888,
              "#fdca26"
             ],
             [
              1,
              "#f0f921"
             ]
            ],
            "type": "heatmapgl"
           }
          ],
          "histogram": [
           {
            "marker": {
             "pattern": {
              "fillmode": "overlay",
              "size": 10,
              "solidity": 0.2
             }
            },
            "type": "histogram"
           }
          ],
          "histogram2d": [
           {
            "colorbar": {
             "outlinewidth": 0,
             "ticks": ""
            },
            "colorscale": [
             [
              0,
              "#0d0887"
             ],
             [
              0.1111111111111111,
              "#46039f"
             ],
             [
              0.2222222222222222,
              "#7201a8"
             ],
             [
              0.3333333333333333,
              "#9c179e"
             ],
             [
              0.4444444444444444,
              "#bd3786"
             ],
             [
              0.5555555555555556,
              "#d8576b"
             ],
             [
              0.6666666666666666,
              "#ed7953"
             ],
             [
              0.7777777777777778,
              "#fb9f3a"
             ],
             [
              0.8888888888888888,
              "#fdca26"
             ],
             [
              1,
              "#f0f921"
             ]
            ],
            "type": "histogram2d"
           }
          ],
          "histogram2dcontour": [
           {
            "colorbar": {
             "outlinewidth": 0,
             "ticks": ""
            },
            "colorscale": [
             [
              0,
              "#0d0887"
             ],
             [
              0.1111111111111111,
              "#46039f"
             ],
             [
              0.2222222222222222,
              "#7201a8"
             ],
             [
              0.3333333333333333,
              "#9c179e"
             ],
             [
              0.4444444444444444,
              "#bd3786"
             ],
             [
              0.5555555555555556,
              "#d8576b"
             ],
             [
              0.6666666666666666,
              "#ed7953"
             ],
             [
              0.7777777777777778,
              "#fb9f3a"
             ],
             [
              0.8888888888888888,
              "#fdca26"
             ],
             [
              1,
              "#f0f921"
             ]
            ],
            "type": "histogram2dcontour"
           }
          ],
          "mesh3d": [
           {
            "colorbar": {
             "outlinewidth": 0,
             "ticks": ""
            },
            "type": "mesh3d"
           }
          ],
          "parcoords": [
           {
            "line": {
             "colorbar": {
              "outlinewidth": 0,
              "ticks": ""
             }
            },
            "type": "parcoords"
           }
          ],
          "pie": [
           {
            "automargin": true,
            "type": "pie"
           }
          ],
          "scatter": [
           {
            "fillpattern": {
             "fillmode": "overlay",
             "size": 10,
             "solidity": 0.2
            },
            "type": "scatter"
           }
          ],
          "scatter3d": [
           {
            "line": {
             "colorbar": {
              "outlinewidth": 0,
              "ticks": ""
             }
            },
            "marker": {
             "colorbar": {
              "outlinewidth": 0,
              "ticks": ""
             }
            },
            "type": "scatter3d"
           }
          ],
          "scattercarpet": [
           {
            "marker": {
             "colorbar": {
              "outlinewidth": 0,
              "ticks": ""
             }
            },
            "type": "scattercarpet"
           }
          ],
          "scattergeo": [
           {
            "marker": {
             "colorbar": {
              "outlinewidth": 0,
              "ticks": ""
             }
            },
            "type": "scattergeo"
           }
          ],
          "scattergl": [
           {
            "marker": {
             "colorbar": {
              "outlinewidth": 0,
              "ticks": ""
             }
            },
            "type": "scattergl"
           }
          ],
          "scattermapbox": [
           {
            "marker": {
             "colorbar": {
              "outlinewidth": 0,
              "ticks": ""
             }
            },
            "type": "scattermapbox"
           }
          ],
          "scatterpolar": [
           {
            "marker": {
             "colorbar": {
              "outlinewidth": 0,
              "ticks": ""
             }
            },
            "type": "scatterpolar"
           }
          ],
          "scatterpolargl": [
           {
            "marker": {
             "colorbar": {
              "outlinewidth": 0,
              "ticks": ""
             }
            },
            "type": "scatterpolargl"
           }
          ],
          "scatterternary": [
           {
            "marker": {
             "colorbar": {
              "outlinewidth": 0,
              "ticks": ""
             }
            },
            "type": "scatterternary"
           }
          ],
          "surface": [
           {
            "colorbar": {
             "outlinewidth": 0,
             "ticks": ""
            },
            "colorscale": [
             [
              0,
              "#0d0887"
             ],
             [
              0.1111111111111111,
              "#46039f"
             ],
             [
              0.2222222222222222,
              "#7201a8"
             ],
             [
              0.3333333333333333,
              "#9c179e"
             ],
             [
              0.4444444444444444,
              "#bd3786"
             ],
             [
              0.5555555555555556,
              "#d8576b"
             ],
             [
              0.6666666666666666,
              "#ed7953"
             ],
             [
              0.7777777777777778,
              "#fb9f3a"
             ],
             [
              0.8888888888888888,
              "#fdca26"
             ],
             [
              1,
              "#f0f921"
             ]
            ],
            "type": "surface"
           }
          ],
          "table": [
           {
            "cells": {
             "fill": {
              "color": "#EBF0F8"
             },
             "line": {
              "color": "white"
             }
            },
            "header": {
             "fill": {
              "color": "#C8D4E3"
             },
             "line": {
              "color": "white"
             }
            },
            "type": "table"
           }
          ]
         },
         "layout": {
          "annotationdefaults": {
           "arrowcolor": "#2a3f5f",
           "arrowhead": 0,
           "arrowwidth": 1
          },
          "autotypenumbers": "strict",
          "coloraxis": {
           "colorbar": {
            "outlinewidth": 0,
            "ticks": ""
           }
          },
          "colorscale": {
           "diverging": [
            [
             0,
             "#8e0152"
            ],
            [
             0.1,
             "#c51b7d"
            ],
            [
             0.2,
             "#de77ae"
            ],
            [
             0.3,
             "#f1b6da"
            ],
            [
             0.4,
             "#fde0ef"
            ],
            [
             0.5,
             "#f7f7f7"
            ],
            [
             0.6,
             "#e6f5d0"
            ],
            [
             0.7,
             "#b8e186"
            ],
            [
             0.8,
             "#7fbc41"
            ],
            [
             0.9,
             "#4d9221"
            ],
            [
             1,
             "#276419"
            ]
           ],
           "sequential": [
            [
             0,
             "#0d0887"
            ],
            [
             0.1111111111111111,
             "#46039f"
            ],
            [
             0.2222222222222222,
             "#7201a8"
            ],
            [
             0.3333333333333333,
             "#9c179e"
            ],
            [
             0.4444444444444444,
             "#bd3786"
            ],
            [
             0.5555555555555556,
             "#d8576b"
            ],
            [
             0.6666666666666666,
             "#ed7953"
            ],
            [
             0.7777777777777778,
             "#fb9f3a"
            ],
            [
             0.8888888888888888,
             "#fdca26"
            ],
            [
             1,
             "#f0f921"
            ]
           ],
           "sequentialminus": [
            [
             0,
             "#0d0887"
            ],
            [
             0.1111111111111111,
             "#46039f"
            ],
            [
             0.2222222222222222,
             "#7201a8"
            ],
            [
             0.3333333333333333,
             "#9c179e"
            ],
            [
             0.4444444444444444,
             "#bd3786"
            ],
            [
             0.5555555555555556,
             "#d8576b"
            ],
            [
             0.6666666666666666,
             "#ed7953"
            ],
            [
             0.7777777777777778,
             "#fb9f3a"
            ],
            [
             0.8888888888888888,
             "#fdca26"
            ],
            [
             1,
             "#f0f921"
            ]
           ]
          },
          "colorway": [
           "#636efa",
           "#EF553B",
           "#00cc96",
           "#ab63fa",
           "#FFA15A",
           "#19d3f3",
           "#FF6692",
           "#B6E880",
           "#FF97FF",
           "#FECB52"
          ],
          "font": {
           "color": "#2a3f5f"
          },
          "geo": {
           "bgcolor": "white",
           "lakecolor": "white",
           "landcolor": "#E5ECF6",
           "showlakes": true,
           "showland": true,
           "subunitcolor": "white"
          },
          "hoverlabel": {
           "align": "left"
          },
          "hovermode": "closest",
          "mapbox": {
           "style": "light"
          },
          "paper_bgcolor": "white",
          "plot_bgcolor": "#E5ECF6",
          "polar": {
           "angularaxis": {
            "gridcolor": "white",
            "linecolor": "white",
            "ticks": ""
           },
           "bgcolor": "#E5ECF6",
           "radialaxis": {
            "gridcolor": "white",
            "linecolor": "white",
            "ticks": ""
           }
          },
          "scene": {
           "xaxis": {
            "backgroundcolor": "#E5ECF6",
            "gridcolor": "white",
            "gridwidth": 2,
            "linecolor": "white",
            "showbackground": true,
            "ticks": "",
            "zerolinecolor": "white"
           },
           "yaxis": {
            "backgroundcolor": "#E5ECF6",
            "gridcolor": "white",
            "gridwidth": 2,
            "linecolor": "white",
            "showbackground": true,
            "ticks": "",
            "zerolinecolor": "white"
           },
           "zaxis": {
            "backgroundcolor": "#E5ECF6",
            "gridcolor": "white",
            "gridwidth": 2,
            "linecolor": "white",
            "showbackground": true,
            "ticks": "",
            "zerolinecolor": "white"
           }
          },
          "shapedefaults": {
           "line": {
            "color": "#2a3f5f"
           }
          },
          "ternary": {
           "aaxis": {
            "gridcolor": "white",
            "linecolor": "white",
            "ticks": ""
           },
           "baxis": {
            "gridcolor": "white",
            "linecolor": "white",
            "ticks": ""
           },
           "bgcolor": "#E5ECF6",
           "caxis": {
            "gridcolor": "white",
            "linecolor": "white",
            "ticks": ""
           }
          },
          "title": {
           "x": 0.05
          },
          "xaxis": {
           "automargin": true,
           "gridcolor": "white",
           "linecolor": "white",
           "ticks": "",
           "title": {
            "standoff": 15
           },
           "zerolinecolor": "white",
           "zerolinewidth": 2
          },
          "yaxis": {
           "automargin": true,
           "gridcolor": "white",
           "linecolor": "white",
           "ticks": "",
           "title": {
            "standoff": 15
           },
           "zerolinecolor": "white",
           "zerolinewidth": 2
          }
         }
        },
        "title": {
         "text": "Unet Jaccard by Train Set"
        },
        "width": 800,
        "xaxis": {
         "anchor": "y",
         "domain": [
          0,
          1
         ]
        },
        "yaxis": {
         "anchor": "x",
         "domain": [
          0,
          1
         ],
         "range": [
          0,
          1
         ]
        }
       }
      }
     },
     "metadata": {},
     "output_type": "display_data"
    },
    {
     "data": {
      "application/vnd.plotly.v1+json": {
       "config": {
        "plotlyServerURL": "https://plot.ly"
       },
       "data": [
        {
         "marker": {
          "opacity": 0
         },
         "name": "Precision complete data",
         "type": "box",
         "x": [
          "50 imagens",
          "50 imagens",
          "50 imagens",
          "50 imagens",
          "50 imagens",
          "50 imagens",
          "50 imagens",
          "50 imagens",
          "50 imagens",
          "50 imagens",
          "50 imagens",
          "50 imagens",
          "50 imagens",
          "50 imagens",
          "50 imagens",
          "50 imagens",
          "50 imagens",
          "50 imagens",
          "50 imagens",
          "50 imagens",
          "50 imagens",
          "50 imagens",
          "50 imagens",
          "50 imagens",
          "50 imagens",
          "50 imagens",
          "50 imagens",
          "50 imagens",
          "50 imagens",
          "50 imagens",
          "50 imagens",
          "50 imagens",
          "50 imagens",
          "50 imagens",
          "50 imagens",
          "50 imagens",
          "50 imagens",
          "50 imagens",
          "50 imagens",
          "50 imagens",
          "50 imagens",
          "50 imagens",
          "50 imagens",
          "50 imagens",
          "75 imagens",
          "75 imagens",
          "75 imagens",
          "75 imagens",
          "75 imagens",
          "75 imagens",
          "75 imagens",
          "75 imagens",
          "75 imagens",
          "75 imagens",
          "75 imagens",
          "75 imagens",
          "75 imagens",
          "75 imagens",
          "75 imagens",
          "75 imagens",
          "75 imagens",
          "75 imagens",
          "75 imagens",
          "75 imagens",
          "75 imagens",
          "75 imagens",
          "75 imagens",
          "75 imagens",
          "75 imagens",
          "75 imagens",
          "75 imagens",
          "75 imagens",
          "75 imagens",
          "75 imagens",
          "75 imagens",
          "75 imagens",
          "75 imagens",
          "75 imagens",
          "75 imagens",
          "75 imagens",
          "75 imagens",
          "75 imagens",
          "75 imagens",
          "75 imagens",
          "75 imagens",
          "75 imagens",
          "75 imagens",
          "75 imagens",
          "75 imagens",
          "75 imagens",
          "75 imagens",
          "75 imagens",
          "100 imagens",
          "100 imagens",
          "100 imagens",
          "100 imagens",
          "100 imagens",
          "100 imagens",
          "100 imagens",
          "100 imagens",
          "100 imagens",
          "100 imagens",
          "100 imagens",
          "100 imagens",
          "100 imagens",
          "100 imagens",
          "100 imagens",
          "100 imagens",
          "100 imagens",
          "100 imagens",
          "100 imagens",
          "100 imagens",
          "100 imagens",
          "100 imagens",
          "100 imagens",
          "100 imagens",
          "100 imagens",
          "100 imagens",
          "100 imagens",
          "100 imagens",
          "100 imagens",
          "100 imagens",
          "100 imagens",
          "100 imagens",
          "100 imagens",
          "100 imagens",
          "100 imagens",
          "100 imagens",
          "100 imagens",
          "100 imagens",
          "100 imagens",
          "100 imagens",
          "100 imagens",
          "100 imagens",
          "100 imagens",
          "100 imagens",
          "100 imagens",
          "100 imagens",
          "100 imagens",
          "100 imagens",
          "100 imagens",
          "125 imagens",
          "125 imagens",
          "125 imagens",
          "125 imagens",
          "125 imagens",
          "125 imagens",
          "125 imagens",
          "125 imagens",
          "125 imagens",
          "125 imagens",
          "125 imagens",
          "125 imagens",
          "125 imagens",
          "125 imagens",
          "125 imagens",
          "125 imagens",
          "125 imagens",
          "125 imagens",
          "125 imagens",
          "125 imagens",
          "125 imagens",
          "125 imagens",
          "125 imagens",
          "125 imagens",
          "125 imagens",
          "125 imagens",
          "125 imagens",
          "125 imagens",
          "125 imagens",
          "125 imagens",
          "125 imagens",
          "125 imagens",
          "125 imagens",
          "125 imagens",
          "125 imagens",
          "125 imagens",
          "125 imagens",
          "125 imagens",
          "125 imagens",
          "125 imagens",
          "125 imagens",
          "125 imagens",
          "125 imagens",
          "125 imagens",
          "125 imagens",
          "125 imagens",
          "125 imagens",
          "125 imagens",
          "125 imagens",
          "150 imagens",
          "150 imagens",
          "150 imagens",
          "150 imagens",
          "150 imagens",
          "150 imagens",
          "150 imagens",
          "150 imagens",
          "150 imagens",
          "150 imagens",
          "150 imagens",
          "150 imagens",
          "150 imagens",
          "150 imagens",
          "150 imagens",
          "150 imagens",
          "150 imagens",
          "150 imagens",
          "150 imagens",
          "150 imagens",
          "150 imagens",
          "150 imagens",
          "150 imagens",
          "150 imagens",
          "150 imagens",
          "150 imagens",
          "150 imagens",
          "150 imagens",
          "150 imagens",
          "150 imagens",
          "150 imagens",
          "150 imagens",
          "150 imagens",
          "150 imagens",
          "150 imagens",
          "150 imagens",
          "150 imagens",
          "150 imagens",
          "150 imagens",
          "150 imagens",
          "150 imagens",
          "150 imagens",
          "150 imagens",
          "150 imagens",
          "150 imagens",
          "150 imagens",
          "150 imagens",
          "150 imagens",
          "150 imagens",
          "175 imagens",
          "175 imagens",
          "175 imagens",
          "175 imagens",
          "175 imagens",
          "175 imagens",
          "175 imagens",
          "175 imagens",
          "175 imagens",
          "175 imagens",
          "175 imagens",
          "175 imagens",
          "175 imagens",
          "175 imagens",
          "175 imagens",
          "175 imagens",
          "175 imagens",
          "175 imagens",
          "175 imagens",
          "175 imagens",
          "175 imagens",
          "175 imagens",
          "175 imagens",
          "175 imagens",
          "175 imagens",
          "175 imagens",
          "175 imagens",
          "175 imagens",
          "175 imagens",
          "175 imagens",
          "175 imagens",
          "175 imagens",
          "175 imagens",
          "175 imagens",
          "175 imagens",
          "175 imagens",
          "175 imagens",
          "175 imagens",
          "175 imagens",
          "175 imagens",
          "175 imagens",
          "175 imagens",
          "175 imagens",
          "175 imagens",
          "175 imagens",
          "175 imagens",
          "175 imagens",
          "175 imagens",
          "175 imagens",
          "200 imagens",
          "200 imagens",
          "200 imagens",
          "200 imagens",
          "200 imagens",
          "200 imagens",
          "200 imagens",
          "200 imagens",
          "200 imagens",
          "200 imagens",
          "200 imagens",
          "200 imagens",
          "200 imagens",
          "200 imagens",
          "200 imagens",
          "200 imagens",
          "200 imagens",
          "200 imagens",
          "200 imagens",
          "200 imagens",
          "200 imagens",
          "200 imagens",
          "200 imagens",
          "200 imagens",
          "200 imagens",
          "200 imagens",
          "200 imagens",
          "200 imagens",
          "200 imagens",
          "200 imagens",
          "200 imagens",
          "200 imagens",
          "200 imagens",
          "200 imagens",
          "200 imagens",
          "200 imagens",
          "200 imagens",
          "200 imagens",
          "200 imagens",
          "200 imagens",
          "200 imagens",
          "200 imagens",
          "200 imagens",
          "200 imagens",
          "200 imagens",
          "200 imagens",
          "200 imagens",
          "200 imagens",
          "200 imagens",
          "226 imagens",
          "226 imagens",
          "226 imagens",
          "226 imagens",
          "226 imagens",
          "226 imagens",
          "226 imagens",
          "226 imagens",
          "226 imagens",
          "226 imagens",
          "226 imagens",
          "226 imagens",
          "226 imagens",
          "226 imagens",
          "226 imagens",
          "226 imagens",
          "226 imagens",
          "226 imagens",
          "226 imagens",
          "226 imagens",
          "226 imagens",
          "226 imagens",
          "226 imagens",
          "226 imagens",
          "226 imagens",
          "226 imagens",
          "226 imagens",
          "226 imagens",
          "226 imagens",
          "226 imagens",
          "226 imagens",
          "226 imagens",
          "226 imagens",
          "226 imagens",
          "226 imagens",
          "226 imagens",
          "226 imagens",
          "226 imagens",
          "226 imagens",
          "226 imagens",
          "226 imagens",
          "226 imagens",
          "226 imagens",
          "226 imagens",
          "226 imagens",
          "226 imagens",
          "226 imagens",
          "226 imagens",
          "226 imagens",
          "226 imagens",
          "226 somente optico",
          "226 somente optico",
          "226 somente optico",
          "226 somente optico",
          "226 somente optico",
          "226 somente optico",
          "226 somente optico",
          "226 somente optico",
          "226 somente optico",
          "226 somente optico",
          "226 somente optico",
          "226 somente optico",
          "226 somente optico",
          "226 somente optico",
          "226 somente optico",
          "226 somente optico",
          "226 somente optico",
          "226 somente optico",
          "226 somente optico",
          "226 somente optico",
          "226 somente optico",
          "226 somente optico",
          "226 somente optico",
          "226 somente optico",
          "226 somente optico",
          "226 somente optico",
          "226 somente optico",
          "226 somente optico",
          "226 somente optico",
          "226 somente optico",
          "226 somente optico",
          "226 somente optico",
          "226 somente optico",
          "226 somente optico",
          "226 somente optico",
          "226 somente optico",
          "226 somente optico"
         ],
         "y": [
          0.9743589743589745,
          1,
          0.8863636363636364,
          0.96875,
          0,
          0.8486486486486486,
          0.8716216216216216,
          0.9702970297029704,
          0.9883720930232558,
          0.9864864864864864,
          0.8507462686567164,
          0.9928571428571428,
          0.9871794871794872,
          0.867816091954023,
          0.8378378378378378,
          1,
          0.8163265306122449,
          0.9829059829059827,
          0.9681528662420382,
          1,
          0.8768115942028986,
          0.7068965517241379,
          0.9838709677419356,
          1,
          0.8558558558558559,
          0.8620689655172413,
          0.9240506329113924,
          0.77,
          0.9821428571428572,
          0.8303571428571429,
          0.8861788617886179,
          0.90625,
          0.9054054054054054,
          0.8793103448275862,
          0.6807228915662651,
          0.8062015503875969,
          0.6455026455026455,
          0.6857142857142857,
          0.868421052631579,
          0.912621359223301,
          0.788135593220339,
          0.7878787878787878,
          0.8440366972477065,
          0.7077922077922078,
          1,
          0.9661016949152542,
          0.987878787878788,
          1,
          0.8920863309352518,
          0.9618320610687024,
          0.8842975206611571,
          0.7453703703703703,
          0.7777777777777778,
          0.9290780141843972,
          0.9212598425196852,
          0.9709302325581396,
          1,
          0.9333333333333332,
          0.8714285714285714,
          0.9877300613496932,
          0.9,
          0.8666666666666667,
          0.7175572519083969,
          0.8725490196078431,
          0.9435483870967742,
          0.9895833333333334,
          0.8777777777777778,
          1,
          0.8431372549019608,
          0.9146341463414634,
          1,
          0.971153846153846,
          0.7837837837837838,
          0.882051282051282,
          0.891566265060241,
          0.7692307692307693,
          0.9621212121212122,
          0.8333333333333334,
          0.8671875,
          0.7111111111111111,
          0.863905325443787,
          0.859504132231405,
          0.696969696969697,
          0.7761194029850746,
          0.5674418604651162,
          0.6938775510204082,
          1,
          0.9411764705882352,
          0.6619718309859155,
          1,
          0.9130434782608696,
          0.7032258064516129,
          1,
          0.9653179190751444,
          0.984126984126984,
          1,
          0.9864864864864864,
          0.863013698630137,
          0.9338235294117648,
          0.9478260869565216,
          0.8247422680412371,
          0.8481012658227848,
          0.91869918699187,
          0.9416666666666668,
          0.9739583333333334,
          1,
          1,
          0.8120805369127517,
          0.9931972789115646,
          0.946808510638298,
          0.8478260869565217,
          0.7099236641221374,
          0.9772727272727272,
          0.8560606060606061,
          0.9536082474226804,
          1,
          1,
          0.9481481481481482,
          0.5319148936170213,
          1,
          0.9333333333333332,
          0.8692307692307693,
          0.883248730964467,
          0.8713450292397661,
          0.7965116279069767,
          0.9807692307692308,
          0.8142857142857143,
          0.9008264462809916,
          0.7239263803680982,
          0.8809523809523809,
          0.832,
          0.6927710843373494,
          0.8253968253968254,
          0.5781990521327014,
          0.7412587412587412,
          0.8938053097345132,
          0.9491525423728814,
          0.7815126050420168,
          0.7640449438202247,
          0.8861788617886179,
          0.7124183006535948,
          1,
          0.9834254143646408,
          1,
          0.9820359281437124,
          0.9375,
          0.8943661971830986,
          0.9626865671641792,
          0.9380530973451328,
          0.8385416666666666,
          0.8481012658227848,
          0.9224806201550388,
          0.90625,
          0.9574468085106383,
          1,
          0.9893617021276596,
          0.8639455782312925,
          0.9659090909090908,
          0.9438202247191012,
          0.8707865168539326,
          0.7364341085271318,
          0.9357798165137616,
          0.8823529411764706,
          0.98989898989899,
          1,
          1,
          0.952,
          0.8512396694214877,
          0.9696969696969696,
          0.8869565217391304,
          0.7770700636942676,
          0.8656716417910447,
          0.8361581920903954,
          0.8860759493670886,
          0.9855072463768116,
          0.8181818181818182,
          0.9090909090909092,
          0.8623188405797102,
          0.8314606741573034,
          0.8062015503875969,
          0.6927710843373494,
          0.8188976377952756,
          0.580952380952381,
          0.7291666666666666,
          0.9887640449438202,
          1,
          0.7175572519083969,
          0.8979591836734694,
          0.902439024390244,
          0.7218543046357616,
          1,
          0.9722222222222222,
          0.88,
          0.9897959183673468,
          0.9714285714285714,
          0.8920863309352518,
          0.9568345323741008,
          0.9140625,
          0.7815533980582524,
          0.8758169934640523,
          0.9243697478991596,
          0.9285714285714286,
          0.9760479041916168,
          1,
          1,
          0.8389261744966443,
          0.96,
          0.9886363636363636,
          0.8813559322033898,
          0.7723577235772358,
          1,
          0.8656716417910447,
          0.99009900990099,
          1,
          0.956140350877193,
          0.8775510204081632,
          0.8118811881188119,
          0.9090909090909092,
          0.8306451612903226,
          0.8424657534246576,
          0.8529411764705882,
          0.8418079096045198,
          0.8695652173913043,
          0.9485294117647058,
          0.8175675675675675,
          0.9016393442622952,
          0.8273381294964028,
          0.8604651162790697,
          0.8487394957983193,
          0.6686046511627907,
          0.8666666666666667,
          0.5700934579439252,
          0.7535211267605634,
          1,
          0.9152542372881356,
          0.734375,
          0.8382352941176471,
          0.8661417322834646,
          0.7414965986394558,
          0.9320388349514565,
          0.964102564102564,
          0.8333333333333334,
          0.9949238578680204,
          0.9090909090909092,
          0.875,
          0.91156462585034,
          0.9076923076923076,
          0.6909871244635193,
          0.8701298701298701,
          0.9448818897637796,
          0.8478260869565217,
          0.966346153846154,
          0.9069767441860463,
          0.964824120603015,
          0.7771084337349398,
          0.96,
          0.8623853211009175,
          0.8571428571428571,
          0.8482142857142857,
          0.9369369369369368,
          0.8287671232876712,
          0.9802955665024632,
          0.8484848484848485,
          0.97196261682243,
          0.8269230769230769,
          0.872093023255814,
          0.9393939393939394,
          0.8046875,
          0.855072463768116,
          0.8756218905472637,
          0.8816568047337278,
          0.9831932773109244,
          0.9291338582677166,
          0.76875,
          0.8818897637795275,
          0.810126582278481,
          0.8457142857142858,
          0.7573529411764706,
          0.6746987951807228,
          0.9043478260869564,
          0.5754716981132075,
          0.8278688524590164,
          0.928,
          0.9649122807017544,
          0.7768595041322314,
          0.9076923076923076,
          0.8870967741935484,
          0.7414965986394558,
          1,
          0.989010989010989,
          0.9611650485436892,
          0.9759615384615384,
          0.9876543209876544,
          0.8928571428571429,
          0.9432624113475178,
          0.875,
          0.7815533980582524,
          0.9103448275862068,
          0.957983193277311,
          0.92,
          0.9946808510638298,
          1,
          0.9918032786885246,
          0.8775510204081632,
          0.9593023255813954,
          0.9239130434782608,
          0.8908045977011494,
          0.7916666666666666,
          0.9611650485436892,
          0.950413223140496,
          0.9850746268656716,
          0,
          1,
          0.8835616438356164,
          0.76,
          0.9306930693069309,
          0.961904761904762,
          0.8712121212121212,
          0.8669950738916257,
          0.861271676300578,
          0.965034965034965,
          0.991304347826087,
          0.8231292517006803,
          0.9083333333333332,
          0.8187919463087249,
          0.8757396449704142,
          0.865546218487395,
          0.6647398843930635,
          0.8455284552845529,
          0.6559139784946236,
          0.7202797202797203,
          0.956896551724138,
          0.940677966101695,
          0.8867924528301887,
          0,
          0.8709677419354839,
          0.7956204379562044,
          0.972318339100346,
          0.845,
          0.9833333333333332,
          0.9788359788359788,
          0.9732620320855616,
          0.822429906542056,
          0.9,
          0.9241379310344828,
          0.9015151515151516,
          0.7815533980582524,
          0.8461538461538461,
          0.935483870967742,
          0.9212598425196852,
          0.963157894736842,
          0.959349593495935,
          0.9894736842105264,
          0.7948717948717948,
          0.9657142857142856,
          0.9479166666666666,
          0.8715083798882681,
          0.7899159663865546,
          0.9316239316239316,
          0.8897058823529411,
          0.975609756097561,
          1,
          0.975609756097561,
          0.8461538461538461,
          0.8088235294117647,
          1,
          0.8879310344827587,
          0.8275862068965517,
          0.8952879581151832,
          0.8604651162790697,
          0.9221556886227544,
          0.9689922480620154,
          0.7770700636942676,
          0.8527131782945736,
          0.8187919463087249,
          0.8809523809523809,
          0.7761194029850746,
          0.7012195121951219,
          0.8524590163934426,
          0.6192893401015228,
          0.8106060606060606,
          0.9487179487179488,
          0.9734513274336284,
          0.831858407079646,
          0.7951807228915663,
          0.9159663865546218,
          0.7622377622377622,
          0.9871794871794872,
          1,
          0.5396825396825397,
          1,
          0,
          0.875,
          1,
          1,
          1,
          1,
          0,
          1,
          0,
          1,
          1,
          0.3333333333333333,
          0,
          1,
          0.8793103448275862,
          0.9534883720930232,
          0.9192546583850932,
          0.6559139784946236,
          0.7435897435897436,
          0.902439024390244,
          0.9701492537313432,
          1,
          0.8867924528301887,
          0.3028571428571429,
          0.8941176470588236,
          0.891566265060241,
          0.5923076923076923,
          0.9787234042553192,
          0.5492957746478874,
          0.6210526315789474,
          0.873015873015873,
          0.918918918918919,
          0.65
         ]
        },
        {
         "marker": {
          "opacity": 0
         },
         "name": "Precision Mean data",
         "type": "scatter",
         "x": [
          "50 imagens",
          "75 imagens",
          "100 imagens",
          "125 imagens",
          "150 imagens",
          "175 imagens",
          "200 imagens",
          "226 imagens",
          "226 somente optico"
         ],
         "y": [
          0.861248794308883,
          0.8771527728096467,
          0.8790973680709098,
          0.8905544522488005,
          0.8838896512209216,
          0.8696136827941577,
          0.8620837305179806,
          0.8834754061351918,
          0.7545402307631907
         ]
        }
       ],
       "layout": {
        "height": 600,
        "template": {
         "data": {
          "bar": [
           {
            "error_x": {
             "color": "#2a3f5f"
            },
            "error_y": {
             "color": "#2a3f5f"
            },
            "marker": {
             "line": {
              "color": "#E5ECF6",
              "width": 0.5
             },
             "pattern": {
              "fillmode": "overlay",
              "size": 10,
              "solidity": 0.2
             }
            },
            "type": "bar"
           }
          ],
          "barpolar": [
           {
            "marker": {
             "line": {
              "color": "#E5ECF6",
              "width": 0.5
             },
             "pattern": {
              "fillmode": "overlay",
              "size": 10,
              "solidity": 0.2
             }
            },
            "type": "barpolar"
           }
          ],
          "carpet": [
           {
            "aaxis": {
             "endlinecolor": "#2a3f5f",
             "gridcolor": "white",
             "linecolor": "white",
             "minorgridcolor": "white",
             "startlinecolor": "#2a3f5f"
            },
            "baxis": {
             "endlinecolor": "#2a3f5f",
             "gridcolor": "white",
             "linecolor": "white",
             "minorgridcolor": "white",
             "startlinecolor": "#2a3f5f"
            },
            "type": "carpet"
           }
          ],
          "choropleth": [
           {
            "colorbar": {
             "outlinewidth": 0,
             "ticks": ""
            },
            "type": "choropleth"
           }
          ],
          "contour": [
           {
            "colorbar": {
             "outlinewidth": 0,
             "ticks": ""
            },
            "colorscale": [
             [
              0,
              "#0d0887"
             ],
             [
              0.1111111111111111,
              "#46039f"
             ],
             [
              0.2222222222222222,
              "#7201a8"
             ],
             [
              0.3333333333333333,
              "#9c179e"
             ],
             [
              0.4444444444444444,
              "#bd3786"
             ],
             [
              0.5555555555555556,
              "#d8576b"
             ],
             [
              0.6666666666666666,
              "#ed7953"
             ],
             [
              0.7777777777777778,
              "#fb9f3a"
             ],
             [
              0.8888888888888888,
              "#fdca26"
             ],
             [
              1,
              "#f0f921"
             ]
            ],
            "type": "contour"
           }
          ],
          "contourcarpet": [
           {
            "colorbar": {
             "outlinewidth": 0,
             "ticks": ""
            },
            "type": "contourcarpet"
           }
          ],
          "heatmap": [
           {
            "colorbar": {
             "outlinewidth": 0,
             "ticks": ""
            },
            "colorscale": [
             [
              0,
              "#0d0887"
             ],
             [
              0.1111111111111111,
              "#46039f"
             ],
             [
              0.2222222222222222,
              "#7201a8"
             ],
             [
              0.3333333333333333,
              "#9c179e"
             ],
             [
              0.4444444444444444,
              "#bd3786"
             ],
             [
              0.5555555555555556,
              "#d8576b"
             ],
             [
              0.6666666666666666,
              "#ed7953"
             ],
             [
              0.7777777777777778,
              "#fb9f3a"
             ],
             [
              0.8888888888888888,
              "#fdca26"
             ],
             [
              1,
              "#f0f921"
             ]
            ],
            "type": "heatmap"
           }
          ],
          "heatmapgl": [
           {
            "colorbar": {
             "outlinewidth": 0,
             "ticks": ""
            },
            "colorscale": [
             [
              0,
              "#0d0887"
             ],
             [
              0.1111111111111111,
              "#46039f"
             ],
             [
              0.2222222222222222,
              "#7201a8"
             ],
             [
              0.3333333333333333,
              "#9c179e"
             ],
             [
              0.4444444444444444,
              "#bd3786"
             ],
             [
              0.5555555555555556,
              "#d8576b"
             ],
             [
              0.6666666666666666,
              "#ed7953"
             ],
             [
              0.7777777777777778,
              "#fb9f3a"
             ],
             [
              0.8888888888888888,
              "#fdca26"
             ],
             [
              1,
              "#f0f921"
             ]
            ],
            "type": "heatmapgl"
           }
          ],
          "histogram": [
           {
            "marker": {
             "pattern": {
              "fillmode": "overlay",
              "size": 10,
              "solidity": 0.2
             }
            },
            "type": "histogram"
           }
          ],
          "histogram2d": [
           {
            "colorbar": {
             "outlinewidth": 0,
             "ticks": ""
            },
            "colorscale": [
             [
              0,
              "#0d0887"
             ],
             [
              0.1111111111111111,
              "#46039f"
             ],
             [
              0.2222222222222222,
              "#7201a8"
             ],
             [
              0.3333333333333333,
              "#9c179e"
             ],
             [
              0.4444444444444444,
              "#bd3786"
             ],
             [
              0.5555555555555556,
              "#d8576b"
             ],
             [
              0.6666666666666666,
              "#ed7953"
             ],
             [
              0.7777777777777778,
              "#fb9f3a"
             ],
             [
              0.8888888888888888,
              "#fdca26"
             ],
             [
              1,
              "#f0f921"
             ]
            ],
            "type": "histogram2d"
           }
          ],
          "histogram2dcontour": [
           {
            "colorbar": {
             "outlinewidth": 0,
             "ticks": ""
            },
            "colorscale": [
             [
              0,
              "#0d0887"
             ],
             [
              0.1111111111111111,
              "#46039f"
             ],
             [
              0.2222222222222222,
              "#7201a8"
             ],
             [
              0.3333333333333333,
              "#9c179e"
             ],
             [
              0.4444444444444444,
              "#bd3786"
             ],
             [
              0.5555555555555556,
              "#d8576b"
             ],
             [
              0.6666666666666666,
              "#ed7953"
             ],
             [
              0.7777777777777778,
              "#fb9f3a"
             ],
             [
              0.8888888888888888,
              "#fdca26"
             ],
             [
              1,
              "#f0f921"
             ]
            ],
            "type": "histogram2dcontour"
           }
          ],
          "mesh3d": [
           {
            "colorbar": {
             "outlinewidth": 0,
             "ticks": ""
            },
            "type": "mesh3d"
           }
          ],
          "parcoords": [
           {
            "line": {
             "colorbar": {
              "outlinewidth": 0,
              "ticks": ""
             }
            },
            "type": "parcoords"
           }
          ],
          "pie": [
           {
            "automargin": true,
            "type": "pie"
           }
          ],
          "scatter": [
           {
            "fillpattern": {
             "fillmode": "overlay",
             "size": 10,
             "solidity": 0.2
            },
            "type": "scatter"
           }
          ],
          "scatter3d": [
           {
            "line": {
             "colorbar": {
              "outlinewidth": 0,
              "ticks": ""
             }
            },
            "marker": {
             "colorbar": {
              "outlinewidth": 0,
              "ticks": ""
             }
            },
            "type": "scatter3d"
           }
          ],
          "scattercarpet": [
           {
            "marker": {
             "colorbar": {
              "outlinewidth": 0,
              "ticks": ""
             }
            },
            "type": "scattercarpet"
           }
          ],
          "scattergeo": [
           {
            "marker": {
             "colorbar": {
              "outlinewidth": 0,
              "ticks": ""
             }
            },
            "type": "scattergeo"
           }
          ],
          "scattergl": [
           {
            "marker": {
             "colorbar": {
              "outlinewidth": 0,
              "ticks": ""
             }
            },
            "type": "scattergl"
           }
          ],
          "scattermapbox": [
           {
            "marker": {
             "colorbar": {
              "outlinewidth": 0,
              "ticks": ""
             }
            },
            "type": "scattermapbox"
           }
          ],
          "scatterpolar": [
           {
            "marker": {
             "colorbar": {
              "outlinewidth": 0,
              "ticks": ""
             }
            },
            "type": "scatterpolar"
           }
          ],
          "scatterpolargl": [
           {
            "marker": {
             "colorbar": {
              "outlinewidth": 0,
              "ticks": ""
             }
            },
            "type": "scatterpolargl"
           }
          ],
          "scatterternary": [
           {
            "marker": {
             "colorbar": {
              "outlinewidth": 0,
              "ticks": ""
             }
            },
            "type": "scatterternary"
           }
          ],
          "surface": [
           {
            "colorbar": {
             "outlinewidth": 0,
             "ticks": ""
            },
            "colorscale": [
             [
              0,
              "#0d0887"
             ],
             [
              0.1111111111111111,
              "#46039f"
             ],
             [
              0.2222222222222222,
              "#7201a8"
             ],
             [
              0.3333333333333333,
              "#9c179e"
             ],
             [
              0.4444444444444444,
              "#bd3786"
             ],
             [
              0.5555555555555556,
              "#d8576b"
             ],
             [
              0.6666666666666666,
              "#ed7953"
             ],
             [
              0.7777777777777778,
              "#fb9f3a"
             ],
             [
              0.8888888888888888,
              "#fdca26"
             ],
             [
              1,
              "#f0f921"
             ]
            ],
            "type": "surface"
           }
          ],
          "table": [
           {
            "cells": {
             "fill": {
              "color": "#EBF0F8"
             },
             "line": {
              "color": "white"
             }
            },
            "header": {
             "fill": {
              "color": "#C8D4E3"
             },
             "line": {
              "color": "white"
             }
            },
            "type": "table"
           }
          ]
         },
         "layout": {
          "annotationdefaults": {
           "arrowcolor": "#2a3f5f",
           "arrowhead": 0,
           "arrowwidth": 1
          },
          "autotypenumbers": "strict",
          "coloraxis": {
           "colorbar": {
            "outlinewidth": 0,
            "ticks": ""
           }
          },
          "colorscale": {
           "diverging": [
            [
             0,
             "#8e0152"
            ],
            [
             0.1,
             "#c51b7d"
            ],
            [
             0.2,
             "#de77ae"
            ],
            [
             0.3,
             "#f1b6da"
            ],
            [
             0.4,
             "#fde0ef"
            ],
            [
             0.5,
             "#f7f7f7"
            ],
            [
             0.6,
             "#e6f5d0"
            ],
            [
             0.7,
             "#b8e186"
            ],
            [
             0.8,
             "#7fbc41"
            ],
            [
             0.9,
             "#4d9221"
            ],
            [
             1,
             "#276419"
            ]
           ],
           "sequential": [
            [
             0,
             "#0d0887"
            ],
            [
             0.1111111111111111,
             "#46039f"
            ],
            [
             0.2222222222222222,
             "#7201a8"
            ],
            [
             0.3333333333333333,
             "#9c179e"
            ],
            [
             0.4444444444444444,
             "#bd3786"
            ],
            [
             0.5555555555555556,
             "#d8576b"
            ],
            [
             0.6666666666666666,
             "#ed7953"
            ],
            [
             0.7777777777777778,
             "#fb9f3a"
            ],
            [
             0.8888888888888888,
             "#fdca26"
            ],
            [
             1,
             "#f0f921"
            ]
           ],
           "sequentialminus": [
            [
             0,
             "#0d0887"
            ],
            [
             0.1111111111111111,
             "#46039f"
            ],
            [
             0.2222222222222222,
             "#7201a8"
            ],
            [
             0.3333333333333333,
             "#9c179e"
            ],
            [
             0.4444444444444444,
             "#bd3786"
            ],
            [
             0.5555555555555556,
             "#d8576b"
            ],
            [
             0.6666666666666666,
             "#ed7953"
            ],
            [
             0.7777777777777778,
             "#fb9f3a"
            ],
            [
             0.8888888888888888,
             "#fdca26"
            ],
            [
             1,
             "#f0f921"
            ]
           ]
          },
          "colorway": [
           "#636efa",
           "#EF553B",
           "#00cc96",
           "#ab63fa",
           "#FFA15A",
           "#19d3f3",
           "#FF6692",
           "#B6E880",
           "#FF97FF",
           "#FECB52"
          ],
          "font": {
           "color": "#2a3f5f"
          },
          "geo": {
           "bgcolor": "white",
           "lakecolor": "white",
           "landcolor": "#E5ECF6",
           "showlakes": true,
           "showland": true,
           "subunitcolor": "white"
          },
          "hoverlabel": {
           "align": "left"
          },
          "hovermode": "closest",
          "mapbox": {
           "style": "light"
          },
          "paper_bgcolor": "white",
          "plot_bgcolor": "#E5ECF6",
          "polar": {
           "angularaxis": {
            "gridcolor": "white",
            "linecolor": "white",
            "ticks": ""
           },
           "bgcolor": "#E5ECF6",
           "radialaxis": {
            "gridcolor": "white",
            "linecolor": "white",
            "ticks": ""
           }
          },
          "scene": {
           "xaxis": {
            "backgroundcolor": "#E5ECF6",
            "gridcolor": "white",
            "gridwidth": 2,
            "linecolor": "white",
            "showbackground": true,
            "ticks": "",
            "zerolinecolor": "white"
           },
           "yaxis": {
            "backgroundcolor": "#E5ECF6",
            "gridcolor": "white",
            "gridwidth": 2,
            "linecolor": "white",
            "showbackground": true,
            "ticks": "",
            "zerolinecolor": "white"
           },
           "zaxis": {
            "backgroundcolor": "#E5ECF6",
            "gridcolor": "white",
            "gridwidth": 2,
            "linecolor": "white",
            "showbackground": true,
            "ticks": "",
            "zerolinecolor": "white"
           }
          },
          "shapedefaults": {
           "line": {
            "color": "#2a3f5f"
           }
          },
          "ternary": {
           "aaxis": {
            "gridcolor": "white",
            "linecolor": "white",
            "ticks": ""
           },
           "baxis": {
            "gridcolor": "white",
            "linecolor": "white",
            "ticks": ""
           },
           "bgcolor": "#E5ECF6",
           "caxis": {
            "gridcolor": "white",
            "linecolor": "white",
            "ticks": ""
           }
          },
          "title": {
           "x": 0.05
          },
          "xaxis": {
           "automargin": true,
           "gridcolor": "white",
           "linecolor": "white",
           "ticks": "",
           "title": {
            "standoff": 15
           },
           "zerolinecolor": "white",
           "zerolinewidth": 2
          },
          "yaxis": {
           "automargin": true,
           "gridcolor": "white",
           "linecolor": "white",
           "ticks": "",
           "title": {
            "standoff": 15
           },
           "zerolinecolor": "white",
           "zerolinewidth": 2
          }
         }
        },
        "title": {
         "text": "Unet Precision by Train Set"
        },
        "width": 800,
        "xaxis": {
         "anchor": "y",
         "domain": [
          0,
          1
         ]
        },
        "yaxis": {
         "anchor": "x",
         "domain": [
          0,
          1
         ],
         "range": [
          0,
          1
         ]
        }
       }
      }
     },
     "metadata": {},
     "output_type": "display_data"
    },
    {
     "data": {
      "application/vnd.plotly.v1+json": {
       "config": {
        "plotlyServerURL": "https://plot.ly"
       },
       "data": [
        {
         "marker": {
          "opacity": 0
         },
         "name": "Recall complete data",
         "type": "box",
         "x": [
          "50 imagens",
          "50 imagens",
          "50 imagens",
          "50 imagens",
          "50 imagens",
          "50 imagens",
          "50 imagens",
          "50 imagens",
          "50 imagens",
          "50 imagens",
          "50 imagens",
          "50 imagens",
          "50 imagens",
          "50 imagens",
          "50 imagens",
          "50 imagens",
          "50 imagens",
          "50 imagens",
          "50 imagens",
          "50 imagens",
          "50 imagens",
          "50 imagens",
          "50 imagens",
          "50 imagens",
          "50 imagens",
          "50 imagens",
          "50 imagens",
          "50 imagens",
          "50 imagens",
          "50 imagens",
          "50 imagens",
          "50 imagens",
          "50 imagens",
          "50 imagens",
          "50 imagens",
          "50 imagens",
          "50 imagens",
          "50 imagens",
          "50 imagens",
          "50 imagens",
          "50 imagens",
          "50 imagens",
          "50 imagens",
          "50 imagens",
          "75 imagens",
          "75 imagens",
          "75 imagens",
          "75 imagens",
          "75 imagens",
          "75 imagens",
          "75 imagens",
          "75 imagens",
          "75 imagens",
          "75 imagens",
          "75 imagens",
          "75 imagens",
          "75 imagens",
          "75 imagens",
          "75 imagens",
          "75 imagens",
          "75 imagens",
          "75 imagens",
          "75 imagens",
          "75 imagens",
          "75 imagens",
          "75 imagens",
          "75 imagens",
          "75 imagens",
          "75 imagens",
          "75 imagens",
          "75 imagens",
          "75 imagens",
          "75 imagens",
          "75 imagens",
          "75 imagens",
          "75 imagens",
          "75 imagens",
          "75 imagens",
          "75 imagens",
          "75 imagens",
          "75 imagens",
          "75 imagens",
          "75 imagens",
          "75 imagens",
          "75 imagens",
          "75 imagens",
          "75 imagens",
          "75 imagens",
          "75 imagens",
          "75 imagens",
          "75 imagens",
          "75 imagens",
          "100 imagens",
          "100 imagens",
          "100 imagens",
          "100 imagens",
          "100 imagens",
          "100 imagens",
          "100 imagens",
          "100 imagens",
          "100 imagens",
          "100 imagens",
          "100 imagens",
          "100 imagens",
          "100 imagens",
          "100 imagens",
          "100 imagens",
          "100 imagens",
          "100 imagens",
          "100 imagens",
          "100 imagens",
          "100 imagens",
          "100 imagens",
          "100 imagens",
          "100 imagens",
          "100 imagens",
          "100 imagens",
          "100 imagens",
          "100 imagens",
          "100 imagens",
          "100 imagens",
          "100 imagens",
          "100 imagens",
          "100 imagens",
          "100 imagens",
          "100 imagens",
          "100 imagens",
          "100 imagens",
          "100 imagens",
          "100 imagens",
          "100 imagens",
          "100 imagens",
          "100 imagens",
          "100 imagens",
          "100 imagens",
          "100 imagens",
          "100 imagens",
          "100 imagens",
          "100 imagens",
          "100 imagens",
          "100 imagens",
          "125 imagens",
          "125 imagens",
          "125 imagens",
          "125 imagens",
          "125 imagens",
          "125 imagens",
          "125 imagens",
          "125 imagens",
          "125 imagens",
          "125 imagens",
          "125 imagens",
          "125 imagens",
          "125 imagens",
          "125 imagens",
          "125 imagens",
          "125 imagens",
          "125 imagens",
          "125 imagens",
          "125 imagens",
          "125 imagens",
          "125 imagens",
          "125 imagens",
          "125 imagens",
          "125 imagens",
          "125 imagens",
          "125 imagens",
          "125 imagens",
          "125 imagens",
          "125 imagens",
          "125 imagens",
          "125 imagens",
          "125 imagens",
          "125 imagens",
          "125 imagens",
          "125 imagens",
          "125 imagens",
          "125 imagens",
          "125 imagens",
          "125 imagens",
          "125 imagens",
          "125 imagens",
          "125 imagens",
          "125 imagens",
          "125 imagens",
          "125 imagens",
          "125 imagens",
          "125 imagens",
          "125 imagens",
          "125 imagens",
          "150 imagens",
          "150 imagens",
          "150 imagens",
          "150 imagens",
          "150 imagens",
          "150 imagens",
          "150 imagens",
          "150 imagens",
          "150 imagens",
          "150 imagens",
          "150 imagens",
          "150 imagens",
          "150 imagens",
          "150 imagens",
          "150 imagens",
          "150 imagens",
          "150 imagens",
          "150 imagens",
          "150 imagens",
          "150 imagens",
          "150 imagens",
          "150 imagens",
          "150 imagens",
          "150 imagens",
          "150 imagens",
          "150 imagens",
          "150 imagens",
          "150 imagens",
          "150 imagens",
          "150 imagens",
          "150 imagens",
          "150 imagens",
          "150 imagens",
          "150 imagens",
          "150 imagens",
          "150 imagens",
          "150 imagens",
          "150 imagens",
          "150 imagens",
          "150 imagens",
          "150 imagens",
          "150 imagens",
          "150 imagens",
          "150 imagens",
          "150 imagens",
          "150 imagens",
          "150 imagens",
          "150 imagens",
          "150 imagens",
          "175 imagens",
          "175 imagens",
          "175 imagens",
          "175 imagens",
          "175 imagens",
          "175 imagens",
          "175 imagens",
          "175 imagens",
          "175 imagens",
          "175 imagens",
          "175 imagens",
          "175 imagens",
          "175 imagens",
          "175 imagens",
          "175 imagens",
          "175 imagens",
          "175 imagens",
          "175 imagens",
          "175 imagens",
          "175 imagens",
          "175 imagens",
          "175 imagens",
          "175 imagens",
          "175 imagens",
          "175 imagens",
          "175 imagens",
          "175 imagens",
          "175 imagens",
          "175 imagens",
          "175 imagens",
          "175 imagens",
          "175 imagens",
          "175 imagens",
          "175 imagens",
          "175 imagens",
          "175 imagens",
          "175 imagens",
          "175 imagens",
          "175 imagens",
          "175 imagens",
          "175 imagens",
          "175 imagens",
          "175 imagens",
          "175 imagens",
          "175 imagens",
          "175 imagens",
          "175 imagens",
          "175 imagens",
          "175 imagens",
          "200 imagens",
          "200 imagens",
          "200 imagens",
          "200 imagens",
          "200 imagens",
          "200 imagens",
          "200 imagens",
          "200 imagens",
          "200 imagens",
          "200 imagens",
          "200 imagens",
          "200 imagens",
          "200 imagens",
          "200 imagens",
          "200 imagens",
          "200 imagens",
          "200 imagens",
          "200 imagens",
          "200 imagens",
          "200 imagens",
          "200 imagens",
          "200 imagens",
          "200 imagens",
          "200 imagens",
          "200 imagens",
          "200 imagens",
          "200 imagens",
          "200 imagens",
          "200 imagens",
          "200 imagens",
          "200 imagens",
          "200 imagens",
          "200 imagens",
          "200 imagens",
          "200 imagens",
          "200 imagens",
          "200 imagens",
          "200 imagens",
          "200 imagens",
          "200 imagens",
          "200 imagens",
          "200 imagens",
          "200 imagens",
          "200 imagens",
          "200 imagens",
          "200 imagens",
          "200 imagens",
          "200 imagens",
          "200 imagens",
          "226 imagens",
          "226 imagens",
          "226 imagens",
          "226 imagens",
          "226 imagens",
          "226 imagens",
          "226 imagens",
          "226 imagens",
          "226 imagens",
          "226 imagens",
          "226 imagens",
          "226 imagens",
          "226 imagens",
          "226 imagens",
          "226 imagens",
          "226 imagens",
          "226 imagens",
          "226 imagens",
          "226 imagens",
          "226 imagens",
          "226 imagens",
          "226 imagens",
          "226 imagens",
          "226 imagens",
          "226 imagens",
          "226 imagens",
          "226 imagens",
          "226 imagens",
          "226 imagens",
          "226 imagens",
          "226 imagens",
          "226 imagens",
          "226 imagens",
          "226 imagens",
          "226 imagens",
          "226 imagens",
          "226 imagens",
          "226 imagens",
          "226 imagens",
          "226 imagens",
          "226 imagens",
          "226 imagens",
          "226 imagens",
          "226 imagens",
          "226 imagens",
          "226 imagens",
          "226 imagens",
          "226 imagens",
          "226 imagens",
          "226 imagens",
          "226 somente optico",
          "226 somente optico",
          "226 somente optico",
          "226 somente optico",
          "226 somente optico",
          "226 somente optico",
          "226 somente optico",
          "226 somente optico",
          "226 somente optico",
          "226 somente optico",
          "226 somente optico",
          "226 somente optico",
          "226 somente optico",
          "226 somente optico",
          "226 somente optico",
          "226 somente optico",
          "226 somente optico",
          "226 somente optico",
          "226 somente optico",
          "226 somente optico",
          "226 somente optico",
          "226 somente optico",
          "226 somente optico",
          "226 somente optico",
          "226 somente optico",
          "226 somente optico",
          "226 somente optico",
          "226 somente optico",
          "226 somente optico",
          "226 somente optico",
          "226 somente optico",
          "226 somente optico",
          "226 somente optico",
          "226 somente optico",
          "226 somente optico",
          "226 somente optico",
          "226 somente optico"
         ],
         "y": [
          0.7794871794871795,
          0.1555555555555555,
          0.9212598425196852,
          0.9117647058823528,
          0,
          0.9751552795031057,
          0.9626865671641792,
          0.6163522012578616,
          0.7203389830508474,
          0.6854460093896714,
          0.8702290076335878,
          0.8128654970760234,
          0.8020833333333334,
          0.967948717948718,
          0.9789473684210528,
          0.3135593220338983,
          0.3846153846153846,
          0.8394160583941606,
          0.7169811320754716,
          0.1384615384615384,
          0.937984496124031,
          0.3565217391304348,
          0.5596330275229358,
          0.3669724770642202,
          0.7723577235772358,
          0.9615384615384616,
          0.9798657718120806,
          0.4753086419753086,
          0.3005464480874317,
          0.7265625,
          0.9732142857142856,
          0.8787878787878788,
          0.9054054054054054,
          0.9807692307692308,
          0.9741379310344828,
          1,
          1,
          0.897196261682243,
          0.7983870967741935,
          0.7580645161290323,
          0.9893617021276596,
          0.6666666666666666,
          0.8,
          1,
          0.4235668789808917,
          0.8769230769230769,
          0.6174242424242424,
          0.8444444444444444,
          0.9763779527559056,
          0.9264705882352942,
          0.8770491803278688,
          1,
          0.9925373134328358,
          0.8238993710691824,
          0.9915254237288136,
          0.784037558685446,
          0.6377952755905512,
          0.4644549763033175,
          0.931297709923664,
          0.9415204678362572,
          0.84375,
          1,
          0.9894736842105264,
          0.7542372881355932,
          0.8540145985401459,
          0.8962264150943396,
          0.6076923076923076,
          0.4274193548387097,
          1,
          0.6521739130434783,
          0.1376146788990825,
          0.926605504587156,
          0.943089430894309,
          0.945054945054945,
          0.9932885906040269,
          0.8024691358024691,
          0.6939890710382514,
          0.8984375,
          0.9910714285714286,
          0.9696969696969696,
          0.9864864864864864,
          1,
          0.9913793103448276,
          1,
          1,
          0.9532710280373832,
          0.6209677419354839,
          0.9032258064516128,
          1,
          0.1452991452991453,
          0.9130434782608696,
          1,
          0.3471337579617834,
          0.8564102564102564,
          0.4460431654676259,
          0.5568181818181818,
          0.8111111111111111,
          0.9921259842519684,
          0.9338235294117648,
          0.8934426229508197,
          0.9937888198757764,
          1,
          0.710691823899371,
          0.9576271186440678,
          0.8779342723004695,
          0.3464566929133858,
          0.1848341232227488,
          0.9236641221374046,
          0.8538011695906432,
          0.9270833333333334,
          1,
          0.9789473684210528,
          0.7288135593220338,
          0.8248175182481752,
          0.8726415094339622,
          0.2538461538461538,
          0.6693548387096774,
          0.992248062015504,
          0.4347826086956521,
          0.3119266055045872,
          0.8990825688073395,
          0.91869918699187,
          0.956043956043956,
          1,
          0.845679012345679,
          0.5573770491803278,
          0.890625,
          0.9732142857142856,
          0.8939393939393939,
          1,
          1,
          0.9913793103448276,
          1,
          1,
          0.9906542056074766,
          0.8145161290322581,
          0.9032258064516128,
          0.9893617021276596,
          0.5811965811965812,
          0.9478260869565216,
          1,
          0.5127388535031847,
          0.9128205128205128,
          0.6906474820143885,
          0.6212121212121212,
          0.6666666666666666,
          1,
          0.9485294117647058,
          0.8688524590163934,
          1,
          1,
          0.7484276729559748,
          0.9830508474576272,
          0.8450704225352113,
          0.7165354330708661,
          0.4407582938388625,
          0.9694656488549618,
          0.9941520467836256,
          0.875,
          0.9935897435897436,
          1,
          0.864406779661017,
          0.8759124087591241,
          0.9245283018867924,
          0.3538461538461538,
          0.6290322580645161,
          0.9224806201550388,
          0.8956521739130435,
          0.8807339449541285,
          0.9357798165137616,
          0.991869918699187,
          0.956043956043956,
          0.9932885906040269,
          0.8641975308641975,
          0.7431693989071039,
          0.984375,
          0.9821428571428572,
          0.9015151515151516,
          1,
          1,
          0.9913793103448276,
          1,
          1,
          0.9813084112149532,
          0.7096774193548387,
          0.8064516129032258,
          1,
          0.376068376068376,
          0.9652173913043478,
          1,
          0.4872611464968153,
          0.8974358974358975,
          0.7913669064748201,
          0.7348484848484849,
          0.7555555555555555,
          0.9763779527559056,
          0.9779411764705882,
          0.9590163934426228,
          1,
          1,
          0.6918238993710691,
          0.9915254237288136,
          0.7652582159624414,
          0.889763779527559,
          0.5071090047393365,
          0.9541984732824428,
          0.9824561403508772,
          0.90625,
          1,
          1,
          0.7711864406779662,
          0.8467153284671532,
          0.9433962264150944,
          0.4,
          0.8790322580645161,
          1,
          0.7130434782608696,
          0.8256880733944955,
          0.944954128440367,
          1,
          0.956043956043956,
          1,
          0.8641975308641975,
          0.7049180327868853,
          0.9453125,
          0.9821428571428572,
          0.8712121212121212,
          1,
          0.971153846153846,
          0.9913793103448276,
          1,
          1,
          1,
          0.7661290322580645,
          0.8709677419354839,
          1,
          0.4871794871794871,
          0.9565217391304348,
          1,
          0.6114649681528662,
          0.964102564102564,
          0.7194244604316546,
          0.7424242424242424,
          0.6666666666666666,
          0.9921259842519684,
          0.9852941176470588,
          0.9672131147540984,
          1,
          1,
          0.7547169811320755,
          0.9915254237288136,
          0.943661971830986,
          0.9212598425196852,
          0.909952606635071,
          0.9847328244274808,
          0.9824561403508772,
          0.9791666666666666,
          1,
          1,
          0.8813559322033898,
          0.8832116788321168,
          0.9386792452830188,
          0.2153846153846154,
          0.8387096774193549,
          1,
          0.6521739130434783,
          0.8532110091743119,
          0.944954128440367,
          0.959349593495935,
          0.967032967032967,
          1,
          0.7222222222222222,
          0.644808743169399,
          0.9609375,
          1,
          0.9696969696969696,
          1,
          0.9903846153846154,
          0.9655172413793104,
          1,
          1,
          0.9439252336448598,
          0.935483870967742,
          0.8870967741935484,
          1,
          0.5042735042735043,
          0.9565217391304348,
          1,
          0.5605095541401274,
          0.9230769230769232,
          0.7122302158273381,
          0.7689393939393939,
          0.8888888888888888,
          0.984251968503937,
          0.9779411764705882,
          0.9754098360655736,
          1,
          0.9850746268656716,
          0.7169811320754716,
          0.9745762711864406,
          0.8779342723004695,
          0.6456692913385826,
          0.5734597156398105,
          0.9847328244274808,
          0.9649122807017544,
          0.8854166666666666,
          0.9935897435897436,
          1,
          0.8389830508474576,
          0.8394160583941606,
          0.9339622641509434,
          0,
          0.8225806451612904,
          1,
          0.4956521739130435,
          0.8623853211009175,
          0.926605504587156,
          0.934959349593496,
          0.967032967032967,
          1,
          0.8518518518518519,
          0.6229508196721312,
          0.9453125,
          0.9732142857142856,
          0.9242424242424242,
          1,
          0.9903846153846154,
          0.9913793103448276,
          1,
          1,
          0.9626168224299064,
          0.8951612903225806,
          0.8951612903225806,
          1,
          0,
          0.9391304347826088,
          1,
          0.9929328621908128,
          0.7130801687763713,
          0.5636942675159236,
          0.9487179487179488,
          0.6893939393939394,
          0.9777777777777776,
          0.9921259842519684,
          0.9852941176470588,
          0.9754098360655736,
          1,
          0.9850746268656716,
          0.7295597484276729,
          0.9915254237288136,
          0.8591549295774648,
          0.9291338582677166,
          0.8909952606635071,
          0.9465648854961832,
          0.9883040935672516,
          0.9479166666666666,
          1,
          0.9894736842105264,
          0.923728813559322,
          0.8832116788321168,
          0.9433962264150944,
          0.3230769230769231,
          0.967741935483871,
          0.937984496124031,
          0.9565217391304348,
          0.8165137614678899,
          0.944954128440367,
          0.975609756097561,
          0.9395604395604396,
          0.9932885906040269,
          0.9506172839506172,
          0.6830601092896175,
          0.953125,
          0.9821428571428572,
          0.9242424242424242,
          1,
          1,
          0.9913793103448276,
          1,
          1,
          1,
          0.8951612903225806,
          0.8870967741935484,
          1,
          0.5641025641025641,
          0.9478260869565216,
          1,
          0.3948717948717948,
          0.1555555555555555,
          0.2677165354330709,
          0.3088235294117647,
          0,
          0.1739130434782608,
          0.2761194029850746,
          0.270440251572327,
          0.4645669291338583,
          0.2748091603053435,
          0,
          0.2051282051282051,
          0,
          0.1016949152542373,
          0.1461538461538461,
          0.1913043478260869,
          0,
          0.1192660550458715,
          0.4146341463414634,
          0.2252747252747252,
          0.9932885906040269,
          0.3765432098765432,
          0.2265625,
          0.3303571428571428,
          0.4924242424242424,
          0.4189189189189189,
          0.4519230769230769,
          0.4568965517241379,
          0.7307692307692307,
          0.6065573770491803,
          0.719626168224299,
          0.3709677419354839,
          0.314516129032258,
          0.6276595744680851,
          0.4700854700854701,
          0.591304347826087,
          0.3577981651376147
         ]
        },
        {
         "marker": {
          "opacity": 0
         },
         "name": "Recall Mean data",
         "type": "scatter",
         "x": [
          "50 imagens",
          "75 imagens",
          "100 imagens",
          "125 imagens",
          "150 imagens",
          "175 imagens",
          "200 imagens",
          "226 imagens",
          "226 somente optico"
         ],
         "y": [
          0.741191726039246,
          0.8322771307121113,
          0.8129181343721897,
          0.8636039795674586,
          0.876721684473793,
          0.8924718316345904,
          0.8572770971745736,
          0.9096094453829296,
          0.33855326707100764
         ]
        }
       ],
       "layout": {
        "height": 600,
        "template": {
         "data": {
          "bar": [
           {
            "error_x": {
             "color": "#2a3f5f"
            },
            "error_y": {
             "color": "#2a3f5f"
            },
            "marker": {
             "line": {
              "color": "#E5ECF6",
              "width": 0.5
             },
             "pattern": {
              "fillmode": "overlay",
              "size": 10,
              "solidity": 0.2
             }
            },
            "type": "bar"
           }
          ],
          "barpolar": [
           {
            "marker": {
             "line": {
              "color": "#E5ECF6",
              "width": 0.5
             },
             "pattern": {
              "fillmode": "overlay",
              "size": 10,
              "solidity": 0.2
             }
            },
            "type": "barpolar"
           }
          ],
          "carpet": [
           {
            "aaxis": {
             "endlinecolor": "#2a3f5f",
             "gridcolor": "white",
             "linecolor": "white",
             "minorgridcolor": "white",
             "startlinecolor": "#2a3f5f"
            },
            "baxis": {
             "endlinecolor": "#2a3f5f",
             "gridcolor": "white",
             "linecolor": "white",
             "minorgridcolor": "white",
             "startlinecolor": "#2a3f5f"
            },
            "type": "carpet"
           }
          ],
          "choropleth": [
           {
            "colorbar": {
             "outlinewidth": 0,
             "ticks": ""
            },
            "type": "choropleth"
           }
          ],
          "contour": [
           {
            "colorbar": {
             "outlinewidth": 0,
             "ticks": ""
            },
            "colorscale": [
             [
              0,
              "#0d0887"
             ],
             [
              0.1111111111111111,
              "#46039f"
             ],
             [
              0.2222222222222222,
              "#7201a8"
             ],
             [
              0.3333333333333333,
              "#9c179e"
             ],
             [
              0.4444444444444444,
              "#bd3786"
             ],
             [
              0.5555555555555556,
              "#d8576b"
             ],
             [
              0.6666666666666666,
              "#ed7953"
             ],
             [
              0.7777777777777778,
              "#fb9f3a"
             ],
             [
              0.8888888888888888,
              "#fdca26"
             ],
             [
              1,
              "#f0f921"
             ]
            ],
            "type": "contour"
           }
          ],
          "contourcarpet": [
           {
            "colorbar": {
             "outlinewidth": 0,
             "ticks": ""
            },
            "type": "contourcarpet"
           }
          ],
          "heatmap": [
           {
            "colorbar": {
             "outlinewidth": 0,
             "ticks": ""
            },
            "colorscale": [
             [
              0,
              "#0d0887"
             ],
             [
              0.1111111111111111,
              "#46039f"
             ],
             [
              0.2222222222222222,
              "#7201a8"
             ],
             [
              0.3333333333333333,
              "#9c179e"
             ],
             [
              0.4444444444444444,
              "#bd3786"
             ],
             [
              0.5555555555555556,
              "#d8576b"
             ],
             [
              0.6666666666666666,
              "#ed7953"
             ],
             [
              0.7777777777777778,
              "#fb9f3a"
             ],
             [
              0.8888888888888888,
              "#fdca26"
             ],
             [
              1,
              "#f0f921"
             ]
            ],
            "type": "heatmap"
           }
          ],
          "heatmapgl": [
           {
            "colorbar": {
             "outlinewidth": 0,
             "ticks": ""
            },
            "colorscale": [
             [
              0,
              "#0d0887"
             ],
             [
              0.1111111111111111,
              "#46039f"
             ],
             [
              0.2222222222222222,
              "#7201a8"
             ],
             [
              0.3333333333333333,
              "#9c179e"
             ],
             [
              0.4444444444444444,
              "#bd3786"
             ],
             [
              0.5555555555555556,
              "#d8576b"
             ],
             [
              0.6666666666666666,
              "#ed7953"
             ],
             [
              0.7777777777777778,
              "#fb9f3a"
             ],
             [
              0.8888888888888888,
              "#fdca26"
             ],
             [
              1,
              "#f0f921"
             ]
            ],
            "type": "heatmapgl"
           }
          ],
          "histogram": [
           {
            "marker": {
             "pattern": {
              "fillmode": "overlay",
              "size": 10,
              "solidity": 0.2
             }
            },
            "type": "histogram"
           }
          ],
          "histogram2d": [
           {
            "colorbar": {
             "outlinewidth": 0,
             "ticks": ""
            },
            "colorscale": [
             [
              0,
              "#0d0887"
             ],
             [
              0.1111111111111111,
              "#46039f"
             ],
             [
              0.2222222222222222,
              "#7201a8"
             ],
             [
              0.3333333333333333,
              "#9c179e"
             ],
             [
              0.4444444444444444,
              "#bd3786"
             ],
             [
              0.5555555555555556,
              "#d8576b"
             ],
             [
              0.6666666666666666,
              "#ed7953"
             ],
             [
              0.7777777777777778,
              "#fb9f3a"
             ],
             [
              0.8888888888888888,
              "#fdca26"
             ],
             [
              1,
              "#f0f921"
             ]
            ],
            "type": "histogram2d"
           }
          ],
          "histogram2dcontour": [
           {
            "colorbar": {
             "outlinewidth": 0,
             "ticks": ""
            },
            "colorscale": [
             [
              0,
              "#0d0887"
             ],
             [
              0.1111111111111111,
              "#46039f"
             ],
             [
              0.2222222222222222,
              "#7201a8"
             ],
             [
              0.3333333333333333,
              "#9c179e"
             ],
             [
              0.4444444444444444,
              "#bd3786"
             ],
             [
              0.5555555555555556,
              "#d8576b"
             ],
             [
              0.6666666666666666,
              "#ed7953"
             ],
             [
              0.7777777777777778,
              "#fb9f3a"
             ],
             [
              0.8888888888888888,
              "#fdca26"
             ],
             [
              1,
              "#f0f921"
             ]
            ],
            "type": "histogram2dcontour"
           }
          ],
          "mesh3d": [
           {
            "colorbar": {
             "outlinewidth": 0,
             "ticks": ""
            },
            "type": "mesh3d"
           }
          ],
          "parcoords": [
           {
            "line": {
             "colorbar": {
              "outlinewidth": 0,
              "ticks": ""
             }
            },
            "type": "parcoords"
           }
          ],
          "pie": [
           {
            "automargin": true,
            "type": "pie"
           }
          ],
          "scatter": [
           {
            "fillpattern": {
             "fillmode": "overlay",
             "size": 10,
             "solidity": 0.2
            },
            "type": "scatter"
           }
          ],
          "scatter3d": [
           {
            "line": {
             "colorbar": {
              "outlinewidth": 0,
              "ticks": ""
             }
            },
            "marker": {
             "colorbar": {
              "outlinewidth": 0,
              "ticks": ""
             }
            },
            "type": "scatter3d"
           }
          ],
          "scattercarpet": [
           {
            "marker": {
             "colorbar": {
              "outlinewidth": 0,
              "ticks": ""
             }
            },
            "type": "scattercarpet"
           }
          ],
          "scattergeo": [
           {
            "marker": {
             "colorbar": {
              "outlinewidth": 0,
              "ticks": ""
             }
            },
            "type": "scattergeo"
           }
          ],
          "scattergl": [
           {
            "marker": {
             "colorbar": {
              "outlinewidth": 0,
              "ticks": ""
             }
            },
            "type": "scattergl"
           }
          ],
          "scattermapbox": [
           {
            "marker": {
             "colorbar": {
              "outlinewidth": 0,
              "ticks": ""
             }
            },
            "type": "scattermapbox"
           }
          ],
          "scatterpolar": [
           {
            "marker": {
             "colorbar": {
              "outlinewidth": 0,
              "ticks": ""
             }
            },
            "type": "scatterpolar"
           }
          ],
          "scatterpolargl": [
           {
            "marker": {
             "colorbar": {
              "outlinewidth": 0,
              "ticks": ""
             }
            },
            "type": "scatterpolargl"
           }
          ],
          "scatterternary": [
           {
            "marker": {
             "colorbar": {
              "outlinewidth": 0,
              "ticks": ""
             }
            },
            "type": "scatterternary"
           }
          ],
          "surface": [
           {
            "colorbar": {
             "outlinewidth": 0,
             "ticks": ""
            },
            "colorscale": [
             [
              0,
              "#0d0887"
             ],
             [
              0.1111111111111111,
              "#46039f"
             ],
             [
              0.2222222222222222,
              "#7201a8"
             ],
             [
              0.3333333333333333,
              "#9c179e"
             ],
             [
              0.4444444444444444,
              "#bd3786"
             ],
             [
              0.5555555555555556,
              "#d8576b"
             ],
             [
              0.6666666666666666,
              "#ed7953"
             ],
             [
              0.7777777777777778,
              "#fb9f3a"
             ],
             [
              0.8888888888888888,
              "#fdca26"
             ],
             [
              1,
              "#f0f921"
             ]
            ],
            "type": "surface"
           }
          ],
          "table": [
           {
            "cells": {
             "fill": {
              "color": "#EBF0F8"
             },
             "line": {
              "color": "white"
             }
            },
            "header": {
             "fill": {
              "color": "#C8D4E3"
             },
             "line": {
              "color": "white"
             }
            },
            "type": "table"
           }
          ]
         },
         "layout": {
          "annotationdefaults": {
           "arrowcolor": "#2a3f5f",
           "arrowhead": 0,
           "arrowwidth": 1
          },
          "autotypenumbers": "strict",
          "coloraxis": {
           "colorbar": {
            "outlinewidth": 0,
            "ticks": ""
           }
          },
          "colorscale": {
           "diverging": [
            [
             0,
             "#8e0152"
            ],
            [
             0.1,
             "#c51b7d"
            ],
            [
             0.2,
             "#de77ae"
            ],
            [
             0.3,
             "#f1b6da"
            ],
            [
             0.4,
             "#fde0ef"
            ],
            [
             0.5,
             "#f7f7f7"
            ],
            [
             0.6,
             "#e6f5d0"
            ],
            [
             0.7,
             "#b8e186"
            ],
            [
             0.8,
             "#7fbc41"
            ],
            [
             0.9,
             "#4d9221"
            ],
            [
             1,
             "#276419"
            ]
           ],
           "sequential": [
            [
             0,
             "#0d0887"
            ],
            [
             0.1111111111111111,
             "#46039f"
            ],
            [
             0.2222222222222222,
             "#7201a8"
            ],
            [
             0.3333333333333333,
             "#9c179e"
            ],
            [
             0.4444444444444444,
             "#bd3786"
            ],
            [
             0.5555555555555556,
             "#d8576b"
            ],
            [
             0.6666666666666666,
             "#ed7953"
            ],
            [
             0.7777777777777778,
             "#fb9f3a"
            ],
            [
             0.8888888888888888,
             "#fdca26"
            ],
            [
             1,
             "#f0f921"
            ]
           ],
           "sequentialminus": [
            [
             0,
             "#0d0887"
            ],
            [
             0.1111111111111111,
             "#46039f"
            ],
            [
             0.2222222222222222,
             "#7201a8"
            ],
            [
             0.3333333333333333,
             "#9c179e"
            ],
            [
             0.4444444444444444,
             "#bd3786"
            ],
            [
             0.5555555555555556,
             "#d8576b"
            ],
            [
             0.6666666666666666,
             "#ed7953"
            ],
            [
             0.7777777777777778,
             "#fb9f3a"
            ],
            [
             0.8888888888888888,
             "#fdca26"
            ],
            [
             1,
             "#f0f921"
            ]
           ]
          },
          "colorway": [
           "#636efa",
           "#EF553B",
           "#00cc96",
           "#ab63fa",
           "#FFA15A",
           "#19d3f3",
           "#FF6692",
           "#B6E880",
           "#FF97FF",
           "#FECB52"
          ],
          "font": {
           "color": "#2a3f5f"
          },
          "geo": {
           "bgcolor": "white",
           "lakecolor": "white",
           "landcolor": "#E5ECF6",
           "showlakes": true,
           "showland": true,
           "subunitcolor": "white"
          },
          "hoverlabel": {
           "align": "left"
          },
          "hovermode": "closest",
          "mapbox": {
           "style": "light"
          },
          "paper_bgcolor": "white",
          "plot_bgcolor": "#E5ECF6",
          "polar": {
           "angularaxis": {
            "gridcolor": "white",
            "linecolor": "white",
            "ticks": ""
           },
           "bgcolor": "#E5ECF6",
           "radialaxis": {
            "gridcolor": "white",
            "linecolor": "white",
            "ticks": ""
           }
          },
          "scene": {
           "xaxis": {
            "backgroundcolor": "#E5ECF6",
            "gridcolor": "white",
            "gridwidth": 2,
            "linecolor": "white",
            "showbackground": true,
            "ticks": "",
            "zerolinecolor": "white"
           },
           "yaxis": {
            "backgroundcolor": "#E5ECF6",
            "gridcolor": "white",
            "gridwidth": 2,
            "linecolor": "white",
            "showbackground": true,
            "ticks": "",
            "zerolinecolor": "white"
           },
           "zaxis": {
            "backgroundcolor": "#E5ECF6",
            "gridcolor": "white",
            "gridwidth": 2,
            "linecolor": "white",
            "showbackground": true,
            "ticks": "",
            "zerolinecolor": "white"
           }
          },
          "shapedefaults": {
           "line": {
            "color": "#2a3f5f"
           }
          },
          "ternary": {
           "aaxis": {
            "gridcolor": "white",
            "linecolor": "white",
            "ticks": ""
           },
           "baxis": {
            "gridcolor": "white",
            "linecolor": "white",
            "ticks": ""
           },
           "bgcolor": "#E5ECF6",
           "caxis": {
            "gridcolor": "white",
            "linecolor": "white",
            "ticks": ""
           }
          },
          "title": {
           "x": 0.05
          },
          "xaxis": {
           "automargin": true,
           "gridcolor": "white",
           "linecolor": "white",
           "ticks": "",
           "title": {
            "standoff": 15
           },
           "zerolinecolor": "white",
           "zerolinewidth": 2
          },
          "yaxis": {
           "automargin": true,
           "gridcolor": "white",
           "linecolor": "white",
           "ticks": "",
           "title": {
            "standoff": 15
           },
           "zerolinecolor": "white",
           "zerolinewidth": 2
          }
         }
        },
        "title": {
         "text": "Unet Recall by Train Set"
        },
        "width": 800,
        "xaxis": {
         "anchor": "y",
         "domain": [
          0,
          1
         ]
        },
        "yaxis": {
         "anchor": "x",
         "domain": [
          0,
          1
         ],
         "range": [
          0,
          1
         ]
        }
       }
      }
     },
     "metadata": {},
     "output_type": "display_data"
    },
    {
     "data": {
      "text/plain": [
       "''"
      ]
     },
     "execution_count": 19,
     "metadata": {},
     "output_type": "execute_result"
    }
   ],
   "source": [
    "\n",
    "# data atual\n",
    "today = datetime.now()\n",
    "# formatando a data\n",
    "today = today.strftime('%Y-%m-%d')\n",
    "\n",
    "list_metrics_df_order = df_order['metrics'].unique()\n",
    "path_unet = f'.{os.sep}reports{os.sep}images{os.sep}'\n",
    "pdf = PDF()\n",
    "\n",
    "report(pdf, path_unet,'Unet_GeneralLines_by_Train_Set_graf', 'Unet_GeneralLines_by_Train_Set_table')\n",
    "report(pdf, path_unet,'Unet_GeneralBoxplot_by_Train_Set_graf', 'Unet_GeneralBoxplot_by_Train_Set_table')\n",
    "\n",
    "for i in list_metrics_df_order:\n",
    "    unet_fig_name = f'Unet_{i}_by_Train_Set_graph'\n",
    "    unet_table_name = f'Unet_{i}_by_Train_Set_table'\n",
    "    \n",
    "    target_data_graph_lineandbox(i)\n",
    "\n",
    "    figure_dataframe = go.Figure(data=[go.Table(header=dict(values=['index', 'Jaccard',\t'Recall',\t'Precision',\t'F1',\t'unet_Jaccard',\t'unet_Recall',\t'unet_Precision',\t'unet_F1'], align='right'),\n",
    "                 cells=dict(values=[final_df_compare_describe[col] if col == 'index' else final_df_compare_describe[col].round(3)  for col in final_df_compare_describe.columns ], align='right' ))\n",
    "                     ] )\n",
    "    \n",
    "    figure_dataframe.write_image(f'reports{os.sep}images{os.sep}Unet_{i}_by_Train_Set_table.png')\n",
    "\n",
    "    report(pdf, path_unet, unet_fig_name, unet_table_name)\n",
    "    \n",
    "\n",
    "for model_len in list_mean_model_len:\n",
    "    for model in list_models:  \n",
    "        \n",
    "        try:\n",
    "            path_model_len = f'.{os.sep}{comparation_path}{os.sep}{model_len}{os.sep}'\n",
    "            figure_model_len = f'{model_len}_{model}_graph'\n",
    "            table_model_len = f'{model_len}_{model}_table'\n",
    "\n",
    "            fig_exists = os.path.isfile(f'{path_model_len}{figure_model_len}.png')\n",
    "            \n",
    "\n",
    "            if(fig_exists):\n",
    "                report(pdf, path_model_len, figure_model_len, table_model_len)\n",
    "\n",
    "        except Exception: \n",
    "            print(traceback.format_exc()) \n",
    "            \n",
    "\n",
    "pdf.output(f'general_report{today}.pdf', 'F')\n",
    "\n"
   ]
  },
  {
   "attachments": {},
   "cell_type": "markdown",
   "metadata": {},
   "source": [
    "Relatórios"
   ]
  },
  {
   "cell_type": "code",
   "execution_count": 30,
   "metadata": {},
   "outputs": [
    {
     "data": {
      "text/plain": [
       "''"
      ]
     },
     "execution_count": 30,
     "metadata": {},
     "output_type": "execute_result"
    }
   ],
   "source": [
    "#pip install fpdf\n",
    "#https://david-kyn.medium.com/workplace-automation-generate-pdf-reports-using-python-fa75c50e7715\n",
    "# https://stackoverflow.com/questions/66318317/create-pdf-with-fpdf-in-python-can-not-move-image-to-the-right-in-a-loop\n",
    "# https://pyfpdf.readthedocs.io/en/latest/Tutorial/index.html\n",
    "\n",
    "from fpdf import FPDF\n",
    "\n",
    "# save FPDF() class into a\n",
    "# variable pdf\n",
    "pdf = FPDF()\n",
    "\n",
    "# Add a page\n",
    "pdf.add_page()\n",
    "# set style and size of font\n",
    "# that you want in the pdf\n",
    "pdf.set_font(\"Arial\", size = 15)\n",
    "\n",
    "# create a cell\n",
    "pdf.cell(200, 10, txt = \"Experiment Sample 50 images\",\n",
    "\t\tln = 1, align = 'C')\n",
    "# add another cell\n",
    "pdf.cell(200, 10, txt = \"Desciption\",\n",
    "\t\tln = 2, align = 'C')\n",
    "\n",
    "pdf.image('./comparacao_modelos_por_quantidade/50 imagens/50 imagens_logisticRegression_proba.png', x=1, y=30, w=pdf.w/1.5, h=pdf.h/3.0 )\n",
    "pdf.image('figure_dataframe.png', x=1, y=120, w=pdf.w/1.5, h=pdf.h/3.0  )\n",
    "\n",
    "\n",
    "# save the pdf with name .pdf \n",
    "pdf.output(f\"teste{today}.pdf\")\n"
   ]
  },
  {
   "cell_type": "code",
   "execution_count": 120,
   "metadata": {},
   "outputs": [
    {
     "data": {
      "text/plain": [
       "''"
      ]
     },
     "execution_count": 120,
     "metadata": {},
     "output_type": "execute_result"
    }
   ],
   "source": [
    "\n",
    "class PDF(FPDF):\n",
    "    def header(self):\n",
    "        # Logo\n",
    "        self.image('lgcmlogo.png', 10, 8, 33)\n",
    "        self.image('fzusp.png', 160, 8, 33)\n",
    "        # Arial bold 15\n",
    "        self.set_font('Arial', 'B', 12)\n",
    "        # Move to the right\n",
    "        self.cell(80)\n",
    "        # Title\n",
    "        self.cell(30, 10, 'Data Analysis Report', 0, 0, 'C')\n",
    "        # Line break\n",
    "        self.ln(20)\n",
    "\n",
    "    # Page footer\n",
    "    def footer(self):\n",
    "        # Position at 1.5 cm from bottom\n",
    "        self.set_y(-15)\n",
    "        # Arial italic 8\n",
    "        self.set_font('Arial', 'I', 8)\n",
    "        # Page number\n",
    "        self.cell(0, 10, 'Report Page ' + str(self.page_no()) + '/{nb}', 0, 0, 'C')\n",
    "\n",
    "# Instantiation of inherited class\n",
    "pdf = PDF()\n",
    "pdf.alias_nb_pages()\n",
    "\n",
    "\n",
    "pdf.add_page()\n",
    "pdf.set_font('Times', '', 12)\n",
    "pdf.cell(200, 10, txt = \"Experiment Sample 50 images\",ln = 1, align = 'C')\n",
    "pdf.cell(200, 10, txt = \"Desciption\", ln = 2, align = 'C')\n",
    "pdf.image('./comparacao_modelos_por_quantidade/50 imagens/50 imagens_unet.png',  x=10, y=50, w=pdf.w/1.2, h=pdf.h/2.5  )\n",
    "pdf.cell(200, 225, txt = \"Table\", align = 'C')\n",
    "\n",
    "pdf.output('tuto2.pdf', 'F')"
   ]
  }
 ],
 "metadata": {
  "kernelspec": {
   "display_name": "Python 3 (ipykernel)",
   "language": "python",
   "name": "python3"
  },
  "language_info": {
   "codemirror_mode": {
    "name": "ipython",
    "version": 3
   },
   "file_extension": ".py",
   "mimetype": "text/x-python",
   "name": "python",
   "nbconvert_exporter": "python",
   "pygments_lexer": "ipython3",
   "version": "3.10.9"
  }
 },
 "nbformat": 4,
 "nbformat_minor": 2
}
